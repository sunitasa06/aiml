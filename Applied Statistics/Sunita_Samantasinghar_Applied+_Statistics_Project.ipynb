{
 "cells": [
  {
   "cell_type": "markdown",
   "id": "d8b7d32c",
   "metadata": {},
   "source": [
    "## Name : Sunita Samantasinghar\n",
    "### Post Graduate Program in Artificial Intelligence and Machine Learning\n",
    "2022-2023"
   ]
  },
  {
   "cell_type": "markdown",
   "id": "856c47ce",
   "metadata": {},
   "source": [
    "# Applied Statistics project\n",
    "## Part A\n",
    " "
   ]
  },
  {
   "cell_type": "markdown",
   "id": "3f20de80",
   "metadata": {},
   "source": [
    "#Q 1 A Refer above table and find the joint probability of the people who planned to purchase and actually placed an order."
   ]
  },
  {
   "cell_type": "markdown",
   "id": "b9747473",
   "metadata": {},
   "source": [
    "people who planned to purchase and actually placed an order (a) = 400\n",
    "\n",
    "Total no of people (b) = 2000"
   ]
  },
  {
   "cell_type": "markdown",
   "id": "a50335ad",
   "metadata": {},
   "source": [
    "#### IMPORT ALL THE REQUIRED PACKAGES"
   ]
  },
  {
   "cell_type": "code",
   "execution_count": 727,
   "id": "1a0976e0",
   "metadata": {},
   "outputs": [],
   "source": [
    "import numpy as np\n",
    "import pandas as pd\n",
    "import matplotlib.pyplot as plt\n",
    "%matplotlib inline\n",
    "import seaborn as sns\n",
    "from statsmodels.stats.proportion import proportions_ztest\n",
    "import re\n",
    "from scipy import stats"
   ]
  },
  {
   "cell_type": "code",
   "execution_count": 728,
   "id": "49cc45b8",
   "metadata": {},
   "outputs": [
    {
     "name": "stdout",
     "output_type": "stream",
     "text": [
      "a.joint probability of the people who planned to purchase and actually placed an order. is 0.2000\n"
     ]
    }
   ],
   "source": [
    "a = 400\n",
    "b  = 2000\n",
    "joint_prob = round(a / b,4) \n",
    "print('a.joint probability of the people who planned to purchase and actually placed an order. is %1.4f' % joint_prob)"
   ]
  },
  {
   "cell_type": "markdown",
   "id": "108aa9ff",
   "metadata": {},
   "source": [
    "#Q 1 B Refer to the above table and find the joint probability of the people who planned to purchase and actually placed an order, given that people planned to purchase."
   ]
  },
  {
   "cell_type": "code",
   "execution_count": 729,
   "id": "9619c355",
   "metadata": {},
   "outputs": [
    {
     "name": "stdout",
     "output_type": "stream",
     "text": [
      "a.joint probability of the people who planned to purchase and actually placed an order, given that people planned to purchase. is 0.8000\n"
     ]
    }
   ],
   "source": [
    "planned_act_pur = 400\n",
    "ppl_planned_pur  = 500\n",
    "joint_prob = round(planned_act_pur / ppl_planned_pur,4) \n",
    "print('a.joint probability of the people who planned to purchase and actually placed an order, given that people planned to purchase. is %1.4f' % joint_prob)"
   ]
  },
  {
   "cell_type": "markdown",
   "id": "8af8371d",
   "metadata": {},
   "source": [
    "## 2. An electrical manufacturing company conducts quality checks at specified periods on the products it manufactures. Historically, the failure rate for the manufactured item is 5%. Suppose a random sample of 10 manufactured items is selected. \n",
    "\n",
    "#Q 2 A Probability that none of the items are defective?"
   ]
  },
  {
   "cell_type": "code",
   "execution_count": 730,
   "id": "ffc4d603",
   "metadata": {},
   "outputs": [],
   "source": [
    "p   =  0.05 # the failure rate for the manufactured item is 5%\n",
    "n   =  10 # Suppose a random sample of 10 manufactured items is selected\n",
    "k   =  np.arange(0,9)"
   ]
  },
  {
   "cell_type": "code",
   "execution_count": 731,
   "id": "19e34b07",
   "metadata": {},
   "outputs": [],
   "source": [
    "from scipy import stats\n",
    "binomial = stats.binom.pmf(k,n,p)"
   ]
  },
  {
   "cell_type": "code",
   "execution_count": 732,
   "id": "cee3acd6",
   "metadata": {},
   "outputs": [
    {
     "name": "stdout",
     "output_type": "stream",
     "text": [
      "[5.98736939e-01 3.15124705e-01 7.46347985e-02 1.04750594e-02\n",
      " 9.64808106e-04 6.09352488e-05 2.67259863e-06 8.03789062e-08\n",
      " 1.58642578e-09]\n"
     ]
    }
   ],
   "source": [
    "print(binomial)"
   ]
  },
  {
   "cell_type": "code",
   "execution_count": 733,
   "id": "9e006110",
   "metadata": {},
   "outputs": [
    {
     "name": "stdout",
     "output_type": "stream",
     "text": [
      "a) A Probability that none of the items are defective is 0.5987\n"
     ]
    }
   ],
   "source": [
    "print('a) A Probability that none of the items are defective is %1.4f' %binomial[0])"
   ]
  },
  {
   "cell_type": "markdown",
   "id": "f948014b",
   "metadata": {},
   "source": [
    "#Q 2 B Probability that exactly one of the items is defective?"
   ]
  },
  {
   "cell_type": "code",
   "execution_count": 734,
   "id": "2207865a",
   "metadata": {},
   "outputs": [
    {
     "name": "stdout",
     "output_type": "stream",
     "text": [
      "a) Probability that exactly one of the items is defective? is 0.3151\n"
     ]
    }
   ],
   "source": [
    "print('a) Probability that exactly one of the items is defective? is %1.4f' %binomial[1])"
   ]
  },
  {
   "cell_type": "markdown",
   "id": "eeede5f7",
   "metadata": {},
   "source": [
    "#Q 2 C Probability that two or fewer of the items are defective?"
   ]
  },
  {
   "cell_type": "code",
   "execution_count": 735,
   "id": "b103901f",
   "metadata": {},
   "outputs": [
    {
     "name": "stdout",
     "output_type": "stream",
     "text": [
      "a) Probability that two or fewer of the items are defective is 0.9885\n"
     ]
    }
   ],
   "source": [
    "prob = binomial[0]+binomial[1]+binomial[2]\n",
    "print('a) Probability that two or fewer of the items are defective is %1.4f' %prob)"
   ]
  },
  {
   "cell_type": "markdown",
   "id": "1b1f132f",
   "metadata": {},
   "source": [
    "#Q 2 D Probability that three or more of the items are defective ?"
   ]
  },
  {
   "cell_type": "code",
   "execution_count": 736,
   "id": "9653c78b",
   "metadata": {},
   "outputs": [
    {
     "name": "stdout",
     "output_type": "stream",
     "text": [
      "a) Probability that three or more of the items are defective is 0.0010\n"
     ]
    }
   ],
   "source": [
    "prob_three_more_defec = 1-(binomial[0]+binomial[1]+binomial[2]+binomial[3])\n",
    "print('a) Probability that three or more of the items are defective is %1.4f' %prob_three_more_defec)"
   ]
  },
  {
   "cell_type": "markdown",
   "id": "1fae9524",
   "metadata": {},
   "source": [
    "## 3. A car salesman sells on an average 3 cars per week."
   ]
  },
  {
   "cell_type": "markdown",
   "id": "ae2a4226",
   "metadata": {},
   "source": [
    "#Q 3 A What is Probability that in a given week he will sell some cars?"
   ]
  },
  {
   "cell_type": "code",
   "execution_count": 737,
   "id": "a6b7056a",
   "metadata": {},
   "outputs": [],
   "source": [
    "rate =  3 # which is the mean\n",
    "k = 7 # week\n",
    "n    =  np.arange(0,15)\n",
    "poisson = stats.poisson.pmf(n,rate)"
   ]
  },
  {
   "cell_type": "code",
   "execution_count": 738,
   "id": "0a10341e",
   "metadata": {},
   "outputs": [
    {
     "data": {
      "text/plain": [
       "array([4.97870684e-02, 1.49361205e-01, 2.24041808e-01, 2.24041808e-01,\n",
       "       1.68031356e-01, 1.00818813e-01, 5.04094067e-02, 2.16040315e-02,\n",
       "       8.10151179e-03, 2.70050393e-03, 8.10151179e-04, 2.20950322e-04,\n",
       "       5.52375804e-05, 1.27471339e-05, 2.73152870e-06])"
      ]
     },
     "execution_count": 738,
     "metadata": {},
     "output_type": "execute_result"
    }
   ],
   "source": [
    "poisson"
   ]
  },
  {
   "cell_type": "code",
   "execution_count": 739,
   "id": "eac56107",
   "metadata": {},
   "outputs": [
    {
     "name": "stdout",
     "output_type": "stream",
     "text": [
      "a) Probability that in a given week he will sell some cars is 0.0498\n"
     ]
    }
   ],
   "source": [
    "print('a) Probability that in a given week he will sell some cars is %1.4f' %poisson[0])"
   ]
  },
  {
   "cell_type": "markdown",
   "id": "06d0b0d5",
   "metadata": {},
   "source": [
    "#Q 3 B What is Probability that in a given week he will sell 2 or more but less than 5 cars?"
   ]
  },
  {
   "cell_type": "code",
   "execution_count": 740,
   "id": "fce97e49",
   "metadata": {},
   "outputs": [
    {
     "name": "stdout",
     "output_type": "stream",
     "text": [
      "a) Probability that in a given week he will sell 2 or more but less than 5 cars is 0.6161\n"
     ]
    }
   ],
   "source": [
    "poisson_prob = poisson[2]+poisson[3]+poisson[4]\n",
    "print('a) Probability that in a given week he will sell 2 or more but less than 5 cars is %1.4f' %poisson_prob)"
   ]
  },
  {
   "cell_type": "markdown",
   "id": "93da92f0",
   "metadata": {},
   "source": [
    "#Q 3 C Plot the poisson distribution function for cumulative probability of cars sold per-week vs number of cars sold per week"
   ]
  },
  {
   "cell_type": "markdown",
   "id": "d1f8450a",
   "metadata": {},
   "source": [
    "### Plot the Poisson distribution function"
   ]
  },
  {
   "cell_type": "code",
   "execution_count": 741,
   "id": "44d55ee2",
   "metadata": {},
   "outputs": [
    {
     "data": {
      "image/png": "[encoded data removed]",
      "text/plain": [
       "<Figure size 432x288 with 1 Axes>"
      ]
     },
     "metadata": {
      "needs_background": "light"
     },
     "output_type": "display_data"
    }
   ],
   "source": [
    "cumpoisson = stats.poisson.cdf(n,rate)\n",
    "\n",
    "#Plot the cumulativr probability distribution function\n",
    "plt.plot(n,cumpoisson, 'o-')\n",
    "plt.title('Poisson')\n",
    "plt.ylabel('Cumulative prob. of cars sold per-week')\n",
    "plt.xlabel('Number of cars sold per week')\n",
    "plt.show()"
   ]
  },
  {
   "cell_type": "markdown",
   "id": "174810fe",
   "metadata": {},
   "source": [
    "## 4. Accuracy in understanding orders for a speech based bot at a restaurant is important for the Company X which has designed, marketed and launched the product for a contactless delivery due to the COVID-19 pandemic. Recognition accuracy that measures the percentage of orders that are taken correctly is 86.8%. Suppose that you place an order with the bot and two friends of yours independently place orders with the same bot."
   ]
  },
  {
   "cell_type": "markdown",
   "id": "39d57c96",
   "metadata": {},
   "source": [
    "#Q 4 A What is the probability that all three orders will be recognised correctly?"
   ]
  },
  {
   "cell_type": "code",
   "execution_count": 742,
   "id": "c5a0c415",
   "metadata": {},
   "outputs": [],
   "source": [
    "p   =  0.868 # percentage of orders that are taken correctly is 86.8%\n",
    "n   =  3\n",
    "k   =  np.arange(0,4)"
   ]
  },
  {
   "cell_type": "code",
   "execution_count": 361,
   "id": "de1f278c",
   "metadata": {},
   "outputs": [],
   "source": [
    "binomial = stats.binom.pmf(k,n,p)"
   ]
  },
  {
   "cell_type": "code",
   "execution_count": 362,
   "id": "b4996545",
   "metadata": {},
   "outputs": [
    {
     "name": "stdout",
     "output_type": "stream",
     "text": [
      "[0.00229997 0.0453721  0.2983559  0.65397203]\n"
     ]
    }
   ],
   "source": [
    "print(binomial)"
   ]
  },
  {
   "cell_type": "code",
   "execution_count": 363,
   "id": "dcb3ac90",
   "metadata": {},
   "outputs": [
    {
     "name": "stdout",
     "output_type": "stream",
     "text": [
      "a) probability that all three orders will be recognised correctly is 0.6540\n"
     ]
    }
   ],
   "source": [
    "print('a) probability that all three orders will be recognised correctly is %1.4f' %binomial[3])"
   ]
  },
  {
   "cell_type": "markdown",
   "id": "09c6193b",
   "metadata": {},
   "source": [
    "#Q 4 B What is the probability that none of the three orders will be recognised correctly?"
   ]
  },
  {
   "cell_type": "code",
   "execution_count": 364,
   "id": "1ab32bc0",
   "metadata": {},
   "outputs": [
    {
     "name": "stdout",
     "output_type": "stream",
     "text": [
      "a) probability that none of the three orders will be recognised correctly is 0.0023\n"
     ]
    }
   ],
   "source": [
    "print('a) probability that none of the three orders will be recognised correctly is %1.4f' %binomial[0])"
   ]
  },
  {
   "cell_type": "markdown",
   "id": "ea711e34",
   "metadata": {},
   "source": [
    "#Q 4 C What is the probability that at least two of the three orders will be recognised correctly?"
   ]
  },
  {
   "cell_type": "code",
   "execution_count": 743,
   "id": "df1cd7d6",
   "metadata": {},
   "outputs": [
    {
     "name": "stdout",
     "output_type": "stream",
     "text": [
      "[0.00229997 0.04767206 0.34602797 1.        ]\n"
     ]
    }
   ],
   "source": [
    "cumbinomial = stats.binom.cdf(k,n,p)\n",
    "print(cumbinomial)"
   ]
  },
  {
   "cell_type": "code",
   "execution_count": 744,
   "id": "4bff6bb5",
   "metadata": {},
   "outputs": [
    {
     "name": "stdout",
     "output_type": "stream",
     "text": [
      "c) probability that at least two of the three orders will be recognised correctly is 0.9523\n"
     ]
    }
   ],
   "source": [
    "P = 1 - cumbinomial[1]\n",
    "print('c) probability that at least two of the three orders will be recognised correctly is %1.4f' % P)"
   ]
  },
  {
   "cell_type": "markdown",
   "id": "96870210",
   "metadata": {},
   "source": [
    "## 5. Explain 1 real life industry scenario (other than the ones mentioned above) where you can use the concepts learnt in this module of Applied Statistics to get data driven business solution. "
   ]
  },
  {
   "cell_type": "markdown",
   "id": "5f34e4fa",
   "metadata": {},
   "source": [
    "Application : Manufacture and Reliability Test\n",
    "Problem Statement :\n",
    "In Electrical systems real time data collection is done nowadays. A lot of data comprising of parameters, measurements, temperatures, environmental conditions, failure rates are collected.\n",
    "\n",
    "Use of Statistics and Probability Theory:\n",
    "To get inferences from the data about variability in measurements\n",
    "To estimate the average value of the nominal settings of the product\n",
    "To test reliability of the product in various conditions"
   ]
  },
  {
   "cell_type": "markdown",
   "id": "c038e2c0",
   "metadata": {},
   "source": [
    "## Part B"
   ]
  },
  {
   "cell_type": "markdown",
   "id": "f7617f37",
   "metadata": {},
   "source": [
    "#### PROJECT OBJECTIVE: Company’s management wants to invest on proposals on managing some of the best teams in the league. The analytics department has been assigned with a task of creating a report on the performance shown by the teams. Some of the older teams are already in contract with competitors. Hence Company X wants to understand which teams they can approach which will be a deal win for them."
   ]
  },
  {
   "cell_type": "markdown",
   "id": "748cbd6e",
   "metadata": {},
   "source": [
    "#### 1. Read the data set, clean the data and prepare final dataset to be used for analysis.\n",
    "#### a) Read the data set"
   ]
  },
  {
   "cell_type": "code",
   "execution_count": 695,
   "id": "f3787546",
   "metadata": {},
   "outputs": [
    {
     "data": {
      "text/html": [
       "<div>\n",
       "<style scoped>\n",
       "    .dataframe tbody tr th:only-of-type {\n",
       "        vertical-align: middle;\n",
       "    }\n",
       "\n",
       "    .dataframe tbody tr th {\n",
       "        vertical-align: top;\n",
       "    }\n",
       "\n",
       "    .dataframe thead th {\n",
       "        text-align: right;\n",
       "    }\n",
       "</style>\n",
       "<table border=\"1\" class=\"dataframe\">\n",
       "  <thead>\n",
       "    <tr style=\"text-align: right;\">\n",
       "      <th></th>\n",
       "      <th>Team</th>\n",
       "      <th>Tournament</th>\n",
       "      <th>Score</th>\n",
       "      <th>PlayedGames</th>\n",
       "      <th>WonGames</th>\n",
       "      <th>DrawnGames</th>\n",
       "      <th>LostGames</th>\n",
       "      <th>BasketScored</th>\n",
       "      <th>BasketGiven</th>\n",
       "      <th>TournamentChampion</th>\n",
       "      <th>Runner-up</th>\n",
       "      <th>TeamLaunch</th>\n",
       "      <th>HighestPositionHeld</th>\n",
       "    </tr>\n",
       "  </thead>\n",
       "  <tbody>\n",
       "    <tr>\n",
       "      <th>0</th>\n",
       "      <td>Team 1</td>\n",
       "      <td>86</td>\n",
       "      <td>4385</td>\n",
       "      <td>2762</td>\n",
       "      <td>1647</td>\n",
       "      <td>552</td>\n",
       "      <td>563</td>\n",
       "      <td>5947</td>\n",
       "      <td>3140</td>\n",
       "      <td>33</td>\n",
       "      <td>23</td>\n",
       "      <td>1929</td>\n",
       "      <td>1</td>\n",
       "    </tr>\n",
       "    <tr>\n",
       "      <th>1</th>\n",
       "      <td>Team 2</td>\n",
       "      <td>86</td>\n",
       "      <td>4262</td>\n",
       "      <td>2762</td>\n",
       "      <td>1581</td>\n",
       "      <td>573</td>\n",
       "      <td>608</td>\n",
       "      <td>5900</td>\n",
       "      <td>3114</td>\n",
       "      <td>25</td>\n",
       "      <td>25</td>\n",
       "      <td>1929</td>\n",
       "      <td>1</td>\n",
       "    </tr>\n",
       "    <tr>\n",
       "      <th>2</th>\n",
       "      <td>Team 3</td>\n",
       "      <td>80</td>\n",
       "      <td>3442</td>\n",
       "      <td>2614</td>\n",
       "      <td>1241</td>\n",
       "      <td>598</td>\n",
       "      <td>775</td>\n",
       "      <td>4534</td>\n",
       "      <td>3309</td>\n",
       "      <td>10</td>\n",
       "      <td>8</td>\n",
       "      <td>1929</td>\n",
       "      <td>1</td>\n",
       "    </tr>\n",
       "    <tr>\n",
       "      <th>3</th>\n",
       "      <td>Team 4</td>\n",
       "      <td>82</td>\n",
       "      <td>3386</td>\n",
       "      <td>2664</td>\n",
       "      <td>1187</td>\n",
       "      <td>616</td>\n",
       "      <td>861</td>\n",
       "      <td>4398</td>\n",
       "      <td>3469</td>\n",
       "      <td>6</td>\n",
       "      <td>6</td>\n",
       "      <td>1931to32</td>\n",
       "      <td>1</td>\n",
       "    </tr>\n",
       "    <tr>\n",
       "      <th>4</th>\n",
       "      <td>Team 5</td>\n",
       "      <td>86</td>\n",
       "      <td>3368</td>\n",
       "      <td>2762</td>\n",
       "      <td>1209</td>\n",
       "      <td>633</td>\n",
       "      <td>920</td>\n",
       "      <td>4631</td>\n",
       "      <td>3700</td>\n",
       "      <td>8</td>\n",
       "      <td>7</td>\n",
       "      <td>1929</td>\n",
       "      <td>1</td>\n",
       "    </tr>\n",
       "  </tbody>\n",
       "</table>\n",
       "</div>"
      ],
      "text/plain": [
       "     Team  Tournament Score PlayedGames WonGames DrawnGames LostGames  \\\n",
       "0  Team 1          86  4385        2762     1647        552       563   \n",
       "1  Team 2          86  4262        2762     1581        573       608   \n",
       "2  Team 3          80  3442        2614     1241        598       775   \n",
       "3  Team 4          82  3386        2664     1187        616       861   \n",
       "4  Team 5          86  3368        2762     1209        633       920   \n",
       "\n",
       "  BasketScored BasketGiven TournamentChampion Runner-up TeamLaunch  \\\n",
       "0         5947        3140                 33        23       1929   \n",
       "1         5900        3114                 25        25       1929   \n",
       "2         4534        3309                 10         8       1929   \n",
       "3         4398        3469                  6         6   1931to32   \n",
       "4         4631        3700                  8         7       1929   \n",
       "\n",
       "   HighestPositionHeld  \n",
       "0                    1  \n",
       "1                    1  \n",
       "2                    1  \n",
       "3                    1  \n",
       "4                    1  "
      ]
     },
     "execution_count": 695,
     "metadata": {},
     "output_type": "execute_result"
    }
   ],
   "source": [
    "Basketball = pd.read_csv(r'C:\\Users\\Datta\\Desktop\\DS+-+Part2+-+Basketball.csv') # Read the dataset\n",
    "\n",
    "Basketball = Basketball.dropna()\n",
    "Basketball.head(5)"
   ]
  },
  {
   "cell_type": "markdown",
   "id": "b4913339",
   "metadata": {},
   "source": [
    "#### b) Clean the data and prepare final dataset to be used for analysis."
   ]
  },
  {
   "cell_type": "code",
   "execution_count": 696,
   "id": "25bc0b7b",
   "metadata": {},
   "outputs": [
    {
     "name": "stdout",
     "output_type": "stream",
     "text": [
      "<class 'pandas.core.frame.DataFrame'>\n",
      "RangeIndex: 61 entries, 0 to 60\n",
      "Data columns (total 13 columns):\n",
      " #   Column               Non-Null Count  Dtype \n",
      "---  ------               --------------  ----- \n",
      " 0   Team                 61 non-null     object\n",
      " 1   Tournament           61 non-null     int32 \n",
      " 2   Score                61 non-null     int32 \n",
      " 3   PlayedGames          61 non-null     int32 \n",
      " 4   WonGames             61 non-null     int32 \n",
      " 5   DrawnGames           61 non-null     int32 \n",
      " 6   LostGames            61 non-null     int32 \n",
      " 7   BasketScored         61 non-null     int32 \n",
      " 8   BasketGiven          61 non-null     int32 \n",
      " 9   TournamentChampion   61 non-null     int32 \n",
      " 10  Runner-up            61 non-null     int32 \n",
      " 11  TeamLaunch           61 non-null     object\n",
      " 12  HighestPositionHeld  61 non-null     int64 \n",
      "dtypes: int32(10), int64(1), object(2)\n",
      "memory usage: 3.9+ KB\n"
     ]
    }
   ],
   "source": [
    "columns = list(Basketball)\n",
    "columns = columns[1:11]\n",
    "Basketball[columns] = Basketball[columns].replace({'-':0})\n",
    "Basketball[columns] = Basketball[columns].astype(int)\n",
    "Basketball.info()"
   ]
  },
  {
   "cell_type": "code",
   "execution_count": 676,
   "id": "d8a24fb9",
   "metadata": {},
   "outputs": [],
   "source": [
    "def year_filter(event):\n",
    "    # separate out the year part when launch was initiated   \n",
    "    year = event[0:4]\n",
    "    return year"
   ]
  },
  {
   "cell_type": "code",
   "execution_count": 678,
   "id": "40bf97c2",
   "metadata": {},
   "outputs": [
    {
     "name": "stdout",
     "output_type": "stream",
     "text": [
      "<class 'pandas.core.frame.DataFrame'>\n",
      "RangeIndex: 61 entries, 0 to 60\n",
      "Data columns (total 13 columns):\n",
      " #   Column               Non-Null Count  Dtype         \n",
      "---  ------               --------------  -----         \n",
      " 0   Team                 61 non-null     object        \n",
      " 1   Tournament           61 non-null     int32         \n",
      " 2   Score                61 non-null     int32         \n",
      " 3   PlayedGames          61 non-null     int32         \n",
      " 4   WonGames             61 non-null     int32         \n",
      " 5   DrawnGames           61 non-null     int32         \n",
      " 6   LostGames            61 non-null     int32         \n",
      " 7   BasketScored         61 non-null     int32         \n",
      " 8   BasketGiven          61 non-null     int32         \n",
      " 9   TournamentChampion   61 non-null     int32         \n",
      " 10  Runner-up            61 non-null     int32         \n",
      " 11  TeamLaunch           61 non-null     datetime64[ns]\n",
      " 12  HighestPositionHeld  61 non-null     int64         \n",
      "dtypes: datetime64[ns](1), int32(10), int64(1), object(1)\n",
      "memory usage: 3.9+ KB\n"
     ]
    }
   ],
   "source": [
    "Basketball[\"TeamLaunch\"] = Basketball[\"TeamLaunch\"].apply(year_filter)\n",
    "Basketball[\"TeamLaunch\"].astype(str)\n",
    "Basketball[\"TeamLaunch\"] = pd.to_datetime(Basketball[\"TeamLaunch\"], format=\"%Y\")\n",
    "Basketball.info()"
   ]
  },
  {
   "cell_type": "code",
   "execution_count": 684,
   "id": "d8d3f880",
   "metadata": {},
   "outputs": [
    {
     "data": {
      "text/plain": [
       "<AxesSubplot:>"
      ]
     },
     "execution_count": 684,
     "metadata": {},
     "output_type": "execute_result"
    },
    {
     "data": {
      "image/png": "[encoded data removed]",
      "text/plain": [
       "<Figure size 648x432 with 2 Axes>"
      ]
     },
     "metadata": {
      "needs_background": "light"
     },
     "output_type": "display_data"
    }
   ],
   "source": [
    "Basketball_1 = Basketball[Basketball.columns[1:9]]\n",
    "plt.figure(figsize=(9,6))\n",
    "sns.heatmap(Basketball_1.corr(), annot=True)"
   ]
  },
  {
   "cell_type": "markdown",
   "id": "98f7614d",
   "metadata": {},
   "source": [
    "#### 2. Perform detailed statistical analysis and EDA using univariate, bi-variate and multivariate EDA techniques to get data driven insights on recommending which teams they can approach which will be a deal win for them. Also as a data and statistics expert you have to develop a detailed performance report using this data."
   ]
  },
  {
   "cell_type": "code",
   "execution_count": 709,
   "id": "a083610c",
   "metadata": {},
   "outputs": [
    {
     "name": "stdout",
     "output_type": "stream",
     "text": [
      "The best performing team is Team 1 with the winning percentage of 59.63 %\n",
      "The lowest performing team is Team 60 with the losing percentage of 70.00 %\n"
     ]
    }
   ],
   "source": [
    "Basketball['winning_percent'] = (Basketball['WonGames']/Basketball['PlayedGames'])*100\n",
    "Basketball['draw_percent'] = (Basketball['DrawnGames']/Basketball['PlayedGames'])*100\n",
    "Basketball['losing_percent'] = (Basketball['LostGames']/Basketball['PlayedGames'])*100\n",
    "win_pecent_max = Basketball['winning_percent'].max()\n",
    "best_Team = Basketball.loc[Basketball['winning_percent'] == win_pecent_max , 'Team'].item()\n",
    "print(\"The best performing team is %s with the winning percentage of %1.2f %%\" %(best_Team, win_pecent_max))\n",
    "loss_pecent_max = Basketball['losing_percent'].max()\n",
    "lowest_team = Basketball.loc[Basketball['losing_percent'] == loss_pecent_max , 'Team'].item()\n",
    "print(\"The lowest performing team is %s with the losing percentage of %1.2f %%\" %(lowest_team, loss_pecent_max))"
   ]
  },
  {
   "cell_type": "code",
   "execution_count": 722,
   "id": "8adc9d94",
   "metadata": {},
   "outputs": [
    {
     "data": {
      "image/png": "[encoded data removed]",
      "text/plain": [
       "<Figure size 2160x1080 with 1 Axes>"
      ]
     },
     "metadata": {
      "needs_background": "light"
     },
     "output_type": "display_data"
    }
   ],
   "source": [
    "fig, ax = plt.subplots(figsize = (30,15))    \n",
    "fig = sns.barplot(x = \"TeamLaunch\", y = \"winning_percent\", data = Basketball,color = 'green')\n",
    "fig = sns.barplot(x = \"TeamLaunch\", y = \"losing_percent\", data = Basketball,color = 'yellow')"
   ]
  },
  {
   "cell_type": "code",
   "execution_count": 726,
   "id": "03994589",
   "metadata": {},
   "outputs": [
    {
     "data": {
      "image/png": "[encoded data removed]",
      "text/plain": [
       "<Figure size 2160x1080 with 1 Axes>"
      ]
     },
     "metadata": {
      "needs_background": "light"
     },
     "output_type": "display_data"
    }
   ],
   "source": [
    "fig, ax = plt.subplots(figsize = (30,15))    \n",
    "fig = sns.barplot(x = \"TeamLaunch\", y = \"TournamentChampion\", data = Basketball,color = 'blue')\n",
    "fig = sns.barplot(x = \"TeamLaunch\", y = \"Runner-up\", data = Basketball,color = 'orange')"
   ]
  },
  {
   "cell_type": "markdown",
   "id": "e2fef860",
   "metadata": {},
   "source": [
    "#### 3. Please include any improvements or suggestions to the association management on quality, quantity, variety, velocity, veracity etc. on the data points collected by the association to perform a better data analysis in future."
   ]
  },
  {
   "cell_type": "markdown",
   "id": "ef9aff9d",
   "metadata": {},
   "source": [
    "Variety : In the data variety/type of data sources available\n",
    "Place of matches , Player informations, Tournaments and Games details can add more available values\n",
    "Velocity : In the data velocity/frequency of collection\n",
    "Information about the different matches held across the years could add more value to the data analysis.\n",
    "Value : A large scope of data collection for detailed game, team performace and player performance is there\n",
    "        Dates of team launch could be the exact date of team registration"
   ]
  },
  {
   "cell_type": "markdown",
   "id": "a46501ae",
   "metadata": {},
   "source": [
    "## Part C"
   ]
  },
  {
   "cell_type": "code",
   "execution_count": 367,
   "id": "fb2e9264",
   "metadata": {
    "scrolled": true
   },
   "outputs": [
    {
     "data": {
      "text/html": [
       "<div>\n",
       "<style scoped>\n",
       "    .dataframe tbody tr th:only-of-type {\n",
       "        vertical-align: middle;\n",
       "    }\n",
       "\n",
       "    .dataframe tbody tr th {\n",
       "        vertical-align: top;\n",
       "    }\n",
       "\n",
       "    .dataframe thead th {\n",
       "        text-align: right;\n",
       "    }\n",
       "</style>\n",
       "<table border=\"1\" class=\"dataframe\">\n",
       "  <thead>\n",
       "    <tr style=\"text-align: right;\">\n",
       "      <th></th>\n",
       "      <th>Startup</th>\n",
       "      <th>Product</th>\n",
       "      <th>Funding</th>\n",
       "      <th>Event</th>\n",
       "      <th>Result</th>\n",
       "      <th>OperatingState</th>\n",
       "    </tr>\n",
       "  </thead>\n",
       "  <tbody>\n",
       "    <tr>\n",
       "      <th>0</th>\n",
       "      <td>2600Hz</td>\n",
       "      <td>2600hz.com</td>\n",
       "      <td>NaN</td>\n",
       "      <td>Disrupt SF 2013</td>\n",
       "      <td>Contestant</td>\n",
       "      <td>Operating</td>\n",
       "    </tr>\n",
       "    <tr>\n",
       "      <th>1</th>\n",
       "      <td>3DLT</td>\n",
       "      <td>3dlt.com</td>\n",
       "      <td>$630K</td>\n",
       "      <td>Disrupt NYC 2013</td>\n",
       "      <td>Contestant</td>\n",
       "      <td>Closed</td>\n",
       "    </tr>\n",
       "    <tr>\n",
       "      <th>2</th>\n",
       "      <td>3DPrinterOS</td>\n",
       "      <td>3dprinteros.com</td>\n",
       "      <td>NaN</td>\n",
       "      <td>Disrupt SF 2016</td>\n",
       "      <td>Contestant</td>\n",
       "      <td>Operating</td>\n",
       "    </tr>\n",
       "    <tr>\n",
       "      <th>3</th>\n",
       "      <td>3Dprintler</td>\n",
       "      <td>3dprintler.com</td>\n",
       "      <td>$1M</td>\n",
       "      <td>Disrupt NY 2016</td>\n",
       "      <td>Audience choice</td>\n",
       "      <td>Operating</td>\n",
       "    </tr>\n",
       "    <tr>\n",
       "      <th>4</th>\n",
       "      <td>42 Technologies</td>\n",
       "      <td>42technologies.com</td>\n",
       "      <td>NaN</td>\n",
       "      <td>Disrupt NYC 2013</td>\n",
       "      <td>Contestant</td>\n",
       "      <td>Operating</td>\n",
       "    </tr>\n",
       "  </tbody>\n",
       "</table>\n",
       "</div>"
      ],
      "text/plain": [
       "           Startup             Product Funding             Event  \\\n",
       "0           2600Hz          2600hz.com     NaN   Disrupt SF 2013   \n",
       "1             3DLT            3dlt.com   $630K  Disrupt NYC 2013   \n",
       "2      3DPrinterOS     3dprinteros.com     NaN   Disrupt SF 2016   \n",
       "3       3Dprintler      3dprintler.com     $1M   Disrupt NY 2016   \n",
       "4  42 Technologies  42technologies.com     NaN  Disrupt NYC 2013   \n",
       "\n",
       "            Result OperatingState  \n",
       "0       Contestant      Operating  \n",
       "1       Contestant         Closed  \n",
       "2       Contestant      Operating  \n",
       "3  Audience choice      Operating  \n",
       "4       Contestant      Operating  "
      ]
     },
     "execution_count": 367,
     "metadata": {},
     "output_type": "execute_result"
    }
   ],
   "source": [
    "#read the csv file\n",
    "csvfile = pd.read_csv(r'C:\\Users\\Datta\\Desktop\\CompanyX_EU.csv')\n",
    "csvfile.head()"
   ]
  },
  {
   "cell_type": "markdown",
   "id": "ce6a70de",
   "metadata": {},
   "source": [
    "#Part 3 Q2 Data exploration. "
   ]
  },
  {
   "cell_type": "markdown",
   "id": "6c246c50",
   "metadata": {},
   "source": [
    "#A.Check the datatypes of each attribute."
   ]
  },
  {
   "cell_type": "code",
   "execution_count": 113,
   "id": "beb75a4c",
   "metadata": {},
   "outputs": [
    {
     "name": "stdout",
     "output_type": "stream",
     "text": [
      "a) The datatypes of each attribute is.\n",
      "Startup           object\n",
      "Product           object\n",
      "Funding           object\n",
      "Event             object\n",
      "Result            object\n",
      "OperatingState    object\n",
      "dtype: object\n"
     ]
    }
   ],
   "source": [
    "df = pd.DataFrame(csvfile)\n",
    "print ('a) The datatypes of each attribute is.')\n",
    "print (df.dtypes)"
   ]
  },
  {
   "cell_type": "markdown",
   "id": "112b367d",
   "metadata": {},
   "source": [
    "#B.Check for null values in the attributes."
   ]
  },
  {
   "cell_type": "code",
   "execution_count": 118,
   "id": "3a929b6f",
   "metadata": {},
   "outputs": [
    {
     "data": {
      "text/html": [
       "<div>\n",
       "<style scoped>\n",
       "    .dataframe tbody tr th:only-of-type {\n",
       "        vertical-align: middle;\n",
       "    }\n",
       "\n",
       "    .dataframe tbody tr th {\n",
       "        vertical-align: top;\n",
       "    }\n",
       "\n",
       "    .dataframe thead th {\n",
       "        text-align: right;\n",
       "    }\n",
       "</style>\n",
       "<table border=\"1\" class=\"dataframe\">\n",
       "  <thead>\n",
       "    <tr style=\"text-align: right;\">\n",
       "      <th></th>\n",
       "      <th>Startup</th>\n",
       "      <th>Product</th>\n",
       "      <th>Funding</th>\n",
       "      <th>Event</th>\n",
       "      <th>Result</th>\n",
       "      <th>OperatingState</th>\n",
       "    </tr>\n",
       "  </thead>\n",
       "  <tbody>\n",
       "    <tr>\n",
       "      <th>0</th>\n",
       "      <td>2600Hz</td>\n",
       "      <td>2600hz.com</td>\n",
       "      <td>NaN</td>\n",
       "      <td>Disrupt SF 2013</td>\n",
       "      <td>Contestant</td>\n",
       "      <td>Operating</td>\n",
       "    </tr>\n",
       "    <tr>\n",
       "      <th>1</th>\n",
       "      <td>3DLT</td>\n",
       "      <td>3dlt.com</td>\n",
       "      <td>$630K</td>\n",
       "      <td>Disrupt NYC 2013</td>\n",
       "      <td>Contestant</td>\n",
       "      <td>Closed</td>\n",
       "    </tr>\n",
       "    <tr>\n",
       "      <th>2</th>\n",
       "      <td>3DPrinterOS</td>\n",
       "      <td>3dprinteros.com</td>\n",
       "      <td>NaN</td>\n",
       "      <td>Disrupt SF 2016</td>\n",
       "      <td>Contestant</td>\n",
       "      <td>Operating</td>\n",
       "    </tr>\n",
       "    <tr>\n",
       "      <th>3</th>\n",
       "      <td>3Dprintler</td>\n",
       "      <td>3dprintler.com</td>\n",
       "      <td>$1M</td>\n",
       "      <td>Disrupt NY 2016</td>\n",
       "      <td>Audience choice</td>\n",
       "      <td>Operating</td>\n",
       "    </tr>\n",
       "    <tr>\n",
       "      <th>4</th>\n",
       "      <td>42 Technologies</td>\n",
       "      <td>42technologies.com</td>\n",
       "      <td>NaN</td>\n",
       "      <td>Disrupt NYC 2013</td>\n",
       "      <td>Contestant</td>\n",
       "      <td>Operating</td>\n",
       "    </tr>\n",
       "    <tr>\n",
       "      <th>...</th>\n",
       "      <td>...</td>\n",
       "      <td>...</td>\n",
       "      <td>...</td>\n",
       "      <td>...</td>\n",
       "      <td>...</td>\n",
       "      <td>...</td>\n",
       "    </tr>\n",
       "    <tr>\n",
       "      <th>657</th>\n",
       "      <td>Zivity</td>\n",
       "      <td>zivity.com</td>\n",
       "      <td>$8M</td>\n",
       "      <td>TC40 2007</td>\n",
       "      <td>Contestant</td>\n",
       "      <td>Operating</td>\n",
       "    </tr>\n",
       "    <tr>\n",
       "      <th>658</th>\n",
       "      <td>Zmorph</td>\n",
       "      <td>zmorph3d.com</td>\n",
       "      <td>$1M</td>\n",
       "      <td>-</td>\n",
       "      <td>Audience choice</td>\n",
       "      <td>Operating</td>\n",
       "    </tr>\n",
       "    <tr>\n",
       "      <th>659</th>\n",
       "      <td>Zocdoc</td>\n",
       "      <td>zocdoc.com</td>\n",
       "      <td>$223M</td>\n",
       "      <td>TC40 2007</td>\n",
       "      <td>Contestant</td>\n",
       "      <td>Operating</td>\n",
       "    </tr>\n",
       "    <tr>\n",
       "      <th>660</th>\n",
       "      <td>Zula</td>\n",
       "      <td>zulaapp.com</td>\n",
       "      <td>$3.4M</td>\n",
       "      <td>Disrupt SF 2013</td>\n",
       "      <td>Audience choice</td>\n",
       "      <td>Operating</td>\n",
       "    </tr>\n",
       "    <tr>\n",
       "      <th>661</th>\n",
       "      <td>Zumper</td>\n",
       "      <td>zumper.com</td>\n",
       "      <td>$31.5M</td>\n",
       "      <td>Disrupt SF 2012</td>\n",
       "      <td>Finalist</td>\n",
       "      <td>Operating</td>\n",
       "    </tr>\n",
       "  </tbody>\n",
       "</table>\n",
       "<p>662 rows × 6 columns</p>\n",
       "</div>"
      ],
      "text/plain": [
       "             Startup             Product Funding             Event  \\\n",
       "0             2600Hz          2600hz.com     NaN   Disrupt SF 2013   \n",
       "1               3DLT            3dlt.com   $630K  Disrupt NYC 2013   \n",
       "2        3DPrinterOS     3dprinteros.com     NaN   Disrupt SF 2016   \n",
       "3         3Dprintler      3dprintler.com     $1M   Disrupt NY 2016   \n",
       "4    42 Technologies  42technologies.com     NaN  Disrupt NYC 2013   \n",
       "..               ...                 ...     ...               ...   \n",
       "657           Zivity          zivity.com     $8M         TC40 2007   \n",
       "658           Zmorph        zmorph3d.com     $1M                 -   \n",
       "659           Zocdoc          zocdoc.com   $223M         TC40 2007   \n",
       "660             Zula         zulaapp.com   $3.4M   Disrupt SF 2013   \n",
       "661           Zumper          zumper.com  $31.5M   Disrupt SF 2012   \n",
       "\n",
       "              Result OperatingState  \n",
       "0         Contestant      Operating  \n",
       "1         Contestant         Closed  \n",
       "2         Contestant      Operating  \n",
       "3    Audience choice      Operating  \n",
       "4         Contestant      Operating  \n",
       "..               ...            ...  \n",
       "657       Contestant      Operating  \n",
       "658  Audience choice      Operating  \n",
       "659       Contestant      Operating  \n",
       "660  Audience choice      Operating  \n",
       "661         Finalist      Operating  \n",
       "\n",
       "[662 rows x 6 columns]"
      ]
     },
     "execution_count": 118,
     "metadata": {},
     "output_type": "execute_result"
    }
   ],
   "source": [
    "df # In Funding null value is there, which is NaN"
   ]
  },
  {
   "cell_type": "code",
   "execution_count": 119,
   "id": "167f7945",
   "metadata": {},
   "outputs": [
    {
     "name": "stdout",
     "output_type": "stream",
     "text": [
      "a) The null values in the attributes is :\n"
     ]
    },
    {
     "data": {
      "text/plain": [
       "Startup           False\n",
       "Product            True\n",
       "Funding            True\n",
       "Event             False\n",
       "Result            False\n",
       "OperatingState    False\n",
       "dtype: bool"
      ]
     },
     "execution_count": 119,
     "metadata": {},
     "output_type": "execute_result"
    }
   ],
   "source": [
    "print ('a) The null values in the attributes is :')\n",
    "df.isnull().any()"
   ]
  },
  {
   "cell_type": "markdown",
   "id": "4074fbe2",
   "metadata": {},
   "source": [
    "#Q3 A Drop the null values"
   ]
  },
  {
   "cell_type": "code",
   "execution_count": 239,
   "id": "637b4741",
   "metadata": {},
   "outputs": [
    {
     "name": "stdout",
     "output_type": "stream",
     "text": [
      "a) Drop the null values :\n"
     ]
    },
    {
     "data": {
      "text/html": [
       "<div>\n",
       "<style scoped>\n",
       "    .dataframe tbody tr th:only-of-type {\n",
       "        vertical-align: middle;\n",
       "    }\n",
       "\n",
       "    .dataframe tbody tr th {\n",
       "        vertical-align: top;\n",
       "    }\n",
       "\n",
       "    .dataframe thead th {\n",
       "        text-align: right;\n",
       "    }\n",
       "</style>\n",
       "<table border=\"1\" class=\"dataframe\">\n",
       "  <thead>\n",
       "    <tr style=\"text-align: right;\">\n",
       "      <th></th>\n",
       "      <th>Startup</th>\n",
       "      <th>Product</th>\n",
       "      <th>Funding</th>\n",
       "      <th>Event</th>\n",
       "      <th>Result</th>\n",
       "      <th>OperatingState</th>\n",
       "    </tr>\n",
       "  </thead>\n",
       "  <tbody>\n",
       "    <tr>\n",
       "      <th>1</th>\n",
       "      <td>3DLT</td>\n",
       "      <td>3dlt.com</td>\n",
       "      <td>$630K</td>\n",
       "      <td>Disrupt NYC 2013</td>\n",
       "      <td>Contestant</td>\n",
       "      <td>Closed</td>\n",
       "    </tr>\n",
       "    <tr>\n",
       "      <th>3</th>\n",
       "      <td>3Dprintler</td>\n",
       "      <td>3dprintler.com</td>\n",
       "      <td>$1M</td>\n",
       "      <td>Disrupt NY 2016</td>\n",
       "      <td>Audience choice</td>\n",
       "      <td>Operating</td>\n",
       "    </tr>\n",
       "    <tr>\n",
       "      <th>5</th>\n",
       "      <td>5to1</td>\n",
       "      <td>5to1.com</td>\n",
       "      <td>$19.3M</td>\n",
       "      <td>TC50 2009</td>\n",
       "      <td>Contestant</td>\n",
       "      <td>Acquired</td>\n",
       "    </tr>\n",
       "    <tr>\n",
       "      <th>6</th>\n",
       "      <td>8 Securities</td>\n",
       "      <td>8securities.com</td>\n",
       "      <td>$29M</td>\n",
       "      <td>Disrupt Beijing 2011</td>\n",
       "      <td>Finalist</td>\n",
       "      <td>Operating</td>\n",
       "    </tr>\n",
       "    <tr>\n",
       "      <th>10</th>\n",
       "      <td>AdhereTech</td>\n",
       "      <td>adheretech.com</td>\n",
       "      <td>$1.8M</td>\n",
       "      <td>Hardware Battlefield 2014</td>\n",
       "      <td>Contestant</td>\n",
       "      <td>Operating</td>\n",
       "    </tr>\n",
       "    <tr>\n",
       "      <th>...</th>\n",
       "      <td>...</td>\n",
       "      <td>...</td>\n",
       "      <td>...</td>\n",
       "      <td>...</td>\n",
       "      <td>...</td>\n",
       "      <td>...</td>\n",
       "    </tr>\n",
       "    <tr>\n",
       "      <th>657</th>\n",
       "      <td>Zivity</td>\n",
       "      <td>zivity.com</td>\n",
       "      <td>$8M</td>\n",
       "      <td>TC40 2007</td>\n",
       "      <td>Contestant</td>\n",
       "      <td>Operating</td>\n",
       "    </tr>\n",
       "    <tr>\n",
       "      <th>658</th>\n",
       "      <td>Zmorph</td>\n",
       "      <td>zmorph3d.com</td>\n",
       "      <td>$1M</td>\n",
       "      <td>-</td>\n",
       "      <td>Audience choice</td>\n",
       "      <td>Operating</td>\n",
       "    </tr>\n",
       "    <tr>\n",
       "      <th>659</th>\n",
       "      <td>Zocdoc</td>\n",
       "      <td>zocdoc.com</td>\n",
       "      <td>$223M</td>\n",
       "      <td>TC40 2007</td>\n",
       "      <td>Contestant</td>\n",
       "      <td>Operating</td>\n",
       "    </tr>\n",
       "    <tr>\n",
       "      <th>660</th>\n",
       "      <td>Zula</td>\n",
       "      <td>zulaapp.com</td>\n",
       "      <td>$3.4M</td>\n",
       "      <td>Disrupt SF 2013</td>\n",
       "      <td>Audience choice</td>\n",
       "      <td>Operating</td>\n",
       "    </tr>\n",
       "    <tr>\n",
       "      <th>661</th>\n",
       "      <td>Zumper</td>\n",
       "      <td>zumper.com</td>\n",
       "      <td>$31.5M</td>\n",
       "      <td>Disrupt SF 2012</td>\n",
       "      <td>Finalist</td>\n",
       "      <td>Operating</td>\n",
       "    </tr>\n",
       "  </tbody>\n",
       "</table>\n",
       "<p>446 rows × 6 columns</p>\n",
       "</div>"
      ],
      "text/plain": [
       "          Startup          Product Funding                      Event  \\\n",
       "1            3DLT         3dlt.com   $630K           Disrupt NYC 2013   \n",
       "3      3Dprintler   3dprintler.com     $1M            Disrupt NY 2016   \n",
       "5            5to1         5to1.com  $19.3M                  TC50 2009   \n",
       "6    8 Securities  8securities.com    $29M       Disrupt Beijing 2011   \n",
       "10     AdhereTech   adheretech.com   $1.8M  Hardware Battlefield 2014   \n",
       "..            ...              ...     ...                        ...   \n",
       "657        Zivity       zivity.com     $8M                  TC40 2007   \n",
       "658        Zmorph     zmorph3d.com     $1M                          -   \n",
       "659        Zocdoc       zocdoc.com   $223M                  TC40 2007   \n",
       "660          Zula      zulaapp.com   $3.4M            Disrupt SF 2013   \n",
       "661        Zumper       zumper.com  $31.5M            Disrupt SF 2012   \n",
       "\n",
       "              Result OperatingState  \n",
       "1         Contestant         Closed  \n",
       "3    Audience choice      Operating  \n",
       "5         Contestant       Acquired  \n",
       "6           Finalist      Operating  \n",
       "10        Contestant      Operating  \n",
       "..               ...            ...  \n",
       "657       Contestant      Operating  \n",
       "658  Audience choice      Operating  \n",
       "659       Contestant      Operating  \n",
       "660  Audience choice      Operating  \n",
       "661         Finalist      Operating  \n",
       "\n",
       "[446 rows x 6 columns]"
      ]
     },
     "execution_count": 239,
     "metadata": {},
     "output_type": "execute_result"
    }
   ],
   "source": [
    "df2 = df.copy() # Create duplicate of data\n",
    "df2.dropna(inplace = True) # Remove rows with NaN / Null value\n",
    "print ('a) Drop the null values :')\n",
    "df2"
   ]
  },
  {
   "cell_type": "markdown",
   "id": "1fed0a67",
   "metadata": {},
   "source": [
    "#Convert the ‘Funding’ features to a numerical value."
   ]
  },
  {
   "cell_type": "code",
   "execution_count": 370,
   "id": "c5d51a89",
   "metadata": {},
   "outputs": [],
   "source": [
    "df2.loc[:,'Funds_in_million'] = df2['Funding'].apply(lambda x: float(x[1:-1])/1000 if x[-1] == 'K' else (float(x[1:-1])*1000 if x[-1] == 'B' else float(x[1:-1])))"
   ]
  },
  {
   "cell_type": "code",
   "execution_count": 371,
   "id": "566967bf",
   "metadata": {},
   "outputs": [
    {
     "data": {
      "text/html": [
       "<div>\n",
       "<style scoped>\n",
       "    .dataframe tbody tr th:only-of-type {\n",
       "        vertical-align: middle;\n",
       "    }\n",
       "\n",
       "    .dataframe tbody tr th {\n",
       "        vertical-align: top;\n",
       "    }\n",
       "\n",
       "    .dataframe thead th {\n",
       "        text-align: right;\n",
       "    }\n",
       "</style>\n",
       "<table border=\"1\" class=\"dataframe\">\n",
       "  <thead>\n",
       "    <tr style=\"text-align: right;\">\n",
       "      <th></th>\n",
       "      <th>Startup</th>\n",
       "      <th>Product</th>\n",
       "      <th>Funding</th>\n",
       "      <th>Event</th>\n",
       "      <th>Result</th>\n",
       "      <th>OperatingState</th>\n",
       "      <th>Funds_in_million</th>\n",
       "    </tr>\n",
       "  </thead>\n",
       "  <tbody>\n",
       "    <tr>\n",
       "      <th>1</th>\n",
       "      <td>3DLT</td>\n",
       "      <td>3dlt.com</td>\n",
       "      <td>$630K</td>\n",
       "      <td>Disrupt NYC 2013</td>\n",
       "      <td>Contestant</td>\n",
       "      <td>Closed</td>\n",
       "      <td>0.63</td>\n",
       "    </tr>\n",
       "    <tr>\n",
       "      <th>3</th>\n",
       "      <td>3Dprintler</td>\n",
       "      <td>3dprintler.com</td>\n",
       "      <td>$1M</td>\n",
       "      <td>Disrupt NY 2016</td>\n",
       "      <td>Audience choice</td>\n",
       "      <td>Operating</td>\n",
       "      <td>1.00</td>\n",
       "    </tr>\n",
       "    <tr>\n",
       "      <th>5</th>\n",
       "      <td>5to1</td>\n",
       "      <td>5to1.com</td>\n",
       "      <td>$19.3M</td>\n",
       "      <td>TC50 2009</td>\n",
       "      <td>Contestant</td>\n",
       "      <td>Acquired</td>\n",
       "      <td>19.30</td>\n",
       "    </tr>\n",
       "    <tr>\n",
       "      <th>6</th>\n",
       "      <td>8 Securities</td>\n",
       "      <td>8securities.com</td>\n",
       "      <td>$29M</td>\n",
       "      <td>Disrupt Beijing 2011</td>\n",
       "      <td>Finalist</td>\n",
       "      <td>Operating</td>\n",
       "      <td>29.00</td>\n",
       "    </tr>\n",
       "    <tr>\n",
       "      <th>10</th>\n",
       "      <td>AdhereTech</td>\n",
       "      <td>adheretech.com</td>\n",
       "      <td>$1.8M</td>\n",
       "      <td>Hardware Battlefield 2014</td>\n",
       "      <td>Contestant</td>\n",
       "      <td>Operating</td>\n",
       "      <td>1.80</td>\n",
       "    </tr>\n",
       "    <tr>\n",
       "      <th>...</th>\n",
       "      <td>...</td>\n",
       "      <td>...</td>\n",
       "      <td>...</td>\n",
       "      <td>...</td>\n",
       "      <td>...</td>\n",
       "      <td>...</td>\n",
       "      <td>...</td>\n",
       "    </tr>\n",
       "    <tr>\n",
       "      <th>657</th>\n",
       "      <td>Zivity</td>\n",
       "      <td>zivity.com</td>\n",
       "      <td>$8M</td>\n",
       "      <td>TC40 2007</td>\n",
       "      <td>Contestant</td>\n",
       "      <td>Operating</td>\n",
       "      <td>8.00</td>\n",
       "    </tr>\n",
       "    <tr>\n",
       "      <th>658</th>\n",
       "      <td>Zmorph</td>\n",
       "      <td>zmorph3d.com</td>\n",
       "      <td>$1M</td>\n",
       "      <td>-</td>\n",
       "      <td>Audience choice</td>\n",
       "      <td>Operating</td>\n",
       "      <td>1.00</td>\n",
       "    </tr>\n",
       "    <tr>\n",
       "      <th>659</th>\n",
       "      <td>Zocdoc</td>\n",
       "      <td>zocdoc.com</td>\n",
       "      <td>$223M</td>\n",
       "      <td>TC40 2007</td>\n",
       "      <td>Contestant</td>\n",
       "      <td>Operating</td>\n",
       "      <td>223.00</td>\n",
       "    </tr>\n",
       "    <tr>\n",
       "      <th>660</th>\n",
       "      <td>Zula</td>\n",
       "      <td>zulaapp.com</td>\n",
       "      <td>$3.4M</td>\n",
       "      <td>Disrupt SF 2013</td>\n",
       "      <td>Audience choice</td>\n",
       "      <td>Operating</td>\n",
       "      <td>3.40</td>\n",
       "    </tr>\n",
       "    <tr>\n",
       "      <th>661</th>\n",
       "      <td>Zumper</td>\n",
       "      <td>zumper.com</td>\n",
       "      <td>$31.5M</td>\n",
       "      <td>Disrupt SF 2012</td>\n",
       "      <td>Finalist</td>\n",
       "      <td>Operating</td>\n",
       "      <td>31.50</td>\n",
       "    </tr>\n",
       "  </tbody>\n",
       "</table>\n",
       "<p>446 rows × 7 columns</p>\n",
       "</div>"
      ],
      "text/plain": [
       "          Startup          Product Funding                      Event  \\\n",
       "1            3DLT         3dlt.com   $630K           Disrupt NYC 2013   \n",
       "3      3Dprintler   3dprintler.com     $1M            Disrupt NY 2016   \n",
       "5            5to1         5to1.com  $19.3M                  TC50 2009   \n",
       "6    8 Securities  8securities.com    $29M       Disrupt Beijing 2011   \n",
       "10     AdhereTech   adheretech.com   $1.8M  Hardware Battlefield 2014   \n",
       "..            ...              ...     ...                        ...   \n",
       "657        Zivity       zivity.com     $8M                  TC40 2007   \n",
       "658        Zmorph     zmorph3d.com     $1M                          -   \n",
       "659        Zocdoc       zocdoc.com   $223M                  TC40 2007   \n",
       "660          Zula      zulaapp.com   $3.4M            Disrupt SF 2013   \n",
       "661        Zumper       zumper.com  $31.5M            Disrupt SF 2012   \n",
       "\n",
       "              Result OperatingState  Funds_in_million  \n",
       "1         Contestant         Closed              0.63  \n",
       "3    Audience choice      Operating              1.00  \n",
       "5         Contestant       Acquired             19.30  \n",
       "6           Finalist      Operating             29.00  \n",
       "10        Contestant      Operating              1.80  \n",
       "..               ...            ...               ...  \n",
       "657       Contestant      Operating              8.00  \n",
       "658  Audience choice      Operating              1.00  \n",
       "659       Contestant      Operating            223.00  \n",
       "660  Audience choice      Operating              3.40  \n",
       "661         Finalist      Operating             31.50  \n",
       "\n",
       "[446 rows x 7 columns]"
      ]
     },
     "execution_count": 371,
     "metadata": {},
     "output_type": "execute_result"
    }
   ],
   "source": [
    "df2"
   ]
  },
  {
   "cell_type": "markdown",
   "id": "7dfc81b2",
   "metadata": {},
   "source": [
    "#Q3 C Plot box plot for funds in million"
   ]
  },
  {
   "cell_type": "code",
   "execution_count": 372,
   "id": "130bbfa3",
   "metadata": {},
   "outputs": [
    {
     "name": "stdout",
     "output_type": "stream",
     "text": [
      "a) Plot box plot for funds in million is :\n"
     ]
    },
    {
     "data": {
      "image/png": "[encoded data removed]",
      "text/plain": [
       "<Figure size 432x288 with 1 Axes>"
      ]
     },
     "metadata": {
      "needs_background": "light"
     },
     "output_type": "display_data"
    }
   ],
   "source": [
    "import matplotlib.pyplot as plt\n",
    "import seaborn as sns\n",
    "# box plot\n",
    "df2['Funds_in_million'].plot(kind='box', title='Funds in million')\n",
    "print ('a) Plot box plot for funds in million is :')\n",
    "plt.show()"
   ]
  },
  {
   "cell_type": "markdown",
   "id": "b662b2c5",
   "metadata": {},
   "source": [
    "#Q3 D Check the number of outliers greater than the upper fence"
   ]
  },
  {
   "cell_type": "code",
   "execution_count": 373,
   "id": "5aa29abd",
   "metadata": {},
   "outputs": [
    {
     "data": {
      "text/plain": [
       "8.72975"
      ]
     },
     "execution_count": 373,
     "metadata": {},
     "output_type": "execute_result"
    }
   ],
   "source": [
    "q1=df2['Funds_in_million'].quantile(0.25)\n",
    "q3=df2['Funds_in_million'].quantile(0.75)\n",
    "IQR=q3-q1\n",
    "IQR"
   ]
  },
  {
   "cell_type": "code",
   "execution_count": 374,
   "id": "c2572bf4",
   "metadata": {},
   "outputs": [
    {
     "name": "stdout",
     "output_type": "stream",
     "text": [
      "The number of outliers greater than the upper fence: 1      False\n",
      "3      False\n",
      "5      False\n",
      "6       True\n",
      "10     False\n",
      "       ...  \n",
      "657    False\n",
      "658    False\n",
      "659     True\n",
      "660    False\n",
      "661     True\n",
      "Name: Funds_in_million, Length: 446, dtype: bool\n",
      "The number of outliers greater than the upper fence number array: (array([  3,  16,  21,  27,  33,  67,  71,  82,  84,  85,  87,  88, 102,\n",
      "       111, 117, 121, 122, 127, 129, 140, 144, 146, 153, 157, 183, 187,\n",
      "       189, 192, 205, 208, 212, 221, 230, 260, 263, 264, 267, 286, 291,\n",
      "       294, 311, 318, 365, 371, 375, 389, 395, 400, 403, 409, 418, 432,\n",
      "       433, 436, 437, 438, 439, 440, 443, 445], dtype=int64),)\n"
     ]
    }
   ],
   "source": [
    "Upperfence = Q3 + (1.5 * IQR)\n",
    "upper = df2['Funds_in_million'] > Upperfence\n",
    "print(\"The number of outliers greater than the upper fence:\",upper)\n",
    "print(\"The number of outliers greater than the upper fence number array:\",np.where(upper))"
   ]
  },
  {
   "cell_type": "markdown",
   "id": "7c3707ab",
   "metadata": {},
   "source": [
    "#Q3 E Check frequency of the Operating State features classes"
   ]
  },
  {
   "cell_type": "code",
   "execution_count": 233,
   "id": "d74ee6b1",
   "metadata": {},
   "outputs": [
    {
     "name": "stdout",
     "output_type": "stream",
     "text": [
      "a) Frequency of values in column OperatingState is:\n",
      " OperatingState\n",
      "Acquired      86\n",
      "Closed       106\n",
      "Ipo            5\n",
      "Operating    465\n",
      "dtype: int64\n"
     ]
    }
   ],
   "source": [
    "count = df.groupby('OperatingState').size()\n",
    "print (\"a) Frequency of values in column OperatingState\", \"is:\\n\", count)"
   ]
  },
  {
   "cell_type": "markdown",
   "id": "54db9de0",
   "metadata": {},
   "source": [
    "#Q4 A Is there any significant difference between Funds raised by companies that are still operating vs companies that closed down?"
   ]
  },
  {
   "cell_type": "code",
   "execution_count": 258,
   "id": "18887a1d",
   "metadata": {},
   "outputs": [
    {
     "data": {
      "text/html": [
       "<div>\n",
       "<style scoped>\n",
       "    .dataframe tbody tr th:only-of-type {\n",
       "        vertical-align: middle;\n",
       "    }\n",
       "\n",
       "    .dataframe tbody tr th {\n",
       "        vertical-align: top;\n",
       "    }\n",
       "\n",
       "    .dataframe thead th {\n",
       "        text-align: right;\n",
       "    }\n",
       "</style>\n",
       "<table border=\"1\" class=\"dataframe\">\n",
       "  <thead>\n",
       "    <tr style=\"text-align: right;\">\n",
       "      <th></th>\n",
       "      <th>Startup</th>\n",
       "      <th>Product</th>\n",
       "      <th>Funding</th>\n",
       "      <th>Event</th>\n",
       "      <th>Result</th>\n",
       "      <th>OperatingState</th>\n",
       "    </tr>\n",
       "  </thead>\n",
       "  <tbody>\n",
       "    <tr>\n",
       "      <th>0</th>\n",
       "      <td>2600Hz</td>\n",
       "      <td>2600hz.com</td>\n",
       "      <td>NaN</td>\n",
       "      <td>Disrupt SF 2013</td>\n",
       "      <td>Contestant</td>\n",
       "      <td>Operating</td>\n",
       "    </tr>\n",
       "    <tr>\n",
       "      <th>2</th>\n",
       "      <td>3DPrinterOS</td>\n",
       "      <td>3dprinteros.com</td>\n",
       "      <td>NaN</td>\n",
       "      <td>Disrupt SF 2016</td>\n",
       "      <td>Contestant</td>\n",
       "      <td>Operating</td>\n",
       "    </tr>\n",
       "    <tr>\n",
       "      <th>3</th>\n",
       "      <td>3Dprintler</td>\n",
       "      <td>3dprintler.com</td>\n",
       "      <td>$1M</td>\n",
       "      <td>Disrupt NY 2016</td>\n",
       "      <td>Audience choice</td>\n",
       "      <td>Operating</td>\n",
       "    </tr>\n",
       "    <tr>\n",
       "      <th>4</th>\n",
       "      <td>42 Technologies</td>\n",
       "      <td>42technologies.com</td>\n",
       "      <td>NaN</td>\n",
       "      <td>Disrupt NYC 2013</td>\n",
       "      <td>Contestant</td>\n",
       "      <td>Operating</td>\n",
       "    </tr>\n",
       "    <tr>\n",
       "      <th>6</th>\n",
       "      <td>8 Securities</td>\n",
       "      <td>8securities.com</td>\n",
       "      <td>$29M</td>\n",
       "      <td>Disrupt Beijing 2011</td>\n",
       "      <td>Finalist</td>\n",
       "      <td>Operating</td>\n",
       "    </tr>\n",
       "    <tr>\n",
       "      <th>...</th>\n",
       "      <td>...</td>\n",
       "      <td>...</td>\n",
       "      <td>...</td>\n",
       "      <td>...</td>\n",
       "      <td>...</td>\n",
       "      <td>...</td>\n",
       "    </tr>\n",
       "    <tr>\n",
       "      <th>657</th>\n",
       "      <td>Zivity</td>\n",
       "      <td>zivity.com</td>\n",
       "      <td>$8M</td>\n",
       "      <td>TC40 2007</td>\n",
       "      <td>Contestant</td>\n",
       "      <td>Operating</td>\n",
       "    </tr>\n",
       "    <tr>\n",
       "      <th>658</th>\n",
       "      <td>Zmorph</td>\n",
       "      <td>zmorph3d.com</td>\n",
       "      <td>$1M</td>\n",
       "      <td>-</td>\n",
       "      <td>Audience choice</td>\n",
       "      <td>Operating</td>\n",
       "    </tr>\n",
       "    <tr>\n",
       "      <th>659</th>\n",
       "      <td>Zocdoc</td>\n",
       "      <td>zocdoc.com</td>\n",
       "      <td>$223M</td>\n",
       "      <td>TC40 2007</td>\n",
       "      <td>Contestant</td>\n",
       "      <td>Operating</td>\n",
       "    </tr>\n",
       "    <tr>\n",
       "      <th>660</th>\n",
       "      <td>Zula</td>\n",
       "      <td>zulaapp.com</td>\n",
       "      <td>$3.4M</td>\n",
       "      <td>Disrupt SF 2013</td>\n",
       "      <td>Audience choice</td>\n",
       "      <td>Operating</td>\n",
       "    </tr>\n",
       "    <tr>\n",
       "      <th>661</th>\n",
       "      <td>Zumper</td>\n",
       "      <td>zumper.com</td>\n",
       "      <td>$31.5M</td>\n",
       "      <td>Disrupt SF 2012</td>\n",
       "      <td>Finalist</td>\n",
       "      <td>Operating</td>\n",
       "    </tr>\n",
       "  </tbody>\n",
       "</table>\n",
       "<p>465 rows × 6 columns</p>\n",
       "</div>"
      ],
      "text/plain": [
       "             Startup             Product Funding                 Event  \\\n",
       "0             2600Hz          2600hz.com     NaN       Disrupt SF 2013   \n",
       "2        3DPrinterOS     3dprinteros.com     NaN       Disrupt SF 2016   \n",
       "3         3Dprintler      3dprintler.com     $1M       Disrupt NY 2016   \n",
       "4    42 Technologies  42technologies.com     NaN      Disrupt NYC 2013   \n",
       "6       8 Securities     8securities.com    $29M  Disrupt Beijing 2011   \n",
       "..               ...                 ...     ...                   ...   \n",
       "657           Zivity          zivity.com     $8M             TC40 2007   \n",
       "658           Zmorph        zmorph3d.com     $1M                     -   \n",
       "659           Zocdoc          zocdoc.com   $223M             TC40 2007   \n",
       "660             Zula         zulaapp.com   $3.4M       Disrupt SF 2013   \n",
       "661           Zumper          zumper.com  $31.5M       Disrupt SF 2012   \n",
       "\n",
       "              Result OperatingState  \n",
       "0         Contestant      Operating  \n",
       "2         Contestant      Operating  \n",
       "3    Audience choice      Operating  \n",
       "4         Contestant      Operating  \n",
       "6           Finalist      Operating  \n",
       "..               ...            ...  \n",
       "657       Contestant      Operating  \n",
       "658  Audience choice      Operating  \n",
       "659       Contestant      Operating  \n",
       "660  Audience choice      Operating  \n",
       "661         Finalist      Operating  \n",
       "\n",
       "[465 rows x 6 columns]"
      ]
     },
     "metadata": {},
     "output_type": "display_data"
    },
    {
     "data": {
      "text/html": [
       "<div>\n",
       "<style scoped>\n",
       "    .dataframe tbody tr th:only-of-type {\n",
       "        vertical-align: middle;\n",
       "    }\n",
       "\n",
       "    .dataframe tbody tr th {\n",
       "        vertical-align: top;\n",
       "    }\n",
       "\n",
       "    .dataframe thead th {\n",
       "        text-align: right;\n",
       "    }\n",
       "</style>\n",
       "<table border=\"1\" class=\"dataframe\">\n",
       "  <thead>\n",
       "    <tr style=\"text-align: right;\">\n",
       "      <th></th>\n",
       "      <th>Startup</th>\n",
       "      <th>Product</th>\n",
       "      <th>Funding</th>\n",
       "      <th>Event</th>\n",
       "      <th>Result</th>\n",
       "      <th>OperatingState</th>\n",
       "    </tr>\n",
       "  </thead>\n",
       "  <tbody>\n",
       "    <tr>\n",
       "      <th>1</th>\n",
       "      <td>3DLT</td>\n",
       "      <td>3dlt.com</td>\n",
       "      <td>$630K</td>\n",
       "      <td>Disrupt NYC 2013</td>\n",
       "      <td>Contestant</td>\n",
       "      <td>Closed</td>\n",
       "    </tr>\n",
       "    <tr>\n",
       "      <th>11</th>\n",
       "      <td>AdRocket</td>\n",
       "      <td>adrocket.com</td>\n",
       "      <td>$1M</td>\n",
       "      <td>TC50 2008</td>\n",
       "      <td>Contestant</td>\n",
       "      <td>Closed</td>\n",
       "    </tr>\n",
       "    <tr>\n",
       "      <th>17</th>\n",
       "      <td>AirDroids</td>\n",
       "      <td>airdroids.com</td>\n",
       "      <td>$929.2K</td>\n",
       "      <td>Hardware Battlefield 2014</td>\n",
       "      <td>Contestant</td>\n",
       "      <td>Closed</td>\n",
       "    </tr>\n",
       "    <tr>\n",
       "      <th>20</th>\n",
       "      <td>Akoha</td>\n",
       "      <td>akoha.com</td>\n",
       "      <td>$1.9M</td>\n",
       "      <td>TC50 2008</td>\n",
       "      <td>Contestant</td>\n",
       "      <td>Closed</td>\n",
       "    </tr>\n",
       "    <tr>\n",
       "      <th>34</th>\n",
       "      <td>Appbistro</td>\n",
       "      <td>appbistro.com</td>\n",
       "      <td>$600K</td>\n",
       "      <td>Disrupt NYC 2010</td>\n",
       "      <td>Contestant</td>\n",
       "      <td>Closed</td>\n",
       "    </tr>\n",
       "    <tr>\n",
       "      <th>...</th>\n",
       "      <td>...</td>\n",
       "      <td>...</td>\n",
       "      <td>...</td>\n",
       "      <td>...</td>\n",
       "      <td>...</td>\n",
       "      <td>...</td>\n",
       "    </tr>\n",
       "    <tr>\n",
       "      <th>612</th>\n",
       "      <td>Verious</td>\n",
       "      <td>verious.com</td>\n",
       "      <td>$800K</td>\n",
       "      <td>Disrupt SF 2011</td>\n",
       "      <td>Contestant</td>\n",
       "      <td>Closed</td>\n",
       "    </tr>\n",
       "    <tr>\n",
       "      <th>614</th>\n",
       "      <td>VIDA</td>\n",
       "      <td>vida.fm</td>\n",
       "      <td>NaN</td>\n",
       "      <td>Disrupt Beijing 2011</td>\n",
       "      <td>Contestant</td>\n",
       "      <td>Closed</td>\n",
       "    </tr>\n",
       "    <tr>\n",
       "      <th>639</th>\n",
       "      <td>Wixi</td>\n",
       "      <td>wixi.com</td>\n",
       "      <td>NaN</td>\n",
       "      <td>TC40 2007</td>\n",
       "      <td>Contestant</td>\n",
       "      <td>Closed</td>\n",
       "    </tr>\n",
       "    <tr>\n",
       "      <th>645</th>\n",
       "      <td>Yap</td>\n",
       "      <td>yapme.com</td>\n",
       "      <td>$10M</td>\n",
       "      <td>TC40 2007</td>\n",
       "      <td>Contestant</td>\n",
       "      <td>Closed</td>\n",
       "    </tr>\n",
       "    <tr>\n",
       "      <th>652</th>\n",
       "      <td>Yuwan</td>\n",
       "      <td>iyuwan.cn</td>\n",
       "      <td>NaN</td>\n",
       "      <td>Disrupt Beijing 2011</td>\n",
       "      <td>Contestant</td>\n",
       "      <td>Closed</td>\n",
       "    </tr>\n",
       "  </tbody>\n",
       "</table>\n",
       "<p>106 rows × 6 columns</p>\n",
       "</div>"
      ],
      "text/plain": [
       "       Startup        Product  Funding                      Event      Result  \\\n",
       "1         3DLT       3dlt.com    $630K           Disrupt NYC 2013  Contestant   \n",
       "11    AdRocket   adrocket.com      $1M                  TC50 2008  Contestant   \n",
       "17   AirDroids  airdroids.com  $929.2K  Hardware Battlefield 2014  Contestant   \n",
       "20       Akoha      akoha.com    $1.9M                  TC50 2008  Contestant   \n",
       "34   Appbistro  appbistro.com    $600K           Disrupt NYC 2010  Contestant   \n",
       "..         ...            ...      ...                        ...         ...   \n",
       "612    Verious    verious.com    $800K            Disrupt SF 2011  Contestant   \n",
       "614       VIDA        vida.fm      NaN       Disrupt Beijing 2011  Contestant   \n",
       "639       Wixi       wixi.com      NaN                  TC40 2007  Contestant   \n",
       "645        Yap      yapme.com     $10M                  TC40 2007  Contestant   \n",
       "652      Yuwan      iyuwan.cn      NaN       Disrupt Beijing 2011  Contestant   \n",
       "\n",
       "    OperatingState  \n",
       "1           Closed  \n",
       "11          Closed  \n",
       "17          Closed  \n",
       "20          Closed  \n",
       "34          Closed  \n",
       "..             ...  \n",
       "612         Closed  \n",
       "614         Closed  \n",
       "639         Closed  \n",
       "645         Closed  \n",
       "652         Closed  \n",
       "\n",
       "[106 rows x 6 columns]"
      ]
     },
     "metadata": {},
     "output_type": "display_data"
    },
    {
     "name": "stdout",
     "output_type": "stream",
     "text": [
      "\n",
      "a) False , difference between Funds raised by companies that are still operating vs companies that closed down.\n",
      "\n"
     ]
    }
   ],
   "source": [
    "# selecting rows based on condition\n",
    "rslt_df_operate = df[df['OperatingState']=='Operating']\n",
    "rslt_df_closed = df[df['OperatingState']=='Closed']\n",
    "dataframe1 = pd.DataFrame(rslt_df_operate)\n",
    "display(dataframe1)\n",
    "dataframe2 = pd.DataFrame(rslt_df_closed)\n",
    "display(dataframe2)\n",
    "dataframe2['Funding'].equals(dataframe1['Funding'])\n",
    "print('\\na) False , difference between Funds raised by companies that are still operating vs companies that closed down.\\n')"
   ]
  },
  {
   "cell_type": "markdown",
   "id": "bba149ee",
   "metadata": {},
   "source": [
    "#Q4 B Write the null hypothesis and alternative hypothesis"
   ]
  },
  {
   "cell_type": "markdown",
   "id": "65eef3c0",
   "metadata": {},
   "source": [
    "a)\n",
    "**null hypothesis** : The null hypothesis is the claim that there’s no effect in the population.<br>\n",
    "                      Statement of ‘no effect’ or ‘no difference’ or the “status quo”. Nothing new is happening.<br>\n",
    "                      Ho = Null Hypothesis<br>\n",
    "                      Signs used : = or >= or <=<br>\n",
    "                  \n",
    "**alternative hypothesis** : Statement/claim assumed to be true and we are trying to prove it to be true. Something new is                                    happening.<br>\n",
    "                             The alternative hypothesis is the opposite of null hypothesis.<br>\n",
    "                             Ha = Alternative Hypothesis<br>\n",
    "                             Signs used : ≠ or > or <<br>"
   ]
  },
  {
   "cell_type": "markdown",
   "id": "90386b66",
   "metadata": {},
   "source": [
    "#Q4 C Test for significance and conclusion"
   ]
  },
  {
   "cell_type": "markdown",
   "id": "1f18e728",
   "metadata": {},
   "source": [
    "a) **Test for significance** : A test of significance may be a formal process for comparing observed data with a claim \n",
    "                          (called a hypothesis), the reality of which is being assessed. \n",
    "                          It may be a statement with a few of the parameters, like the population proportion p or the population                           mean µ.\n",
    "                          Once the sample data has been collected through an experiment, statistical inference will allow the                             analysts to assess the evidence in favor or some claim about the population from which the sample has                           been taken from.\n",
    "Process of Significance Testing in Test of Significance\n",
    "\n",
    "1> Stating a Hypothesis for Research<br> \n",
    "2> Stating a Null Hypothesis<br> \n",
    "3> Selecting a Probability of Error Level<br> \n",
    "4> Selecting and Computing a Statistical Significance Test<br> \n",
    "5> Interpreting the results<br> \n",
    "\n",
    "                          \n",
    "**Conclusion** : The rejection region approach gives us the desired conclusion, it does not say anything about the strength of the evidence. Hence, statisticians prefer p-value approach which measures the strength of the evidence against the null hypothesis.\n",
    "\n",
    "For this approach, we need to follow the below steps.\n",
    "\n",
    "1> We choose a level of significance (α)<br> \n",
    "2> Then, we calculate the p-value.<br> \n",
    "3> We reject the null hypothesis if p-value ≤α. Else, we fail to reject the null hypothesis.<br> \n",
    "\n",
    "The p-value is the probability of finding the observed test statistic or more extreme results, under the null hypothesis.                 "
   ]
  },
  {
   "cell_type": "markdown",
   "id": "998691e5",
   "metadata": {},
   "source": [
    "#Q4 D Make a copy of the original data frame"
   ]
  },
  {
   "cell_type": "code",
   "execution_count": 255,
   "id": "da1475bc",
   "metadata": {},
   "outputs": [
    {
     "name": "stdout",
     "output_type": "stream",
     "text": [
      "a) copy of the original data frame is:\n",
      "              Startup             Product Funding             Event  \\\n",
      "0             2600Hz          2600hz.com     NaN   Disrupt SF 2013   \n",
      "1               3DLT            3dlt.com   $630K  Disrupt NYC 2013   \n",
      "2        3DPrinterOS     3dprinteros.com     NaN   Disrupt SF 2016   \n",
      "3         3Dprintler      3dprintler.com     $1M   Disrupt NY 2016   \n",
      "4    42 Technologies  42technologies.com     NaN  Disrupt NYC 2013   \n",
      "..               ...                 ...     ...               ...   \n",
      "657           Zivity          zivity.com     $8M         TC40 2007   \n",
      "658           Zmorph        zmorph3d.com     $1M                 -   \n",
      "659           Zocdoc          zocdoc.com   $223M         TC40 2007   \n",
      "660             Zula         zulaapp.com   $3.4M   Disrupt SF 2013   \n",
      "661           Zumper          zumper.com  $31.5M   Disrupt SF 2012   \n",
      "\n",
      "              Result OperatingState  \n",
      "0         Contestant      Operating  \n",
      "1         Contestant         Closed  \n",
      "2         Contestant      Operating  \n",
      "3    Audience choice      Operating  \n",
      "4         Contestant      Operating  \n",
      "..               ...            ...  \n",
      "657       Contestant      Operating  \n",
      "658  Audience choice      Operating  \n",
      "659       Contestant      Operating  \n",
      "660  Audience choice      Operating  \n",
      "661         Finalist      Operating  \n",
      "\n",
      "[662 rows x 6 columns]\n"
     ]
    }
   ],
   "source": [
    "df3 = df.copy() # Create duplicate of data\n",
    "print (\"a) copy of the original data frame\", \"is:\\n\", df3)"
   ]
  },
  {
   "cell_type": "markdown",
   "id": "a2799d75",
   "metadata": {},
   "source": [
    "#Q4 E Check frequency distribution of Result variables."
   ]
  },
  {
   "cell_type": "code",
   "execution_count": 256,
   "id": "bc300d4e",
   "metadata": {},
   "outputs": [
    {
     "name": "stdout",
     "output_type": "stream",
     "text": [
      "a) frequency distribution of Result variables is:\n",
      " Contestant         488\n",
      "Finalist            84\n",
      "Audience choice     41\n",
      "Winner              26\n",
      "Runner up           23\n",
      "Name: Result, dtype: int64\n"
     ]
    }
   ],
   "source": [
    "count1 = df['Result'].value_counts()\n",
    "print (\"a) frequency distribution of Result variables\", \"is:\\n\", count1)"
   ]
  },
  {
   "cell_type": "markdown",
   "id": "ef2ed825",
   "metadata": {},
   "source": [
    "#Q4 F Calculate percentage of winners that are still operating and percentage of contestants that are still operating"
   ]
  },
  {
   "cell_type": "code",
   "execution_count": 448,
   "id": "2ed27290",
   "metadata": {},
   "outputs": [
    {
     "name": "stdout",
     "output_type": "stream",
     "text": [
      "a) percentage of winners that are still operating is: 4% and percentage of contestants that are still operating is: 71%\n"
     ]
    }
   ],
   "source": [
    "operating=(df['OperatingState']=='Operating').value_counts()#465\n",
    "winner_operating=((df['Result']=='Winner')&(df['OperatingState']=='Operating')).value_counts()#19\n",
    "percentage_winner = (winner_operating[True]/operating[True])\n",
    "percentage_winner = f'{percentage_winner:.0%}'\n",
    "contestant_operating=((df['Result']=='Contestant')&(df['OperatingState']=='Operating')).value_counts()#332\n",
    "percentage_contestant_operating = (contestant_operating[True]/operating[True])\n",
    "percentage_contestant_operating = f'{percentage_contestant_operating:.0%}'\n",
    "print (\"a) percentage of winners that are still operating\", \"is:\",percentage_winner,\"and percentage of contestants that are still operating\", \"is:\", percentage_contestant_operating)"
   ]
  },
  {
   "cell_type": "markdown",
   "id": "cf64e9da",
   "metadata": {},
   "source": [
    "#Q4 G Write your hypothesis comparing the proportion of companies that are operating between winners and contestants:"
   ]
  },
  {
   "cell_type": "markdown",
   "id": "56180bdb",
   "metadata": {},
   "source": [
    "Null Hypothesis Ho = \"The proportions of companies between winnesr and contestants are equal\"\n",
    "Alternate Hypothesis Ha = \"The proportions of companies between winnesr and contestants are not equal\""
   ]
  },
  {
   "cell_type": "code",
   "execution_count": 524,
   "id": "1fef3f87",
   "metadata": {},
   "outputs": [
    {
     "name": "stdout",
     "output_type": "stream",
     "text": [
      "[19, 332] [26, 488]\n",
      " Proportion of companies in Winners,Contestants are = 0.73, 0.68\n"
     ]
    }
   ],
   "source": [
    "no_of_winner=(df['Result']=='Winner').value_counts()\n",
    "no_of_contestant=(df['Result']=='Contestant').value_counts()\n",
    "print([winner_operating[True], contestant_operating[True]] , [no_of_winner[True], no_of_contestant[True]])\n",
    "print(f' Proportion of companies in Winners,Contestants are = {round(winner_operating[True]/no_of_winner[True],2)}, {round(contestant_operating[True]/no_of_contestant[True],2)}')"
   ]
  },
  {
   "cell_type": "code",
   "execution_count": 527,
   "id": "b3c24abd",
   "metadata": {},
   "outputs": [
    {
     "name": "stdout",
     "output_type": "stream",
     "text": [
      "The z-test p value =  0.5902046211143621\n"
     ]
    }
   ],
   "source": [
    "from statsmodels.stats.proportion import proportions_ztest\n",
    "statistics, pval = proportions_ztest([winner_operating[True], contestant_operating[True]] , [no_of_winner[True], no_of_contestant[True]])\n",
    "print(\"The z-test p value = \", pval)"
   ]
  },
  {
   "cell_type": "markdown",
   "id": "ca1b0176",
   "metadata": {},
   "source": [
    "#Q4 H Test for significance and conclusion"
   ]
  },
  {
   "cell_type": "markdown",
   "id": "f43843c7",
   "metadata": {},
   "source": [
    "The p-value is greater than type 1 error rate, i.e : 1 < pval. We fail to reject the null hypothesis.\n",
    "Hence, there is no  significant difference in the two proportion of companies between winner vs contestants"
   ]
  },
  {
   "cell_type": "markdown",
   "id": "c3f010a2",
   "metadata": {},
   "source": [
    "#Q4 I Select only the Event that has ‘disrupt’ keyword from 2013 onwards."
   ]
  },
  {
   "cell_type": "code",
   "execution_count": 505,
   "id": "44c2d05c",
   "metadata": {},
   "outputs": [
    {
     "data": {
      "text/html": [
       "<div>\n",
       "<style scoped>\n",
       "    .dataframe tbody tr th:only-of-type {\n",
       "        vertical-align: middle;\n",
       "    }\n",
       "\n",
       "    .dataframe tbody tr th {\n",
       "        vertical-align: top;\n",
       "    }\n",
       "\n",
       "    .dataframe thead th {\n",
       "        text-align: right;\n",
       "    }\n",
       "</style>\n",
       "<table border=\"1\" class=\"dataframe\">\n",
       "  <thead>\n",
       "    <tr style=\"text-align: right;\">\n",
       "      <th></th>\n",
       "      <th>level_0</th>\n",
       "      <th>index</th>\n",
       "      <th>Startup</th>\n",
       "      <th>Product</th>\n",
       "      <th>Funding</th>\n",
       "      <th>Event</th>\n",
       "      <th>Result</th>\n",
       "      <th>OperatingState</th>\n",
       "      <th>Year</th>\n",
       "    </tr>\n",
       "  </thead>\n",
       "  <tbody>\n",
       "    <tr>\n",
       "      <th>0</th>\n",
       "      <td>0</td>\n",
       "      <td>0</td>\n",
       "      <td>2600Hz</td>\n",
       "      <td>2600hz.com</td>\n",
       "      <td>NaN</td>\n",
       "      <td>Disrupt SF 2013</td>\n",
       "      <td>Contestant</td>\n",
       "      <td>Operating</td>\n",
       "      <td>2013</td>\n",
       "    </tr>\n",
       "    <tr>\n",
       "      <th>1</th>\n",
       "      <td>1</td>\n",
       "      <td>1</td>\n",
       "      <td>3DLT</td>\n",
       "      <td>3dlt.com</td>\n",
       "      <td>$630K</td>\n",
       "      <td>Disrupt NYC 2013</td>\n",
       "      <td>Contestant</td>\n",
       "      <td>Closed</td>\n",
       "      <td>2013</td>\n",
       "    </tr>\n",
       "    <tr>\n",
       "      <th>2</th>\n",
       "      <td>2</td>\n",
       "      <td>2</td>\n",
       "      <td>3DPrinterOS</td>\n",
       "      <td>3dprinteros.com</td>\n",
       "      <td>NaN</td>\n",
       "      <td>Disrupt SF 2016</td>\n",
       "      <td>Contestant</td>\n",
       "      <td>Operating</td>\n",
       "      <td>2016</td>\n",
       "    </tr>\n",
       "    <tr>\n",
       "      <th>3</th>\n",
       "      <td>3</td>\n",
       "      <td>3</td>\n",
       "      <td>3Dprintler</td>\n",
       "      <td>3dprintler.com</td>\n",
       "      <td>$1M</td>\n",
       "      <td>Disrupt NY 2016</td>\n",
       "      <td>Audience choice</td>\n",
       "      <td>Operating</td>\n",
       "      <td>2016</td>\n",
       "    </tr>\n",
       "    <tr>\n",
       "      <th>4</th>\n",
       "      <td>4</td>\n",
       "      <td>4</td>\n",
       "      <td>42 Technologies</td>\n",
       "      <td>42technologies.com</td>\n",
       "      <td>NaN</td>\n",
       "      <td>Disrupt NYC 2013</td>\n",
       "      <td>Contestant</td>\n",
       "      <td>Operating</td>\n",
       "      <td>2013</td>\n",
       "    </tr>\n",
       "  </tbody>\n",
       "</table>\n",
       "</div>"
      ],
      "text/plain": [
       "   level_0  index          Startup             Product Funding  \\\n",
       "0        0      0           2600Hz          2600hz.com     NaN   \n",
       "1        1      1             3DLT            3dlt.com   $630K   \n",
       "2        2      2      3DPrinterOS     3dprinteros.com     NaN   \n",
       "3        3      3       3Dprintler      3dprintler.com     $1M   \n",
       "4        4      4  42 Technologies  42technologies.com     NaN   \n",
       "\n",
       "              Event           Result OperatingState  Year  \n",
       "0   Disrupt SF 2013       Contestant      Operating  2013  \n",
       "1  Disrupt NYC 2013       Contestant         Closed  2013  \n",
       "2   Disrupt SF 2016       Contestant      Operating  2016  \n",
       "3   Disrupt NY 2016  Audience choice      Operating  2016  \n",
       "4  Disrupt NYC 2013       Contestant      Operating  2013  "
      ]
     },
     "execution_count": 505,
     "metadata": {},
     "output_type": "execute_result"
    }
   ],
   "source": [
    "Events = df.copy()\n",
    "Events = Events[Events['Event'] != '-']\n",
    "Events\n",
    "def year_filter(event):  \n",
    "    # separate out the year part    \n",
    "    year = event[-4:]\n",
    "    return int(year)\n",
    "Events[\"Year\"] = Events[\"Event\"].apply(year_filter)\n",
    "Events.head()"
   ]
  },
  {
   "cell_type": "code",
   "execution_count": 508,
   "id": "7f891d0c",
   "metadata": {},
   "outputs": [
    {
     "data": {
      "text/html": [
       "<div>\n",
       "<style scoped>\n",
       "    .dataframe tbody tr th:only-of-type {\n",
       "        vertical-align: middle;\n",
       "    }\n",
       "\n",
       "    .dataframe tbody tr th {\n",
       "        vertical-align: top;\n",
       "    }\n",
       "\n",
       "    .dataframe thead th {\n",
       "        text-align: right;\n",
       "    }\n",
       "</style>\n",
       "<table border=\"1\" class=\"dataframe\">\n",
       "  <thead>\n",
       "    <tr style=\"text-align: right;\">\n",
       "      <th></th>\n",
       "      <th>level_0</th>\n",
       "      <th>index</th>\n",
       "      <th>Startup</th>\n",
       "      <th>Product</th>\n",
       "      <th>Funding</th>\n",
       "      <th>Event</th>\n",
       "      <th>Result</th>\n",
       "      <th>OperatingState</th>\n",
       "      <th>Year</th>\n",
       "    </tr>\n",
       "  </thead>\n",
       "  <tbody>\n",
       "    <tr>\n",
       "      <th>2</th>\n",
       "      <td>2</td>\n",
       "      <td>2</td>\n",
       "      <td>3DPrinterOS</td>\n",
       "      <td>3dprinteros.com</td>\n",
       "      <td>NaN</td>\n",
       "      <td>Disrupt SF 2016</td>\n",
       "      <td>Contestant</td>\n",
       "      <td>Operating</td>\n",
       "      <td>2016</td>\n",
       "    </tr>\n",
       "    <tr>\n",
       "      <th>3</th>\n",
       "      <td>3</td>\n",
       "      <td>3</td>\n",
       "      <td>3Dprintler</td>\n",
       "      <td>3dprintler.com</td>\n",
       "      <td>$1M</td>\n",
       "      <td>Disrupt NY 2016</td>\n",
       "      <td>Audience choice</td>\n",
       "      <td>Operating</td>\n",
       "      <td>2016</td>\n",
       "    </tr>\n",
       "    <tr>\n",
       "      <th>13</th>\n",
       "      <td>13</td>\n",
       "      <td>13</td>\n",
       "      <td>Agrilyst</td>\n",
       "      <td>agrilyst.com</td>\n",
       "      <td>$1M</td>\n",
       "      <td>Disrupt SF 2015</td>\n",
       "      <td>Winner</td>\n",
       "      <td>Operating</td>\n",
       "      <td>2015</td>\n",
       "    </tr>\n",
       "    <tr>\n",
       "      <th>14</th>\n",
       "      <td>14</td>\n",
       "      <td>14</td>\n",
       "      <td>Aiden</td>\n",
       "      <td>aiden.ai</td>\n",
       "      <td>$750K</td>\n",
       "      <td>Disrupt London 2016</td>\n",
       "      <td>Contestant</td>\n",
       "      <td>Operating</td>\n",
       "      <td>2016</td>\n",
       "    </tr>\n",
       "    <tr>\n",
       "      <th>16</th>\n",
       "      <td>16</td>\n",
       "      <td>16</td>\n",
       "      <td>Aircall</td>\n",
       "      <td>aircall.io</td>\n",
       "      <td>$11.6M</td>\n",
       "      <td>Disrupt SF 2015</td>\n",
       "      <td>Contestant</td>\n",
       "      <td>Operating</td>\n",
       "      <td>2015</td>\n",
       "    </tr>\n",
       "    <tr>\n",
       "      <th>...</th>\n",
       "      <td>...</td>\n",
       "      <td>...</td>\n",
       "      <td>...</td>\n",
       "      <td>...</td>\n",
       "      <td>...</td>\n",
       "      <td>...</td>\n",
       "      <td>...</td>\n",
       "      <td>...</td>\n",
       "      <td>...</td>\n",
       "    </tr>\n",
       "    <tr>\n",
       "      <th>635</th>\n",
       "      <td>635</td>\n",
       "      <td>635</td>\n",
       "      <td>Welltwigs</td>\n",
       "      <td>welltwigs.com</td>\n",
       "      <td>$50K</td>\n",
       "      <td>Disrupt NY 2015</td>\n",
       "      <td>Contestant</td>\n",
       "      <td>Operating</td>\n",
       "      <td>2015</td>\n",
       "    </tr>\n",
       "    <tr>\n",
       "      <th>642</th>\n",
       "      <td>642</td>\n",
       "      <td>642</td>\n",
       "      <td>Xendo</td>\n",
       "      <td>xendo.com</td>\n",
       "      <td>$28K</td>\n",
       "      <td>Disrupt SF 2014</td>\n",
       "      <td>Contestant</td>\n",
       "      <td>Acquired</td>\n",
       "      <td>2014</td>\n",
       "    </tr>\n",
       "    <tr>\n",
       "      <th>646</th>\n",
       "      <td>646</td>\n",
       "      <td>646</td>\n",
       "      <td>YayPay Inc</td>\n",
       "      <td>yaypay.com</td>\n",
       "      <td>$900K</td>\n",
       "      <td>Disrupt London 2015</td>\n",
       "      <td>Contestant</td>\n",
       "      <td>Operating</td>\n",
       "      <td>2015</td>\n",
       "    </tr>\n",
       "    <tr>\n",
       "      <th>648</th>\n",
       "      <td>648</td>\n",
       "      <td>648</td>\n",
       "      <td>YOOBIC</td>\n",
       "      <td>yoobic.com</td>\n",
       "      <td>NaN</td>\n",
       "      <td>Disrupt London 2015</td>\n",
       "      <td>Finalist</td>\n",
       "      <td>Operating</td>\n",
       "      <td>2015</td>\n",
       "    </tr>\n",
       "    <tr>\n",
       "      <th>653</th>\n",
       "      <td>653</td>\n",
       "      <td>653</td>\n",
       "      <td>ZAP!</td>\n",
       "      <td>zapreklam.com/</td>\n",
       "      <td>NaN</td>\n",
       "      <td>Disrupt EU 2014</td>\n",
       "      <td>Audience choice</td>\n",
       "      <td>Operating</td>\n",
       "      <td>2014</td>\n",
       "    </tr>\n",
       "  </tbody>\n",
       "</table>\n",
       "<p>199 rows × 9 columns</p>\n",
       "</div>"
      ],
      "text/plain": [
       "     level_0  index      Startup          Product Funding  \\\n",
       "2          2      2  3DPrinterOS  3dprinteros.com     NaN   \n",
       "3          3      3   3Dprintler   3dprintler.com     $1M   \n",
       "13        13     13     Agrilyst     agrilyst.com     $1M   \n",
       "14        14     14        Aiden         aiden.ai   $750K   \n",
       "16        16     16      Aircall       aircall.io  $11.6M   \n",
       "..       ...    ...          ...              ...     ...   \n",
       "635      635    635    Welltwigs    welltwigs.com    $50K   \n",
       "642      642    642        Xendo        xendo.com    $28K   \n",
       "646      646    646   YayPay Inc       yaypay.com   $900K   \n",
       "648      648    648       YOOBIC       yoobic.com     NaN   \n",
       "653      653    653         ZAP!   zapreklam.com/     NaN   \n",
       "\n",
       "                   Event           Result OperatingState  Year  \n",
       "2        Disrupt SF 2016       Contestant      Operating  2016  \n",
       "3        Disrupt NY 2016  Audience choice      Operating  2016  \n",
       "13       Disrupt SF 2015           Winner      Operating  2015  \n",
       "14   Disrupt London 2016       Contestant      Operating  2016  \n",
       "16       Disrupt SF 2015       Contestant      Operating  2015  \n",
       "..                   ...              ...            ...   ...  \n",
       "635      Disrupt NY 2015       Contestant      Operating  2015  \n",
       "642      Disrupt SF 2014       Contestant       Acquired  2014  \n",
       "646  Disrupt London 2015       Contestant      Operating  2015  \n",
       "648  Disrupt London 2015         Finalist      Operating  2015  \n",
       "653      Disrupt EU 2014  Audience choice      Operating  2014  \n",
       "\n",
       "[199 rows x 9 columns]"
      ]
     },
     "execution_count": 508,
     "metadata": {},
     "output_type": "execute_result"
    }
   ],
   "source": [
    "Events = Events[(Events['Event'].str.contains(\"Disrupt\")) & (Events['Year'] > 2013)]\n",
    "Events"
   ]
  }
 ],
 "metadata": {
  "kernelspec": {
   "display_name": "Python 3 (ipykernel)",
   "language": "python",
   "name": "python3"
  },
  "language_info": {
   "codemirror_mode": {
    "name": "ipython",
    "version": 3
   },
   "file_extension": ".py",
   "mimetype": "text/x-python",
   "name": "python",
   "nbconvert_exporter": "python",
   "pygments_lexer": "ipython3",
   "version": "3.9.12"
  }
 },
 "nbformat": 4,
 "nbformat_minor": 5
}
