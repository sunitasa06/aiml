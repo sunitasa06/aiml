{
 "cells": [
  {
   "cell_type": "markdown",
   "id": "dedcfe44",
   "metadata": {},
   "source": [
    "# Name : Sunita Samantasinghar\n",
    "### Post Graduate Program in Artificial Intelligence and Machine Learning\n",
    "2022-2023"
   ]
  },
  {
   "cell_type": "markdown",
   "id": "22118349",
   "metadata": {},
   "source": [
    "# Featurization, Model Selection & Tuning\n",
    "## Part A\n",
    "### • CONTEXT: \n",
    "A complex modern semiconductor manufacturing process is normally under constant surveillance via the monitoring of \n",
    "signals/variables collected from sensors and or process measurement points. However, not all of these signals are equally valuable in a specific monitoring system. The measured signals contain a combination of useful information, irrelevant information as well as noise. Engineers typically have a much larger number of signals than are actually required. If we consider each type of signal as a feature, then feature selection may be applied to identify the most relevant signals. The Process Engineers may then use these signals to determine key factors contributing to yield excursions downstream in the process. This will enable an increase in process throughput, decreased time to learning and reduce the per unit production costs. These signals can be used as features to predict the yield type. And by analysing and trying out different combinations of features, essential signals that are impacting the yield type can be identified."
   ]
  },
  {
   "cell_type": "markdown",
   "id": "af6aa15a",
   "metadata": {},
   "source": [
    "#### IMPORT ALL THE REQUIRED PACKAGES"
   ]
  },
  {
   "cell_type": "code",
   "execution_count": 1,
   "id": "553fbd4b",
   "metadata": {},
   "outputs": [
    {
     "name": "stderr",
     "output_type": "stream",
     "text": [
      "C:\\Users\\Datta\\anaconda3\\lib\\site-packages\\xgboost\\compat.py:36: FutureWarning: pandas.Int64Index is deprecated and will be removed from pandas in a future version. Use pandas.Index with the appropriate dtype instead.\n",
      "  from pandas import MultiIndex, Int64Index\n"
     ]
    }
   ],
   "source": [
    "import pandas as pd\n",
    "import os\n",
    "import numpy as np\n",
    "import seaborn as sns\n",
    "import matplotlib.pyplot as plt\n",
    "from matplotlib.gridspec import GridSpec\n",
    "from sklearn.model_selection import train_test_split\n",
    "from scipy.stats import zscore\n",
    "from sklearn.svm import SVC\n",
    "from sklearn.metrics import classification_report, confusion_matrix\n",
    "from sklearn.decomposition import PCA\n",
    "from sklearn.model_selection import GridSearchCV\n",
    "from sklearn.cluster import KMeans\n",
    "from sklearn.metrics import silhouette_samples, silhouette_score\n",
    "from mpl_toolkits.mplot3d import Axes3D\n",
    "from collections import Counter\n",
    "from statsmodels.stats.outliers_influence import variance_inflation_factor\n",
    "import statsmodels.api as sm\n",
    "from imblearn.over_sampling import RandomOverSampler\n",
    "from sklearn.preprocessing import MinMaxScaler, StandardScaler\n",
    "from sklearn import svm\n",
    "from sklearn.neighbors import KNeighborsClassifier\n",
    "from sklearn.model_selection import GridSearchCV, RandomizedSearchCV\n",
    "from sklearn.decomposition import PCA\n",
    "from sklearn.linear_model import LogisticRegression\n",
    "from sklearn.tree import DecisionTreeClassifier\n",
    "from sklearn.ensemble import RandomForestClassifier\n",
    "from sklearn.ensemble import BaggingClassifier\n",
    "from sklearn.ensemble import GradientBoostingClassifier\n",
    "from sklearn.ensemble import AdaBoostClassifier\n",
    "import xgboost as xgb\n",
    "from sklearn.pipeline import Pipeline"
   ]
  },
  {
   "cell_type": "markdown",
   "id": "29f01d46",
   "metadata": {},
   "source": [
    "#### Q1 A - Import ‘signal-data.csv’ as DataFrame."
   ]
  },
  {
   "cell_type": "code",
   "execution_count": 2,
   "id": "520e39e4",
   "metadata": {},
   "outputs": [
    {
     "data": {
      "text/html": [
       "<div>\n",
       "<style scoped>\n",
       "    .dataframe tbody tr th:only-of-type {\n",
       "        vertical-align: middle;\n",
       "    }\n",
       "\n",
       "    .dataframe tbody tr th {\n",
       "        vertical-align: top;\n",
       "    }\n",
       "\n",
       "    .dataframe thead th {\n",
       "        text-align: right;\n",
       "    }\n",
       "</style>\n",
       "<table border=\"1\" class=\"dataframe\">\n",
       "  <thead>\n",
       "    <tr style=\"text-align: right;\">\n",
       "      <th></th>\n",
       "      <th>Time</th>\n",
       "      <th>0</th>\n",
       "      <th>1</th>\n",
       "      <th>2</th>\n",
       "      <th>3</th>\n",
       "      <th>4</th>\n",
       "      <th>5</th>\n",
       "      <th>6</th>\n",
       "      <th>7</th>\n",
       "      <th>8</th>\n",
       "      <th>...</th>\n",
       "      <th>581</th>\n",
       "      <th>582</th>\n",
       "      <th>583</th>\n",
       "      <th>584</th>\n",
       "      <th>585</th>\n",
       "      <th>586</th>\n",
       "      <th>587</th>\n",
       "      <th>588</th>\n",
       "      <th>589</th>\n",
       "      <th>Pass/Fail</th>\n",
       "    </tr>\n",
       "  </thead>\n",
       "  <tbody>\n",
       "    <tr>\n",
       "      <th>0</th>\n",
       "      <td>2008-07-19 11:55:00</td>\n",
       "      <td>3030.93</td>\n",
       "      <td>2564.00</td>\n",
       "      <td>2187.7333</td>\n",
       "      <td>1411.1265</td>\n",
       "      <td>1.3602</td>\n",
       "      <td>100.0</td>\n",
       "      <td>97.6133</td>\n",
       "      <td>0.1242</td>\n",
       "      <td>1.5005</td>\n",
       "      <td>...</td>\n",
       "      <td>NaN</td>\n",
       "      <td>0.5005</td>\n",
       "      <td>0.0118</td>\n",
       "      <td>0.0035</td>\n",
       "      <td>2.3630</td>\n",
       "      <td>NaN</td>\n",
       "      <td>NaN</td>\n",
       "      <td>NaN</td>\n",
       "      <td>NaN</td>\n",
       "      <td>-1</td>\n",
       "    </tr>\n",
       "    <tr>\n",
       "      <th>1</th>\n",
       "      <td>2008-07-19 12:32:00</td>\n",
       "      <td>3095.78</td>\n",
       "      <td>2465.14</td>\n",
       "      <td>2230.4222</td>\n",
       "      <td>1463.6606</td>\n",
       "      <td>0.8294</td>\n",
       "      <td>100.0</td>\n",
       "      <td>102.3433</td>\n",
       "      <td>0.1247</td>\n",
       "      <td>1.4966</td>\n",
       "      <td>...</td>\n",
       "      <td>208.2045</td>\n",
       "      <td>0.5019</td>\n",
       "      <td>0.0223</td>\n",
       "      <td>0.0055</td>\n",
       "      <td>4.4447</td>\n",
       "      <td>0.0096</td>\n",
       "      <td>0.0201</td>\n",
       "      <td>0.0060</td>\n",
       "      <td>208.2045</td>\n",
       "      <td>-1</td>\n",
       "    </tr>\n",
       "    <tr>\n",
       "      <th>2</th>\n",
       "      <td>2008-07-19 13:17:00</td>\n",
       "      <td>2932.61</td>\n",
       "      <td>2559.94</td>\n",
       "      <td>2186.4111</td>\n",
       "      <td>1698.0172</td>\n",
       "      <td>1.5102</td>\n",
       "      <td>100.0</td>\n",
       "      <td>95.4878</td>\n",
       "      <td>0.1241</td>\n",
       "      <td>1.4436</td>\n",
       "      <td>...</td>\n",
       "      <td>82.8602</td>\n",
       "      <td>0.4958</td>\n",
       "      <td>0.0157</td>\n",
       "      <td>0.0039</td>\n",
       "      <td>3.1745</td>\n",
       "      <td>0.0584</td>\n",
       "      <td>0.0484</td>\n",
       "      <td>0.0148</td>\n",
       "      <td>82.8602</td>\n",
       "      <td>1</td>\n",
       "    </tr>\n",
       "    <tr>\n",
       "      <th>3</th>\n",
       "      <td>2008-07-19 14:43:00</td>\n",
       "      <td>2988.72</td>\n",
       "      <td>2479.90</td>\n",
       "      <td>2199.0333</td>\n",
       "      <td>909.7926</td>\n",
       "      <td>1.3204</td>\n",
       "      <td>100.0</td>\n",
       "      <td>104.2367</td>\n",
       "      <td>0.1217</td>\n",
       "      <td>1.4882</td>\n",
       "      <td>...</td>\n",
       "      <td>73.8432</td>\n",
       "      <td>0.4990</td>\n",
       "      <td>0.0103</td>\n",
       "      <td>0.0025</td>\n",
       "      <td>2.0544</td>\n",
       "      <td>0.0202</td>\n",
       "      <td>0.0149</td>\n",
       "      <td>0.0044</td>\n",
       "      <td>73.8432</td>\n",
       "      <td>-1</td>\n",
       "    </tr>\n",
       "    <tr>\n",
       "      <th>4</th>\n",
       "      <td>2008-07-19 15:22:00</td>\n",
       "      <td>3032.24</td>\n",
       "      <td>2502.87</td>\n",
       "      <td>2233.3667</td>\n",
       "      <td>1326.5200</td>\n",
       "      <td>1.5334</td>\n",
       "      <td>100.0</td>\n",
       "      <td>100.3967</td>\n",
       "      <td>0.1235</td>\n",
       "      <td>1.5031</td>\n",
       "      <td>...</td>\n",
       "      <td>NaN</td>\n",
       "      <td>0.4800</td>\n",
       "      <td>0.4766</td>\n",
       "      <td>0.1045</td>\n",
       "      <td>99.3032</td>\n",
       "      <td>0.0202</td>\n",
       "      <td>0.0149</td>\n",
       "      <td>0.0044</td>\n",
       "      <td>73.8432</td>\n",
       "      <td>-1</td>\n",
       "    </tr>\n",
       "  </tbody>\n",
       "</table>\n",
       "<p>5 rows × 592 columns</p>\n",
       "</div>"
      ],
      "text/plain": [
       "                  Time        0        1          2          3       4      5  \\\n",
       "0  2008-07-19 11:55:00  3030.93  2564.00  2187.7333  1411.1265  1.3602  100.0   \n",
       "1  2008-07-19 12:32:00  3095.78  2465.14  2230.4222  1463.6606  0.8294  100.0   \n",
       "2  2008-07-19 13:17:00  2932.61  2559.94  2186.4111  1698.0172  1.5102  100.0   \n",
       "3  2008-07-19 14:43:00  2988.72  2479.90  2199.0333   909.7926  1.3204  100.0   \n",
       "4  2008-07-19 15:22:00  3032.24  2502.87  2233.3667  1326.5200  1.5334  100.0   \n",
       "\n",
       "          6       7       8  ...       581     582     583     584      585  \\\n",
       "0   97.6133  0.1242  1.5005  ...       NaN  0.5005  0.0118  0.0035   2.3630   \n",
       "1  102.3433  0.1247  1.4966  ...  208.2045  0.5019  0.0223  0.0055   4.4447   \n",
       "2   95.4878  0.1241  1.4436  ...   82.8602  0.4958  0.0157  0.0039   3.1745   \n",
       "3  104.2367  0.1217  1.4882  ...   73.8432  0.4990  0.0103  0.0025   2.0544   \n",
       "4  100.3967  0.1235  1.5031  ...       NaN  0.4800  0.4766  0.1045  99.3032   \n",
       "\n",
       "      586     587     588       589  Pass/Fail  \n",
       "0     NaN     NaN     NaN       NaN         -1  \n",
       "1  0.0096  0.0201  0.0060  208.2045         -1  \n",
       "2  0.0584  0.0484  0.0148   82.8602          1  \n",
       "3  0.0202  0.0149  0.0044   73.8432         -1  \n",
       "4  0.0202  0.0149  0.0044   73.8432         -1  \n",
       "\n",
       "[5 rows x 592 columns]"
      ]
     },
     "execution_count": 2,
     "metadata": {},
     "output_type": "execute_result"
    }
   ],
   "source": [
    "signal_data=pd.read_csv(r'C:\\Users\\Datta\\Downloads\\signal-data.csv')\n",
    "signal_data.head()"
   ]
  },
  {
   "cell_type": "code",
   "execution_count": 3,
   "id": "7cf68a4c",
   "metadata": {},
   "outputs": [
    {
     "data": {
      "text/plain": [
       "Time          object\n",
       "0            float64\n",
       "1            float64\n",
       "2            float64\n",
       "3            float64\n",
       "              ...   \n",
       "586          float64\n",
       "587          float64\n",
       "588          float64\n",
       "589          float64\n",
       "Pass/Fail      int64\n",
       "Length: 592, dtype: object"
      ]
     },
     "execution_count": 3,
     "metadata": {},
     "output_type": "execute_result"
    }
   ],
   "source": [
    "signal_data.dtypes"
   ]
  },
  {
   "cell_type": "code",
   "execution_count": 4,
   "id": "f5078d8d",
   "metadata": {},
   "outputs": [
    {
     "data": {
      "text/plain": [
       "(1567, 592)"
      ]
     },
     "execution_count": 4,
     "metadata": {},
     "output_type": "execute_result"
    }
   ],
   "source": [
    "signal_data.shape"
   ]
  },
  {
   "cell_type": "markdown",
   "id": "113d230a",
   "metadata": {},
   "source": [
    "#### Q1 - Print 5 point summary and share at least 2 observations."
   ]
  },
  {
   "cell_type": "code",
   "execution_count": 5,
   "id": "b0953312",
   "metadata": {
    "scrolled": true
   },
   "outputs": [
    {
     "data": {
      "text/html": [
       "<div>\n",
       "<style scoped>\n",
       "    .dataframe tbody tr th:only-of-type {\n",
       "        vertical-align: middle;\n",
       "    }\n",
       "\n",
       "    .dataframe tbody tr th {\n",
       "        vertical-align: top;\n",
       "    }\n",
       "\n",
       "    .dataframe thead th {\n",
       "        text-align: right;\n",
       "    }\n",
       "</style>\n",
       "<table border=\"1\" class=\"dataframe\">\n",
       "  <thead>\n",
       "    <tr style=\"text-align: right;\">\n",
       "      <th></th>\n",
       "      <th>0</th>\n",
       "      <th>1</th>\n",
       "      <th>2</th>\n",
       "      <th>3</th>\n",
       "      <th>4</th>\n",
       "      <th>5</th>\n",
       "      <th>6</th>\n",
       "      <th>7</th>\n",
       "      <th>8</th>\n",
       "      <th>9</th>\n",
       "      <th>...</th>\n",
       "      <th>581</th>\n",
       "      <th>582</th>\n",
       "      <th>583</th>\n",
       "      <th>584</th>\n",
       "      <th>585</th>\n",
       "      <th>586</th>\n",
       "      <th>587</th>\n",
       "      <th>588</th>\n",
       "      <th>589</th>\n",
       "      <th>Pass/Fail</th>\n",
       "    </tr>\n",
       "  </thead>\n",
       "  <tbody>\n",
       "    <tr>\n",
       "      <th>count</th>\n",
       "      <td>1561.000000</td>\n",
       "      <td>1560.000000</td>\n",
       "      <td>1553.000000</td>\n",
       "      <td>1553.000000</td>\n",
       "      <td>1553.000000</td>\n",
       "      <td>1553.0</td>\n",
       "      <td>1553.000000</td>\n",
       "      <td>1558.000000</td>\n",
       "      <td>1565.000000</td>\n",
       "      <td>1565.000000</td>\n",
       "      <td>...</td>\n",
       "      <td>618.000000</td>\n",
       "      <td>1566.000000</td>\n",
       "      <td>1566.000000</td>\n",
       "      <td>1566.000000</td>\n",
       "      <td>1566.000000</td>\n",
       "      <td>1566.000000</td>\n",
       "      <td>1566.000000</td>\n",
       "      <td>1566.000000</td>\n",
       "      <td>1566.000000</td>\n",
       "      <td>1567.000000</td>\n",
       "    </tr>\n",
       "    <tr>\n",
       "      <th>mean</th>\n",
       "      <td>3014.452896</td>\n",
       "      <td>2495.850231</td>\n",
       "      <td>2200.547318</td>\n",
       "      <td>1396.376627</td>\n",
       "      <td>4.197013</td>\n",
       "      <td>100.0</td>\n",
       "      <td>101.112908</td>\n",
       "      <td>0.121822</td>\n",
       "      <td>1.462862</td>\n",
       "      <td>-0.000841</td>\n",
       "      <td>...</td>\n",
       "      <td>97.934373</td>\n",
       "      <td>0.500096</td>\n",
       "      <td>0.015318</td>\n",
       "      <td>0.003847</td>\n",
       "      <td>3.067826</td>\n",
       "      <td>0.021458</td>\n",
       "      <td>0.016475</td>\n",
       "      <td>0.005283</td>\n",
       "      <td>99.670066</td>\n",
       "      <td>-0.867262</td>\n",
       "    </tr>\n",
       "    <tr>\n",
       "      <th>std</th>\n",
       "      <td>73.621787</td>\n",
       "      <td>80.407705</td>\n",
       "      <td>29.513152</td>\n",
       "      <td>441.691640</td>\n",
       "      <td>56.355540</td>\n",
       "      <td>0.0</td>\n",
       "      <td>6.237214</td>\n",
       "      <td>0.008961</td>\n",
       "      <td>0.073897</td>\n",
       "      <td>0.015116</td>\n",
       "      <td>...</td>\n",
       "      <td>87.520966</td>\n",
       "      <td>0.003404</td>\n",
       "      <td>0.017180</td>\n",
       "      <td>0.003720</td>\n",
       "      <td>3.578033</td>\n",
       "      <td>0.012358</td>\n",
       "      <td>0.008808</td>\n",
       "      <td>0.002867</td>\n",
       "      <td>93.891919</td>\n",
       "      <td>0.498010</td>\n",
       "    </tr>\n",
       "    <tr>\n",
       "      <th>min</th>\n",
       "      <td>2743.240000</td>\n",
       "      <td>2158.750000</td>\n",
       "      <td>2060.660000</td>\n",
       "      <td>0.000000</td>\n",
       "      <td>0.681500</td>\n",
       "      <td>100.0</td>\n",
       "      <td>82.131100</td>\n",
       "      <td>0.000000</td>\n",
       "      <td>1.191000</td>\n",
       "      <td>-0.053400</td>\n",
       "      <td>...</td>\n",
       "      <td>0.000000</td>\n",
       "      <td>0.477800</td>\n",
       "      <td>0.006000</td>\n",
       "      <td>0.001700</td>\n",
       "      <td>1.197500</td>\n",
       "      <td>-0.016900</td>\n",
       "      <td>0.003200</td>\n",
       "      <td>0.001000</td>\n",
       "      <td>0.000000</td>\n",
       "      <td>-1.000000</td>\n",
       "    </tr>\n",
       "    <tr>\n",
       "      <th>25%</th>\n",
       "      <td>2966.260000</td>\n",
       "      <td>2452.247500</td>\n",
       "      <td>2181.044400</td>\n",
       "      <td>1081.875800</td>\n",
       "      <td>1.017700</td>\n",
       "      <td>100.0</td>\n",
       "      <td>97.920000</td>\n",
       "      <td>0.121100</td>\n",
       "      <td>1.411200</td>\n",
       "      <td>-0.010800</td>\n",
       "      <td>...</td>\n",
       "      <td>46.184900</td>\n",
       "      <td>0.497900</td>\n",
       "      <td>0.011600</td>\n",
       "      <td>0.003100</td>\n",
       "      <td>2.306500</td>\n",
       "      <td>0.013425</td>\n",
       "      <td>0.010600</td>\n",
       "      <td>0.003300</td>\n",
       "      <td>44.368600</td>\n",
       "      <td>-1.000000</td>\n",
       "    </tr>\n",
       "    <tr>\n",
       "      <th>50%</th>\n",
       "      <td>3011.490000</td>\n",
       "      <td>2499.405000</td>\n",
       "      <td>2201.066700</td>\n",
       "      <td>1285.214400</td>\n",
       "      <td>1.316800</td>\n",
       "      <td>100.0</td>\n",
       "      <td>101.512200</td>\n",
       "      <td>0.122400</td>\n",
       "      <td>1.461600</td>\n",
       "      <td>-0.001300</td>\n",
       "      <td>...</td>\n",
       "      <td>72.288900</td>\n",
       "      <td>0.500200</td>\n",
       "      <td>0.013800</td>\n",
       "      <td>0.003600</td>\n",
       "      <td>2.757650</td>\n",
       "      <td>0.020500</td>\n",
       "      <td>0.014800</td>\n",
       "      <td>0.004600</td>\n",
       "      <td>71.900500</td>\n",
       "      <td>-1.000000</td>\n",
       "    </tr>\n",
       "    <tr>\n",
       "      <th>75%</th>\n",
       "      <td>3056.650000</td>\n",
       "      <td>2538.822500</td>\n",
       "      <td>2218.055500</td>\n",
       "      <td>1591.223500</td>\n",
       "      <td>1.525700</td>\n",
       "      <td>100.0</td>\n",
       "      <td>104.586700</td>\n",
       "      <td>0.123800</td>\n",
       "      <td>1.516900</td>\n",
       "      <td>0.008400</td>\n",
       "      <td>...</td>\n",
       "      <td>116.539150</td>\n",
       "      <td>0.502375</td>\n",
       "      <td>0.016500</td>\n",
       "      <td>0.004100</td>\n",
       "      <td>3.295175</td>\n",
       "      <td>0.027600</td>\n",
       "      <td>0.020300</td>\n",
       "      <td>0.006400</td>\n",
       "      <td>114.749700</td>\n",
       "      <td>-1.000000</td>\n",
       "    </tr>\n",
       "    <tr>\n",
       "      <th>max</th>\n",
       "      <td>3356.350000</td>\n",
       "      <td>2846.440000</td>\n",
       "      <td>2315.266700</td>\n",
       "      <td>3715.041700</td>\n",
       "      <td>1114.536600</td>\n",
       "      <td>100.0</td>\n",
       "      <td>129.252200</td>\n",
       "      <td>0.128600</td>\n",
       "      <td>1.656400</td>\n",
       "      <td>0.074900</td>\n",
       "      <td>...</td>\n",
       "      <td>737.304800</td>\n",
       "      <td>0.509800</td>\n",
       "      <td>0.476600</td>\n",
       "      <td>0.104500</td>\n",
       "      <td>99.303200</td>\n",
       "      <td>0.102800</td>\n",
       "      <td>0.079900</td>\n",
       "      <td>0.028600</td>\n",
       "      <td>737.304800</td>\n",
       "      <td>1.000000</td>\n",
       "    </tr>\n",
       "  </tbody>\n",
       "</table>\n",
       "<p>8 rows × 591 columns</p>\n",
       "</div>"
      ],
      "text/plain": [
       "                 0            1            2            3            4  \\\n",
       "count  1561.000000  1560.000000  1553.000000  1553.000000  1553.000000   \n",
       "mean   3014.452896  2495.850231  2200.547318  1396.376627     4.197013   \n",
       "std      73.621787    80.407705    29.513152   441.691640    56.355540   \n",
       "min    2743.240000  2158.750000  2060.660000     0.000000     0.681500   \n",
       "25%    2966.260000  2452.247500  2181.044400  1081.875800     1.017700   \n",
       "50%    3011.490000  2499.405000  2201.066700  1285.214400     1.316800   \n",
       "75%    3056.650000  2538.822500  2218.055500  1591.223500     1.525700   \n",
       "max    3356.350000  2846.440000  2315.266700  3715.041700  1114.536600   \n",
       "\n",
       "            5            6            7            8            9  ...  \\\n",
       "count  1553.0  1553.000000  1558.000000  1565.000000  1565.000000  ...   \n",
       "mean    100.0   101.112908     0.121822     1.462862    -0.000841  ...   \n",
       "std       0.0     6.237214     0.008961     0.073897     0.015116  ...   \n",
       "min     100.0    82.131100     0.000000     1.191000    -0.053400  ...   \n",
       "25%     100.0    97.920000     0.121100     1.411200    -0.010800  ...   \n",
       "50%     100.0   101.512200     0.122400     1.461600    -0.001300  ...   \n",
       "75%     100.0   104.586700     0.123800     1.516900     0.008400  ...   \n",
       "max     100.0   129.252200     0.128600     1.656400     0.074900  ...   \n",
       "\n",
       "              581          582          583          584          585  \\\n",
       "count  618.000000  1566.000000  1566.000000  1566.000000  1566.000000   \n",
       "mean    97.934373     0.500096     0.015318     0.003847     3.067826   \n",
       "std     87.520966     0.003404     0.017180     0.003720     3.578033   \n",
       "min      0.000000     0.477800     0.006000     0.001700     1.197500   \n",
       "25%     46.184900     0.497900     0.011600     0.003100     2.306500   \n",
       "50%     72.288900     0.500200     0.013800     0.003600     2.757650   \n",
       "75%    116.539150     0.502375     0.016500     0.004100     3.295175   \n",
       "max    737.304800     0.509800     0.476600     0.104500    99.303200   \n",
       "\n",
       "               586          587          588          589    Pass/Fail  \n",
       "count  1566.000000  1566.000000  1566.000000  1566.000000  1567.000000  \n",
       "mean      0.021458     0.016475     0.005283    99.670066    -0.867262  \n",
       "std       0.012358     0.008808     0.002867    93.891919     0.498010  \n",
       "min      -0.016900     0.003200     0.001000     0.000000    -1.000000  \n",
       "25%       0.013425     0.010600     0.003300    44.368600    -1.000000  \n",
       "50%       0.020500     0.014800     0.004600    71.900500    -1.000000  \n",
       "75%       0.027600     0.020300     0.006400   114.749700    -1.000000  \n",
       "max       0.102800     0.079900     0.028600   737.304800     1.000000  \n",
       "\n",
       "[8 rows x 591 columns]"
      ]
     },
     "execution_count": 5,
     "metadata": {},
     "output_type": "execute_result"
    }
   ],
   "source": [
    "signal_data.describe()"
   ]
  },
  {
   "cell_type": "code",
   "execution_count": 6,
   "id": "a8eb07cc",
   "metadata": {},
   "outputs": [
    {
     "data": {
      "text/plain": [
       "float64    590\n",
       "object       1\n",
       "int64        1\n",
       "dtype: int64"
      ]
     },
     "execution_count": 6,
     "metadata": {},
     "output_type": "execute_result"
    }
   ],
   "source": [
    "signal_data.dtypes.value_counts()"
   ]
  },
  {
   "cell_type": "code",
   "execution_count": 7,
   "id": "c73713e8",
   "metadata": {},
   "outputs": [
    {
     "data": {
      "text/plain": [
       "Counter({-1: 1463, 1: 104})"
      ]
     },
     "execution_count": 7,
     "metadata": {},
     "output_type": "execute_result"
    }
   ],
   "source": [
    "Counter(signal_data['Pass/Fail'])"
   ]
  },
  {
   "cell_type": "markdown",
   "id": "172aafe0",
   "metadata": {},
   "source": [
    "**Observations :**\n",
    "- 104 vlaues belong to the fail Category and 1463 to Pass."
   ]
  },
  {
   "cell_type": "markdown",
   "id": "028ef319",
   "metadata": {},
   "source": [
    "#### Q2 A - Write a for loop which will remove all the features with 20%+ Null values and impute rest with mean of the feature."
   ]
  },
  {
   "cell_type": "code",
   "execution_count": 8,
   "id": "94ec6731",
   "metadata": {},
   "outputs": [
    {
     "name": "stderr",
     "output_type": "stream",
     "text": [
      "C:\\Users\\Datta\\AppData\\Local\\Temp\\ipykernel_11448\\3450448008.py:6: SettingWithCopyWarning: \n",
      "A value is trying to be set on a copy of a slice from a DataFrame\n",
      "\n",
      "See the caveats in the documentation: https://pandas.pydata.org/pandas-docs/stable/user_guide/indexing.html#returning-a-view-versus-a-copy\n",
      "  signal_df_modified[i].fillna(signal_df_modified[i].mean(),inplace= True)\n"
     ]
    },
    {
     "data": {
      "text/plain": [
       "(1567, 560)"
      ]
     },
     "execution_count": 8,
     "metadata": {},
     "output_type": "execute_result"
    }
   ],
   "source": [
    "perc = 20.0                                                                      #Answer\n",
    "min_count =  int(((100-perc)/100)*signal_data.shape[0] + 1)\n",
    "signal_df_modified = signal_data.dropna( axis=1, thresh=min_count)\n",
    "\n",
    "for i in signal_df_modified.columns[signal_df_modified.isnull().any(axis=0)]:     \n",
    "    signal_df_modified[i].fillna(signal_df_modified[i].mean(),inplace= True)\n",
    "signal_df_modified.shape"
   ]
  },
  {
   "cell_type": "code",
   "execution_count": 9,
   "id": "75afcdfc",
   "metadata": {},
   "outputs": [
    {
     "data": {
      "text/plain": [
       "Time         0\n",
       "0            0\n",
       "1            0\n",
       "2            0\n",
       "3            0\n",
       "            ..\n",
       "586          0\n",
       "587          0\n",
       "588          0\n",
       "589          0\n",
       "Pass/Fail    0\n",
       "Length: 560, dtype: int64"
      ]
     },
     "execution_count": 9,
     "metadata": {},
     "output_type": "execute_result"
    }
   ],
   "source": [
    "signal_df_modified.isna().sum()"
   ]
  },
  {
   "cell_type": "markdown",
   "id": "462ca2b4",
   "metadata": {},
   "source": [
    "#### Q2 B - Identify and drop the features which are having same value for all the rows."
   ]
  },
  {
   "cell_type": "code",
   "execution_count": 10,
   "id": "55976376",
   "metadata": {},
   "outputs": [
    {
     "name": "stderr",
     "output_type": "stream",
     "text": [
      "C:\\Users\\Datta\\AppData\\Local\\Temp\\ipykernel_11448\\1878644053.py:1: SettingWithCopyWarning: \n",
      "A value is trying to be set on a copy of a slice from a DataFrame\n",
      "\n",
      "See the caveats in the documentation: https://pandas.pydata.org/pandas-docs/stable/user_guide/indexing.html#returning-a-view-versus-a-copy\n",
      "  signal_df_modified.drop('Time', axis= 1, inplace= True)\n"
     ]
    }
   ],
   "source": [
    "signal_df_modified.drop('Time', axis= 1, inplace= True)"
   ]
  },
  {
   "cell_type": "code",
   "execution_count": 11,
   "id": "7bf6d461",
   "metadata": {},
   "outputs": [
    {
     "data": {
      "text/plain": [
       "(1567, 559)"
      ]
     },
     "execution_count": 11,
     "metadata": {},
     "output_type": "execute_result"
    }
   ],
   "source": [
    "signal_df_modified.shape"
   ]
  },
  {
   "cell_type": "code",
   "execution_count": 12,
   "id": "a6325756",
   "metadata": {},
   "outputs": [
    {
     "data": {
      "text/html": [
       "<div>\n",
       "<style scoped>\n",
       "    .dataframe tbody tr th:only-of-type {\n",
       "        vertical-align: middle;\n",
       "    }\n",
       "\n",
       "    .dataframe tbody tr th {\n",
       "        vertical-align: top;\n",
       "    }\n",
       "\n",
       "    .dataframe thead th {\n",
       "        text-align: right;\n",
       "    }\n",
       "</style>\n",
       "<table border=\"1\" class=\"dataframe\">\n",
       "  <thead>\n",
       "    <tr style=\"text-align: right;\">\n",
       "      <th></th>\n",
       "      <th>0</th>\n",
       "      <th>1</th>\n",
       "      <th>2</th>\n",
       "      <th>3</th>\n",
       "      <th>4</th>\n",
       "      <th>5</th>\n",
       "      <th>6</th>\n",
       "      <th>7</th>\n",
       "      <th>8</th>\n",
       "      <th>9</th>\n",
       "      <th>...</th>\n",
       "      <th>577</th>\n",
       "      <th>582</th>\n",
       "      <th>583</th>\n",
       "      <th>584</th>\n",
       "      <th>585</th>\n",
       "      <th>586</th>\n",
       "      <th>587</th>\n",
       "      <th>588</th>\n",
       "      <th>589</th>\n",
       "      <th>Pass/Fail</th>\n",
       "    </tr>\n",
       "  </thead>\n",
       "  <tbody>\n",
       "    <tr>\n",
       "      <th>0</th>\n",
       "      <td>3030.93</td>\n",
       "      <td>2564.00</td>\n",
       "      <td>2187.7333</td>\n",
       "      <td>1411.1265</td>\n",
       "      <td>1.3602</td>\n",
       "      <td>100.0</td>\n",
       "      <td>97.6133</td>\n",
       "      <td>0.1242</td>\n",
       "      <td>1.5005</td>\n",
       "      <td>0.0162</td>\n",
       "      <td>...</td>\n",
       "      <td>14.9509</td>\n",
       "      <td>0.5005</td>\n",
       "      <td>0.0118</td>\n",
       "      <td>0.0035</td>\n",
       "      <td>2.3630</td>\n",
       "      <td>0.021458</td>\n",
       "      <td>0.016475</td>\n",
       "      <td>0.005283</td>\n",
       "      <td>99.670066</td>\n",
       "      <td>-1</td>\n",
       "    </tr>\n",
       "    <tr>\n",
       "      <th>1</th>\n",
       "      <td>3095.78</td>\n",
       "      <td>2465.14</td>\n",
       "      <td>2230.4222</td>\n",
       "      <td>1463.6606</td>\n",
       "      <td>0.8294</td>\n",
       "      <td>100.0</td>\n",
       "      <td>102.3433</td>\n",
       "      <td>0.1247</td>\n",
       "      <td>1.4966</td>\n",
       "      <td>-0.0005</td>\n",
       "      <td>...</td>\n",
       "      <td>10.9003</td>\n",
       "      <td>0.5019</td>\n",
       "      <td>0.0223</td>\n",
       "      <td>0.0055</td>\n",
       "      <td>4.4447</td>\n",
       "      <td>0.009600</td>\n",
       "      <td>0.020100</td>\n",
       "      <td>0.006000</td>\n",
       "      <td>208.204500</td>\n",
       "      <td>-1</td>\n",
       "    </tr>\n",
       "    <tr>\n",
       "      <th>2</th>\n",
       "      <td>2932.61</td>\n",
       "      <td>2559.94</td>\n",
       "      <td>2186.4111</td>\n",
       "      <td>1698.0172</td>\n",
       "      <td>1.5102</td>\n",
       "      <td>100.0</td>\n",
       "      <td>95.4878</td>\n",
       "      <td>0.1241</td>\n",
       "      <td>1.4436</td>\n",
       "      <td>0.0041</td>\n",
       "      <td>...</td>\n",
       "      <td>9.2721</td>\n",
       "      <td>0.4958</td>\n",
       "      <td>0.0157</td>\n",
       "      <td>0.0039</td>\n",
       "      <td>3.1745</td>\n",
       "      <td>0.058400</td>\n",
       "      <td>0.048400</td>\n",
       "      <td>0.014800</td>\n",
       "      <td>82.860200</td>\n",
       "      <td>1</td>\n",
       "    </tr>\n",
       "    <tr>\n",
       "      <th>3</th>\n",
       "      <td>2988.72</td>\n",
       "      <td>2479.90</td>\n",
       "      <td>2199.0333</td>\n",
       "      <td>909.7926</td>\n",
       "      <td>1.3204</td>\n",
       "      <td>100.0</td>\n",
       "      <td>104.2367</td>\n",
       "      <td>0.1217</td>\n",
       "      <td>1.4882</td>\n",
       "      <td>-0.0124</td>\n",
       "      <td>...</td>\n",
       "      <td>8.5831</td>\n",
       "      <td>0.4990</td>\n",
       "      <td>0.0103</td>\n",
       "      <td>0.0025</td>\n",
       "      <td>2.0544</td>\n",
       "      <td>0.020200</td>\n",
       "      <td>0.014900</td>\n",
       "      <td>0.004400</td>\n",
       "      <td>73.843200</td>\n",
       "      <td>-1</td>\n",
       "    </tr>\n",
       "    <tr>\n",
       "      <th>4</th>\n",
       "      <td>3032.24</td>\n",
       "      <td>2502.87</td>\n",
       "      <td>2233.3667</td>\n",
       "      <td>1326.5200</td>\n",
       "      <td>1.5334</td>\n",
       "      <td>100.0</td>\n",
       "      <td>100.3967</td>\n",
       "      <td>0.1235</td>\n",
       "      <td>1.5031</td>\n",
       "      <td>-0.0031</td>\n",
       "      <td>...</td>\n",
       "      <td>10.9698</td>\n",
       "      <td>0.4800</td>\n",
       "      <td>0.4766</td>\n",
       "      <td>0.1045</td>\n",
       "      <td>99.3032</td>\n",
       "      <td>0.020200</td>\n",
       "      <td>0.014900</td>\n",
       "      <td>0.004400</td>\n",
       "      <td>73.843200</td>\n",
       "      <td>-1</td>\n",
       "    </tr>\n",
       "  </tbody>\n",
       "</table>\n",
       "<p>5 rows × 559 columns</p>\n",
       "</div>"
      ],
      "text/plain": [
       "         0        1          2          3       4      5         6       7  \\\n",
       "0  3030.93  2564.00  2187.7333  1411.1265  1.3602  100.0   97.6133  0.1242   \n",
       "1  3095.78  2465.14  2230.4222  1463.6606  0.8294  100.0  102.3433  0.1247   \n",
       "2  2932.61  2559.94  2186.4111  1698.0172  1.5102  100.0   95.4878  0.1241   \n",
       "3  2988.72  2479.90  2199.0333   909.7926  1.3204  100.0  104.2367  0.1217   \n",
       "4  3032.24  2502.87  2233.3667  1326.5200  1.5334  100.0  100.3967  0.1235   \n",
       "\n",
       "        8       9  ...      577     582     583     584      585       586  \\\n",
       "0  1.5005  0.0162  ...  14.9509  0.5005  0.0118  0.0035   2.3630  0.021458   \n",
       "1  1.4966 -0.0005  ...  10.9003  0.5019  0.0223  0.0055   4.4447  0.009600   \n",
       "2  1.4436  0.0041  ...   9.2721  0.4958  0.0157  0.0039   3.1745  0.058400   \n",
       "3  1.4882 -0.0124  ...   8.5831  0.4990  0.0103  0.0025   2.0544  0.020200   \n",
       "4  1.5031 -0.0031  ...  10.9698  0.4800  0.4766  0.1045  99.3032  0.020200   \n",
       "\n",
       "        587       588         589  Pass/Fail  \n",
       "0  0.016475  0.005283   99.670066         -1  \n",
       "1  0.020100  0.006000  208.204500         -1  \n",
       "2  0.048400  0.014800   82.860200          1  \n",
       "3  0.014900  0.004400   73.843200         -1  \n",
       "4  0.014900  0.004400   73.843200         -1  \n",
       "\n",
       "[5 rows x 559 columns]"
      ]
     },
     "execution_count": 12,
     "metadata": {},
     "output_type": "execute_result"
    }
   ],
   "source": [
    "signal_df_modified.head()"
   ]
  },
  {
   "cell_type": "code",
   "execution_count": 13,
   "id": "c8d55374",
   "metadata": {},
   "outputs": [],
   "source": [
    "signal_df_modified_dup_cols_removed = signal_df_modified.T.drop_duplicates().T"
   ]
  },
  {
   "cell_type": "code",
   "execution_count": 14,
   "id": "0848285c",
   "metadata": {},
   "outputs": [
    {
     "data": {
      "text/plain": [
       "(1567, 447)"
      ]
     },
     "execution_count": 14,
     "metadata": {},
     "output_type": "execute_result"
    }
   ],
   "source": [
    "signal_df_modified_dup_cols_removed.shape"
   ]
  },
  {
   "cell_type": "code",
   "execution_count": 15,
   "id": "479a2fbe",
   "metadata": {},
   "outputs": [
    {
     "data": {
      "text/plain": [
       "Index(['0', '1', '2', '3', '4', '5', '6', '7', '8', '9',\n",
       "       ...\n",
       "       '577', '582', '583', '584', '585', '586', '587', '588', '589',\n",
       "       'Pass/Fail'],\n",
       "      dtype='object', length=447)"
      ]
     },
     "execution_count": 15,
     "metadata": {},
     "output_type": "execute_result"
    }
   ],
   "source": [
    "signal_df_modified_dup_cols_removed.columns"
   ]
  },
  {
   "cell_type": "code",
   "execution_count": 16,
   "id": "e1736933",
   "metadata": {},
   "outputs": [],
   "source": [
    "def getDuplicateColumns(df):                    #Alternate solution \n",
    "    '''\n",
    "    Get a list of duplicate columns.\n",
    "    It will iterate over all the columns in dataframe and find the columns whose contents are duplicate.\n",
    "    :param df: Dataframe object\n",
    "    :return: List of columns whose contents are duplicates.\n",
    "    '''\n",
    "    duplicateColumnNames = set()\n",
    "    # Iterate over all the columns in dataframe\n",
    "    for x in range(df.shape[1]):\n",
    "        # Select column at xth index.\n",
    "        col = df.iloc[:, x]\n",
    "        # Iterate over all the columns in DataFrame from (x+1)th index till end\n",
    "        for y in range(x + 1, df.shape[1]):\n",
    "            # Select column at yth index.\n",
    "            otherCol = df.iloc[:, y]\n",
    "            # Check if two columns at x & y index are equal\n",
    "            if col.equals(otherCol):\n",
    "                duplicateColumnNames.add(df.columns.values[y])\n",
    "    return list(duplicateColumnNames)"
   ]
  },
  {
   "cell_type": "code",
   "execution_count": 17,
   "id": "11bec7f4",
   "metadata": {},
   "outputs": [
    {
     "name": "stdout",
     "output_type": "stream",
     "text": [
      "Duplicate Columns are as follows\n",
      "Column name :  226\n",
      "Column name :  97\n",
      "Column name :  394\n",
      "Column name :  450\n",
      "Column name :  402\n",
      "Column name :  458\n",
      "Column name :  263\n",
      "Column name :  328\n",
      "Column name :  329\n",
      "Column name :  69\n",
      "Column name :  262\n",
      "Column name :  533\n",
      "Column name :  234\n",
      "Column name :  537\n",
      "Column name :  141\n",
      "Column name :  538\n",
      "Column name :  52\n",
      "Column name :  397\n",
      "Column name :  395\n",
      "Column name :  190\n",
      "Column name :  449\n",
      "Column name :  503\n",
      "Column name :  461\n",
      "Column name :  462\n",
      "Column name :  380\n",
      "Column name :  504\n",
      "Column name :  373\n",
      "Column name :  401\n",
      "Column name :  534\n",
      "Column name :  498\n",
      "Column name :  266\n",
      "Column name :  531\n",
      "Column name :  236\n",
      "Column name :  264\n",
      "Column name :  515\n",
      "Column name :  375\n",
      "Column name :  535\n",
      "Column name :  326\n",
      "Column name :  381\n",
      "Column name :  229\n",
      "Column name :  243\n",
      "Column name :  536\n",
      "Column name :  237\n",
      "Column name :  369\n",
      "Column name :  466\n",
      "Column name :  193\n",
      "Column name :  232\n",
      "Column name :  514\n",
      "Column name :  325\n",
      "Column name :  379\n",
      "Column name :  260\n",
      "Column name :  257\n",
      "Column name :  403\n",
      "Column name :  464\n",
      "Column name :  509\n",
      "Column name :  241\n",
      "Column name :  529\n",
      "Column name :  322\n",
      "Column name :  532\n",
      "Column name :  179\n",
      "Column name :  258\n",
      "Column name :  481\n",
      "Column name :  315\n",
      "Column name :  364\n",
      "Column name :  276\n",
      "Column name :  396\n",
      "Column name :  330\n",
      "Column name :  265\n",
      "Column name :  372\n",
      "Column name :  378\n",
      "Column name :  506\n",
      "Column name :  233\n",
      "Column name :  404\n",
      "Column name :  242\n",
      "Column name :  422\n",
      "Column name :  505\n",
      "Column name :  508\n",
      "Column name :  507\n",
      "Column name :  501\n",
      "Column name :  186\n",
      "Column name :  194\n",
      "Column name :  414\n",
      "Column name :  327\n",
      "Column name :  192\n",
      "Column name :  256\n",
      "Column name :  528\n",
      "Column name :  230\n",
      "Column name :  261\n",
      "Column name :  451\n",
      "Column name :  465\n",
      "Column name :  513\n",
      "Column name :  502\n",
      "Column name :  399\n",
      "Column name :  191\n",
      "Column name :  149\n",
      "Column name :  178\n",
      "Column name :  374\n",
      "Column name :  313\n",
      "Column name :  530\n",
      "Column name :  235\n",
      "Column name :  398\n",
      "Column name :  463\n",
      "Column name :  259\n",
      "Column name :  314\n",
      "Column name :  284\n",
      "Column name :  512\n",
      "Column name :  400\n",
      "Column name :  370\n",
      "Column name :  231\n",
      "Column name :  371\n",
      "Column name :  240\n",
      "Column name :  189\n",
      "112\n"
     ]
    }
   ],
   "source": [
    "duplicateColumnNames = getDuplicateColumns(signal_df_modified)\n",
    "print('Duplicate Columns are as follows')\n",
    "counter= 0\n",
    "for col in duplicateColumnNames:\n",
    "    print('Column name : ', col)\n",
    "    counter= counter+ 1\n",
    "print(counter)"
   ]
  },
  {
   "cell_type": "markdown",
   "id": "e5e1e566",
   "metadata": {},
   "source": [
    "#### Q2 C - Drop other features if required using relevant functional knowledge. Clearly justify the same."
   ]
  },
  {
   "cell_type": "code",
   "execution_count": 18,
   "id": "a8f7f835",
   "metadata": {},
   "outputs": [
    {
     "data": {
      "text/plain": [
       "0            0\n",
       "1            0\n",
       "2            0\n",
       "3            0\n",
       "4            0\n",
       "            ..\n",
       "586          0\n",
       "587          0\n",
       "588          0\n",
       "589          0\n",
       "Pass/Fail    0\n",
       "Length: 447, dtype: int64"
      ]
     },
     "execution_count": 18,
     "metadata": {},
     "output_type": "execute_result"
    }
   ],
   "source": [
    "signal_df_modified_dup_cols_removed.isna().sum()"
   ]
  },
  {
   "cell_type": "code",
   "execution_count": 19,
   "id": "844433fa",
   "metadata": {},
   "outputs": [
    {
     "data": {
      "text/html": [
       "<div>\n",
       "<style scoped>\n",
       "    .dataframe tbody tr th:only-of-type {\n",
       "        vertical-align: middle;\n",
       "    }\n",
       "\n",
       "    .dataframe tbody tr th {\n",
       "        vertical-align: top;\n",
       "    }\n",
       "\n",
       "    .dataframe thead th {\n",
       "        text-align: right;\n",
       "    }\n",
       "</style>\n",
       "<table border=\"1\" class=\"dataframe\">\n",
       "  <thead>\n",
       "    <tr style=\"text-align: right;\">\n",
       "      <th></th>\n",
       "      <th>0</th>\n",
       "      <th>1</th>\n",
       "      <th>2</th>\n",
       "      <th>3</th>\n",
       "      <th>4</th>\n",
       "      <th>5</th>\n",
       "      <th>6</th>\n",
       "      <th>7</th>\n",
       "      <th>8</th>\n",
       "      <th>9</th>\n",
       "      <th>...</th>\n",
       "      <th>577</th>\n",
       "      <th>582</th>\n",
       "      <th>583</th>\n",
       "      <th>584</th>\n",
       "      <th>585</th>\n",
       "      <th>586</th>\n",
       "      <th>587</th>\n",
       "      <th>588</th>\n",
       "      <th>589</th>\n",
       "      <th>Pass/Fail</th>\n",
       "    </tr>\n",
       "  </thead>\n",
       "  <tbody>\n",
       "    <tr>\n",
       "      <th>count</th>\n",
       "      <td>1567.000000</td>\n",
       "      <td>1567.000000</td>\n",
       "      <td>1567.000000</td>\n",
       "      <td>1567.000000</td>\n",
       "      <td>1567.000000</td>\n",
       "      <td>1567.0</td>\n",
       "      <td>1567.000000</td>\n",
       "      <td>1567.000000</td>\n",
       "      <td>1567.000000</td>\n",
       "      <td>1567.000000</td>\n",
       "      <td>...</td>\n",
       "      <td>1567.000000</td>\n",
       "      <td>1567.000000</td>\n",
       "      <td>1567.000000</td>\n",
       "      <td>1567.000000</td>\n",
       "      <td>1567.000000</td>\n",
       "      <td>1567.000000</td>\n",
       "      <td>1567.000000</td>\n",
       "      <td>1567.000000</td>\n",
       "      <td>1567.000000</td>\n",
       "      <td>1567.000000</td>\n",
       "    </tr>\n",
       "    <tr>\n",
       "      <th>mean</th>\n",
       "      <td>3014.452896</td>\n",
       "      <td>2495.850231</td>\n",
       "      <td>2200.547318</td>\n",
       "      <td>1396.376627</td>\n",
       "      <td>4.197013</td>\n",
       "      <td>100.0</td>\n",
       "      <td>101.112908</td>\n",
       "      <td>0.121822</td>\n",
       "      <td>1.462862</td>\n",
       "      <td>-0.000841</td>\n",
       "      <td>...</td>\n",
       "      <td>16.642363</td>\n",
       "      <td>0.500096</td>\n",
       "      <td>0.015318</td>\n",
       "      <td>0.003847</td>\n",
       "      <td>3.067826</td>\n",
       "      <td>0.021458</td>\n",
       "      <td>0.016475</td>\n",
       "      <td>0.005283</td>\n",
       "      <td>99.670066</td>\n",
       "      <td>-0.867262</td>\n",
       "    </tr>\n",
       "    <tr>\n",
       "      <th>std</th>\n",
       "      <td>73.480613</td>\n",
       "      <td>80.227793</td>\n",
       "      <td>29.380932</td>\n",
       "      <td>439.712852</td>\n",
       "      <td>56.103066</td>\n",
       "      <td>0.0</td>\n",
       "      <td>6.209271</td>\n",
       "      <td>0.008936</td>\n",
       "      <td>0.073849</td>\n",
       "      <td>0.015107</td>\n",
       "      <td>...</td>\n",
       "      <td>12.485267</td>\n",
       "      <td>0.003403</td>\n",
       "      <td>0.017174</td>\n",
       "      <td>0.003719</td>\n",
       "      <td>3.576891</td>\n",
       "      <td>0.012354</td>\n",
       "      <td>0.008805</td>\n",
       "      <td>0.002866</td>\n",
       "      <td>93.861936</td>\n",
       "      <td>0.498010</td>\n",
       "    </tr>\n",
       "    <tr>\n",
       "      <th>min</th>\n",
       "      <td>2743.240000</td>\n",
       "      <td>2158.750000</td>\n",
       "      <td>2060.660000</td>\n",
       "      <td>0.000000</td>\n",
       "      <td>0.681500</td>\n",
       "      <td>100.0</td>\n",
       "      <td>82.131100</td>\n",
       "      <td>0.000000</td>\n",
       "      <td>1.191000</td>\n",
       "      <td>-0.053400</td>\n",
       "      <td>...</td>\n",
       "      <td>4.582000</td>\n",
       "      <td>0.477800</td>\n",
       "      <td>0.006000</td>\n",
       "      <td>0.001700</td>\n",
       "      <td>1.197500</td>\n",
       "      <td>-0.016900</td>\n",
       "      <td>0.003200</td>\n",
       "      <td>0.001000</td>\n",
       "      <td>0.000000</td>\n",
       "      <td>-1.000000</td>\n",
       "    </tr>\n",
       "    <tr>\n",
       "      <th>25%</th>\n",
       "      <td>2966.665000</td>\n",
       "      <td>2452.885000</td>\n",
       "      <td>2181.099950</td>\n",
       "      <td>1083.885800</td>\n",
       "      <td>1.017700</td>\n",
       "      <td>100.0</td>\n",
       "      <td>97.937800</td>\n",
       "      <td>0.121100</td>\n",
       "      <td>1.411250</td>\n",
       "      <td>-0.010800</td>\n",
       "      <td>...</td>\n",
       "      <td>11.501550</td>\n",
       "      <td>0.497900</td>\n",
       "      <td>0.011600</td>\n",
       "      <td>0.003100</td>\n",
       "      <td>2.306500</td>\n",
       "      <td>0.013450</td>\n",
       "      <td>0.010600</td>\n",
       "      <td>0.003300</td>\n",
       "      <td>44.368600</td>\n",
       "      <td>-1.000000</td>\n",
       "    </tr>\n",
       "    <tr>\n",
       "      <th>50%</th>\n",
       "      <td>3011.840000</td>\n",
       "      <td>2498.910000</td>\n",
       "      <td>2200.955600</td>\n",
       "      <td>1287.353800</td>\n",
       "      <td>1.317100</td>\n",
       "      <td>100.0</td>\n",
       "      <td>101.492200</td>\n",
       "      <td>0.122400</td>\n",
       "      <td>1.461600</td>\n",
       "      <td>-0.001300</td>\n",
       "      <td>...</td>\n",
       "      <td>13.817900</td>\n",
       "      <td>0.500200</td>\n",
       "      <td>0.013800</td>\n",
       "      <td>0.003600</td>\n",
       "      <td>2.757700</td>\n",
       "      <td>0.020500</td>\n",
       "      <td>0.014800</td>\n",
       "      <td>0.004600</td>\n",
       "      <td>72.023000</td>\n",
       "      <td>-1.000000</td>\n",
       "    </tr>\n",
       "    <tr>\n",
       "      <th>75%</th>\n",
       "      <td>3056.540000</td>\n",
       "      <td>2538.745000</td>\n",
       "      <td>2218.055500</td>\n",
       "      <td>1590.169900</td>\n",
       "      <td>1.529600</td>\n",
       "      <td>100.0</td>\n",
       "      <td>104.530000</td>\n",
       "      <td>0.123800</td>\n",
       "      <td>1.516850</td>\n",
       "      <td>0.008400</td>\n",
       "      <td>...</td>\n",
       "      <td>17.080900</td>\n",
       "      <td>0.502350</td>\n",
       "      <td>0.016500</td>\n",
       "      <td>0.004100</td>\n",
       "      <td>3.294950</td>\n",
       "      <td>0.027600</td>\n",
       "      <td>0.020300</td>\n",
       "      <td>0.006400</td>\n",
       "      <td>114.749700</td>\n",
       "      <td>-1.000000</td>\n",
       "    </tr>\n",
       "    <tr>\n",
       "      <th>max</th>\n",
       "      <td>3356.350000</td>\n",
       "      <td>2846.440000</td>\n",
       "      <td>2315.266700</td>\n",
       "      <td>3715.041700</td>\n",
       "      <td>1114.536600</td>\n",
       "      <td>100.0</td>\n",
       "      <td>129.252200</td>\n",
       "      <td>0.128600</td>\n",
       "      <td>1.656400</td>\n",
       "      <td>0.074900</td>\n",
       "      <td>...</td>\n",
       "      <td>96.960100</td>\n",
       "      <td>0.509800</td>\n",
       "      <td>0.476600</td>\n",
       "      <td>0.104500</td>\n",
       "      <td>99.303200</td>\n",
       "      <td>0.102800</td>\n",
       "      <td>0.079900</td>\n",
       "      <td>0.028600</td>\n",
       "      <td>737.304800</td>\n",
       "      <td>1.000000</td>\n",
       "    </tr>\n",
       "  </tbody>\n",
       "</table>\n",
       "<p>8 rows × 447 columns</p>\n",
       "</div>"
      ],
      "text/plain": [
       "                 0            1            2            3            4  \\\n",
       "count  1567.000000  1567.000000  1567.000000  1567.000000  1567.000000   \n",
       "mean   3014.452896  2495.850231  2200.547318  1396.376627     4.197013   \n",
       "std      73.480613    80.227793    29.380932   439.712852    56.103066   \n",
       "min    2743.240000  2158.750000  2060.660000     0.000000     0.681500   \n",
       "25%    2966.665000  2452.885000  2181.099950  1083.885800     1.017700   \n",
       "50%    3011.840000  2498.910000  2200.955600  1287.353800     1.317100   \n",
       "75%    3056.540000  2538.745000  2218.055500  1590.169900     1.529600   \n",
       "max    3356.350000  2846.440000  2315.266700  3715.041700  1114.536600   \n",
       "\n",
       "            5            6            7            8            9  ...  \\\n",
       "count  1567.0  1567.000000  1567.000000  1567.000000  1567.000000  ...   \n",
       "mean    100.0   101.112908     0.121822     1.462862    -0.000841  ...   \n",
       "std       0.0     6.209271     0.008936     0.073849     0.015107  ...   \n",
       "min     100.0    82.131100     0.000000     1.191000    -0.053400  ...   \n",
       "25%     100.0    97.937800     0.121100     1.411250    -0.010800  ...   \n",
       "50%     100.0   101.492200     0.122400     1.461600    -0.001300  ...   \n",
       "75%     100.0   104.530000     0.123800     1.516850     0.008400  ...   \n",
       "max     100.0   129.252200     0.128600     1.656400     0.074900  ...   \n",
       "\n",
       "               577          582          583          584          585  \\\n",
       "count  1567.000000  1567.000000  1567.000000  1567.000000  1567.000000   \n",
       "mean     16.642363     0.500096     0.015318     0.003847     3.067826   \n",
       "std      12.485267     0.003403     0.017174     0.003719     3.576891   \n",
       "min       4.582000     0.477800     0.006000     0.001700     1.197500   \n",
       "25%      11.501550     0.497900     0.011600     0.003100     2.306500   \n",
       "50%      13.817900     0.500200     0.013800     0.003600     2.757700   \n",
       "75%      17.080900     0.502350     0.016500     0.004100     3.294950   \n",
       "max      96.960100     0.509800     0.476600     0.104500    99.303200   \n",
       "\n",
       "               586          587          588          589    Pass/Fail  \n",
       "count  1567.000000  1567.000000  1567.000000  1567.000000  1567.000000  \n",
       "mean      0.021458     0.016475     0.005283    99.670066    -0.867262  \n",
       "std       0.012354     0.008805     0.002866    93.861936     0.498010  \n",
       "min      -0.016900     0.003200     0.001000     0.000000    -1.000000  \n",
       "25%       0.013450     0.010600     0.003300    44.368600    -1.000000  \n",
       "50%       0.020500     0.014800     0.004600    72.023000    -1.000000  \n",
       "75%       0.027600     0.020300     0.006400   114.749700    -1.000000  \n",
       "max       0.102800     0.079900     0.028600   737.304800     1.000000  \n",
       "\n",
       "[8 rows x 447 columns]"
      ]
     },
     "execution_count": 19,
     "metadata": {},
     "output_type": "execute_result"
    }
   ],
   "source": [
    "signal_df_modified_dup_cols_removed.describe()"
   ]
  },
  {
   "cell_type": "markdown",
   "id": "3beb7478",
   "metadata": {},
   "source": [
    "#### Q2 D - Check for multi-collinearity in the data and take necessary action."
   ]
  },
  {
   "cell_type": "code",
   "execution_count": 20,
   "id": "eb6cc0b6",
   "metadata": {},
   "outputs": [
    {
     "data": {
      "text/plain": [
       "0            float64\n",
       "1            float64\n",
       "2            float64\n",
       "3            float64\n",
       "4            float64\n",
       "              ...   \n",
       "586          float64\n",
       "587          float64\n",
       "588          float64\n",
       "589          float64\n",
       "Pass/Fail    float64\n",
       "Length: 447, dtype: object"
      ]
     },
     "execution_count": 20,
     "metadata": {},
     "output_type": "execute_result"
    }
   ],
   "source": [
    "signal_df_modified_dup_cols_removed.dtypes"
   ]
  },
  {
   "cell_type": "code",
   "execution_count": 21,
   "id": "823e53ec",
   "metadata": {},
   "outputs": [
    {
     "name": "stderr",
     "output_type": "stream",
     "text": [
      "C:\\Users\\Datta\\anaconda3\\lib\\site-packages\\statsmodels\\regression\\linear_model.py:1736: RuntimeWarning: divide by zero encountered in double_scalars\n",
      "  return 1 - self.ssr/self.centered_tss\n",
      "C:\\Users\\Datta\\anaconda3\\lib\\site-packages\\statsmodels\\regression\\linear_model.py:1736: RuntimeWarning: invalid value encountered in double_scalars\n",
      "  return 1 - self.ssr/self.centered_tss\n",
      "C:\\Users\\Datta\\anaconda3\\lib\\site-packages\\statsmodels\\stats\\outliers_influence.py:195: RuntimeWarning: divide by zero encountered in double_scalars\n",
      "  vif = 1. / (1. - r_squared_i)\n"
     ]
    },
    {
     "name": "stdout",
     "output_type": "stream",
     "text": [
      "[14.379405943207416, 9.875504742152348, 27.522823447817878, 11.514404190956343, 42292.25270867556, 0.0, 8.36915549184977, 2.0229608296592163, 7.771432010556485, 1.7382598820753248, 1.6322033539077891, 19.662184281926113, 2597.544710917795, nan, 14.34844623083368, 6.574444985283025, 1481.6387694741306, 23.28664751754832, 1910.3487666073877, 12.71541519328672, 2.128994156736225, 15.389394107967858, 17.12001607158198, 1.500599672298338, 1.5652386438853054, 107.15848348507227, 62.11992410037347, 63.248832744540216, 15.873791085245573, 8.69762500289919, 12.299090883718412, 30.248875401397573, 51.44180993642527, 11.796446815513722, 2552966941.3374767, 51.166286174750944, 2552930761.679107, 108.5971565547916, 15.365311979015214, 12.92135565901605, 1.8035701559252542, 1.7134667362219536, 0.0, 15673689691.0244, 26.601905015655802, 24842923094.66688, 2457.7732665210738, 15.201741305582608, 8253354373.018251, 0.0, 30127535813.883686, 21.67200828734889, 14618.297123684077, 15307.591711572357, 5.707077976038418, 12.923800347487978, 1955.2951447561159, 5.404102176914451, 7.565925815083155, 16324428385.320105, 50.33204311166704, 33453170514.696457, 441.8125432540646, 343.9185368420504, 758.961774526352, 2122.2084907498424, 3094.9444547808857, 8077140730.989718, 40881421784.82239, 5.581671011619198, inf, 1.9984599881223466, 2.9530229313227823, 2.0287541290419115, 3.788454344671727, 2.6880570124894154, 2.6287235453258786, 1.9573250415682608, 1.98088623756112, 8.327973740628652, 5.614610135739093, 14.871849044259838, 3.328395203552066, 5.212007748788429, 13.77255136609255, 13.05204026480611, 2.679573054444942, 67.36136494343938, 90.53876490146814, 24.103330431644657, 2.246328398989068, 61.51392238302281, 52.48035474486634, 73.8340438369261, 12.761668626620581, 8.687549178235711, 2.3123662427837925, 5.658731858356739, 73.53652255764717, 66.84714817592706, 90.15699451512974, 2.0544914029107058, 1.8809917241525624, 2.032226202936933, 61.31089202492557, 13.35554474233439, 3.5405773449795386, 66.49881095165676, 2.7622192216727024, 16.43891826958695, 13.412830038815722, 630.6296090137106, 53.687156269253265, 747.1404793153943, 13.63521538154629, 4.602981302766036, 2.755300341714155, 37.27643436346449, 2.6544449403917656, 3.535393451177022, 8.178784193139476, 84.02702112821949, 30.33632931930636, 15.232707971454113, 18.340150575028087, 970.8502671020318, 2932.8160792705908, 1190.62968688361, 6938.974760550755, 97.8054805336987, 72950653.01410043, 454.32796372650154, 933.8282806873035, 572.1663488475251, 20.741544006006333, 16.819759089841735, 121028.30456323805, 816866.8426265385, 36.38929340677837, 509.9902931387271, 346109.3650025195, 11298.897015806022, 78507.33275329618, 392.62241746226726, 520.3478178389202, 551.9653827121238, 960.0936804678372, 139.84943455239443, 60.268774206270386, 1115.6304586971148, 2485.5285594556653, 931.6612012964414, 704.3885155226843, 36.45232243620326, 24.167552048922964, 581.974644375554, 3856.1773770121326, 197.5201675476843, 5436695.86176026, 6880.695657586556, 5546896.079961802, 101210.24549788835, 56569.61832403272, 12664.517102623071, 6893.280071363885, 7378.6675057383, 988.4617368475297, 17475.89436563809, 308.6875814100666, 4024.2912260216517, 63043.14303692328, 39.11810826452506, 4167.555022808079, 4403.115311634069, 65104.16134345167, 10314.389186061057, 6471.853769334417, 63.66604252303074, 643.7137042440927, 816.9832126103349, 58289.55068974185, 1555051.9032335014, 6143.436790712757, inf, 165218.2100821043, 35.02570469303495, inf, 14.510075169655897, 63.56456662257004, 108.5233694464063, 200.14828456880775, 35.360951242321654, 36.745239307659936, 32.97620302454798, 66.91412288214504, 150.31550807087112, 878.015669566136, 7185.370606089222, 1274.3996381690422, 772.0446666554317, 187.40238915249435, 818.897788764512, 24.803599987897687, 28.325613475812187, 20.037040811825264, 15.973031851627224, 4382.931606153104, 21513.669062434146, 515.6224728281537, 18967.470519552895, 111331.36383042396, 1947.1636799155367, 3784.8804070695696, 2899.577025407637, 5813.669622308605, 48181.82970441629, 350.2945539278913, 16.45964903130397, 28.722556272966496, 34.15332180126235, 16.510907001377653, 62.030266274090685, 73838969.21227385, 47.34605560433759, 10.88410939302561, 30.306565420055783, 19.529321136421625, 17.330379289219387, 3553.706695671251, 39312.23214828002, 24.9191882568894, 664.6904519770811, 307633.0445082554, 747.3151518096136, 2900.094021739225, 17.95140190624057, 101.20034773649488, 354.71791909343744, 555.9319198064126, 137.3292902926974, 61.4863715575414, 491.2275689502853, 1536.1561728776396, 1134.5127200282805, 21.87184931352971, 35.345716357782464, 20.86135398047712, 32.12838989839149, 26.546826712968933, 60.635524480896116, 1750252.601506634, 24.277181455842634, 1752042.9356832362, 23.990400027418385, 41.14345030292979, 345.4495221275732, 9.79372942797581, 21.4619299704165, 68.78018260851226, 126.1790663576655, 95.46928075738974, 135.3181225836077, 165.0205021397562, 29.414099858421267, 90.47283877101992, 7782.00467335178, 286.80332703463614, 171.6255532556185, 1369.775424124318, 1694.3382147193342, 711.1896584658203, 1722.6699981954018, 666.1248686719688, 1290899.4641022151, 415.28792092520746, inf, 339.3231609108207, 20.575485885343234, inf, 15.189535872366946, 63.462800909755366, 108.6476945502495, 191.63104967233284, 37.08423056370153, 39.162934141100955, 37.35576365828711, 66.29533249494176, 14.802002178127722, 36.70695614185341, 38.201871845807716, 2629.5787800663306, 36.02063512283792, 164.1117883353694, 55.18543616959376, 26.432058452505565, 27.988245557762806, 6.2325481170069965, 7.358449245866439, 19.808886483387592, 16.410629074457056, 390.77547427946627, 23197.695407666713, 83.89984561603976, 19792.897992975897, 106521.17654841427, 60.13014816418908, 72.59021079590319, 63.4412024080922, 83.9099615205648, 32.595776615538554, 18.03510748668689, 910.8447315647345, 2840.730234195341, 1191.232372707785, 6715.491048910786, 25.465277386163475, 18.388403075966423, 487.4896519546855, 928.6001969763289, 559.9016992820806, 1.3824433353633288, 1.4219025604036635, 137323.55401857127, 434368.59845236246, 13.80673438220563, 92.59010438394485, 597.9036313288534, 11140.081728348145, 94308.03975926628, 515.0405644600131, 419.4625489798817, 904.1011932472511, 779.5420350578192, 2.0049804289348367, 1.7285779849835583, 8781.885916701642, 7082.702552350355, 1582.09471087837, 638.3559429619897, 4.249372848425736, 11.12743321738066, 660.1124248096295, 3746.679047160399, 145.2911376527727, 117936.66559861178, 7445.238929034595, 75485.92142726129, 101810.790658402, 56853.46520354629, 11898.198738466323, 6682.408486752243, 7524.626899858746, 968.1412238747888, 17245.277297958917, 163.09229396981613, 3029.2493046977906, 61133.25054922806, 14.330284005131308, 5158.081054183199, 1.5395402913099168, 73476.2571067907, 9785.568243349231, 2947.538235438615, 10.439029967236092, 66.54330509779729, 39.45283624462257, 64213.51984143011, 6.803584603881598, 10324.999280204554, inf, 143608.52419729985, 25.046528256058725, 1.3609180936927963, 1.6992794231723083, 1.5693734356896807, 1.604610112912514, 1.4460618281712614, 1.5787889156072181, 1.6402978149763836, 1.5131792147248695, 168.06594258482554, 793.1136696177393, 7114.576690885673, 7123.440838072482, 803.6812092231531, 20.057376747795864, 821.5177898348353, 1.465886660897021, 1.4734798081590168, 3.8508528545266327, 1.3865216049115465, 3763.29125493577, 2.543817562364987, 443.6240375524661, 7620.865635302544, 320.9286856198075, 1920.8469182029883, 3765.281591270771, 2755.814779621417, 5426.944324422993, 48066.96880989556, 300.90996006514456, 45.670893310160764, 2146.3508818551563, 5.5501346607703965, 1986.5988089797413, 5.351720729828097, 5.909289527192303, 10.125444585941919, 169.32916364611242, 2030.648665920498, 4082.6724209090225, 162.8292068783135, 38.54993919773635, 330.1955159553273, 11.080666550573762, 2159.4789359404426, 3993.7668026173715, 13.824227761507474, 614.9496016802531, 15.671905401613339, 465.9325112634524, 11.786090191606911, 9.189512880267667, 1471.974177670551, 159.11911338493223, 42.341082621060984, 69.20493972390392, 1402.4772037281496, 60.838982106725005, 8.215514681990292, 3.7949612668666433, 794.2131525186221, 96.1588910116489, 130.272665741661, 45.200128405993006, 671.5542109741823, 59.29586801855504, 2.1924209414133213, 9469.255221821762, 176.23086123925904, 10638.416315956156, 2.4376573610771506, 29.16494270834888, 28.50625958897359, 2.7488983577054165, 1.686549102223447]\n"
     ]
    }
   ],
   "source": [
    "vif = []\n",
    "for feature in range(signal_df_modified_dup_cols_removed.shape[1]):\n",
    "    vif.append(variance_inflation_factor(exog= signal_df_modified_dup_cols_removed.values, exog_idx= feature ))\n",
    "print(vif)"
   ]
  },
  {
   "cell_type": "code",
   "execution_count": 22,
   "id": "8b97ecaf",
   "metadata": {},
   "outputs": [
    {
     "data": {
      "text/plain": [
       "447"
      ]
     },
     "execution_count": 22,
     "metadata": {},
     "output_type": "execute_result"
    }
   ],
   "source": [
    "len(vif)"
   ]
  },
  {
   "cell_type": "code",
   "execution_count": 23,
   "id": "9943262b",
   "metadata": {},
   "outputs": [
    {
     "data": {
      "text/html": [
       "<div>\n",
       "<style scoped>\n",
       "    .dataframe tbody tr th:only-of-type {\n",
       "        vertical-align: middle;\n",
       "    }\n",
       "\n",
       "    .dataframe tbody tr th {\n",
       "        vertical-align: top;\n",
       "    }\n",
       "\n",
       "    .dataframe thead th {\n",
       "        text-align: right;\n",
       "    }\n",
       "</style>\n",
       "<table border=\"1\" class=\"dataframe\">\n",
       "  <thead>\n",
       "    <tr style=\"text-align: right;\">\n",
       "      <th></th>\n",
       "      <th>feature_name</th>\n",
       "      <th>vif</th>\n",
       "    </tr>\n",
       "  </thead>\n",
       "  <tbody>\n",
       "    <tr>\n",
       "      <th>0</th>\n",
       "      <td>0</td>\n",
       "      <td>14.38</td>\n",
       "    </tr>\n",
       "    <tr>\n",
       "      <th>1</th>\n",
       "      <td>1</td>\n",
       "      <td>9.88</td>\n",
       "    </tr>\n",
       "    <tr>\n",
       "      <th>2</th>\n",
       "      <td>2</td>\n",
       "      <td>27.52</td>\n",
       "    </tr>\n",
       "    <tr>\n",
       "      <th>3</th>\n",
       "      <td>3</td>\n",
       "      <td>11.51</td>\n",
       "    </tr>\n",
       "    <tr>\n",
       "      <th>4</th>\n",
       "      <td>4</td>\n",
       "      <td>42292.25</td>\n",
       "    </tr>\n",
       "    <tr>\n",
       "      <th>5</th>\n",
       "      <td>5</td>\n",
       "      <td>0.00</td>\n",
       "    </tr>\n",
       "    <tr>\n",
       "      <th>6</th>\n",
       "      <td>6</td>\n",
       "      <td>8.37</td>\n",
       "    </tr>\n",
       "    <tr>\n",
       "      <th>7</th>\n",
       "      <td>7</td>\n",
       "      <td>2.02</td>\n",
       "    </tr>\n",
       "    <tr>\n",
       "      <th>8</th>\n",
       "      <td>8</td>\n",
       "      <td>7.77</td>\n",
       "    </tr>\n",
       "    <tr>\n",
       "      <th>9</th>\n",
       "      <td>9</td>\n",
       "      <td>1.74</td>\n",
       "    </tr>\n",
       "  </tbody>\n",
       "</table>\n",
       "</div>"
      ],
      "text/plain": [
       "  feature_name       vif\n",
       "0            0     14.38\n",
       "1            1      9.88\n",
       "2            2     27.52\n",
       "3            3     11.51\n",
       "4            4  42292.25\n",
       "5            5      0.00\n",
       "6            6      8.37\n",
       "7            7      2.02\n",
       "8            8      7.77\n",
       "9            9      1.74"
      ]
     },
     "execution_count": 23,
     "metadata": {},
     "output_type": "execute_result"
    }
   ],
   "source": [
    "signal_df_vif = pd.DataFrame({'feature_name': signal_df_modified_dup_cols_removed.columns, 'vif' : np.around(vif, 2)})\n",
    "signal_df_vif.head(10)"
   ]
  },
  {
   "cell_type": "code",
   "execution_count": 24,
   "id": "7b63a61d",
   "metadata": {},
   "outputs": [
    {
     "data": {
      "text/plain": [
       "feature_name    80\n",
       "vif             80\n",
       "dtype: int64"
      ]
     },
     "execution_count": 24,
     "metadata": {},
     "output_type": "execute_result"
    }
   ],
   "source": [
    "signal_df_vif[signal_df_vif['vif'] < 10].count()"
   ]
  },
  {
   "cell_type": "code",
   "execution_count": 25,
   "id": "9b57f259",
   "metadata": {},
   "outputs": [],
   "source": [
    "signal_df_vif_removed_1 = signal_df_modified_dup_cols_removed[['1',   # Answer  #There are 80 columns/features which has Variance Inflation Factor\n",
    "                        # Less than VIF (Industry Practice)threshold 10 value. Hence, considering those feature finally\n",
    "'5',\n",
    "'6',\n",
    "'7',\n",
    "'8',\n",
    "'9',\n",
    "'10',\n",
    "'15',\n",
    "'20',\n",
    "'23',\n",
    "'24',\n",
    "'29',\n",
    "'40',\n",
    "'41',\n",
    "'42',\n",
    "'49',\n",
    "'55',\n",
    "'58',\n",
    "'59',\n",
    "'71',\n",
    "'75',\n",
    "'76',\n",
    "'77',\n",
    "'78',\n",
    "'79',\n",
    "'80',\n",
    "'81',\n",
    "'82',\n",
    "'83',\n",
    "'84',\n",
    "'87',\n",
    "'88',\n",
    "'91',\n",
    "'95',\n",
    "'101',\n",
    "'102',\n",
    "'103',\n",
    "'107',\n",
    "'108',\n",
    "'113',\n",
    "'116',\n",
    "'118',\n",
    "'125',\n",
    "'126',\n",
    "'128',\n",
    "'129',\n",
    "'130',\n",
    "'316',\n",
    "'367',\n",
    "'368',\n",
    "'418',\n",
    "'419',\n",
    "'432',\n",
    "'433',\n",
    "'438',\n",
    "'468',\n",
    "'476',\n",
    "'482',\n",
    "'483',\n",
    "'484',\n",
    "'485',\n",
    "'486',\n",
    "'487',\n",
    "'488',\n",
    "'489',\n",
    "'499',\n",
    "'500',\n",
    "'510',\n",
    "'511',\n",
    "'521',\n",
    "'544',\n",
    "'546',\n",
    "'547',\n",
    "'563',\n",
    "'570',\n",
    "'571',\n",
    "'582',\n",
    "'586',\n",
    "'589',\n",
    "'Pass/Fail']]"
   ]
  },
  {
   "cell_type": "code",
   "execution_count": 26,
   "id": "749a0a5d",
   "metadata": {},
   "outputs": [
    {
     "data": {
      "text/plain": [
       "(1567, 80)"
      ]
     },
     "execution_count": 26,
     "metadata": {},
     "output_type": "execute_result"
    }
   ],
   "source": [
    "signal_df_vif_removed_1.shape"
   ]
  },
  {
   "cell_type": "code",
   "execution_count": 27,
   "id": "daea9861",
   "metadata": {},
   "outputs": [
    {
     "name": "stderr",
     "output_type": "stream",
     "text": [
      "C:\\Users\\Datta\\AppData\\Local\\Temp\\ipykernel_11448\\3674740737.py:1: SettingWithCopyWarning: \n",
      "A value is trying to be set on a copy of a slice from a DataFrame.\n",
      "Try using .loc[row_indexer,col_indexer] = value instead\n",
      "\n",
      "See the caveats in the documentation: https://pandas.pydata.org/pandas-docs/stable/user_guide/indexing.html#returning-a-view-versus-a-copy\n",
      "  signal_df_vif_removed_1['Time'] = signal_data['Time']\n"
     ]
    }
   ],
   "source": [
    "signal_df_vif_removed_1['Time'] = signal_data['Time']"
   ]
  },
  {
   "cell_type": "code",
   "execution_count": 28,
   "id": "a9a952e1",
   "metadata": {},
   "outputs": [
    {
     "data": {
      "text/html": [
       "<div>\n",
       "<style scoped>\n",
       "    .dataframe tbody tr th:only-of-type {\n",
       "        vertical-align: middle;\n",
       "    }\n",
       "\n",
       "    .dataframe tbody tr th {\n",
       "        vertical-align: top;\n",
       "    }\n",
       "\n",
       "    .dataframe thead th {\n",
       "        text-align: right;\n",
       "    }\n",
       "</style>\n",
       "<table border=\"1\" class=\"dataframe\">\n",
       "  <thead>\n",
       "    <tr style=\"text-align: right;\">\n",
       "      <th></th>\n",
       "      <th>1</th>\n",
       "      <th>5</th>\n",
       "      <th>6</th>\n",
       "      <th>7</th>\n",
       "      <th>8</th>\n",
       "      <th>9</th>\n",
       "      <th>10</th>\n",
       "      <th>15</th>\n",
       "      <th>20</th>\n",
       "      <th>23</th>\n",
       "      <th>...</th>\n",
       "      <th>546</th>\n",
       "      <th>547</th>\n",
       "      <th>563</th>\n",
       "      <th>570</th>\n",
       "      <th>571</th>\n",
       "      <th>582</th>\n",
       "      <th>586</th>\n",
       "      <th>589</th>\n",
       "      <th>Pass/Fail</th>\n",
       "      <th>Time</th>\n",
       "    </tr>\n",
       "  </thead>\n",
       "  <tbody>\n",
       "    <tr>\n",
       "      <th>0</th>\n",
       "      <td>2564.00</td>\n",
       "      <td>100.0</td>\n",
       "      <td>97.6133</td>\n",
       "      <td>0.1242</td>\n",
       "      <td>1.5005</td>\n",
       "      <td>0.0162</td>\n",
       "      <td>-0.0034</td>\n",
       "      <td>414.8710</td>\n",
       "      <td>1.4026</td>\n",
       "      <td>-4043.75</td>\n",
       "      <td>...</td>\n",
       "      <td>1.0616</td>\n",
       "      <td>395.570</td>\n",
       "      <td>0.679641</td>\n",
       "      <td>533.8500</td>\n",
       "      <td>2.1113</td>\n",
       "      <td>0.5005</td>\n",
       "      <td>0.021458</td>\n",
       "      <td>99.670066</td>\n",
       "      <td>-1.0</td>\n",
       "      <td>2008-07-19 11:55:00</td>\n",
       "    </tr>\n",
       "    <tr>\n",
       "      <th>1</th>\n",
       "      <td>2465.14</td>\n",
       "      <td>100.0</td>\n",
       "      <td>102.3433</td>\n",
       "      <td>0.1247</td>\n",
       "      <td>1.4966</td>\n",
       "      <td>-0.0005</td>\n",
       "      <td>-0.0148</td>\n",
       "      <td>414.7347</td>\n",
       "      <td>1.3825</td>\n",
       "      <td>-3498.75</td>\n",
       "      <td>...</td>\n",
       "      <td>1.3526</td>\n",
       "      <td>408.798</td>\n",
       "      <td>0.679641</td>\n",
       "      <td>535.0164</td>\n",
       "      <td>2.4335</td>\n",
       "      <td>0.5019</td>\n",
       "      <td>0.009600</td>\n",
       "      <td>208.204500</td>\n",
       "      <td>-1.0</td>\n",
       "      <td>2008-07-19 12:32:00</td>\n",
       "    </tr>\n",
       "    <tr>\n",
       "      <th>2</th>\n",
       "      <td>2559.94</td>\n",
       "      <td>100.0</td>\n",
       "      <td>95.4878</td>\n",
       "      <td>0.1241</td>\n",
       "      <td>1.4436</td>\n",
       "      <td>0.0041</td>\n",
       "      <td>0.0013</td>\n",
       "      <td>416.7075</td>\n",
       "      <td>1.4123</td>\n",
       "      <td>-4047.00</td>\n",
       "      <td>...</td>\n",
       "      <td>0.7942</td>\n",
       "      <td>411.136</td>\n",
       "      <td>0.903200</td>\n",
       "      <td>535.0245</td>\n",
       "      <td>2.0293</td>\n",
       "      <td>0.4958</td>\n",
       "      <td>0.058400</td>\n",
       "      <td>82.860200</td>\n",
       "      <td>1.0</td>\n",
       "      <td>2008-07-19 13:17:00</td>\n",
       "    </tr>\n",
       "    <tr>\n",
       "      <th>3</th>\n",
       "      <td>2479.90</td>\n",
       "      <td>100.0</td>\n",
       "      <td>104.2367</td>\n",
       "      <td>0.1217</td>\n",
       "      <td>1.4882</td>\n",
       "      <td>-0.0124</td>\n",
       "      <td>-0.0033</td>\n",
       "      <td>422.2894</td>\n",
       "      <td>1.4011</td>\n",
       "      <td>-4515.00</td>\n",
       "      <td>...</td>\n",
       "      <td>1.1650</td>\n",
       "      <td>372.822</td>\n",
       "      <td>0.651100</td>\n",
       "      <td>530.5682</td>\n",
       "      <td>2.0253</td>\n",
       "      <td>0.4990</td>\n",
       "      <td>0.020200</td>\n",
       "      <td>73.843200</td>\n",
       "      <td>-1.0</td>\n",
       "      <td>2008-07-19 14:43:00</td>\n",
       "    </tr>\n",
       "    <tr>\n",
       "      <th>4</th>\n",
       "      <td>2502.87</td>\n",
       "      <td>100.0</td>\n",
       "      <td>100.3967</td>\n",
       "      <td>0.1235</td>\n",
       "      <td>1.5031</td>\n",
       "      <td>-0.0031</td>\n",
       "      <td>-0.0072</td>\n",
       "      <td>420.5925</td>\n",
       "      <td>1.3888</td>\n",
       "      <td>-3987.50</td>\n",
       "      <td>...</td>\n",
       "      <td>1.4636</td>\n",
       "      <td>399.914</td>\n",
       "      <td>0.679641</td>\n",
       "      <td>532.0155</td>\n",
       "      <td>2.0275</td>\n",
       "      <td>0.4800</td>\n",
       "      <td>0.020200</td>\n",
       "      <td>73.843200</td>\n",
       "      <td>-1.0</td>\n",
       "      <td>2008-07-19 15:22:00</td>\n",
       "    </tr>\n",
       "  </tbody>\n",
       "</table>\n",
       "<p>5 rows × 81 columns</p>\n",
       "</div>"
      ],
      "text/plain": [
       "         1      5         6       7       8       9      10        15      20  \\\n",
       "0  2564.00  100.0   97.6133  0.1242  1.5005  0.0162 -0.0034  414.8710  1.4026   \n",
       "1  2465.14  100.0  102.3433  0.1247  1.4966 -0.0005 -0.0148  414.7347  1.3825   \n",
       "2  2559.94  100.0   95.4878  0.1241  1.4436  0.0041  0.0013  416.7075  1.4123   \n",
       "3  2479.90  100.0  104.2367  0.1217  1.4882 -0.0124 -0.0033  422.2894  1.4011   \n",
       "4  2502.87  100.0  100.3967  0.1235  1.5031 -0.0031 -0.0072  420.5925  1.3888   \n",
       "\n",
       "        23  ...     546      547       563       570     571     582  \\\n",
       "0 -4043.75  ...  1.0616  395.570  0.679641  533.8500  2.1113  0.5005   \n",
       "1 -3498.75  ...  1.3526  408.798  0.679641  535.0164  2.4335  0.5019   \n",
       "2 -4047.00  ...  0.7942  411.136  0.903200  535.0245  2.0293  0.4958   \n",
       "3 -4515.00  ...  1.1650  372.822  0.651100  530.5682  2.0253  0.4990   \n",
       "4 -3987.50  ...  1.4636  399.914  0.679641  532.0155  2.0275  0.4800   \n",
       "\n",
       "        586         589  Pass/Fail                 Time  \n",
       "0  0.021458   99.670066       -1.0  2008-07-19 11:55:00  \n",
       "1  0.009600  208.204500       -1.0  2008-07-19 12:32:00  \n",
       "2  0.058400   82.860200        1.0  2008-07-19 13:17:00  \n",
       "3  0.020200   73.843200       -1.0  2008-07-19 14:43:00  \n",
       "4  0.020200   73.843200       -1.0  2008-07-19 15:22:00  \n",
       "\n",
       "[5 rows x 81 columns]"
      ]
     },
     "execution_count": 28,
     "metadata": {},
     "output_type": "execute_result"
    }
   ],
   "source": [
    "signal_df_vif_removed_1.head()"
   ]
  },
  {
   "cell_type": "markdown",
   "id": "f1a51203",
   "metadata": {},
   "source": [
    "#### Q2 E - Make all relevant modifications on the data using both functional/logical reasoning/assumptions."
   ]
  },
  {
   "cell_type": "code",
   "execution_count": 29,
   "id": "f8d2a5a1",
   "metadata": {},
   "outputs": [
    {
     "name": "stderr",
     "output_type": "stream",
     "text": [
      "C:\\Users\\Datta\\AppData\\Local\\Temp\\ipykernel_11448\\2852103798.py:1: SettingWithCopyWarning: \n",
      "A value is trying to be set on a copy of a slice from a DataFrame.\n",
      "Try using .loc[row_indexer,col_indexer] = value instead\n",
      "\n",
      "See the caveats in the documentation: https://pandas.pydata.org/pandas-docs/stable/user_guide/indexing.html#returning-a-view-versus-a-copy\n",
      "  signal_df_vif_removed_1['year'] = pd.DatetimeIndex(signal_df_vif_removed_1['Time']).year\n",
      "C:\\Users\\Datta\\AppData\\Local\\Temp\\ipykernel_11448\\2852103798.py:2: SettingWithCopyWarning: \n",
      "A value is trying to be set on a copy of a slice from a DataFrame.\n",
      "Try using .loc[row_indexer,col_indexer] = value instead\n",
      "\n",
      "See the caveats in the documentation: https://pandas.pydata.org/pandas-docs/stable/user_guide/indexing.html#returning-a-view-versus-a-copy\n",
      "  signal_df_vif_removed_1['month'] = pd.DatetimeIndex(signal_df_vif_removed_1['Time']).month\n",
      "C:\\Users\\Datta\\AppData\\Local\\Temp\\ipykernel_11448\\2852103798.py:3: SettingWithCopyWarning: \n",
      "A value is trying to be set on a copy of a slice from a DataFrame.\n",
      "Try using .loc[row_indexer,col_indexer] = value instead\n",
      "\n",
      "See the caveats in the documentation: https://pandas.pydata.org/pandas-docs/stable/user_guide/indexing.html#returning-a-view-versus-a-copy\n",
      "  signal_df_vif_removed_1['date'] = pd.DatetimeIndex(signal_df_vif_removed_1['Time']).day\n",
      "C:\\Users\\Datta\\AppData\\Local\\Temp\\ipykernel_11448\\2852103798.py:4: SettingWithCopyWarning: \n",
      "A value is trying to be set on a copy of a slice from a DataFrame.\n",
      "Try using .loc[row_indexer,col_indexer] = value instead\n",
      "\n",
      "See the caveats in the documentation: https://pandas.pydata.org/pandas-docs/stable/user_guide/indexing.html#returning-a-view-versus-a-copy\n",
      "  signal_df_vif_removed_1['week_day'] = pd.DatetimeIndex(signal_df_vif_removed_1['Time']).weekday\n",
      "C:\\Users\\Datta\\AppData\\Local\\Temp\\ipykernel_11448\\2852103798.py:5: SettingWithCopyWarning: \n",
      "A value is trying to be set on a copy of a slice from a DataFrame.\n",
      "Try using .loc[row_indexer,col_indexer] = value instead\n",
      "\n",
      "See the caveats in the documentation: https://pandas.pydata.org/pandas-docs/stable/user_guide/indexing.html#returning-a-view-versus-a-copy\n",
      "  signal_df_vif_removed_1['start_time'] = pd.DatetimeIndex(signal_df_vif_removed_1['Time']).time\n",
      "C:\\Users\\Datta\\AppData\\Local\\Temp\\ipykernel_11448\\2852103798.py:6: SettingWithCopyWarning: \n",
      "A value is trying to be set on a copy of a slice from a DataFrame.\n",
      "Try using .loc[row_indexer,col_indexer] = value instead\n",
      "\n",
      "See the caveats in the documentation: https://pandas.pydata.org/pandas-docs/stable/user_guide/indexing.html#returning-a-view-versus-a-copy\n",
      "  signal_df_vif_removed_1['hour'] = pd.DatetimeIndex(signal_df_vif_removed_1['Time']).hour\n",
      "C:\\Users\\Datta\\AppData\\Local\\Temp\\ipykernel_11448\\2852103798.py:7: SettingWithCopyWarning: \n",
      "A value is trying to be set on a copy of a slice from a DataFrame.\n",
      "Try using .loc[row_indexer,col_indexer] = value instead\n",
      "\n",
      "See the caveats in the documentation: https://pandas.pydata.org/pandas-docs/stable/user_guide/indexing.html#returning-a-view-versus-a-copy\n",
      "  signal_df_vif_removed_1['min'] = pd.DatetimeIndex(signal_df_vif_removed_1['Time']).minute\n"
     ]
    }
   ],
   "source": [
    "signal_df_vif_removed_1['year'] = pd.DatetimeIndex(signal_df_vif_removed_1['Time']).year\n",
    "signal_df_vif_removed_1['month'] = pd.DatetimeIndex(signal_df_vif_removed_1['Time']).month\n",
    "signal_df_vif_removed_1['date'] = pd.DatetimeIndex(signal_df_vif_removed_1['Time']).day\n",
    "signal_df_vif_removed_1['week_day'] = pd.DatetimeIndex(signal_df_vif_removed_1['Time']).weekday\n",
    "signal_df_vif_removed_1['start_time'] = pd.DatetimeIndex(signal_df_vif_removed_1['Time']).time\n",
    "signal_df_vif_removed_1['hour'] = pd.DatetimeIndex(signal_df_vif_removed_1['Time']).hour\n",
    "signal_df_vif_removed_1['min'] = pd.DatetimeIndex(signal_df_vif_removed_1['Time']).minute"
   ]
  },
  {
   "cell_type": "code",
   "execution_count": 30,
   "id": "f27bbad2",
   "metadata": {},
   "outputs": [
    {
     "data": {
      "text/plain": [
       "-1.0    1463\n",
       " 1.0     104\n",
       "Name: Pass/Fail, dtype: int64"
      ]
     },
     "execution_count": 30,
     "metadata": {},
     "output_type": "execute_result"
    }
   ],
   "source": [
    "signal_df_vif_removed_1['Pass/Fail'].value_counts()"
   ]
  },
  {
   "cell_type": "code",
   "execution_count": 31,
   "id": "fe6a6d6b",
   "metadata": {},
   "outputs": [
    {
     "data": {
      "text/html": [
       "<div>\n",
       "<style scoped>\n",
       "    .dataframe tbody tr th:only-of-type {\n",
       "        vertical-align: middle;\n",
       "    }\n",
       "\n",
       "    .dataframe tbody tr th {\n",
       "        vertical-align: top;\n",
       "    }\n",
       "\n",
       "    .dataframe thead th {\n",
       "        text-align: right;\n",
       "    }\n",
       "</style>\n",
       "<table border=\"1\" class=\"dataframe\">\n",
       "  <thead>\n",
       "    <tr style=\"text-align: right;\">\n",
       "      <th></th>\n",
       "      <th>1</th>\n",
       "      <th>5</th>\n",
       "      <th>6</th>\n",
       "      <th>7</th>\n",
       "      <th>8</th>\n",
       "      <th>9</th>\n",
       "      <th>10</th>\n",
       "      <th>15</th>\n",
       "      <th>20</th>\n",
       "      <th>23</th>\n",
       "      <th>...</th>\n",
       "      <th>589</th>\n",
       "      <th>Pass/Fail</th>\n",
       "      <th>Time</th>\n",
       "      <th>year</th>\n",
       "      <th>month</th>\n",
       "      <th>date</th>\n",
       "      <th>week_day</th>\n",
       "      <th>start_time</th>\n",
       "      <th>hour</th>\n",
       "      <th>min</th>\n",
       "    </tr>\n",
       "  </thead>\n",
       "  <tbody>\n",
       "    <tr>\n",
       "      <th>0</th>\n",
       "      <td>2564.00</td>\n",
       "      <td>100.0</td>\n",
       "      <td>97.6133</td>\n",
       "      <td>0.1242</td>\n",
       "      <td>1.5005</td>\n",
       "      <td>0.0162</td>\n",
       "      <td>-0.0034</td>\n",
       "      <td>414.8710</td>\n",
       "      <td>1.4026</td>\n",
       "      <td>-4043.75</td>\n",
       "      <td>...</td>\n",
       "      <td>99.670066</td>\n",
       "      <td>-1.0</td>\n",
       "      <td>2008-07-19 11:55:00</td>\n",
       "      <td>2008</td>\n",
       "      <td>7</td>\n",
       "      <td>19</td>\n",
       "      <td>5</td>\n",
       "      <td>11:55:00</td>\n",
       "      <td>11</td>\n",
       "      <td>55</td>\n",
       "    </tr>\n",
       "    <tr>\n",
       "      <th>1</th>\n",
       "      <td>2465.14</td>\n",
       "      <td>100.0</td>\n",
       "      <td>102.3433</td>\n",
       "      <td>0.1247</td>\n",
       "      <td>1.4966</td>\n",
       "      <td>-0.0005</td>\n",
       "      <td>-0.0148</td>\n",
       "      <td>414.7347</td>\n",
       "      <td>1.3825</td>\n",
       "      <td>-3498.75</td>\n",
       "      <td>...</td>\n",
       "      <td>208.204500</td>\n",
       "      <td>-1.0</td>\n",
       "      <td>2008-07-19 12:32:00</td>\n",
       "      <td>2008</td>\n",
       "      <td>7</td>\n",
       "      <td>19</td>\n",
       "      <td>5</td>\n",
       "      <td>12:32:00</td>\n",
       "      <td>12</td>\n",
       "      <td>32</td>\n",
       "    </tr>\n",
       "    <tr>\n",
       "      <th>2</th>\n",
       "      <td>2559.94</td>\n",
       "      <td>100.0</td>\n",
       "      <td>95.4878</td>\n",
       "      <td>0.1241</td>\n",
       "      <td>1.4436</td>\n",
       "      <td>0.0041</td>\n",
       "      <td>0.0013</td>\n",
       "      <td>416.7075</td>\n",
       "      <td>1.4123</td>\n",
       "      <td>-4047.00</td>\n",
       "      <td>...</td>\n",
       "      <td>82.860200</td>\n",
       "      <td>1.0</td>\n",
       "      <td>2008-07-19 13:17:00</td>\n",
       "      <td>2008</td>\n",
       "      <td>7</td>\n",
       "      <td>19</td>\n",
       "      <td>5</td>\n",
       "      <td>13:17:00</td>\n",
       "      <td>13</td>\n",
       "      <td>17</td>\n",
       "    </tr>\n",
       "    <tr>\n",
       "      <th>3</th>\n",
       "      <td>2479.90</td>\n",
       "      <td>100.0</td>\n",
       "      <td>104.2367</td>\n",
       "      <td>0.1217</td>\n",
       "      <td>1.4882</td>\n",
       "      <td>-0.0124</td>\n",
       "      <td>-0.0033</td>\n",
       "      <td>422.2894</td>\n",
       "      <td>1.4011</td>\n",
       "      <td>-4515.00</td>\n",
       "      <td>...</td>\n",
       "      <td>73.843200</td>\n",
       "      <td>-1.0</td>\n",
       "      <td>2008-07-19 14:43:00</td>\n",
       "      <td>2008</td>\n",
       "      <td>7</td>\n",
       "      <td>19</td>\n",
       "      <td>5</td>\n",
       "      <td>14:43:00</td>\n",
       "      <td>14</td>\n",
       "      <td>43</td>\n",
       "    </tr>\n",
       "    <tr>\n",
       "      <th>4</th>\n",
       "      <td>2502.87</td>\n",
       "      <td>100.0</td>\n",
       "      <td>100.3967</td>\n",
       "      <td>0.1235</td>\n",
       "      <td>1.5031</td>\n",
       "      <td>-0.0031</td>\n",
       "      <td>-0.0072</td>\n",
       "      <td>420.5925</td>\n",
       "      <td>1.3888</td>\n",
       "      <td>-3987.50</td>\n",
       "      <td>...</td>\n",
       "      <td>73.843200</td>\n",
       "      <td>-1.0</td>\n",
       "      <td>2008-07-19 15:22:00</td>\n",
       "      <td>2008</td>\n",
       "      <td>7</td>\n",
       "      <td>19</td>\n",
       "      <td>5</td>\n",
       "      <td>15:22:00</td>\n",
       "      <td>15</td>\n",
       "      <td>22</td>\n",
       "    </tr>\n",
       "  </tbody>\n",
       "</table>\n",
       "<p>5 rows × 88 columns</p>\n",
       "</div>"
      ],
      "text/plain": [
       "         1      5         6       7       8       9      10        15      20  \\\n",
       "0  2564.00  100.0   97.6133  0.1242  1.5005  0.0162 -0.0034  414.8710  1.4026   \n",
       "1  2465.14  100.0  102.3433  0.1247  1.4966 -0.0005 -0.0148  414.7347  1.3825   \n",
       "2  2559.94  100.0   95.4878  0.1241  1.4436  0.0041  0.0013  416.7075  1.4123   \n",
       "3  2479.90  100.0  104.2367  0.1217  1.4882 -0.0124 -0.0033  422.2894  1.4011   \n",
       "4  2502.87  100.0  100.3967  0.1235  1.5031 -0.0031 -0.0072  420.5925  1.3888   \n",
       "\n",
       "        23  ...         589  Pass/Fail                 Time  year  month  \\\n",
       "0 -4043.75  ...   99.670066       -1.0  2008-07-19 11:55:00  2008      7   \n",
       "1 -3498.75  ...  208.204500       -1.0  2008-07-19 12:32:00  2008      7   \n",
       "2 -4047.00  ...   82.860200        1.0  2008-07-19 13:17:00  2008      7   \n",
       "3 -4515.00  ...   73.843200       -1.0  2008-07-19 14:43:00  2008      7   \n",
       "4 -3987.50  ...   73.843200       -1.0  2008-07-19 15:22:00  2008      7   \n",
       "\n",
       "   date  week_day  start_time  hour  min  \n",
       "0    19         5    11:55:00    11   55  \n",
       "1    19         5    12:32:00    12   32  \n",
       "2    19         5    13:17:00    13   17  \n",
       "3    19         5    14:43:00    14   43  \n",
       "4    19         5    15:22:00    15   22  \n",
       "\n",
       "[5 rows x 88 columns]"
      ]
     },
     "execution_count": 31,
     "metadata": {},
     "output_type": "execute_result"
    }
   ],
   "source": [
    "signal_df_vif_removed_1.head()"
   ]
  },
  {
   "cell_type": "markdown",
   "id": "d713c91c",
   "metadata": {},
   "source": [
    "#### Q3 A - Perform a detailed univariate Analysis with appropriate detailed comments after each analysis."
   ]
  },
  {
   "cell_type": "code",
   "execution_count": 32,
   "id": "cb2a4ce4",
   "metadata": {},
   "outputs": [
    {
     "data": {
      "text/plain": [
       "<AxesSubplot:xlabel='Pass/Fail', ylabel='count'>"
      ]
     },
     "execution_count": 32,
     "metadata": {},
     "output_type": "execute_result"
    },
    {
     "data": {
      "image/png": "[encoded data removed]",
      "text/plain": [
       "<Figure size 432x288 with 1 Axes>"
      ]
     },
     "metadata": {
      "needs_background": "light"
     },
     "output_type": "display_data"
    }
   ],
   "source": [
    "sns.countplot(data= signal_df_vif_removed_1, x= signal_df_vif_removed_1['Pass/Fail'])"
   ]
  },
  {
   "cell_type": "markdown",
   "id": "6cb4b26c",
   "metadata": {},
   "source": [
    "- There is imbalance in the output.\n",
    "- 1463 values are pass whereas 104 as fail.\n",
    "- The data is more towards pass."
   ]
  },
  {
   "cell_type": "code",
   "execution_count": 33,
   "id": "69d2d3ef",
   "metadata": {},
   "outputs": [
    {
     "data": {
      "image/png": "[encoded data removed]",
      "text/plain": [
       "<Figure size 432x288 with 1 Axes>"
      ]
     },
     "metadata": {
      "needs_background": "light"
     },
     "output_type": "display_data"
    }
   ],
   "source": [
    "sns.histplot( signal_df_vif_removed_1[signal_df_vif_removed_1['Pass/Fail'] == -1]['month'], color = 'g');\n",
    "sns.histplot( signal_df_vif_removed_1[signal_df_vif_removed_1['Pass/Fail'] == 1]['month'], color = 'b');"
   ]
  },
  {
   "cell_type": "markdown",
   "id": "212797c8",
   "metadata": {},
   "source": [
    "- The failures tend to decrease towards month end."
   ]
  },
  {
   "cell_type": "code",
   "execution_count": 34,
   "id": "62338b15",
   "metadata": {},
   "outputs": [
    {
     "data": {
      "image/png": "[encoded data removed]",
      "text/plain": [
       "<Figure size 432x288 with 1 Axes>"
      ]
     },
     "metadata": {
      "needs_background": "light"
     },
     "output_type": "display_data"
    }
   ],
   "source": [
    "sns.histplot( signal_df_vif_removed_1[signal_df_vif_removed_1['Pass/Fail'] == -1]['date'], color = 'g');\n",
    "sns.histplot( signal_df_vif_removed_1[signal_df_vif_removed_1['Pass/Fail'] == 1]['date'], color = 'y');"
   ]
  },
  {
   "cell_type": "markdown",
   "id": "89dc5a4e",
   "metadata": {},
   "source": [
    "#### Q3 B - Perform bivariate and multivariate analysis with appropriate detailed comments after each analysis."
   ]
  },
  {
   "cell_type": "code",
   "execution_count": 35,
   "id": "80256a45",
   "metadata": {},
   "outputs": [
    {
     "data": {
      "text/plain": [
       "Text(0.5, 1.0, 'Correlation heatmap for the Data')"
      ]
     },
     "execution_count": 35,
     "metadata": {},
     "output_type": "execute_result"
    },
    {
     "data": {
      "image/png": "[encoded data removed]",
      "text/plain": [
       "<Figure size 1296x1296 with 2 Axes>"
      ]
     },
     "metadata": {
      "needs_background": "light"
     },
     "output_type": "display_data"
    }
   ],
   "source": [
    "plt.rcParams['figure.figsize'] = (18, 18)\n",
    "sns.heatmap(signal_df_vif_removed_1.corr(), cmap = \"viridis\")\n",
    "plt.title('Correlation heatmap for the Data', fontsize = 20)"
   ]
  },
  {
   "cell_type": "markdown",
   "id": "1d66d8c8",
   "metadata": {},
   "source": [
    "- 410 have very strong correlation with features like 367\n",
    "- 78, 587, 129 have very less correlation."
   ]
  },
  {
   "cell_type": "markdown",
   "id": "d17b383c",
   "metadata": {},
   "source": [
    "#### Q4 A - Segregate predictors vs target attributes."
   ]
  },
  {
   "cell_type": "code",
   "execution_count": 36,
   "id": "aa479591",
   "metadata": {},
   "outputs": [
    {
     "data": {
      "text/html": [
       "<div>\n",
       "<style scoped>\n",
       "    .dataframe tbody tr th:only-of-type {\n",
       "        vertical-align: middle;\n",
       "    }\n",
       "\n",
       "    .dataframe tbody tr th {\n",
       "        vertical-align: top;\n",
       "    }\n",
       "\n",
       "    .dataframe thead th {\n",
       "        text-align: right;\n",
       "    }\n",
       "</style>\n",
       "<table border=\"1\" class=\"dataframe\">\n",
       "  <thead>\n",
       "    <tr style=\"text-align: right;\">\n",
       "      <th></th>\n",
       "      <th>1</th>\n",
       "      <th>5</th>\n",
       "      <th>6</th>\n",
       "      <th>7</th>\n",
       "      <th>8</th>\n",
       "      <th>9</th>\n",
       "      <th>10</th>\n",
       "      <th>15</th>\n",
       "      <th>20</th>\n",
       "      <th>23</th>\n",
       "      <th>...</th>\n",
       "      <th>544</th>\n",
       "      <th>546</th>\n",
       "      <th>547</th>\n",
       "      <th>563</th>\n",
       "      <th>570</th>\n",
       "      <th>571</th>\n",
       "      <th>582</th>\n",
       "      <th>586</th>\n",
       "      <th>589</th>\n",
       "      <th>Pass/Fail</th>\n",
       "    </tr>\n",
       "  </thead>\n",
       "  <tbody>\n",
       "    <tr>\n",
       "      <th>0</th>\n",
       "      <td>2564.00</td>\n",
       "      <td>100.0</td>\n",
       "      <td>97.6133</td>\n",
       "      <td>0.1242</td>\n",
       "      <td>1.5005</td>\n",
       "      <td>0.0162</td>\n",
       "      <td>-0.0034</td>\n",
       "      <td>414.8710</td>\n",
       "      <td>1.4026</td>\n",
       "      <td>-4043.75</td>\n",
       "      <td>...</td>\n",
       "      <td>0.0026</td>\n",
       "      <td>1.0616</td>\n",
       "      <td>395.570</td>\n",
       "      <td>0.679641</td>\n",
       "      <td>533.8500</td>\n",
       "      <td>2.1113</td>\n",
       "      <td>0.5005</td>\n",
       "      <td>0.021458</td>\n",
       "      <td>99.670066</td>\n",
       "      <td>-1.0</td>\n",
       "    </tr>\n",
       "    <tr>\n",
       "      <th>1</th>\n",
       "      <td>2465.14</td>\n",
       "      <td>100.0</td>\n",
       "      <td>102.3433</td>\n",
       "      <td>0.1247</td>\n",
       "      <td>1.4966</td>\n",
       "      <td>-0.0005</td>\n",
       "      <td>-0.0148</td>\n",
       "      <td>414.7347</td>\n",
       "      <td>1.3825</td>\n",
       "      <td>-3498.75</td>\n",
       "      <td>...</td>\n",
       "      <td>0.0026</td>\n",
       "      <td>1.3526</td>\n",
       "      <td>408.798</td>\n",
       "      <td>0.679641</td>\n",
       "      <td>535.0164</td>\n",
       "      <td>2.4335</td>\n",
       "      <td>0.5019</td>\n",
       "      <td>0.009600</td>\n",
       "      <td>208.204500</td>\n",
       "      <td>-1.0</td>\n",
       "    </tr>\n",
       "    <tr>\n",
       "      <th>2</th>\n",
       "      <td>2559.94</td>\n",
       "      <td>100.0</td>\n",
       "      <td>95.4878</td>\n",
       "      <td>0.1241</td>\n",
       "      <td>1.4436</td>\n",
       "      <td>0.0041</td>\n",
       "      <td>0.0013</td>\n",
       "      <td>416.7075</td>\n",
       "      <td>1.4123</td>\n",
       "      <td>-4047.00</td>\n",
       "      <td>...</td>\n",
       "      <td>0.0026</td>\n",
       "      <td>0.7942</td>\n",
       "      <td>411.136</td>\n",
       "      <td>0.903200</td>\n",
       "      <td>535.0245</td>\n",
       "      <td>2.0293</td>\n",
       "      <td>0.4958</td>\n",
       "      <td>0.058400</td>\n",
       "      <td>82.860200</td>\n",
       "      <td>1.0</td>\n",
       "    </tr>\n",
       "    <tr>\n",
       "      <th>3</th>\n",
       "      <td>2479.90</td>\n",
       "      <td>100.0</td>\n",
       "      <td>104.2367</td>\n",
       "      <td>0.1217</td>\n",
       "      <td>1.4882</td>\n",
       "      <td>-0.0124</td>\n",
       "      <td>-0.0033</td>\n",
       "      <td>422.2894</td>\n",
       "      <td>1.4011</td>\n",
       "      <td>-4515.00</td>\n",
       "      <td>...</td>\n",
       "      <td>0.0026</td>\n",
       "      <td>1.1650</td>\n",
       "      <td>372.822</td>\n",
       "      <td>0.651100</td>\n",
       "      <td>530.5682</td>\n",
       "      <td>2.0253</td>\n",
       "      <td>0.4990</td>\n",
       "      <td>0.020200</td>\n",
       "      <td>73.843200</td>\n",
       "      <td>-1.0</td>\n",
       "    </tr>\n",
       "    <tr>\n",
       "      <th>4</th>\n",
       "      <td>2502.87</td>\n",
       "      <td>100.0</td>\n",
       "      <td>100.3967</td>\n",
       "      <td>0.1235</td>\n",
       "      <td>1.5031</td>\n",
       "      <td>-0.0031</td>\n",
       "      <td>-0.0072</td>\n",
       "      <td>420.5925</td>\n",
       "      <td>1.3888</td>\n",
       "      <td>-3987.50</td>\n",
       "      <td>...</td>\n",
       "      <td>0.0026</td>\n",
       "      <td>1.4636</td>\n",
       "      <td>399.914</td>\n",
       "      <td>0.679641</td>\n",
       "      <td>532.0155</td>\n",
       "      <td>2.0275</td>\n",
       "      <td>0.4800</td>\n",
       "      <td>0.020200</td>\n",
       "      <td>73.843200</td>\n",
       "      <td>-1.0</td>\n",
       "    </tr>\n",
       "  </tbody>\n",
       "</table>\n",
       "<p>5 rows × 80 columns</p>\n",
       "</div>"
      ],
      "text/plain": [
       "         1      5         6       7       8       9      10        15      20  \\\n",
       "0  2564.00  100.0   97.6133  0.1242  1.5005  0.0162 -0.0034  414.8710  1.4026   \n",
       "1  2465.14  100.0  102.3433  0.1247  1.4966 -0.0005 -0.0148  414.7347  1.3825   \n",
       "2  2559.94  100.0   95.4878  0.1241  1.4436  0.0041  0.0013  416.7075  1.4123   \n",
       "3  2479.90  100.0  104.2367  0.1217  1.4882 -0.0124 -0.0033  422.2894  1.4011   \n",
       "4  2502.87  100.0  100.3967  0.1235  1.5031 -0.0031 -0.0072  420.5925  1.3888   \n",
       "\n",
       "        23  ...     544     546      547       563       570     571     582  \\\n",
       "0 -4043.75  ...  0.0026  1.0616  395.570  0.679641  533.8500  2.1113  0.5005   \n",
       "1 -3498.75  ...  0.0026  1.3526  408.798  0.679641  535.0164  2.4335  0.5019   \n",
       "2 -4047.00  ...  0.0026  0.7942  411.136  0.903200  535.0245  2.0293  0.4958   \n",
       "3 -4515.00  ...  0.0026  1.1650  372.822  0.651100  530.5682  2.0253  0.4990   \n",
       "4 -3987.50  ...  0.0026  1.4636  399.914  0.679641  532.0155  2.0275  0.4800   \n",
       "\n",
       "        586         589  Pass/Fail  \n",
       "0  0.021458   99.670066       -1.0  \n",
       "1  0.009600  208.204500       -1.0  \n",
       "2  0.058400   82.860200        1.0  \n",
       "3  0.020200   73.843200       -1.0  \n",
       "4  0.020200   73.843200       -1.0  \n",
       "\n",
       "[5 rows x 80 columns]"
      ]
     },
     "execution_count": 36,
     "metadata": {},
     "output_type": "execute_result"
    }
   ],
   "source": [
    "backup_df = signal_df_vif_removed_1.copy(deep= True)\n",
    "backup_df.drop(['Time','year','month','date','week_day','hour','min','start_time'], axis= 1, inplace= True)\n",
    "backup_df.head()"
   ]
  },
  {
   "cell_type": "code",
   "execution_count": 37,
   "id": "57cee951",
   "metadata": {},
   "outputs": [],
   "source": [
    "backup_df = backup_df.T.reset_index(drop=True).T"
   ]
  },
  {
   "cell_type": "code",
   "execution_count": 38,
   "id": "dc9680c3",
   "metadata": {},
   "outputs": [
    {
     "data": {
      "text/html": [
       "<div>\n",
       "<style scoped>\n",
       "    .dataframe tbody tr th:only-of-type {\n",
       "        vertical-align: middle;\n",
       "    }\n",
       "\n",
       "    .dataframe tbody tr th {\n",
       "        vertical-align: top;\n",
       "    }\n",
       "\n",
       "    .dataframe thead th {\n",
       "        text-align: right;\n",
       "    }\n",
       "</style>\n",
       "<table border=\"1\" class=\"dataframe\">\n",
       "  <thead>\n",
       "    <tr style=\"text-align: right;\">\n",
       "      <th></th>\n",
       "      <th>0</th>\n",
       "      <th>1</th>\n",
       "      <th>2</th>\n",
       "      <th>3</th>\n",
       "      <th>4</th>\n",
       "      <th>5</th>\n",
       "      <th>6</th>\n",
       "      <th>7</th>\n",
       "      <th>8</th>\n",
       "      <th>9</th>\n",
       "      <th>...</th>\n",
       "      <th>70</th>\n",
       "      <th>71</th>\n",
       "      <th>72</th>\n",
       "      <th>73</th>\n",
       "      <th>74</th>\n",
       "      <th>75</th>\n",
       "      <th>76</th>\n",
       "      <th>77</th>\n",
       "      <th>78</th>\n",
       "      <th>79</th>\n",
       "    </tr>\n",
       "  </thead>\n",
       "  <tbody>\n",
       "    <tr>\n",
       "      <th>0</th>\n",
       "      <td>2564.00</td>\n",
       "      <td>100.0</td>\n",
       "      <td>97.6133</td>\n",
       "      <td>0.1242</td>\n",
       "      <td>1.5005</td>\n",
       "      <td>0.0162</td>\n",
       "      <td>-0.0034</td>\n",
       "      <td>414.8710</td>\n",
       "      <td>1.4026</td>\n",
       "      <td>-4043.75</td>\n",
       "      <td>...</td>\n",
       "      <td>0.0026</td>\n",
       "      <td>1.0616</td>\n",
       "      <td>395.570</td>\n",
       "      <td>0.679641</td>\n",
       "      <td>533.8500</td>\n",
       "      <td>2.1113</td>\n",
       "      <td>0.5005</td>\n",
       "      <td>0.021458</td>\n",
       "      <td>99.670066</td>\n",
       "      <td>-1.0</td>\n",
       "    </tr>\n",
       "    <tr>\n",
       "      <th>1</th>\n",
       "      <td>2465.14</td>\n",
       "      <td>100.0</td>\n",
       "      <td>102.3433</td>\n",
       "      <td>0.1247</td>\n",
       "      <td>1.4966</td>\n",
       "      <td>-0.0005</td>\n",
       "      <td>-0.0148</td>\n",
       "      <td>414.7347</td>\n",
       "      <td>1.3825</td>\n",
       "      <td>-3498.75</td>\n",
       "      <td>...</td>\n",
       "      <td>0.0026</td>\n",
       "      <td>1.3526</td>\n",
       "      <td>408.798</td>\n",
       "      <td>0.679641</td>\n",
       "      <td>535.0164</td>\n",
       "      <td>2.4335</td>\n",
       "      <td>0.5019</td>\n",
       "      <td>0.009600</td>\n",
       "      <td>208.204500</td>\n",
       "      <td>-1.0</td>\n",
       "    </tr>\n",
       "    <tr>\n",
       "      <th>2</th>\n",
       "      <td>2559.94</td>\n",
       "      <td>100.0</td>\n",
       "      <td>95.4878</td>\n",
       "      <td>0.1241</td>\n",
       "      <td>1.4436</td>\n",
       "      <td>0.0041</td>\n",
       "      <td>0.0013</td>\n",
       "      <td>416.7075</td>\n",
       "      <td>1.4123</td>\n",
       "      <td>-4047.00</td>\n",
       "      <td>...</td>\n",
       "      <td>0.0026</td>\n",
       "      <td>0.7942</td>\n",
       "      <td>411.136</td>\n",
       "      <td>0.903200</td>\n",
       "      <td>535.0245</td>\n",
       "      <td>2.0293</td>\n",
       "      <td>0.4958</td>\n",
       "      <td>0.058400</td>\n",
       "      <td>82.860200</td>\n",
       "      <td>1.0</td>\n",
       "    </tr>\n",
       "    <tr>\n",
       "      <th>3</th>\n",
       "      <td>2479.90</td>\n",
       "      <td>100.0</td>\n",
       "      <td>104.2367</td>\n",
       "      <td>0.1217</td>\n",
       "      <td>1.4882</td>\n",
       "      <td>-0.0124</td>\n",
       "      <td>-0.0033</td>\n",
       "      <td>422.2894</td>\n",
       "      <td>1.4011</td>\n",
       "      <td>-4515.00</td>\n",
       "      <td>...</td>\n",
       "      <td>0.0026</td>\n",
       "      <td>1.1650</td>\n",
       "      <td>372.822</td>\n",
       "      <td>0.651100</td>\n",
       "      <td>530.5682</td>\n",
       "      <td>2.0253</td>\n",
       "      <td>0.4990</td>\n",
       "      <td>0.020200</td>\n",
       "      <td>73.843200</td>\n",
       "      <td>-1.0</td>\n",
       "    </tr>\n",
       "    <tr>\n",
       "      <th>4</th>\n",
       "      <td>2502.87</td>\n",
       "      <td>100.0</td>\n",
       "      <td>100.3967</td>\n",
       "      <td>0.1235</td>\n",
       "      <td>1.5031</td>\n",
       "      <td>-0.0031</td>\n",
       "      <td>-0.0072</td>\n",
       "      <td>420.5925</td>\n",
       "      <td>1.3888</td>\n",
       "      <td>-3987.50</td>\n",
       "      <td>...</td>\n",
       "      <td>0.0026</td>\n",
       "      <td>1.4636</td>\n",
       "      <td>399.914</td>\n",
       "      <td>0.679641</td>\n",
       "      <td>532.0155</td>\n",
       "      <td>2.0275</td>\n",
       "      <td>0.4800</td>\n",
       "      <td>0.020200</td>\n",
       "      <td>73.843200</td>\n",
       "      <td>-1.0</td>\n",
       "    </tr>\n",
       "  </tbody>\n",
       "</table>\n",
       "<p>5 rows × 80 columns</p>\n",
       "</div>"
      ],
      "text/plain": [
       "        0      1         2       3       4       5       6         7       8   \\\n",
       "0  2564.00  100.0   97.6133  0.1242  1.5005  0.0162 -0.0034  414.8710  1.4026   \n",
       "1  2465.14  100.0  102.3433  0.1247  1.4966 -0.0005 -0.0148  414.7347  1.3825   \n",
       "2  2559.94  100.0   95.4878  0.1241  1.4436  0.0041  0.0013  416.7075  1.4123   \n",
       "3  2479.90  100.0  104.2367  0.1217  1.4882 -0.0124 -0.0033  422.2894  1.4011   \n",
       "4  2502.87  100.0  100.3967  0.1235  1.5031 -0.0031 -0.0072  420.5925  1.3888   \n",
       "\n",
       "        9   ...      70      71       72        73        74      75      76  \\\n",
       "0 -4043.75  ...  0.0026  1.0616  395.570  0.679641  533.8500  2.1113  0.5005   \n",
       "1 -3498.75  ...  0.0026  1.3526  408.798  0.679641  535.0164  2.4335  0.5019   \n",
       "2 -4047.00  ...  0.0026  0.7942  411.136  0.903200  535.0245  2.0293  0.4958   \n",
       "3 -4515.00  ...  0.0026  1.1650  372.822  0.651100  530.5682  2.0253  0.4990   \n",
       "4 -3987.50  ...  0.0026  1.4636  399.914  0.679641  532.0155  2.0275  0.4800   \n",
       "\n",
       "         77          78   79  \n",
       "0  0.021458   99.670066 -1.0  \n",
       "1  0.009600  208.204500 -1.0  \n",
       "2  0.058400   82.860200  1.0  \n",
       "3  0.020200   73.843200 -1.0  \n",
       "4  0.020200   73.843200 -1.0  \n",
       "\n",
       "[5 rows x 80 columns]"
      ]
     },
     "execution_count": 38,
     "metadata": {},
     "output_type": "execute_result"
    }
   ],
   "source": [
    "backup_df.head()"
   ]
  },
  {
   "cell_type": "code",
   "execution_count": 39,
   "id": "30af2989",
   "metadata": {},
   "outputs": [],
   "source": [
    "backup_df.rename(columns= {79: 'Pass/Fail'}, inplace= True)"
   ]
  },
  {
   "cell_type": "code",
   "execution_count": 40,
   "id": "59dd6e49",
   "metadata": {},
   "outputs": [],
   "source": [
    "X = backup_df.drop(labels= ['Pass/Fail'], axis= 1)\n",
    "y = backup_df['Pass/Fail']"
   ]
  },
  {
   "cell_type": "code",
   "execution_count": 41,
   "id": "54bf2b15",
   "metadata": {},
   "outputs": [
    {
     "data": {
      "text/html": [
       "<div>\n",
       "<style scoped>\n",
       "    .dataframe tbody tr th:only-of-type {\n",
       "        vertical-align: middle;\n",
       "    }\n",
       "\n",
       "    .dataframe tbody tr th {\n",
       "        vertical-align: top;\n",
       "    }\n",
       "\n",
       "    .dataframe thead th {\n",
       "        text-align: right;\n",
       "    }\n",
       "</style>\n",
       "<table border=\"1\" class=\"dataframe\">\n",
       "  <thead>\n",
       "    <tr style=\"text-align: right;\">\n",
       "      <th></th>\n",
       "      <th>0</th>\n",
       "      <th>1</th>\n",
       "      <th>2</th>\n",
       "      <th>3</th>\n",
       "      <th>4</th>\n",
       "      <th>5</th>\n",
       "      <th>6</th>\n",
       "      <th>7</th>\n",
       "      <th>8</th>\n",
       "      <th>9</th>\n",
       "      <th>...</th>\n",
       "      <th>69</th>\n",
       "      <th>70</th>\n",
       "      <th>71</th>\n",
       "      <th>72</th>\n",
       "      <th>73</th>\n",
       "      <th>74</th>\n",
       "      <th>75</th>\n",
       "      <th>76</th>\n",
       "      <th>77</th>\n",
       "      <th>78</th>\n",
       "    </tr>\n",
       "  </thead>\n",
       "  <tbody>\n",
       "    <tr>\n",
       "      <th>0</th>\n",
       "      <td>2564.00</td>\n",
       "      <td>100.0</td>\n",
       "      <td>97.6133</td>\n",
       "      <td>0.1242</td>\n",
       "      <td>1.5005</td>\n",
       "      <td>0.0162</td>\n",
       "      <td>-0.0034</td>\n",
       "      <td>414.8710</td>\n",
       "      <td>1.4026</td>\n",
       "      <td>-4043.75</td>\n",
       "      <td>...</td>\n",
       "      <td>0.0</td>\n",
       "      <td>0.0026</td>\n",
       "      <td>1.0616</td>\n",
       "      <td>395.570</td>\n",
       "      <td>0.679641</td>\n",
       "      <td>533.8500</td>\n",
       "      <td>2.1113</td>\n",
       "      <td>0.5005</td>\n",
       "      <td>0.021458</td>\n",
       "      <td>99.670066</td>\n",
       "    </tr>\n",
       "    <tr>\n",
       "      <th>1</th>\n",
       "      <td>2465.14</td>\n",
       "      <td>100.0</td>\n",
       "      <td>102.3433</td>\n",
       "      <td>0.1247</td>\n",
       "      <td>1.4966</td>\n",
       "      <td>-0.0005</td>\n",
       "      <td>-0.0148</td>\n",
       "      <td>414.7347</td>\n",
       "      <td>1.3825</td>\n",
       "      <td>-3498.75</td>\n",
       "      <td>...</td>\n",
       "      <td>0.0</td>\n",
       "      <td>0.0026</td>\n",
       "      <td>1.3526</td>\n",
       "      <td>408.798</td>\n",
       "      <td>0.679641</td>\n",
       "      <td>535.0164</td>\n",
       "      <td>2.4335</td>\n",
       "      <td>0.5019</td>\n",
       "      <td>0.009600</td>\n",
       "      <td>208.204500</td>\n",
       "    </tr>\n",
       "    <tr>\n",
       "      <th>2</th>\n",
       "      <td>2559.94</td>\n",
       "      <td>100.0</td>\n",
       "      <td>95.4878</td>\n",
       "      <td>0.1241</td>\n",
       "      <td>1.4436</td>\n",
       "      <td>0.0041</td>\n",
       "      <td>0.0013</td>\n",
       "      <td>416.7075</td>\n",
       "      <td>1.4123</td>\n",
       "      <td>-4047.00</td>\n",
       "      <td>...</td>\n",
       "      <td>0.0</td>\n",
       "      <td>0.0026</td>\n",
       "      <td>0.7942</td>\n",
       "      <td>411.136</td>\n",
       "      <td>0.903200</td>\n",
       "      <td>535.0245</td>\n",
       "      <td>2.0293</td>\n",
       "      <td>0.4958</td>\n",
       "      <td>0.058400</td>\n",
       "      <td>82.860200</td>\n",
       "    </tr>\n",
       "    <tr>\n",
       "      <th>3</th>\n",
       "      <td>2479.90</td>\n",
       "      <td>100.0</td>\n",
       "      <td>104.2367</td>\n",
       "      <td>0.1217</td>\n",
       "      <td>1.4882</td>\n",
       "      <td>-0.0124</td>\n",
       "      <td>-0.0033</td>\n",
       "      <td>422.2894</td>\n",
       "      <td>1.4011</td>\n",
       "      <td>-4515.00</td>\n",
       "      <td>...</td>\n",
       "      <td>0.0</td>\n",
       "      <td>0.0026</td>\n",
       "      <td>1.1650</td>\n",
       "      <td>372.822</td>\n",
       "      <td>0.651100</td>\n",
       "      <td>530.5682</td>\n",
       "      <td>2.0253</td>\n",
       "      <td>0.4990</td>\n",
       "      <td>0.020200</td>\n",
       "      <td>73.843200</td>\n",
       "    </tr>\n",
       "    <tr>\n",
       "      <th>4</th>\n",
       "      <td>2502.87</td>\n",
       "      <td>100.0</td>\n",
       "      <td>100.3967</td>\n",
       "      <td>0.1235</td>\n",
       "      <td>1.5031</td>\n",
       "      <td>-0.0031</td>\n",
       "      <td>-0.0072</td>\n",
       "      <td>420.5925</td>\n",
       "      <td>1.3888</td>\n",
       "      <td>-3987.50</td>\n",
       "      <td>...</td>\n",
       "      <td>0.0</td>\n",
       "      <td>0.0026</td>\n",
       "      <td>1.4636</td>\n",
       "      <td>399.914</td>\n",
       "      <td>0.679641</td>\n",
       "      <td>532.0155</td>\n",
       "      <td>2.0275</td>\n",
       "      <td>0.4800</td>\n",
       "      <td>0.020200</td>\n",
       "      <td>73.843200</td>\n",
       "    </tr>\n",
       "  </tbody>\n",
       "</table>\n",
       "<p>5 rows × 79 columns</p>\n",
       "</div>"
      ],
      "text/plain": [
       "        0      1         2       3       4       5       6         7       8   \\\n",
       "0  2564.00  100.0   97.6133  0.1242  1.5005  0.0162 -0.0034  414.8710  1.4026   \n",
       "1  2465.14  100.0  102.3433  0.1247  1.4966 -0.0005 -0.0148  414.7347  1.3825   \n",
       "2  2559.94  100.0   95.4878  0.1241  1.4436  0.0041  0.0013  416.7075  1.4123   \n",
       "3  2479.90  100.0  104.2367  0.1217  1.4882 -0.0124 -0.0033  422.2894  1.4011   \n",
       "4  2502.87  100.0  100.3967  0.1235  1.5031 -0.0031 -0.0072  420.5925  1.3888   \n",
       "\n",
       "        9   ...   69      70      71       72        73        74      75  \\\n",
       "0 -4043.75  ...  0.0  0.0026  1.0616  395.570  0.679641  533.8500  2.1113   \n",
       "1 -3498.75  ...  0.0  0.0026  1.3526  408.798  0.679641  535.0164  2.4335   \n",
       "2 -4047.00  ...  0.0  0.0026  0.7942  411.136  0.903200  535.0245  2.0293   \n",
       "3 -4515.00  ...  0.0  0.0026  1.1650  372.822  0.651100  530.5682  2.0253   \n",
       "4 -3987.50  ...  0.0  0.0026  1.4636  399.914  0.679641  532.0155  2.0275   \n",
       "\n",
       "       76        77          78  \n",
       "0  0.5005  0.021458   99.670066  \n",
       "1  0.5019  0.009600  208.204500  \n",
       "2  0.4958  0.058400   82.860200  \n",
       "3  0.4990  0.020200   73.843200  \n",
       "4  0.4800  0.020200   73.843200  \n",
       "\n",
       "[5 rows x 79 columns]"
      ]
     },
     "execution_count": 41,
     "metadata": {},
     "output_type": "execute_result"
    }
   ],
   "source": [
    "X.head()"
   ]
  },
  {
   "cell_type": "code",
   "execution_count": 42,
   "id": "9d9e1871",
   "metadata": {},
   "outputs": [
    {
     "data": {
      "text/plain": [
       "0   -1.0\n",
       "1   -1.0\n",
       "2    1.0\n",
       "3   -1.0\n",
       "4   -1.0\n",
       "Name: Pass/Fail, dtype: float64"
      ]
     },
     "execution_count": 42,
     "metadata": {},
     "output_type": "execute_result"
    }
   ],
   "source": [
    "y.head()"
   ]
  },
  {
   "cell_type": "markdown",
   "id": "945b2f34",
   "metadata": {},
   "source": [
    "#### Q4 B - Check for target balancing and fix it if found imbalanced."
   ]
  },
  {
   "cell_type": "code",
   "execution_count": 43,
   "id": "04889d14",
   "metadata": {},
   "outputs": [
    {
     "data": {
      "text/plain": [
       "-1.0    1463\n",
       " 1.0     104\n",
       "Name: Pass/Fail, dtype: int64"
      ]
     },
     "execution_count": 43,
     "metadata": {},
     "output_type": "execute_result"
    }
   ],
   "source": [
    "y.value_counts()"
   ]
  },
  {
   "cell_type": "code",
   "execution_count": 44,
   "id": "60cb2673",
   "metadata": {},
   "outputs": [],
   "source": [
    "str1 = str((1463/1567)*100)\n",
    "str2 = str((104/1567)*100)"
   ]
  },
  {
   "cell_type": "code",
   "execution_count": 45,
   "id": "80596c8b",
   "metadata": {},
   "outputs": [
    {
     "name": "stdout",
     "output_type": "stream",
     "text": [
      "-1 class percentage is 93.36311423101468\n",
      "1 class percentage is 6.636885768985322\n"
     ]
    }
   ],
   "source": [
    "print('-1 class percentage is ' + str1)\n",
    "print('1 class percentage is ' + str2)"
   ]
  },
  {
   "cell_type": "code",
   "execution_count": 46,
   "id": "128ed9d7",
   "metadata": {},
   "outputs": [],
   "source": [
    "ros = RandomOverSampler()"
   ]
  },
  {
   "cell_type": "code",
   "execution_count": 47,
   "id": "23372428",
   "metadata": {},
   "outputs": [],
   "source": [
    "X_os, y_os = ros.fit_resample(X, y)"
   ]
  },
  {
   "cell_type": "code",
   "execution_count": 48,
   "id": "37fa9362",
   "metadata": {},
   "outputs": [
    {
     "name": "stdout",
     "output_type": "stream",
     "text": [
      "(1567, 79)\n",
      "(1567,)\n",
      "(2926, 79)\n",
      "(2926,)\n"
     ]
    }
   ],
   "source": [
    "print(X.shape)\n",
    "print(y.shape)\n",
    "print(X_os.shape)\n",
    "print(y_os.shape)"
   ]
  },
  {
   "cell_type": "code",
   "execution_count": 49,
   "id": "c3470ec8",
   "metadata": {},
   "outputs": [
    {
     "data": {
      "text/plain": [
       "-1.0    1463\n",
       " 1.0    1463\n",
       "Name: Pass/Fail, dtype: int64"
      ]
     },
     "execution_count": 49,
     "metadata": {},
     "output_type": "execute_result"
    }
   ],
   "source": [
    "y_os.value_counts()"
   ]
  },
  {
   "cell_type": "markdown",
   "id": "b2708f03",
   "metadata": {},
   "source": [
    "#### Q4 C - Perform train-test split and standardise the data or vice versa if required."
   ]
  },
  {
   "cell_type": "code",
   "execution_count": 50,
   "id": "fd85b73d",
   "metadata": {},
   "outputs": [],
   "source": [
    "X_os_train, X_os_test, y_os_train, y_os_test = train_test_split (X_os, y_os,  test_size= 0.20, random_state= 2)"
   ]
  },
  {
   "cell_type": "code",
   "execution_count": 51,
   "id": "39899703",
   "metadata": {},
   "outputs": [],
   "source": [
    "scaler_os_for_full_X = StandardScaler()"
   ]
  },
  {
   "cell_type": "code",
   "execution_count": 52,
   "id": "b1c103f1",
   "metadata": {},
   "outputs": [
    {
     "data": {
      "text/html": [
       "<style>#sk-container-id-1 {color: black;background-color: white;}#sk-container-id-1 pre{padding: 0;}#sk-container-id-1 div.sk-toggleable {background-color: white;}#sk-container-id-1 label.sk-toggleable__label {cursor: pointer;display: block;width: 100%;margin-bottom: 0;padding: 0.3em;box-sizing: border-box;text-align: center;}#sk-container-id-1 label.sk-toggleable__label-arrow:before {content: \"▸\";float: left;margin-right: 0.25em;color: #696969;}#sk-container-id-1 label.sk-toggleable__label-arrow:hover:before {color: black;}#sk-container-id-1 div.sk-estimator:hover label.sk-toggleable__label-arrow:before {color: black;}#sk-container-id-1 div.sk-toggleable__content {max-height: 0;max-width: 0;overflow: hidden;text-align: left;background-color: #f0f8ff;}#sk-container-id-1 div.sk-toggleable__content pre {margin: 0.2em;color: black;border-radius: 0.25em;background-color: #f0f8ff;}#sk-container-id-1 input.sk-toggleable__control:checked~div.sk-toggleable__content {max-height: 200px;max-width: 100%;overflow: auto;}#sk-container-id-1 input.sk-toggleable__control:checked~label.sk-toggleable__label-arrow:before {content: \"▾\";}#sk-container-id-1 div.sk-estimator input.sk-toggleable__control:checked~label.sk-toggleable__label {background-color: #d4ebff;}#sk-container-id-1 div.sk-label input.sk-toggleable__control:checked~label.sk-toggleable__label {background-color: #d4ebff;}#sk-container-id-1 input.sk-hidden--visually {border: 0;clip: rect(1px 1px 1px 1px);clip: rect(1px, 1px, 1px, 1px);height: 1px;margin: -1px;overflow: hidden;padding: 0;position: absolute;width: 1px;}#sk-container-id-1 div.sk-estimator {font-family: monospace;background-color: #f0f8ff;border: 1px dotted black;border-radius: 0.25em;box-sizing: border-box;margin-bottom: 0.5em;}#sk-container-id-1 div.sk-estimator:hover {background-color: #d4ebff;}#sk-container-id-1 div.sk-parallel-item::after {content: \"\";width: 100%;border-bottom: 1px solid gray;flex-grow: 1;}#sk-container-id-1 div.sk-label:hover label.sk-toggleable__label {background-color: #d4ebff;}#sk-container-id-1 div.sk-serial::before {content: \"\";position: absolute;border-left: 1px solid gray;box-sizing: border-box;top: 0;bottom: 0;left: 50%;z-index: 0;}#sk-container-id-1 div.sk-serial {display: flex;flex-direction: column;align-items: center;background-color: white;padding-right: 0.2em;padding-left: 0.2em;position: relative;}#sk-container-id-1 div.sk-item {position: relative;z-index: 1;}#sk-container-id-1 div.sk-parallel {display: flex;align-items: stretch;justify-content: center;background-color: white;position: relative;}#sk-container-id-1 div.sk-item::before, #sk-container-id-1 div.sk-parallel-item::before {content: \"\";position: absolute;border-left: 1px solid gray;box-sizing: border-box;top: 0;bottom: 0;left: 50%;z-index: -1;}#sk-container-id-1 div.sk-parallel-item {display: flex;flex-direction: column;z-index: 1;position: relative;background-color: white;}#sk-container-id-1 div.sk-parallel-item:first-child::after {align-self: flex-end;width: 50%;}#sk-container-id-1 div.sk-parallel-item:last-child::after {align-self: flex-start;width: 50%;}#sk-container-id-1 div.sk-parallel-item:only-child::after {width: 0;}#sk-container-id-1 div.sk-dashed-wrapped {border: 1px dashed gray;margin: 0 0.4em 0.5em 0.4em;box-sizing: border-box;padding-bottom: 0.4em;background-color: white;}#sk-container-id-1 div.sk-label label {font-family: monospace;font-weight: bold;display: inline-block;line-height: 1.2em;}#sk-container-id-1 div.sk-label-container {text-align: center;}#sk-container-id-1 div.sk-container {/* jupyter's `normalize.less` sets `[hidden] { display: none; }` but bootstrap.min.css set `[hidden] { display: none !important; }` so we also need the `!important` here to be able to override the default hidden behavior on the sphinx rendered scikit-learn.org. See: https://github.com/scikit-learn/scikit-learn/issues/21755 */display: inline-block !important;position: relative;}#sk-container-id-1 div.sk-text-repr-fallback {display: none;}</style><div id=\"sk-container-id-1\" class=\"sk-top-container\"><div class=\"sk-text-repr-fallback\"><pre>StandardScaler()</pre><b>In a Jupyter environment, please rerun this cell to show the HTML representation or trust the notebook. <br />On GitHub, the HTML representation is unable to render, please try loading this page with nbviewer.org.</b></div><div class=\"sk-container\" hidden><div class=\"sk-item\"><div class=\"sk-estimator sk-toggleable\"><input class=\"sk-toggleable__control sk-hidden--visually\" id=\"sk-estimator-id-1\" type=\"checkbox\" checked><label for=\"sk-estimator-id-1\" class=\"sk-toggleable__label sk-toggleable__label-arrow\">StandardScaler</label><div class=\"sk-toggleable__content\"><pre>StandardScaler()</pre></div></div></div></div></div>"
      ],
      "text/plain": [
       "StandardScaler()"
      ]
     },
     "execution_count": 52,
     "metadata": {},
     "output_type": "execute_result"
    }
   ],
   "source": [
    "scaler_os_for_full_X.fit(X_os)"
   ]
  },
  {
   "cell_type": "code",
   "execution_count": 53,
   "id": "bc47a254",
   "metadata": {},
   "outputs": [
    {
     "data": {
      "text/plain": [
       "array([[ 0.88273545,  0.        , -0.6246737 , ...,  0.03164908,\n",
       "         0.03376977, -0.01419913],\n",
       "       [-0.39487377,  0.        ,  0.20192038, ...,  0.42654937,\n",
       "        -0.95394877,  1.18118708],\n",
       "       [ 0.83026637,  0.        , -0.99611677, ..., -1.29408763,\n",
       "         3.11072662, -0.19934113],\n",
       "       ...,\n",
       "       [-0.02552245,  0.        ,  2.73122835, ..., -0.89918733,\n",
       "        -1.80353256, -1.11195418],\n",
       "       [-0.08962261,  0.        ,  0.17221192, ...,  0.31372072,\n",
       "        -0.88731475, -0.23299627],\n",
       "       [-0.61159951,  0.        ,  0.53725893, ..., -0.27862973,\n",
       "         1.62811961, -0.38317946]])"
      ]
     },
     "execution_count": 53,
     "metadata": {},
     "output_type": "execute_result"
    }
   ],
   "source": [
    "scaled_features_full_X = scaler_os_for_full_X.transform(X_os)\n",
    "scaled_features_full_X"
   ]
  },
  {
   "cell_type": "code",
   "execution_count": 54,
   "id": "1ce3c0f2",
   "metadata": {},
   "outputs": [],
   "source": [
    "Full_X_scaled_df = pd.DataFrame(scaled_features_full_X, columns= [0,\n",
    "1,\n",
    "2,\n",
    "3,\n",
    "4,\n",
    "5,\n",
    "6,\n",
    "7,\n",
    "8,\n",
    "9,\n",
    "10,\n",
    "11,\n",
    "12,\n",
    "13,\n",
    "14,\n",
    "15,\n",
    "16,\n",
    "17,\n",
    "18,\n",
    "19,\n",
    "20,\n",
    "21,\n",
    "22,\n",
    "23,\n",
    "24,\n",
    "25,\n",
    "26,\n",
    "27,\n",
    "28,\n",
    "29,\n",
    "30,\n",
    "31,\n",
    "32,\n",
    "33,\n",
    "34,\n",
    "35,\n",
    "36,\n",
    "37,\n",
    "38,\n",
    "39,\n",
    "40,\n",
    "41,\n",
    "42,\n",
    "43,\n",
    "44,\n",
    "45,\n",
    "46,\n",
    "47,\n",
    "48,\n",
    "49,\n",
    "50,\n",
    "51,\n",
    "52,\n",
    "53,\n",
    "54,\n",
    "55,\n",
    "56,\n",
    "57,\n",
    "58,\n",
    "59,\n",
    "60,\n",
    "61,\n",
    "62,\n",
    "63,\n",
    "64,\n",
    "65,\n",
    "66,\n",
    "67,\n",
    "68,\n",
    "69,\n",
    "70,\n",
    "71,\n",
    "72,\n",
    "73,\n",
    "74,\n",
    "75,\n",
    "76,\n",
    "77,\n",
    "78\n",
    "] ) "
   ]
  },
  {
   "cell_type": "code",
   "execution_count": 55,
   "id": "b88d7609",
   "metadata": {},
   "outputs": [
    {
     "data": {
      "text/html": [
       "<div>\n",
       "<style scoped>\n",
       "    .dataframe tbody tr th:only-of-type {\n",
       "        vertical-align: middle;\n",
       "    }\n",
       "\n",
       "    .dataframe tbody tr th {\n",
       "        vertical-align: top;\n",
       "    }\n",
       "\n",
       "    .dataframe thead th {\n",
       "        text-align: right;\n",
       "    }\n",
       "</style>\n",
       "<table border=\"1\" class=\"dataframe\">\n",
       "  <thead>\n",
       "    <tr style=\"text-align: right;\">\n",
       "      <th></th>\n",
       "      <th>0</th>\n",
       "      <th>1</th>\n",
       "      <th>2</th>\n",
       "      <th>3</th>\n",
       "      <th>4</th>\n",
       "      <th>5</th>\n",
       "      <th>6</th>\n",
       "      <th>7</th>\n",
       "      <th>8</th>\n",
       "      <th>9</th>\n",
       "      <th>...</th>\n",
       "      <th>69</th>\n",
       "      <th>70</th>\n",
       "      <th>71</th>\n",
       "      <th>72</th>\n",
       "      <th>73</th>\n",
       "      <th>74</th>\n",
       "      <th>75</th>\n",
       "      <th>76</th>\n",
       "      <th>77</th>\n",
       "      <th>78</th>\n",
       "    </tr>\n",
       "  </thead>\n",
       "  <tbody>\n",
       "    <tr>\n",
       "      <th>0</th>\n",
       "      <td>0.882735</td>\n",
       "      <td>0.0</td>\n",
       "      <td>-0.624674</td>\n",
       "      <td>0.332161</td>\n",
       "      <td>0.502425</td>\n",
       "      <td>1.224582</td>\n",
       "      <td>-0.438240</td>\n",
       "      <td>0.142539</td>\n",
       "      <td>-0.213230</td>\n",
       "      <td>-0.207829</td>\n",
       "      <td>...</td>\n",
       "      <td>-0.152084</td>\n",
       "      <td>0.274933</td>\n",
       "      <td>0.087858</td>\n",
       "      <td>-1.968110</td>\n",
       "      <td>0.039391</td>\n",
       "      <td>0.177390</td>\n",
       "      <td>0.014423</td>\n",
       "      <td>0.031649</td>\n",
       "      <td>0.033770</td>\n",
       "      <td>-0.014199</td>\n",
       "    </tr>\n",
       "    <tr>\n",
       "      <th>1</th>\n",
       "      <td>-0.394874</td>\n",
       "      <td>0.0</td>\n",
       "      <td>0.201920</td>\n",
       "      <td>0.406943</td>\n",
       "      <td>0.445029</td>\n",
       "      <td>0.064962</td>\n",
       "      <td>-1.617510</td>\n",
       "      <td>0.132531</td>\n",
       "      <td>-1.493156</td>\n",
       "      <td>0.182786</td>\n",
       "      <td>...</td>\n",
       "      <td>-0.152084</td>\n",
       "      <td>0.274933</td>\n",
       "      <td>0.941593</td>\n",
       "      <td>1.144195</td>\n",
       "      <td>0.039391</td>\n",
       "      <td>0.243486</td>\n",
       "      <td>1.051351</td>\n",
       "      <td>0.426549</td>\n",
       "      <td>-0.953949</td>\n",
       "      <td>1.181187</td>\n",
       "    </tr>\n",
       "    <tr>\n",
       "      <th>2</th>\n",
       "      <td>0.830266</td>\n",
       "      <td>0.0</td>\n",
       "      <td>-0.996117</td>\n",
       "      <td>0.317204</td>\n",
       "      <td>-0.334962</td>\n",
       "      <td>0.384378</td>\n",
       "      <td>0.047950</td>\n",
       "      <td>0.277386</td>\n",
       "      <td>0.404446</td>\n",
       "      <td>-0.210158</td>\n",
       "      <td>...</td>\n",
       "      <td>-0.152084</td>\n",
       "      <td>0.274933</td>\n",
       "      <td>-0.696639</td>\n",
       "      <td>1.694284</td>\n",
       "      <td>2.333228</td>\n",
       "      <td>0.243945</td>\n",
       "      <td>-0.249475</td>\n",
       "      <td>-1.294088</td>\n",
       "      <td>3.110727</td>\n",
       "      <td>-0.199341</td>\n",
       "    </tr>\n",
       "    <tr>\n",
       "      <th>3</th>\n",
       "      <td>-0.204124</td>\n",
       "      <td>0.0</td>\n",
       "      <td>0.532803</td>\n",
       "      <td>-0.041751</td>\n",
       "      <td>0.321408</td>\n",
       "      <td>-0.761354</td>\n",
       "      <td>-0.427895</td>\n",
       "      <td>0.687243</td>\n",
       "      <td>-0.308746</td>\n",
       "      <td>-0.545585</td>\n",
       "      <td>...</td>\n",
       "      <td>-0.152084</td>\n",
       "      <td>0.274933</td>\n",
       "      <td>0.391212</td>\n",
       "      <td>-7.320296</td>\n",
       "      <td>-0.253452</td>\n",
       "      <td>-0.008580</td>\n",
       "      <td>-0.262348</td>\n",
       "      <td>-0.391458</td>\n",
       "      <td>-0.071048</td>\n",
       "      <td>-0.298653</td>\n",
       "    </tr>\n",
       "    <tr>\n",
       "      <th>4</th>\n",
       "      <td>0.092727</td>\n",
       "      <td>0.0</td>\n",
       "      <td>-0.138259</td>\n",
       "      <td>0.227465</td>\n",
       "      <td>0.540688</td>\n",
       "      <td>-0.115577</td>\n",
       "      <td>-0.831330</td>\n",
       "      <td>0.562646</td>\n",
       "      <td>-1.091985</td>\n",
       "      <td>-0.167513</td>\n",
       "      <td>...</td>\n",
       "      <td>-0.152084</td>\n",
       "      <td>0.274933</td>\n",
       "      <td>1.267244</td>\n",
       "      <td>-0.946046</td>\n",
       "      <td>0.039391</td>\n",
       "      <td>0.073434</td>\n",
       "      <td>-0.255268</td>\n",
       "      <td>-5.750820</td>\n",
       "      <td>-0.071048</td>\n",
       "      <td>-0.298653</td>\n",
       "    </tr>\n",
       "  </tbody>\n",
       "</table>\n",
       "<p>5 rows × 79 columns</p>\n",
       "</div>"
      ],
      "text/plain": [
       "         0    1         2         3         4         5         6         7   \\\n",
       "0  0.882735  0.0 -0.624674  0.332161  0.502425  1.224582 -0.438240  0.142539   \n",
       "1 -0.394874  0.0  0.201920  0.406943  0.445029  0.064962 -1.617510  0.132531   \n",
       "2  0.830266  0.0 -0.996117  0.317204 -0.334962  0.384378  0.047950  0.277386   \n",
       "3 -0.204124  0.0  0.532803 -0.041751  0.321408 -0.761354 -0.427895  0.687243   \n",
       "4  0.092727  0.0 -0.138259  0.227465  0.540688 -0.115577 -0.831330  0.562646   \n",
       "\n",
       "         8         9   ...        69        70        71        72        73  \\\n",
       "0 -0.213230 -0.207829  ... -0.152084  0.274933  0.087858 -1.968110  0.039391   \n",
       "1 -1.493156  0.182786  ... -0.152084  0.274933  0.941593  1.144195  0.039391   \n",
       "2  0.404446 -0.210158  ... -0.152084  0.274933 -0.696639  1.694284  2.333228   \n",
       "3 -0.308746 -0.545585  ... -0.152084  0.274933  0.391212 -7.320296 -0.253452   \n",
       "4 -1.091985 -0.167513  ... -0.152084  0.274933  1.267244 -0.946046  0.039391   \n",
       "\n",
       "         74        75        76        77        78  \n",
       "0  0.177390  0.014423  0.031649  0.033770 -0.014199  \n",
       "1  0.243486  1.051351  0.426549 -0.953949  1.181187  \n",
       "2  0.243945 -0.249475 -1.294088  3.110727 -0.199341  \n",
       "3 -0.008580 -0.262348 -0.391458 -0.071048 -0.298653  \n",
       "4  0.073434 -0.255268 -5.750820 -0.071048 -0.298653  \n",
       "\n",
       "[5 rows x 79 columns]"
      ]
     },
     "execution_count": 55,
     "metadata": {},
     "output_type": "execute_result"
    }
   ],
   "source": [
    "Full_X_scaled_df.head()"
   ]
  },
  {
   "cell_type": "code",
   "execution_count": 56,
   "id": "c4203b08",
   "metadata": {},
   "outputs": [
    {
     "data": {
      "text/html": [
       "<style>#sk-container-id-2 {color: black;background-color: white;}#sk-container-id-2 pre{padding: 0;}#sk-container-id-2 div.sk-toggleable {background-color: white;}#sk-container-id-2 label.sk-toggleable__label {cursor: pointer;display: block;width: 100%;margin-bottom: 0;padding: 0.3em;box-sizing: border-box;text-align: center;}#sk-container-id-2 label.sk-toggleable__label-arrow:before {content: \"▸\";float: left;margin-right: 0.25em;color: #696969;}#sk-container-id-2 label.sk-toggleable__label-arrow:hover:before {color: black;}#sk-container-id-2 div.sk-estimator:hover label.sk-toggleable__label-arrow:before {color: black;}#sk-container-id-2 div.sk-toggleable__content {max-height: 0;max-width: 0;overflow: hidden;text-align: left;background-color: #f0f8ff;}#sk-container-id-2 div.sk-toggleable__content pre {margin: 0.2em;color: black;border-radius: 0.25em;background-color: #f0f8ff;}#sk-container-id-2 input.sk-toggleable__control:checked~div.sk-toggleable__content {max-height: 200px;max-width: 100%;overflow: auto;}#sk-container-id-2 input.sk-toggleable__control:checked~label.sk-toggleable__label-arrow:before {content: \"▾\";}#sk-container-id-2 div.sk-estimator input.sk-toggleable__control:checked~label.sk-toggleable__label {background-color: #d4ebff;}#sk-container-id-2 div.sk-label input.sk-toggleable__control:checked~label.sk-toggleable__label {background-color: #d4ebff;}#sk-container-id-2 input.sk-hidden--visually {border: 0;clip: rect(1px 1px 1px 1px);clip: rect(1px, 1px, 1px, 1px);height: 1px;margin: -1px;overflow: hidden;padding: 0;position: absolute;width: 1px;}#sk-container-id-2 div.sk-estimator {font-family: monospace;background-color: #f0f8ff;border: 1px dotted black;border-radius: 0.25em;box-sizing: border-box;margin-bottom: 0.5em;}#sk-container-id-2 div.sk-estimator:hover {background-color: #d4ebff;}#sk-container-id-2 div.sk-parallel-item::after {content: \"\";width: 100%;border-bottom: 1px solid gray;flex-grow: 1;}#sk-container-id-2 div.sk-label:hover label.sk-toggleable__label {background-color: #d4ebff;}#sk-container-id-2 div.sk-serial::before {content: \"\";position: absolute;border-left: 1px solid gray;box-sizing: border-box;top: 0;bottom: 0;left: 50%;z-index: 0;}#sk-container-id-2 div.sk-serial {display: flex;flex-direction: column;align-items: center;background-color: white;padding-right: 0.2em;padding-left: 0.2em;position: relative;}#sk-container-id-2 div.sk-item {position: relative;z-index: 1;}#sk-container-id-2 div.sk-parallel {display: flex;align-items: stretch;justify-content: center;background-color: white;position: relative;}#sk-container-id-2 div.sk-item::before, #sk-container-id-2 div.sk-parallel-item::before {content: \"\";position: absolute;border-left: 1px solid gray;box-sizing: border-box;top: 0;bottom: 0;left: 50%;z-index: -1;}#sk-container-id-2 div.sk-parallel-item {display: flex;flex-direction: column;z-index: 1;position: relative;background-color: white;}#sk-container-id-2 div.sk-parallel-item:first-child::after {align-self: flex-end;width: 50%;}#sk-container-id-2 div.sk-parallel-item:last-child::after {align-self: flex-start;width: 50%;}#sk-container-id-2 div.sk-parallel-item:only-child::after {width: 0;}#sk-container-id-2 div.sk-dashed-wrapped {border: 1px dashed gray;margin: 0 0.4em 0.5em 0.4em;box-sizing: border-box;padding-bottom: 0.4em;background-color: white;}#sk-container-id-2 div.sk-label label {font-family: monospace;font-weight: bold;display: inline-block;line-height: 1.2em;}#sk-container-id-2 div.sk-label-container {text-align: center;}#sk-container-id-2 div.sk-container {/* jupyter's `normalize.less` sets `[hidden] { display: none; }` but bootstrap.min.css set `[hidden] { display: none !important; }` so we also need the `!important` here to be able to override the default hidden behavior on the sphinx rendered scikit-learn.org. See: https://github.com/scikit-learn/scikit-learn/issues/21755 */display: inline-block !important;position: relative;}#sk-container-id-2 div.sk-text-repr-fallback {display: none;}</style><div id=\"sk-container-id-2\" class=\"sk-top-container\"><div class=\"sk-text-repr-fallback\"><pre>StandardScaler()</pre><b>In a Jupyter environment, please rerun this cell to show the HTML representation or trust the notebook. <br />On GitHub, the HTML representation is unable to render, please try loading this page with nbviewer.org.</b></div><div class=\"sk-container\" hidden><div class=\"sk-item\"><div class=\"sk-estimator sk-toggleable\"><input class=\"sk-toggleable__control sk-hidden--visually\" id=\"sk-estimator-id-2\" type=\"checkbox\" checked><label for=\"sk-estimator-id-2\" class=\"sk-toggleable__label sk-toggleable__label-arrow\">StandardScaler</label><div class=\"sk-toggleable__content\"><pre>StandardScaler()</pre></div></div></div></div></div>"
      ],
      "text/plain": [
       "StandardScaler()"
      ]
     },
     "execution_count": 56,
     "metadata": {},
     "output_type": "execute_result"
    }
   ],
   "source": [
    "scaler_os = StandardScaler()\n",
    "scaler_os.fit(X_os_train)"
   ]
  },
  {
   "cell_type": "code",
   "execution_count": 57,
   "id": "0e24d90d",
   "metadata": {},
   "outputs": [],
   "source": [
    "scaled_features_X_os_train = scaler_os.transform(X_os_train)\n",
    "scaled_features_X_os_test = scaler_os.transform(X_os_test)"
   ]
  },
  {
   "cell_type": "code",
   "execution_count": 58,
   "id": "2b1e7173",
   "metadata": {},
   "outputs": [
    {
     "data": {
      "text/plain": [
       "array([[-2.60229417,  0.        ,  0.7976838 , ..., -0.96470588,\n",
       "        -1.73987502, -1.12752203],\n",
       "       [-0.6814939 ,  0.        , -0.76616686, ...,  0.50638213,\n",
       "         0.55187511, -0.25026822],\n",
       "       [-0.50298331,  0.        ,  0.5185069 , ..., -0.0311308 ,\n",
       "        -1.39186852,  3.24039003],\n",
       "       ...,\n",
       "       [ 0.10263526,  0.        , -0.18704425, ..., -1.38905819,\n",
       "         0.577339  , -0.95581162],\n",
       "       [-0.6814939 ,  0.        , -0.76616686, ...,  0.50638213,\n",
       "         0.55187511, -0.25026822],\n",
       "       [ 1.23719849,  0.        ,  0.50735296, ...,  0.42151167,\n",
       "        -0.0507703 , -0.25191784]])"
      ]
     },
     "execution_count": 58,
     "metadata": {},
     "output_type": "execute_result"
    }
   ],
   "source": [
    "scaled_features_X_os_train "
   ]
  },
  {
   "cell_type": "code",
   "execution_count": 59,
   "id": "4187d326",
   "metadata": {},
   "outputs": [
    {
     "data": {
      "text/plain": [
       "array([[-0.18350865,  0.        ,  0.369978  , ..., -2.52066436,\n",
       "        -0.89956664,  1.24886187],\n",
       "       [-0.60047249,  0.        ,  0.60843008, ..., -2.06802189,\n",
       "         1.00173717, -0.32423298],\n",
       "       [-0.21012056,  0.        ,  0.57576376, ..., -0.28574218,\n",
       "        -1.14571758,  0.56078721],\n",
       "       ...,\n",
       "       [ 1.81870826,  0.        ,  0.12287947, ..., -1.04957634,\n",
       "        -0.73829534, -0.26892617],\n",
       "       [-0.91599489,  0.        , -0.64511642, ..., -0.20087172,\n",
       "         0.16991675, -0.10084179],\n",
       "       [-1.75650969,  0.        ,  0.8660946 , ..., -1.10615665,\n",
       "         1.06115291, -0.84510478]])"
      ]
     },
     "execution_count": 59,
     "metadata": {},
     "output_type": "execute_result"
    }
   ],
   "source": [
    "scaled_features_X_os_test"
   ]
  },
  {
   "cell_type": "code",
   "execution_count": 60,
   "id": "83b9b337",
   "metadata": {},
   "outputs": [],
   "source": [
    "X_os_train_scaled_df = pd.DataFrame(scaled_features_X_os_train, columns= [0,\n",
    "1,\n",
    "2,\n",
    "3,\n",
    "4,\n",
    "5,\n",
    "6,\n",
    "7,\n",
    "8,\n",
    "9,\n",
    "10,\n",
    "11,\n",
    "12,\n",
    "13,\n",
    "14,\n",
    "15,\n",
    "16,\n",
    "17,\n",
    "18,\n",
    "19,\n",
    "20,\n",
    "21,\n",
    "22,\n",
    "23,\n",
    "24,\n",
    "25,\n",
    "26,\n",
    "27,\n",
    "28,\n",
    "29,\n",
    "30,\n",
    "31,\n",
    "32,\n",
    "33,\n",
    "34,\n",
    "35,\n",
    "36,\n",
    "37,\n",
    "38,\n",
    "39,\n",
    "40,\n",
    "41,\n",
    "42,\n",
    "43,\n",
    "44,\n",
    "45,\n",
    "46,\n",
    "47,\n",
    "48,\n",
    "49,\n",
    "50,\n",
    "51,\n",
    "52,\n",
    "53,\n",
    "54,\n",
    "55,\n",
    "56,\n",
    "57,\n",
    "58,\n",
    "59,\n",
    "60,\n",
    "61,\n",
    "62,\n",
    "63,\n",
    "64,\n",
    "65,\n",
    "66,\n",
    "67,\n",
    "68,\n",
    "69,\n",
    "70,\n",
    "71,\n",
    "72,\n",
    "73,\n",
    "74,\n",
    "75,\n",
    "76,\n",
    "77,\n",
    "78\n",
    "] )"
   ]
  },
  {
   "cell_type": "code",
   "execution_count": 61,
   "id": "649d34c7",
   "metadata": {},
   "outputs": [
    {
     "data": {
      "text/html": [
       "<div>\n",
       "<style scoped>\n",
       "    .dataframe tbody tr th:only-of-type {\n",
       "        vertical-align: middle;\n",
       "    }\n",
       "\n",
       "    .dataframe tbody tr th {\n",
       "        vertical-align: top;\n",
       "    }\n",
       "\n",
       "    .dataframe thead th {\n",
       "        text-align: right;\n",
       "    }\n",
       "</style>\n",
       "<table border=\"1\" class=\"dataframe\">\n",
       "  <thead>\n",
       "    <tr style=\"text-align: right;\">\n",
       "      <th></th>\n",
       "      <th>0</th>\n",
       "      <th>1</th>\n",
       "      <th>2</th>\n",
       "      <th>3</th>\n",
       "      <th>4</th>\n",
       "      <th>5</th>\n",
       "      <th>6</th>\n",
       "      <th>7</th>\n",
       "      <th>8</th>\n",
       "      <th>9</th>\n",
       "      <th>...</th>\n",
       "      <th>69</th>\n",
       "      <th>70</th>\n",
       "      <th>71</th>\n",
       "      <th>72</th>\n",
       "      <th>73</th>\n",
       "      <th>74</th>\n",
       "      <th>75</th>\n",
       "      <th>76</th>\n",
       "      <th>77</th>\n",
       "      <th>78</th>\n",
       "    </tr>\n",
       "  </thead>\n",
       "  <tbody>\n",
       "    <tr>\n",
       "      <th>0</th>\n",
       "      <td>-2.602294</td>\n",
       "      <td>0.0</td>\n",
       "      <td>0.797684</td>\n",
       "      <td>-0.245040</td>\n",
       "      <td>0.275558</td>\n",
       "      <td>-0.042964</td>\n",
       "      <td>0.754467</td>\n",
       "      <td>-0.570777</td>\n",
       "      <td>1.150719</td>\n",
       "      <td>-0.061413</td>\n",
       "      <td>...</td>\n",
       "      <td>-0.149887</td>\n",
       "      <td>0.282591</td>\n",
       "      <td>0.361418</td>\n",
       "      <td>-0.745969</td>\n",
       "      <td>-1.113123</td>\n",
       "      <td>-0.001667</td>\n",
       "      <td>0.931091</td>\n",
       "      <td>-0.964706</td>\n",
       "      <td>-1.739875</td>\n",
       "      <td>-1.127522</td>\n",
       "    </tr>\n",
       "    <tr>\n",
       "      <th>1</th>\n",
       "      <td>-0.681494</td>\n",
       "      <td>0.0</td>\n",
       "      <td>-0.766167</td>\n",
       "      <td>0.156539</td>\n",
       "      <td>-0.914127</td>\n",
       "      <td>0.191010</td>\n",
       "      <td>0.170438</td>\n",
       "      <td>-0.775235</td>\n",
       "      <td>0.703290</td>\n",
       "      <td>0.114569</td>\n",
       "      <td>...</td>\n",
       "      <td>-0.149887</td>\n",
       "      <td>-0.080777</td>\n",
       "      <td>0.013843</td>\n",
       "      <td>-0.088867</td>\n",
       "      <td>-1.113123</td>\n",
       "      <td>0.254818</td>\n",
       "      <td>-0.731292</td>\n",
       "      <td>0.506382</td>\n",
       "      <td>0.551875</td>\n",
       "      <td>-0.250268</td>\n",
       "    </tr>\n",
       "    <tr>\n",
       "      <th>2</th>\n",
       "      <td>-0.502983</td>\n",
       "      <td>0.0</td>\n",
       "      <td>0.518507</td>\n",
       "      <td>0.056145</td>\n",
       "      <td>-3.517663</td>\n",
       "      <td>2.275500</td>\n",
       "      <td>0.805698</td>\n",
       "      <td>-0.184605</td>\n",
       "      <td>0.326172</td>\n",
       "      <td>0.102389</td>\n",
       "      <td>...</td>\n",
       "      <td>-0.149887</td>\n",
       "      <td>0.282591</td>\n",
       "      <td>0.013843</td>\n",
       "      <td>-0.088867</td>\n",
       "      <td>-1.113123</td>\n",
       "      <td>0.367046</td>\n",
       "      <td>-0.048545</td>\n",
       "      <td>-0.031131</td>\n",
       "      <td>-1.391869</td>\n",
       "      <td>3.240390</td>\n",
       "    </tr>\n",
       "    <tr>\n",
       "      <th>3</th>\n",
       "      <td>-1.229146</td>\n",
       "      <td>0.0</td>\n",
       "      <td>0.181866</td>\n",
       "      <td>0.558119</td>\n",
       "      <td>0.269697</td>\n",
       "      <td>-2.212535</td>\n",
       "      <td>0.908159</td>\n",
       "      <td>-0.646972</td>\n",
       "      <td>-0.146824</td>\n",
       "      <td>-0.597560</td>\n",
       "      <td>...</td>\n",
       "      <td>-0.149887</td>\n",
       "      <td>0.282591</td>\n",
       "      <td>-1.323030</td>\n",
       "      <td>0.199478</td>\n",
       "      <td>0.938463</td>\n",
       "      <td>0.237951</td>\n",
       "      <td>-0.621047</td>\n",
       "      <td>-0.229162</td>\n",
       "      <td>0.059573</td>\n",
       "      <td>0.136726</td>\n",
       "    </tr>\n",
       "    <tr>\n",
       "      <th>4</th>\n",
       "      <td>0.261385</td>\n",
       "      <td>0.0</td>\n",
       "      <td>0.071001</td>\n",
       "      <td>-0.161377</td>\n",
       "      <td>0.370791</td>\n",
       "      <td>-0.064234</td>\n",
       "      <td>1.522926</td>\n",
       "      <td>-0.025606</td>\n",
       "      <td>0.505144</td>\n",
       "      <td>-0.011863</td>\n",
       "      <td>...</td>\n",
       "      <td>-0.149887</td>\n",
       "      <td>-2.624354</td>\n",
       "      <td>0.013843</td>\n",
       "      <td>-0.088867</td>\n",
       "      <td>1.789171</td>\n",
       "      <td>0.002303</td>\n",
       "      <td>-0.286443</td>\n",
       "      <td>0.251771</td>\n",
       "      <td>0.093525</td>\n",
       "      <td>0.064788</td>\n",
       "    </tr>\n",
       "  </tbody>\n",
       "</table>\n",
       "<p>5 rows × 79 columns</p>\n",
       "</div>"
      ],
      "text/plain": [
       "         0    1         2         3         4         5         6         7   \\\n",
       "0 -2.602294  0.0  0.797684 -0.245040  0.275558 -0.042964  0.754467 -0.570777   \n",
       "1 -0.681494  0.0 -0.766167  0.156539 -0.914127  0.191010  0.170438 -0.775235   \n",
       "2 -0.502983  0.0  0.518507  0.056145 -3.517663  2.275500  0.805698 -0.184605   \n",
       "3 -1.229146  0.0  0.181866  0.558119  0.269697 -2.212535  0.908159 -0.646972   \n",
       "4  0.261385  0.0  0.071001 -0.161377  0.370791 -0.064234  1.522926 -0.025606   \n",
       "\n",
       "         8         9   ...        69        70        71        72        73  \\\n",
       "0  1.150719 -0.061413  ... -0.149887  0.282591  0.361418 -0.745969 -1.113123   \n",
       "1  0.703290  0.114569  ... -0.149887 -0.080777  0.013843 -0.088867 -1.113123   \n",
       "2  0.326172  0.102389  ... -0.149887  0.282591  0.013843 -0.088867 -1.113123   \n",
       "3 -0.146824 -0.597560  ... -0.149887  0.282591 -1.323030  0.199478  0.938463   \n",
       "4  0.505144 -0.011863  ... -0.149887 -2.624354  0.013843 -0.088867  1.789171   \n",
       "\n",
       "         74        75        76        77        78  \n",
       "0 -0.001667  0.931091 -0.964706 -1.739875 -1.127522  \n",
       "1  0.254818 -0.731292  0.506382  0.551875 -0.250268  \n",
       "2  0.367046 -0.048545 -0.031131 -1.391869  3.240390  \n",
       "3  0.237951 -0.621047 -0.229162  0.059573  0.136726  \n",
       "4  0.002303 -0.286443  0.251771  0.093525  0.064788  \n",
       "\n",
       "[5 rows x 79 columns]"
      ]
     },
     "execution_count": 61,
     "metadata": {},
     "output_type": "execute_result"
    }
   ],
   "source": [
    "X_os_train_scaled_df.head()"
   ]
  },
  {
   "cell_type": "code",
   "execution_count": 62,
   "id": "f09fd3fa",
   "metadata": {},
   "outputs": [],
   "source": [
    "X_os_test_scaled_df = pd.DataFrame(scaled_features_X_os_test, columns= [0,1,\n",
    "2,\n",
    "3,\n",
    "4,\n",
    "5,\n",
    "6,\n",
    "7,\n",
    "8,\n",
    "9,\n",
    "10,\n",
    "11,\n",
    "12,\n",
    "13,\n",
    "14,\n",
    "15,\n",
    "16,\n",
    "17,\n",
    "18,\n",
    "19,\n",
    "20,\n",
    "21,\n",
    "22,\n",
    "23,\n",
    "24,\n",
    "25,\n",
    "26,\n",
    "27,\n",
    "28,\n",
    "29,\n",
    "30,\n",
    "31,\n",
    "32,\n",
    "33,\n",
    "34,\n",
    "35,\n",
    "36,\n",
    "37,\n",
    "38,\n",
    "39,\n",
    "40,\n",
    "41,\n",
    "42,\n",
    "43,\n",
    "44,\n",
    "45,\n",
    "46,\n",
    "47,\n",
    "48,\n",
    "49,\n",
    "50,\n",
    "51,\n",
    "52,\n",
    "53,\n",
    "54,\n",
    "55,\n",
    "56,\n",
    "57,\n",
    "58,\n",
    "59,\n",
    "60,\n",
    "61,\n",
    "62,\n",
    "63,\n",
    "64,\n",
    "65,\n",
    "66,\n",
    "67,\n",
    "68,\n",
    "69,\n",
    "70,\n",
    "71,\n",
    "72,\n",
    "73,\n",
    "74,\n",
    "75,\n",
    "76,\n",
    "77,\n",
    "78\n",
    "] )"
   ]
  },
  {
   "cell_type": "code",
   "execution_count": 63,
   "id": "e906a939",
   "metadata": {},
   "outputs": [
    {
     "data": {
      "text/html": [
       "<div>\n",
       "<style scoped>\n",
       "    .dataframe tbody tr th:only-of-type {\n",
       "        vertical-align: middle;\n",
       "    }\n",
       "\n",
       "    .dataframe tbody tr th {\n",
       "        vertical-align: top;\n",
       "    }\n",
       "\n",
       "    .dataframe thead th {\n",
       "        text-align: right;\n",
       "    }\n",
       "</style>\n",
       "<table border=\"1\" class=\"dataframe\">\n",
       "  <thead>\n",
       "    <tr style=\"text-align: right;\">\n",
       "      <th></th>\n",
       "      <th>0</th>\n",
       "      <th>1</th>\n",
       "      <th>2</th>\n",
       "      <th>3</th>\n",
       "      <th>4</th>\n",
       "      <th>5</th>\n",
       "      <th>6</th>\n",
       "      <th>7</th>\n",
       "      <th>8</th>\n",
       "      <th>9</th>\n",
       "      <th>...</th>\n",
       "      <th>69</th>\n",
       "      <th>70</th>\n",
       "      <th>71</th>\n",
       "      <th>72</th>\n",
       "      <th>73</th>\n",
       "      <th>74</th>\n",
       "      <th>75</th>\n",
       "      <th>76</th>\n",
       "      <th>77</th>\n",
       "      <th>78</th>\n",
       "    </tr>\n",
       "  </thead>\n",
       "  <tbody>\n",
       "    <tr>\n",
       "      <th>0</th>\n",
       "      <td>-0.183509</td>\n",
       "      <td>0.0</td>\n",
       "      <td>0.369978</td>\n",
       "      <td>0.323864</td>\n",
       "      <td>0.058719</td>\n",
       "      <td>-0.298207</td>\n",
       "      <td>1.010620</td>\n",
       "      <td>0.703893</td>\n",
       "      <td>-0.018987</td>\n",
       "      <td>0.343430</td>\n",
       "      <td>...</td>\n",
       "      <td>-0.149887</td>\n",
       "      <td>0.282591</td>\n",
       "      <td>0.713158</td>\n",
       "      <td>1.000697</td>\n",
       "      <td>1.119728</td>\n",
       "      <td>0.279011</td>\n",
       "      <td>-0.645224</td>\n",
       "      <td>-2.520664</td>\n",
       "      <td>-0.899567</td>\n",
       "      <td>1.248862</td>\n",
       "    </tr>\n",
       "    <tr>\n",
       "      <th>1</th>\n",
       "      <td>-0.600472</td>\n",
       "      <td>0.0</td>\n",
       "      <td>0.608430</td>\n",
       "      <td>0.190004</td>\n",
       "      <td>-1.816647</td>\n",
       "      <td>-1.907661</td>\n",
       "      <td>0.774959</td>\n",
       "      <td>0.647358</td>\n",
       "      <td>0.850303</td>\n",
       "      <td>-0.278510</td>\n",
       "      <td>...</td>\n",
       "      <td>-0.149887</td>\n",
       "      <td>0.282591</td>\n",
       "      <td>0.013843</td>\n",
       "      <td>-0.088867</td>\n",
       "      <td>-0.343778</td>\n",
       "      <td>0.252206</td>\n",
       "      <td>-1.341510</td>\n",
       "      <td>-2.068022</td>\n",
       "      <td>1.001737</td>\n",
       "      <td>-0.324233</td>\n",
       "    </tr>\n",
       "    <tr>\n",
       "      <th>2</th>\n",
       "      <td>-0.210121</td>\n",
       "      <td>0.0</td>\n",
       "      <td>0.575764</td>\n",
       "      <td>0.089610</td>\n",
       "      <td>-0.404262</td>\n",
       "      <td>-0.106774</td>\n",
       "      <td>0.928651</td>\n",
       "      <td>-0.222119</td>\n",
       "      <td>-1.904579</td>\n",
       "      <td>-0.063018</td>\n",
       "      <td>...</td>\n",
       "      <td>-0.149887</td>\n",
       "      <td>0.282591</td>\n",
       "      <td>0.013843</td>\n",
       "      <td>-0.088867</td>\n",
       "      <td>-1.113123</td>\n",
       "      <td>-1.234332</td>\n",
       "      <td>-0.127200</td>\n",
       "      <td>-0.285742</td>\n",
       "      <td>-1.145718</td>\n",
       "      <td>0.560787</td>\n",
       "    </tr>\n",
       "    <tr>\n",
       "      <th>3</th>\n",
       "      <td>0.611819</td>\n",
       "      <td>0.0</td>\n",
       "      <td>0.703922</td>\n",
       "      <td>-0.629886</td>\n",
       "      <td>-0.612311</td>\n",
       "      <td>0.517155</td>\n",
       "      <td>-0.434083</td>\n",
       "      <td>-0.570324</td>\n",
       "      <td>1.610931</td>\n",
       "      <td>1.295886</td>\n",
       "      <td>...</td>\n",
       "      <td>-0.149887</td>\n",
       "      <td>0.645959</td>\n",
       "      <td>-0.543554</td>\n",
       "      <td>-0.759081</td>\n",
       "      <td>-1.699144</td>\n",
       "      <td>0.184346</td>\n",
       "      <td>-0.502098</td>\n",
       "      <td>-0.766675</td>\n",
       "      <td>2.079709</td>\n",
       "      <td>-0.950850</td>\n",
       "    </tr>\n",
       "    <tr>\n",
       "      <th>4</th>\n",
       "      <td>0.079317</td>\n",
       "      <td>0.0</td>\n",
       "      <td>-0.747335</td>\n",
       "      <td>0.056145</td>\n",
       "      <td>2.115761</td>\n",
       "      <td>-1.205740</td>\n",
       "      <td>0.149946</td>\n",
       "      <td>-0.688593</td>\n",
       "      <td>0.805560</td>\n",
       "      <td>-0.154990</td>\n",
       "      <td>...</td>\n",
       "      <td>-0.149887</td>\n",
       "      <td>-1.170882</td>\n",
       "      <td>-0.620716</td>\n",
       "      <td>-0.954352</td>\n",
       "      <td>-0.367466</td>\n",
       "      <td>0.185550</td>\n",
       "      <td>0.398561</td>\n",
       "      <td>-1.021286</td>\n",
       "      <td>0.195381</td>\n",
       "      <td>-0.463628</td>\n",
       "    </tr>\n",
       "  </tbody>\n",
       "</table>\n",
       "<p>5 rows × 79 columns</p>\n",
       "</div>"
      ],
      "text/plain": [
       "         0    1         2         3         4         5         6         7   \\\n",
       "0 -0.183509  0.0  0.369978  0.323864  0.058719 -0.298207  1.010620  0.703893   \n",
       "1 -0.600472  0.0  0.608430  0.190004 -1.816647 -1.907661  0.774959  0.647358   \n",
       "2 -0.210121  0.0  0.575764  0.089610 -0.404262 -0.106774  0.928651 -0.222119   \n",
       "3  0.611819  0.0  0.703922 -0.629886 -0.612311  0.517155 -0.434083 -0.570324   \n",
       "4  0.079317  0.0 -0.747335  0.056145  2.115761 -1.205740  0.149946 -0.688593   \n",
       "\n",
       "         8         9   ...        69        70        71        72        73  \\\n",
       "0 -0.018987  0.343430  ... -0.149887  0.282591  0.713158  1.000697  1.119728   \n",
       "1  0.850303 -0.278510  ... -0.149887  0.282591  0.013843 -0.088867 -0.343778   \n",
       "2 -1.904579 -0.063018  ... -0.149887  0.282591  0.013843 -0.088867 -1.113123   \n",
       "3  1.610931  1.295886  ... -0.149887  0.645959 -0.543554 -0.759081 -1.699144   \n",
       "4  0.805560 -0.154990  ... -0.149887 -1.170882 -0.620716 -0.954352 -0.367466   \n",
       "\n",
       "         74        75        76        77        78  \n",
       "0  0.279011 -0.645224 -2.520664 -0.899567  1.248862  \n",
       "1  0.252206 -1.341510 -2.068022  1.001737 -0.324233  \n",
       "2 -1.234332 -0.127200 -0.285742 -1.145718  0.560787  \n",
       "3  0.184346 -0.502098 -0.766675  2.079709 -0.950850  \n",
       "4  0.185550  0.398561 -1.021286  0.195381 -0.463628  \n",
       "\n",
       "[5 rows x 79 columns]"
      ]
     },
     "execution_count": 63,
     "metadata": {},
     "output_type": "execute_result"
    }
   ],
   "source": [
    "X_os_test_scaled_df.head()"
   ]
  },
  {
   "cell_type": "markdown",
   "id": "f0b92673",
   "metadata": {},
   "source": [
    "#### Q4 D - Check if the train and test data have similar statistical characteristics when compared with original data."
   ]
  },
  {
   "cell_type": "code",
   "execution_count": 64,
   "id": "c28ca42c",
   "metadata": {},
   "outputs": [
    {
     "data": {
      "text/html": [
       "<div>\n",
       "<style scoped>\n",
       "    .dataframe tbody tr th:only-of-type {\n",
       "        vertical-align: middle;\n",
       "    }\n",
       "\n",
       "    .dataframe tbody tr th {\n",
       "        vertical-align: top;\n",
       "    }\n",
       "\n",
       "    .dataframe thead th {\n",
       "        text-align: right;\n",
       "    }\n",
       "</style>\n",
       "<table border=\"1\" class=\"dataframe\">\n",
       "  <thead>\n",
       "    <tr style=\"text-align: right;\">\n",
       "      <th></th>\n",
       "      <th>0</th>\n",
       "      <th>1</th>\n",
       "      <th>2</th>\n",
       "      <th>3</th>\n",
       "      <th>4</th>\n",
       "      <th>5</th>\n",
       "      <th>6</th>\n",
       "      <th>7</th>\n",
       "      <th>8</th>\n",
       "      <th>9</th>\n",
       "      <th>...</th>\n",
       "      <th>69</th>\n",
       "      <th>70</th>\n",
       "      <th>71</th>\n",
       "      <th>72</th>\n",
       "      <th>73</th>\n",
       "      <th>74</th>\n",
       "      <th>75</th>\n",
       "      <th>76</th>\n",
       "      <th>77</th>\n",
       "      <th>78</th>\n",
       "    </tr>\n",
       "  </thead>\n",
       "  <tbody>\n",
       "    <tr>\n",
       "      <th>count</th>\n",
       "      <td>1567.000000</td>\n",
       "      <td>1567.0</td>\n",
       "      <td>1567.000000</td>\n",
       "      <td>1567.000000</td>\n",
       "      <td>1567.000000</td>\n",
       "      <td>1567.000000</td>\n",
       "      <td>1567.000000</td>\n",
       "      <td>1567.000000</td>\n",
       "      <td>1567.000000</td>\n",
       "      <td>1567.000000</td>\n",
       "      <td>...</td>\n",
       "      <td>1567.000000</td>\n",
       "      <td>1567.000000</td>\n",
       "      <td>1567.000000</td>\n",
       "      <td>1567.000000</td>\n",
       "      <td>1567.000000</td>\n",
       "      <td>1567.000000</td>\n",
       "      <td>1567.000000</td>\n",
       "      <td>1567.000000</td>\n",
       "      <td>1567.000000</td>\n",
       "      <td>1567.000000</td>\n",
       "    </tr>\n",
       "    <tr>\n",
       "      <th>mean</th>\n",
       "      <td>2495.850231</td>\n",
       "      <td>100.0</td>\n",
       "      <td>101.112908</td>\n",
       "      <td>0.121822</td>\n",
       "      <td>1.462862</td>\n",
       "      <td>-0.000841</td>\n",
       "      <td>0.000146</td>\n",
       "      <td>413.086035</td>\n",
       "      <td>1.405054</td>\n",
       "      <td>-3806.299734</td>\n",
       "      <td>...</td>\n",
       "      <td>11.610080</td>\n",
       "      <td>0.002509</td>\n",
       "      <td>1.039630</td>\n",
       "      <td>403.546477</td>\n",
       "      <td>0.679641</td>\n",
       "      <td>530.523623</td>\n",
       "      <td>2.101836</td>\n",
       "      <td>0.500096</td>\n",
       "      <td>0.021458</td>\n",
       "      <td>99.670066</td>\n",
       "    </tr>\n",
       "    <tr>\n",
       "      <th>std</th>\n",
       "      <td>80.227793</td>\n",
       "      <td>0.0</td>\n",
       "      <td>6.209271</td>\n",
       "      <td>0.008936</td>\n",
       "      <td>0.073849</td>\n",
       "      <td>0.015107</td>\n",
       "      <td>0.009296</td>\n",
       "      <td>17.204591</td>\n",
       "      <td>0.016737</td>\n",
       "      <td>1379.280537</td>\n",
       "      <td>...</td>\n",
       "      <td>103.122996</td>\n",
       "      <td>0.000295</td>\n",
       "      <td>0.355303</td>\n",
       "      <td>4.624446</td>\n",
       "      <td>0.110637</td>\n",
       "      <td>17.499736</td>\n",
       "      <td>0.275112</td>\n",
       "      <td>0.003403</td>\n",
       "      <td>0.012354</td>\n",
       "      <td>93.861936</td>\n",
       "    </tr>\n",
       "    <tr>\n",
       "      <th>min</th>\n",
       "      <td>2158.750000</td>\n",
       "      <td>100.0</td>\n",
       "      <td>82.131100</td>\n",
       "      <td>0.000000</td>\n",
       "      <td>1.191000</td>\n",
       "      <td>-0.053400</td>\n",
       "      <td>-0.034900</td>\n",
       "      <td>333.448600</td>\n",
       "      <td>1.179700</td>\n",
       "      <td>-9986.750000</td>\n",
       "      <td>...</td>\n",
       "      <td>0.000000</td>\n",
       "      <td>0.001600</td>\n",
       "      <td>0.444400</td>\n",
       "      <td>372.822000</td>\n",
       "      <td>0.304900</td>\n",
       "      <td>317.196400</td>\n",
       "      <td>0.980200</td>\n",
       "      <td>0.477800</td>\n",
       "      <td>-0.016900</td>\n",
       "      <td>0.000000</td>\n",
       "    </tr>\n",
       "    <tr>\n",
       "      <th>25%</th>\n",
       "      <td>2452.885000</td>\n",
       "      <td>100.0</td>\n",
       "      <td>97.937800</td>\n",
       "      <td>0.121100</td>\n",
       "      <td>1.411250</td>\n",
       "      <td>-0.010800</td>\n",
       "      <td>-0.005600</td>\n",
       "      <td>406.131000</td>\n",
       "      <td>1.396500</td>\n",
       "      <td>-4370.625000</td>\n",
       "      <td>...</td>\n",
       "      <td>0.000000</td>\n",
       "      <td>0.002400</td>\n",
       "      <td>0.814100</td>\n",
       "      <td>400.814000</td>\n",
       "      <td>0.567100</td>\n",
       "      <td>530.702700</td>\n",
       "      <td>1.982900</td>\n",
       "      <td>0.497900</td>\n",
       "      <td>0.013450</td>\n",
       "      <td>44.368600</td>\n",
       "    </tr>\n",
       "    <tr>\n",
       "      <th>50%</th>\n",
       "      <td>2498.910000</td>\n",
       "      <td>100.0</td>\n",
       "      <td>101.492200</td>\n",
       "      <td>0.122400</td>\n",
       "      <td>1.461600</td>\n",
       "      <td>-0.001300</td>\n",
       "      <td>0.000400</td>\n",
       "      <td>412.262900</td>\n",
       "      <td>1.406000</td>\n",
       "      <td>-3819.750000</td>\n",
       "      <td>...</td>\n",
       "      <td>0.000000</td>\n",
       "      <td>0.002600</td>\n",
       "      <td>1.039630</td>\n",
       "      <td>403.546477</td>\n",
       "      <td>0.679641</td>\n",
       "      <td>532.398200</td>\n",
       "      <td>2.118600</td>\n",
       "      <td>0.500200</td>\n",
       "      <td>0.020500</td>\n",
       "      <td>72.023000</td>\n",
       "    </tr>\n",
       "    <tr>\n",
       "      <th>75%</th>\n",
       "      <td>2538.745000</td>\n",
       "      <td>100.0</td>\n",
       "      <td>104.530000</td>\n",
       "      <td>0.123800</td>\n",
       "      <td>1.516850</td>\n",
       "      <td>0.008400</td>\n",
       "      <td>0.005900</td>\n",
       "      <td>419.082800</td>\n",
       "      <td>1.415000</td>\n",
       "      <td>-3356.375000</td>\n",
       "      <td>...</td>\n",
       "      <td>0.000000</td>\n",
       "      <td>0.002600</td>\n",
       "      <td>1.216500</td>\n",
       "      <td>406.763000</td>\n",
       "      <td>0.738250</td>\n",
       "      <td>534.356400</td>\n",
       "      <td>2.290650</td>\n",
       "      <td>0.502350</td>\n",
       "      <td>0.027600</td>\n",
       "      <td>114.749700</td>\n",
       "    </tr>\n",
       "    <tr>\n",
       "      <th>max</th>\n",
       "      <td>2846.440000</td>\n",
       "      <td>100.0</td>\n",
       "      <td>129.252200</td>\n",
       "      <td>0.128600</td>\n",
       "      <td>1.656400</td>\n",
       "      <td>0.074900</td>\n",
       "      <td>0.053000</td>\n",
       "      <td>824.927100</td>\n",
       "      <td>1.453400</td>\n",
       "      <td>2363.000000</td>\n",
       "      <td>...</td>\n",
       "      <td>1000.000000</td>\n",
       "      <td>0.004700</td>\n",
       "      <td>3.978600</td>\n",
       "      <td>421.702000</td>\n",
       "      <td>1.298800</td>\n",
       "      <td>589.508200</td>\n",
       "      <td>2.739500</td>\n",
       "      <td>0.509800</td>\n",
       "      <td>0.102800</td>\n",
       "      <td>737.304800</td>\n",
       "    </tr>\n",
       "  </tbody>\n",
       "</table>\n",
       "<p>8 rows × 79 columns</p>\n",
       "</div>"
      ],
      "text/plain": [
       "                0       1            2            3            4   \\\n",
       "count  1567.000000  1567.0  1567.000000  1567.000000  1567.000000   \n",
       "mean   2495.850231   100.0   101.112908     0.121822     1.462862   \n",
       "std      80.227793     0.0     6.209271     0.008936     0.073849   \n",
       "min    2158.750000   100.0    82.131100     0.000000     1.191000   \n",
       "25%    2452.885000   100.0    97.937800     0.121100     1.411250   \n",
       "50%    2498.910000   100.0   101.492200     0.122400     1.461600   \n",
       "75%    2538.745000   100.0   104.530000     0.123800     1.516850   \n",
       "max    2846.440000   100.0   129.252200     0.128600     1.656400   \n",
       "\n",
       "                5            6            7            8            9   ...  \\\n",
       "count  1567.000000  1567.000000  1567.000000  1567.000000  1567.000000  ...   \n",
       "mean     -0.000841     0.000146   413.086035     1.405054 -3806.299734  ...   \n",
       "std       0.015107     0.009296    17.204591     0.016737  1379.280537  ...   \n",
       "min      -0.053400    -0.034900   333.448600     1.179700 -9986.750000  ...   \n",
       "25%      -0.010800    -0.005600   406.131000     1.396500 -4370.625000  ...   \n",
       "50%      -0.001300     0.000400   412.262900     1.406000 -3819.750000  ...   \n",
       "75%       0.008400     0.005900   419.082800     1.415000 -3356.375000  ...   \n",
       "max       0.074900     0.053000   824.927100     1.453400  2363.000000  ...   \n",
       "\n",
       "                69           70           71           72           73  \\\n",
       "count  1567.000000  1567.000000  1567.000000  1567.000000  1567.000000   \n",
       "mean     11.610080     0.002509     1.039630   403.546477     0.679641   \n",
       "std     103.122996     0.000295     0.355303     4.624446     0.110637   \n",
       "min       0.000000     0.001600     0.444400   372.822000     0.304900   \n",
       "25%       0.000000     0.002400     0.814100   400.814000     0.567100   \n",
       "50%       0.000000     0.002600     1.039630   403.546477     0.679641   \n",
       "75%       0.000000     0.002600     1.216500   406.763000     0.738250   \n",
       "max    1000.000000     0.004700     3.978600   421.702000     1.298800   \n",
       "\n",
       "                74           75           76           77           78  \n",
       "count  1567.000000  1567.000000  1567.000000  1567.000000  1567.000000  \n",
       "mean    530.523623     2.101836     0.500096     0.021458    99.670066  \n",
       "std      17.499736     0.275112     0.003403     0.012354    93.861936  \n",
       "min     317.196400     0.980200     0.477800    -0.016900     0.000000  \n",
       "25%     530.702700     1.982900     0.497900     0.013450    44.368600  \n",
       "50%     532.398200     2.118600     0.500200     0.020500    72.023000  \n",
       "75%     534.356400     2.290650     0.502350     0.027600   114.749700  \n",
       "max     589.508200     2.739500     0.509800     0.102800   737.304800  \n",
       "\n",
       "[8 rows x 79 columns]"
      ]
     },
     "execution_count": 64,
     "metadata": {},
     "output_type": "execute_result"
    }
   ],
   "source": [
    "X.describe()"
   ]
  },
  {
   "cell_type": "code",
   "execution_count": 65,
   "id": "84468e70",
   "metadata": {},
   "outputs": [
    {
     "data": {
      "text/html": [
       "<div>\n",
       "<style scoped>\n",
       "    .dataframe tbody tr th:only-of-type {\n",
       "        vertical-align: middle;\n",
       "    }\n",
       "\n",
       "    .dataframe tbody tr th {\n",
       "        vertical-align: top;\n",
       "    }\n",
       "\n",
       "    .dataframe thead th {\n",
       "        text-align: right;\n",
       "    }\n",
       "</style>\n",
       "<table border=\"1\" class=\"dataframe\">\n",
       "  <thead>\n",
       "    <tr style=\"text-align: right;\">\n",
       "      <th></th>\n",
       "      <th>0</th>\n",
       "      <th>1</th>\n",
       "      <th>2</th>\n",
       "      <th>3</th>\n",
       "      <th>4</th>\n",
       "      <th>5</th>\n",
       "      <th>6</th>\n",
       "      <th>7</th>\n",
       "      <th>8</th>\n",
       "      <th>9</th>\n",
       "      <th>...</th>\n",
       "      <th>69</th>\n",
       "      <th>70</th>\n",
       "      <th>71</th>\n",
       "      <th>72</th>\n",
       "      <th>73</th>\n",
       "      <th>74</th>\n",
       "      <th>75</th>\n",
       "      <th>76</th>\n",
       "      <th>77</th>\n",
       "      <th>78</th>\n",
       "    </tr>\n",
       "  </thead>\n",
       "  <tbody>\n",
       "    <tr>\n",
       "      <th>count</th>\n",
       "      <td>2340.000000</td>\n",
       "      <td>2340.0</td>\n",
       "      <td>2340.000000</td>\n",
       "      <td>2340.000000</td>\n",
       "      <td>2340.000000</td>\n",
       "      <td>2340.000000</td>\n",
       "      <td>2340.000000</td>\n",
       "      <td>2340.000000</td>\n",
       "      <td>2340.000000</td>\n",
       "      <td>2340.000000</td>\n",
       "      <td>...</td>\n",
       "      <td>2340.000000</td>\n",
       "      <td>2340.000000</td>\n",
       "      <td>2340.000000</td>\n",
       "      <td>2340.000000</td>\n",
       "      <td>2340.000000</td>\n",
       "      <td>2340.000000</td>\n",
       "      <td>2340.000000</td>\n",
       "      <td>2340.000000</td>\n",
       "      <td>2340.000000</td>\n",
       "      <td>2340.000000</td>\n",
       "    </tr>\n",
       "    <tr>\n",
       "      <th>mean</th>\n",
       "      <td>2494.829382</td>\n",
       "      <td>100.0</td>\n",
       "      <td>101.200523</td>\n",
       "      <td>0.122064</td>\n",
       "      <td>1.466092</td>\n",
       "      <td>-0.001394</td>\n",
       "      <td>0.000837</td>\n",
       "      <td>412.838405</td>\n",
       "      <td>1.405697</td>\n",
       "      <td>-3769.361451</td>\n",
       "      <td>...</td>\n",
       "      <td>19.881217</td>\n",
       "      <td>0.002522</td>\n",
       "      <td>1.034876</td>\n",
       "      <td>403.926029</td>\n",
       "      <td>0.675179</td>\n",
       "      <td>530.632886</td>\n",
       "      <td>2.108160</td>\n",
       "      <td>0.500410</td>\n",
       "      <td>0.020998</td>\n",
       "      <td>100.406413</td>\n",
       "    </tr>\n",
       "    <tr>\n",
       "      <th>std</th>\n",
       "      <td>75.922086</td>\n",
       "      <td>0.0</td>\n",
       "      <td>5.783949</td>\n",
       "      <td>0.005978</td>\n",
       "      <td>0.068268</td>\n",
       "      <td>0.014107</td>\n",
       "      <td>0.009762</td>\n",
       "      <td>11.910174</td>\n",
       "      <td>0.015648</td>\n",
       "      <td>1402.901008</td>\n",
       "      <td>...</td>\n",
       "      <td>132.669672</td>\n",
       "      <td>0.000275</td>\n",
       "      <td>0.343509</td>\n",
       "      <td>4.271906</td>\n",
       "      <td>0.097116</td>\n",
       "      <td>18.116084</td>\n",
       "      <td>0.310284</td>\n",
       "      <td>0.003536</td>\n",
       "      <td>0.011784</td>\n",
       "      <td>89.069545</td>\n",
       "    </tr>\n",
       "    <tr>\n",
       "      <th>min</th>\n",
       "      <td>2162.870000</td>\n",
       "      <td>100.0</td>\n",
       "      <td>82.131100</td>\n",
       "      <td>0.000000</td>\n",
       "      <td>1.191000</td>\n",
       "      <td>-0.053400</td>\n",
       "      <td>-0.032900</td>\n",
       "      <td>389.467100</td>\n",
       "      <td>1.179700</td>\n",
       "      <td>-9986.750000</td>\n",
       "      <td>...</td>\n",
       "      <td>0.000000</td>\n",
       "      <td>0.001600</td>\n",
       "      <td>0.444400</td>\n",
       "      <td>372.822000</td>\n",
       "      <td>0.304900</td>\n",
       "      <td>317.196400</td>\n",
       "      <td>0.984700</td>\n",
       "      <td>0.477800</td>\n",
       "      <td>-0.016900</td>\n",
       "      <td>0.000000</td>\n",
       "    </tr>\n",
       "    <tr>\n",
       "      <th>25%</th>\n",
       "      <td>2456.310000</td>\n",
       "      <td>100.0</td>\n",
       "      <td>98.590000</td>\n",
       "      <td>0.121100</td>\n",
       "      <td>1.419300</td>\n",
       "      <td>-0.010000</td>\n",
       "      <td>-0.005325</td>\n",
       "      <td>406.610100</td>\n",
       "      <td>1.396900</td>\n",
       "      <td>-4392.625000</td>\n",
       "      <td>...</td>\n",
       "      <td>0.000000</td>\n",
       "      <td>0.002400</td>\n",
       "      <td>0.803500</td>\n",
       "      <td>400.814000</td>\n",
       "      <td>0.567100</td>\n",
       "      <td>530.935400</td>\n",
       "      <td>1.990200</td>\n",
       "      <td>0.498100</td>\n",
       "      <td>0.013400</td>\n",
       "      <td>44.220475</td>\n",
       "    </tr>\n",
       "    <tr>\n",
       "      <th>50%</th>\n",
       "      <td>2498.720000</td>\n",
       "      <td>100.0</td>\n",
       "      <td>101.587800</td>\n",
       "      <td>0.122200</td>\n",
       "      <td>1.465000</td>\n",
       "      <td>-0.001300</td>\n",
       "      <td>0.001300</td>\n",
       "      <td>412.305350</td>\n",
       "      <td>1.406750</td>\n",
       "      <td>-3808.708350</td>\n",
       "      <td>...</td>\n",
       "      <td>0.000000</td>\n",
       "      <td>0.002600</td>\n",
       "      <td>1.039630</td>\n",
       "      <td>403.546477</td>\n",
       "      <td>0.679641</td>\n",
       "      <td>532.254500</td>\n",
       "      <td>2.172800</td>\n",
       "      <td>0.500500</td>\n",
       "      <td>0.020100</td>\n",
       "      <td>73.865700</td>\n",
       "    </tr>\n",
       "    <tr>\n",
       "      <th>75%</th>\n",
       "      <td>2534.160000</td>\n",
       "      <td>100.0</td>\n",
       "      <td>104.336700</td>\n",
       "      <td>0.123700</td>\n",
       "      <td>1.512925</td>\n",
       "      <td>0.006600</td>\n",
       "      <td>0.006900</td>\n",
       "      <td>418.710900</td>\n",
       "      <td>1.415900</td>\n",
       "      <td>-3278.937500</td>\n",
       "      <td>...</td>\n",
       "      <td>0.000000</td>\n",
       "      <td>0.002600</td>\n",
       "      <td>1.186900</td>\n",
       "      <td>407.010000</td>\n",
       "      <td>0.717800</td>\n",
       "      <td>534.447300</td>\n",
       "      <td>2.307775</td>\n",
       "      <td>0.502600</td>\n",
       "      <td>0.027600</td>\n",
       "      <td>121.635400</td>\n",
       "    </tr>\n",
       "    <tr>\n",
       "      <th>max</th>\n",
       "      <td>2846.440000</td>\n",
       "      <td>100.0</td>\n",
       "      <td>129.252200</td>\n",
       "      <td>0.128600</td>\n",
       "      <td>1.656400</td>\n",
       "      <td>0.060900</td>\n",
       "      <td>0.053000</td>\n",
       "      <td>824.927100</td>\n",
       "      <td>1.450300</td>\n",
       "      <td>2363.000000</td>\n",
       "      <td>...</td>\n",
       "      <td>1000.000000</td>\n",
       "      <td>0.004700</td>\n",
       "      <td>3.978600</td>\n",
       "      <td>421.702000</td>\n",
       "      <td>1.225400</td>\n",
       "      <td>570.962700</td>\n",
       "      <td>2.739500</td>\n",
       "      <td>0.509800</td>\n",
       "      <td>0.102800</td>\n",
       "      <td>737.304800</td>\n",
       "    </tr>\n",
       "  </tbody>\n",
       "</table>\n",
       "<p>8 rows × 79 columns</p>\n",
       "</div>"
      ],
      "text/plain": [
       "                0       1            2            3            4   \\\n",
       "count  2340.000000  2340.0  2340.000000  2340.000000  2340.000000   \n",
       "mean   2494.829382   100.0   101.200523     0.122064     1.466092   \n",
       "std      75.922086     0.0     5.783949     0.005978     0.068268   \n",
       "min    2162.870000   100.0    82.131100     0.000000     1.191000   \n",
       "25%    2456.310000   100.0    98.590000     0.121100     1.419300   \n",
       "50%    2498.720000   100.0   101.587800     0.122200     1.465000   \n",
       "75%    2534.160000   100.0   104.336700     0.123700     1.512925   \n",
       "max    2846.440000   100.0   129.252200     0.128600     1.656400   \n",
       "\n",
       "                5            6            7            8            9   ...  \\\n",
       "count  2340.000000  2340.000000  2340.000000  2340.000000  2340.000000  ...   \n",
       "mean     -0.001394     0.000837   412.838405     1.405697 -3769.361451  ...   \n",
       "std       0.014107     0.009762    11.910174     0.015648  1402.901008  ...   \n",
       "min      -0.053400    -0.032900   389.467100     1.179700 -9986.750000  ...   \n",
       "25%      -0.010000    -0.005325   406.610100     1.396900 -4392.625000  ...   \n",
       "50%      -0.001300     0.001300   412.305350     1.406750 -3808.708350  ...   \n",
       "75%       0.006600     0.006900   418.710900     1.415900 -3278.937500  ...   \n",
       "max       0.060900     0.053000   824.927100     1.450300  2363.000000  ...   \n",
       "\n",
       "                69           70           71           72           73  \\\n",
       "count  2340.000000  2340.000000  2340.000000  2340.000000  2340.000000   \n",
       "mean     19.881217     0.002522     1.034876   403.926029     0.675179   \n",
       "std     132.669672     0.000275     0.343509     4.271906     0.097116   \n",
       "min       0.000000     0.001600     0.444400   372.822000     0.304900   \n",
       "25%       0.000000     0.002400     0.803500   400.814000     0.567100   \n",
       "50%       0.000000     0.002600     1.039630   403.546477     0.679641   \n",
       "75%       0.000000     0.002600     1.186900   407.010000     0.717800   \n",
       "max    1000.000000     0.004700     3.978600   421.702000     1.225400   \n",
       "\n",
       "                74           75           76           77           78  \n",
       "count  2340.000000  2340.000000  2340.000000  2340.000000  2340.000000  \n",
       "mean    530.632886     2.108160     0.500410     0.020998   100.406413  \n",
       "std      18.116084     0.310284     0.003536     0.011784    89.069545  \n",
       "min     317.196400     0.984700     0.477800    -0.016900     0.000000  \n",
       "25%     530.935400     1.990200     0.498100     0.013400    44.220475  \n",
       "50%     532.254500     2.172800     0.500500     0.020100    73.865700  \n",
       "75%     534.447300     2.307775     0.502600     0.027600   121.635400  \n",
       "max     570.962700     2.739500     0.509800     0.102800   737.304800  \n",
       "\n",
       "[8 rows x 79 columns]"
      ]
     },
     "execution_count": 65,
     "metadata": {},
     "output_type": "execute_result"
    }
   ],
   "source": [
    "X_os_train.describe()"
   ]
  },
  {
   "cell_type": "code",
   "execution_count": 66,
   "id": "e33163a5",
   "metadata": {},
   "outputs": [
    {
     "data": {
      "text/html": [
       "<div>\n",
       "<style scoped>\n",
       "    .dataframe tbody tr th:only-of-type {\n",
       "        vertical-align: middle;\n",
       "    }\n",
       "\n",
       "    .dataframe tbody tr th {\n",
       "        vertical-align: top;\n",
       "    }\n",
       "\n",
       "    .dataframe thead th {\n",
       "        text-align: right;\n",
       "    }\n",
       "</style>\n",
       "<table border=\"1\" class=\"dataframe\">\n",
       "  <thead>\n",
       "    <tr style=\"text-align: right;\">\n",
       "      <th></th>\n",
       "      <th>0</th>\n",
       "      <th>1</th>\n",
       "      <th>2</th>\n",
       "      <th>3</th>\n",
       "      <th>4</th>\n",
       "      <th>5</th>\n",
       "      <th>6</th>\n",
       "      <th>7</th>\n",
       "      <th>8</th>\n",
       "      <th>9</th>\n",
       "      <th>...</th>\n",
       "      <th>69</th>\n",
       "      <th>70</th>\n",
       "      <th>71</th>\n",
       "      <th>72</th>\n",
       "      <th>73</th>\n",
       "      <th>74</th>\n",
       "      <th>75</th>\n",
       "      <th>76</th>\n",
       "      <th>77</th>\n",
       "      <th>78</th>\n",
       "    </tr>\n",
       "  </thead>\n",
       "  <tbody>\n",
       "    <tr>\n",
       "      <th>count</th>\n",
       "      <td>586.000000</td>\n",
       "      <td>586.0</td>\n",
       "      <td>586.000000</td>\n",
       "      <td>586.000000</td>\n",
       "      <td>586.000000</td>\n",
       "      <td>586.000000</td>\n",
       "      <td>586.000000</td>\n",
       "      <td>586.000000</td>\n",
       "      <td>586.000000</td>\n",
       "      <td>586.000000</td>\n",
       "      <td>...</td>\n",
       "      <td>586.000000</td>\n",
       "      <td>586.000000</td>\n",
       "      <td>586.000000</td>\n",
       "      <td>586.000000</td>\n",
       "      <td>586.000000</td>\n",
       "      <td>586.000000</td>\n",
       "      <td>586.000000</td>\n",
       "      <td>586.000000</td>\n",
       "      <td>586.000000</td>\n",
       "      <td>586.000000</td>\n",
       "    </tr>\n",
       "    <tr>\n",
       "      <th>mean</th>\n",
       "      <td>2499.151059</td>\n",
       "      <td>100.0</td>\n",
       "      <td>101.137272</td>\n",
       "      <td>0.121639</td>\n",
       "      <td>1.467432</td>\n",
       "      <td>-0.001601</td>\n",
       "      <td>0.000836</td>\n",
       "      <td>413.294494</td>\n",
       "      <td>1.406953</td>\n",
       "      <td>-3691.559555</td>\n",
       "      <td>...</td>\n",
       "      <td>22.922864</td>\n",
       "      <td>0.002534</td>\n",
       "      <td>1.018784</td>\n",
       "      <td>403.970376</td>\n",
       "      <td>0.678287</td>\n",
       "      <td>531.065907</td>\n",
       "      <td>2.101463</td>\n",
       "      <td>0.500299</td>\n",
       "      <td>0.021272</td>\n",
       "      <td>103.166918</td>\n",
       "    </tr>\n",
       "    <tr>\n",
       "      <th>std</th>\n",
       "      <td>82.981605</td>\n",
       "      <td>0.0</td>\n",
       "      <td>5.478679</td>\n",
       "      <td>0.008977</td>\n",
       "      <td>0.066769</td>\n",
       "      <td>0.015543</td>\n",
       "      <td>0.009295</td>\n",
       "      <td>18.983865</td>\n",
       "      <td>0.015912</td>\n",
       "      <td>1364.822205</td>\n",
       "      <td>...</td>\n",
       "      <td>142.865025</td>\n",
       "      <td>0.000272</td>\n",
       "      <td>0.330318</td>\n",
       "      <td>4.169637</td>\n",
       "      <td>0.098951</td>\n",
       "      <td>15.660476</td>\n",
       "      <td>0.312957</td>\n",
       "      <td>0.003588</td>\n",
       "      <td>0.012872</td>\n",
       "      <td>97.499609</td>\n",
       "    </tr>\n",
       "    <tr>\n",
       "      <th>min</th>\n",
       "      <td>2158.750000</td>\n",
       "      <td>100.0</td>\n",
       "      <td>83.170000</td>\n",
       "      <td>0.000000</td>\n",
       "      <td>1.295600</td>\n",
       "      <td>-0.047200</td>\n",
       "      <td>-0.034900</td>\n",
       "      <td>333.448600</td>\n",
       "      <td>1.349300</td>\n",
       "      <td>-9141.500000</td>\n",
       "      <td>...</td>\n",
       "      <td>0.000000</td>\n",
       "      <td>0.001600</td>\n",
       "      <td>0.458400</td>\n",
       "      <td>383.906000</td>\n",
       "      <td>0.510200</td>\n",
       "      <td>317.196400</td>\n",
       "      <td>0.980200</td>\n",
       "      <td>0.480000</td>\n",
       "      <td>-0.006000</td>\n",
       "      <td>0.000000</td>\n",
       "    </tr>\n",
       "    <tr>\n",
       "      <th>25%</th>\n",
       "      <td>2458.150000</td>\n",
       "      <td>100.0</td>\n",
       "      <td>98.682200</td>\n",
       "      <td>0.120800</td>\n",
       "      <td>1.424000</td>\n",
       "      <td>-0.009775</td>\n",
       "      <td>-0.005075</td>\n",
       "      <td>406.308150</td>\n",
       "      <td>1.396425</td>\n",
       "      <td>-4295.250000</td>\n",
       "      <td>...</td>\n",
       "      <td>0.000000</td>\n",
       "      <td>0.002500</td>\n",
       "      <td>0.803500</td>\n",
       "      <td>400.814000</td>\n",
       "      <td>0.591400</td>\n",
       "      <td>530.770900</td>\n",
       "      <td>1.990200</td>\n",
       "      <td>0.498100</td>\n",
       "      <td>0.013900</td>\n",
       "      <td>43.672175</td>\n",
       "    </tr>\n",
       "    <tr>\n",
       "      <th>50%</th>\n",
       "      <td>2500.850000</td>\n",
       "      <td>100.0</td>\n",
       "      <td>101.147800</td>\n",
       "      <td>0.122200</td>\n",
       "      <td>1.466300</td>\n",
       "      <td>-0.001200</td>\n",
       "      <td>0.001350</td>\n",
       "      <td>412.062300</td>\n",
       "      <td>1.406900</td>\n",
       "      <td>-3771.250000</td>\n",
       "      <td>...</td>\n",
       "      <td>0.000000</td>\n",
       "      <td>0.002600</td>\n",
       "      <td>1.039630</td>\n",
       "      <td>403.546477</td>\n",
       "      <td>0.679641</td>\n",
       "      <td>532.074500</td>\n",
       "      <td>2.162800</td>\n",
       "      <td>0.500300</td>\n",
       "      <td>0.020700</td>\n",
       "      <td>72.243500</td>\n",
       "    </tr>\n",
       "    <tr>\n",
       "      <th>75%</th>\n",
       "      <td>2545.755000</td>\n",
       "      <td>100.0</td>\n",
       "      <td>104.239700</td>\n",
       "      <td>0.123700</td>\n",
       "      <td>1.513400</td>\n",
       "      <td>0.007325</td>\n",
       "      <td>0.006700</td>\n",
       "      <td>418.738400</td>\n",
       "      <td>1.418875</td>\n",
       "      <td>-3134.187500</td>\n",
       "      <td>...</td>\n",
       "      <td>0.000000</td>\n",
       "      <td>0.002600</td>\n",
       "      <td>1.175050</td>\n",
       "      <td>407.010000</td>\n",
       "      <td>0.717800</td>\n",
       "      <td>534.417075</td>\n",
       "      <td>2.300200</td>\n",
       "      <td>0.502700</td>\n",
       "      <td>0.027800</td>\n",
       "      <td>125.823125</td>\n",
       "    </tr>\n",
       "    <tr>\n",
       "      <th>max</th>\n",
       "      <td>2806.910000</td>\n",
       "      <td>100.0</td>\n",
       "      <td>123.424400</td>\n",
       "      <td>0.127600</td>\n",
       "      <td>1.648600</td>\n",
       "      <td>0.074900</td>\n",
       "      <td>0.028500</td>\n",
       "      <td>817.003000</td>\n",
       "      <td>1.453400</td>\n",
       "      <td>1932.500000</td>\n",
       "      <td>...</td>\n",
       "      <td>1000.000000</td>\n",
       "      <td>0.003400</td>\n",
       "      <td>2.865400</td>\n",
       "      <td>417.628000</td>\n",
       "      <td>1.298800</td>\n",
       "      <td>589.508200</td>\n",
       "      <td>2.739500</td>\n",
       "      <td>0.509100</td>\n",
       "      <td>0.102800</td>\n",
       "      <td>737.304800</td>\n",
       "    </tr>\n",
       "  </tbody>\n",
       "</table>\n",
       "<p>8 rows × 79 columns</p>\n",
       "</div>"
      ],
      "text/plain": [
       "                0      1           2           3           4           5   \\\n",
       "count   586.000000  586.0  586.000000  586.000000  586.000000  586.000000   \n",
       "mean   2499.151059  100.0  101.137272    0.121639    1.467432   -0.001601   \n",
       "std      82.981605    0.0    5.478679    0.008977    0.066769    0.015543   \n",
       "min    2158.750000  100.0   83.170000    0.000000    1.295600   -0.047200   \n",
       "25%    2458.150000  100.0   98.682200    0.120800    1.424000   -0.009775   \n",
       "50%    2500.850000  100.0  101.147800    0.122200    1.466300   -0.001200   \n",
       "75%    2545.755000  100.0  104.239700    0.123700    1.513400    0.007325   \n",
       "max    2806.910000  100.0  123.424400    0.127600    1.648600    0.074900   \n",
       "\n",
       "               6           7           8            9   ...           69  \\\n",
       "count  586.000000  586.000000  586.000000   586.000000  ...   586.000000   \n",
       "mean     0.000836  413.294494    1.406953 -3691.559555  ...    22.922864   \n",
       "std      0.009295   18.983865    0.015912  1364.822205  ...   142.865025   \n",
       "min     -0.034900  333.448600    1.349300 -9141.500000  ...     0.000000   \n",
       "25%     -0.005075  406.308150    1.396425 -4295.250000  ...     0.000000   \n",
       "50%      0.001350  412.062300    1.406900 -3771.250000  ...     0.000000   \n",
       "75%      0.006700  418.738400    1.418875 -3134.187500  ...     0.000000   \n",
       "max      0.028500  817.003000    1.453400  1932.500000  ...  1000.000000   \n",
       "\n",
       "               70          71          72          73          74          75  \\\n",
       "count  586.000000  586.000000  586.000000  586.000000  586.000000  586.000000   \n",
       "mean     0.002534    1.018784  403.970376    0.678287  531.065907    2.101463   \n",
       "std      0.000272    0.330318    4.169637    0.098951   15.660476    0.312957   \n",
       "min      0.001600    0.458400  383.906000    0.510200  317.196400    0.980200   \n",
       "25%      0.002500    0.803500  400.814000    0.591400  530.770900    1.990200   \n",
       "50%      0.002600    1.039630  403.546477    0.679641  532.074500    2.162800   \n",
       "75%      0.002600    1.175050  407.010000    0.717800  534.417075    2.300200   \n",
       "max      0.003400    2.865400  417.628000    1.298800  589.508200    2.739500   \n",
       "\n",
       "               76          77          78  \n",
       "count  586.000000  586.000000  586.000000  \n",
       "mean     0.500299    0.021272  103.166918  \n",
       "std      0.003588    0.012872   97.499609  \n",
       "min      0.480000   -0.006000    0.000000  \n",
       "25%      0.498100    0.013900   43.672175  \n",
       "50%      0.500300    0.020700   72.243500  \n",
       "75%      0.502700    0.027800  125.823125  \n",
       "max      0.509100    0.102800  737.304800  \n",
       "\n",
       "[8 rows x 79 columns]"
      ]
     },
     "execution_count": 66,
     "metadata": {},
     "output_type": "execute_result"
    }
   ],
   "source": [
    "X_os_test.describe()"
   ]
  },
  {
   "cell_type": "code",
   "execution_count": 67,
   "id": "ec0e0e55",
   "metadata": {},
   "outputs": [
    {
     "data": {
      "text/plain": [
       "count    1567.000000\n",
       "mean       -0.867262\n",
       "std         0.498010\n",
       "min        -1.000000\n",
       "25%        -1.000000\n",
       "50%        -1.000000\n",
       "75%        -1.000000\n",
       "max         1.000000\n",
       "Name: Pass/Fail, dtype: float64"
      ]
     },
     "execution_count": 67,
     "metadata": {},
     "output_type": "execute_result"
    }
   ],
   "source": [
    "y.describe()"
   ]
  },
  {
   "cell_type": "code",
   "execution_count": 68,
   "id": "f6f87009",
   "metadata": {},
   "outputs": [
    {
     "data": {
      "text/plain": [
       "count    2340.000000\n",
       "mean       -0.011111\n",
       "std         1.000152\n",
       "min        -1.000000\n",
       "25%        -1.000000\n",
       "50%        -1.000000\n",
       "75%         1.000000\n",
       "max         1.000000\n",
       "Name: Pass/Fail, dtype: float64"
      ]
     },
     "execution_count": 68,
     "metadata": {},
     "output_type": "execute_result"
    }
   ],
   "source": [
    "y_os_train.describe().T"
   ]
  },
  {
   "cell_type": "code",
   "execution_count": 69,
   "id": "c2cab865",
   "metadata": {},
   "outputs": [
    {
     "data": {
      "text/plain": [
       "count    586.000000\n",
       "mean       0.044369\n",
       "std        0.999869\n",
       "min       -1.000000\n",
       "25%       -1.000000\n",
       "50%        1.000000\n",
       "75%        1.000000\n",
       "max        1.000000\n",
       "Name: Pass/Fail, dtype: float64"
      ]
     },
     "execution_count": 69,
     "metadata": {},
     "output_type": "execute_result"
    }
   ],
   "source": [
    "y_os_test.describe().T"
   ]
  },
  {
   "cell_type": "code",
   "execution_count": 70,
   "id": "5f58c31b",
   "metadata": {},
   "outputs": [
    {
     "name": "stdout",
     "output_type": "stream",
     "text": [
      "Test and Train data have similar statistical charecteristics with original data.\n"
     ]
    }
   ],
   "source": [
    "print('Test and Train data have similar statistical charecteristics with original data.')"
   ]
  },
  {
   "cell_type": "markdown",
   "id": "4f0067fb",
   "metadata": {},
   "source": [
    "#### Q5 A - Use any Supervised Learning technique to train a model."
   ]
  },
  {
   "cell_type": "code",
   "execution_count": 71,
   "id": "466cc347",
   "metadata": {},
   "outputs": [
    {
     "data": {
      "text/html": [
       "<style>#sk-container-id-3 {color: black;background-color: white;}#sk-container-id-3 pre{padding: 0;}#sk-container-id-3 div.sk-toggleable {background-color: white;}#sk-container-id-3 label.sk-toggleable__label {cursor: pointer;display: block;width: 100%;margin-bottom: 0;padding: 0.3em;box-sizing: border-box;text-align: center;}#sk-container-id-3 label.sk-toggleable__label-arrow:before {content: \"▸\";float: left;margin-right: 0.25em;color: #696969;}#sk-container-id-3 label.sk-toggleable__label-arrow:hover:before {color: black;}#sk-container-id-3 div.sk-estimator:hover label.sk-toggleable__label-arrow:before {color: black;}#sk-container-id-3 div.sk-toggleable__content {max-height: 0;max-width: 0;overflow: hidden;text-align: left;background-color: #f0f8ff;}#sk-container-id-3 div.sk-toggleable__content pre {margin: 0.2em;color: black;border-radius: 0.25em;background-color: #f0f8ff;}#sk-container-id-3 input.sk-toggleable__control:checked~div.sk-toggleable__content {max-height: 200px;max-width: 100%;overflow: auto;}#sk-container-id-3 input.sk-toggleable__control:checked~label.sk-toggleable__label-arrow:before {content: \"▾\";}#sk-container-id-3 div.sk-estimator input.sk-toggleable__control:checked~label.sk-toggleable__label {background-color: #d4ebff;}#sk-container-id-3 div.sk-label input.sk-toggleable__control:checked~label.sk-toggleable__label {background-color: #d4ebff;}#sk-container-id-3 input.sk-hidden--visually {border: 0;clip: rect(1px 1px 1px 1px);clip: rect(1px, 1px, 1px, 1px);height: 1px;margin: -1px;overflow: hidden;padding: 0;position: absolute;width: 1px;}#sk-container-id-3 div.sk-estimator {font-family: monospace;background-color: #f0f8ff;border: 1px dotted black;border-radius: 0.25em;box-sizing: border-box;margin-bottom: 0.5em;}#sk-container-id-3 div.sk-estimator:hover {background-color: #d4ebff;}#sk-container-id-3 div.sk-parallel-item::after {content: \"\";width: 100%;border-bottom: 1px solid gray;flex-grow: 1;}#sk-container-id-3 div.sk-label:hover label.sk-toggleable__label {background-color: #d4ebff;}#sk-container-id-3 div.sk-serial::before {content: \"\";position: absolute;border-left: 1px solid gray;box-sizing: border-box;top: 0;bottom: 0;left: 50%;z-index: 0;}#sk-container-id-3 div.sk-serial {display: flex;flex-direction: column;align-items: center;background-color: white;padding-right: 0.2em;padding-left: 0.2em;position: relative;}#sk-container-id-3 div.sk-item {position: relative;z-index: 1;}#sk-container-id-3 div.sk-parallel {display: flex;align-items: stretch;justify-content: center;background-color: white;position: relative;}#sk-container-id-3 div.sk-item::before, #sk-container-id-3 div.sk-parallel-item::before {content: \"\";position: absolute;border-left: 1px solid gray;box-sizing: border-box;top: 0;bottom: 0;left: 50%;z-index: -1;}#sk-container-id-3 div.sk-parallel-item {display: flex;flex-direction: column;z-index: 1;position: relative;background-color: white;}#sk-container-id-3 div.sk-parallel-item:first-child::after {align-self: flex-end;width: 50%;}#sk-container-id-3 div.sk-parallel-item:last-child::after {align-self: flex-start;width: 50%;}#sk-container-id-3 div.sk-parallel-item:only-child::after {width: 0;}#sk-container-id-3 div.sk-dashed-wrapped {border: 1px dashed gray;margin: 0 0.4em 0.5em 0.4em;box-sizing: border-box;padding-bottom: 0.4em;background-color: white;}#sk-container-id-3 div.sk-label label {font-family: monospace;font-weight: bold;display: inline-block;line-height: 1.2em;}#sk-container-id-3 div.sk-label-container {text-align: center;}#sk-container-id-3 div.sk-container {/* jupyter's `normalize.less` sets `[hidden] { display: none; }` but bootstrap.min.css set `[hidden] { display: none !important; }` so we also need the `!important` here to be able to override the default hidden behavior on the sphinx rendered scikit-learn.org. See: https://github.com/scikit-learn/scikit-learn/issues/21755 */display: inline-block !important;position: relative;}#sk-container-id-3 div.sk-text-repr-fallback {display: none;}</style><div id=\"sk-container-id-3\" class=\"sk-top-container\"><div class=\"sk-text-repr-fallback\"><pre>KNeighborsClassifier(weights=&#x27;distance&#x27;)</pre><b>In a Jupyter environment, please rerun this cell to show the HTML representation or trust the notebook. <br />On GitHub, the HTML representation is unable to render, please try loading this page with nbviewer.org.</b></div><div class=\"sk-container\" hidden><div class=\"sk-item\"><div class=\"sk-estimator sk-toggleable\"><input class=\"sk-toggleable__control sk-hidden--visually\" id=\"sk-estimator-id-3\" type=\"checkbox\" checked><label for=\"sk-estimator-id-3\" class=\"sk-toggleable__label sk-toggleable__label-arrow\">KNeighborsClassifier</label><div class=\"sk-toggleable__content\"><pre>KNeighborsClassifier(weights=&#x27;distance&#x27;)</pre></div></div></div></div></div>"
      ],
      "text/plain": [
       "KNeighborsClassifier(weights='distance')"
      ]
     },
     "execution_count": 71,
     "metadata": {},
     "output_type": "execute_result"
    }
   ],
   "source": [
    "knn = KNeighborsClassifier(n_neighbors= 5 , weights = 'distance')\n",
    "knn.fit(X_os_train_scaled_df, y_os_train)"
   ]
  },
  {
   "cell_type": "code",
   "execution_count": 72,
   "id": "887ce52c",
   "metadata": {},
   "outputs": [],
   "source": [
    "knn_predictions = knn.predict(X_os_test_scaled_df)"
   ]
  },
  {
   "cell_type": "code",
   "execution_count": 73,
   "id": "710af2c5",
   "metadata": {},
   "outputs": [
    {
     "name": "stdout",
     "output_type": "stream",
     "text": [
      "[[224  56]\n",
      " [  0 306]]\n"
     ]
    }
   ],
   "source": [
    "print(confusion_matrix(y_os_test, knn_predictions))"
   ]
  },
  {
   "cell_type": "code",
   "execution_count": 74,
   "id": "95370128",
   "metadata": {},
   "outputs": [
    {
     "name": "stdout",
     "output_type": "stream",
     "text": [
      "              precision    recall  f1-score   support\n",
      "\n",
      "        -1.0       1.00      0.80      0.89       280\n",
      "         1.0       0.85      1.00      0.92       306\n",
      "\n",
      "    accuracy                           0.90       586\n",
      "   macro avg       0.92      0.90      0.90       586\n",
      "weighted avg       0.92      0.90      0.90       586\n",
      "\n"
     ]
    }
   ],
   "source": [
    "print(classification_report(y_os_test, knn_predictions))"
   ]
  },
  {
   "cell_type": "markdown",
   "id": "c1ed7b09",
   "metadata": {},
   "source": [
    "- We got 90% accuracy.\n",
    "- Got 90% recall and 92% precision."
   ]
  },
  {
   "cell_type": "markdown",
   "id": "ff6da4b2",
   "metadata": {},
   "source": [
    "#### Q5 B - Use cross validation techniques."
   ]
  },
  {
   "cell_type": "code",
   "execution_count": 75,
   "id": "a1e01434",
   "metadata": {},
   "outputs": [],
   "source": [
    "knn_tuning = KNeighborsClassifier()\n",
    "knn_tuning_leaf_size = list(range(1,15))\n",
    "knn_tuning_no_of_neighbors = list(range(1,12))\n",
    "knn_tuning_P = [1,2]"
   ]
  },
  {
   "cell_type": "code",
   "execution_count": 76,
   "id": "1615239e",
   "metadata": {},
   "outputs": [],
   "source": [
    "knn_tuning_hyperparameters = dict(leaf_size= knn_tuning_leaf_size, \n",
    "                                  n_neighbors= knn_tuning_no_of_neighbors,\n",
    "                                  p= knn_tuning_P)"
   ]
  },
  {
   "cell_type": "code",
   "execution_count": 77,
   "id": "f5156061",
   "metadata": {},
   "outputs": [
    {
     "data": {
      "text/plain": [
       "{'leaf_size': [1, 2, 3, 4, 5, 6, 7, 8, 9, 10, 11, 12, 13, 14],\n",
       " 'n_neighbors': [1, 2, 3, 4, 5, 6, 7, 8, 9, 10, 11],\n",
       " 'p': [1, 2]}"
      ]
     },
     "execution_count": 77,
     "metadata": {},
     "output_type": "execute_result"
    }
   ],
   "source": [
    "knn_tuning_hyperparameters"
   ]
  },
  {
   "cell_type": "markdown",
   "id": "b3e1a5dd",
   "metadata": {},
   "source": [
    "- **Grid Search CV**"
   ]
  },
  {
   "cell_type": "code",
   "execution_count": 78,
   "id": "a4d2f175",
   "metadata": {},
   "outputs": [],
   "source": [
    "knn_GS_classifier = GridSearchCV(knn_tuning, knn_tuning_hyperparameters, cv= 5)\n",
    "knn_tuning_GS_best_model = knn_GS_classifier.fit(X_os_train_scaled_df, y_os_train)\n",
    "df_knn_tuning_GS_model_results = pd.DataFrame(knn_tuning_GS_best_model.cv_results_)"
   ]
  },
  {
   "cell_type": "code",
   "execution_count": 79,
   "id": "4274e6b2",
   "metadata": {},
   "outputs": [
    {
     "data": {
      "text/html": [
       "<div>\n",
       "<style scoped>\n",
       "    .dataframe tbody tr th:only-of-type {\n",
       "        vertical-align: middle;\n",
       "    }\n",
       "\n",
       "    .dataframe tbody tr th {\n",
       "        vertical-align: top;\n",
       "    }\n",
       "\n",
       "    .dataframe thead th {\n",
       "        text-align: right;\n",
       "    }\n",
       "</style>\n",
       "<table border=\"1\" class=\"dataframe\">\n",
       "  <thead>\n",
       "    <tr style=\"text-align: right;\">\n",
       "      <th></th>\n",
       "      <th>mean_fit_time</th>\n",
       "      <th>std_fit_time</th>\n",
       "      <th>mean_score_time</th>\n",
       "      <th>std_score_time</th>\n",
       "      <th>param_leaf_size</th>\n",
       "      <th>param_n_neighbors</th>\n",
       "      <th>param_p</th>\n",
       "      <th>params</th>\n",
       "      <th>split0_test_score</th>\n",
       "      <th>split1_test_score</th>\n",
       "      <th>split2_test_score</th>\n",
       "      <th>split3_test_score</th>\n",
       "      <th>split4_test_score</th>\n",
       "      <th>mean_test_score</th>\n",
       "      <th>std_test_score</th>\n",
       "      <th>rank_test_score</th>\n",
       "    </tr>\n",
       "  </thead>\n",
       "  <tbody>\n",
       "    <tr>\n",
       "      <th>0</th>\n",
       "      <td>0.015046</td>\n",
       "      <td>0.002583</td>\n",
       "      <td>0.280585</td>\n",
       "      <td>0.018081</td>\n",
       "      <td>1</td>\n",
       "      <td>1</td>\n",
       "      <td>1</td>\n",
       "      <td>{'leaf_size': 1, 'n_neighbors': 1, 'p': 1}</td>\n",
       "      <td>0.955128</td>\n",
       "      <td>0.946581</td>\n",
       "      <td>0.957265</td>\n",
       "      <td>0.965812</td>\n",
       "      <td>0.961538</td>\n",
       "      <td>0.957265</td>\n",
       "      <td>0.006481</td>\n",
       "      <td>1</td>\n",
       "    </tr>\n",
       "    <tr>\n",
       "      <th>1</th>\n",
       "      <td>0.006896</td>\n",
       "      <td>0.005701</td>\n",
       "      <td>0.249663</td>\n",
       "      <td>0.026297</td>\n",
       "      <td>1</td>\n",
       "      <td>1</td>\n",
       "      <td>2</td>\n",
       "      <td>{'leaf_size': 1, 'n_neighbors': 1, 'p': 2}</td>\n",
       "      <td>0.940171</td>\n",
       "      <td>0.944444</td>\n",
       "      <td>0.955128</td>\n",
       "      <td>0.961538</td>\n",
       "      <td>0.946581</td>\n",
       "      <td>0.949573</td>\n",
       "      <td>0.007716</td>\n",
       "      <td>29</td>\n",
       "    </tr>\n",
       "    <tr>\n",
       "      <th>2</th>\n",
       "      <td>0.015187</td>\n",
       "      <td>0.001491</td>\n",
       "      <td>0.290103</td>\n",
       "      <td>0.006167</td>\n",
       "      <td>1</td>\n",
       "      <td>2</td>\n",
       "      <td>1</td>\n",
       "      <td>{'leaf_size': 1, 'n_neighbors': 2, 'p': 1}</td>\n",
       "      <td>0.950855</td>\n",
       "      <td>0.946581</td>\n",
       "      <td>0.950855</td>\n",
       "      <td>0.965812</td>\n",
       "      <td>0.961538</td>\n",
       "      <td>0.955128</td>\n",
       "      <td>0.007278</td>\n",
       "      <td>15</td>\n",
       "    </tr>\n",
       "    <tr>\n",
       "      <th>3</th>\n",
       "      <td>0.015626</td>\n",
       "      <td>0.000004</td>\n",
       "      <td>0.271320</td>\n",
       "      <td>0.008357</td>\n",
       "      <td>1</td>\n",
       "      <td>2</td>\n",
       "      <td>2</td>\n",
       "      <td>{'leaf_size': 1, 'n_neighbors': 2, 'p': 2}</td>\n",
       "      <td>0.935897</td>\n",
       "      <td>0.944444</td>\n",
       "      <td>0.948718</td>\n",
       "      <td>0.961538</td>\n",
       "      <td>0.946581</td>\n",
       "      <td>0.947436</td>\n",
       "      <td>0.008287</td>\n",
       "      <td>43</td>\n",
       "    </tr>\n",
       "    <tr>\n",
       "      <th>4</th>\n",
       "      <td>0.011209</td>\n",
       "      <td>0.006171</td>\n",
       "      <td>0.286804</td>\n",
       "      <td>0.010093</td>\n",
       "      <td>1</td>\n",
       "      <td>3</td>\n",
       "      <td>1</td>\n",
       "      <td>{'leaf_size': 1, 'n_neighbors': 3, 'p': 1}</td>\n",
       "      <td>0.895299</td>\n",
       "      <td>0.899573</td>\n",
       "      <td>0.910256</td>\n",
       "      <td>0.920940</td>\n",
       "      <td>0.918803</td>\n",
       "      <td>0.908974</td>\n",
       "      <td>0.010167</td>\n",
       "      <td>57</td>\n",
       "    </tr>\n",
       "  </tbody>\n",
       "</table>\n",
       "</div>"
      ],
      "text/plain": [
       "   mean_fit_time  std_fit_time  mean_score_time  std_score_time  \\\n",
       "0       0.015046      0.002583         0.280585        0.018081   \n",
       "1       0.006896      0.005701         0.249663        0.026297   \n",
       "2       0.015187      0.001491         0.290103        0.006167   \n",
       "3       0.015626      0.000004         0.271320        0.008357   \n",
       "4       0.011209      0.006171         0.286804        0.010093   \n",
       "\n",
       "  param_leaf_size param_n_neighbors param_p  \\\n",
       "0               1                 1       1   \n",
       "1               1                 1       2   \n",
       "2               1                 2       1   \n",
       "3               1                 2       2   \n",
       "4               1                 3       1   \n",
       "\n",
       "                                       params  split0_test_score  \\\n",
       "0  {'leaf_size': 1, 'n_neighbors': 1, 'p': 1}           0.955128   \n",
       "1  {'leaf_size': 1, 'n_neighbors': 1, 'p': 2}           0.940171   \n",
       "2  {'leaf_size': 1, 'n_neighbors': 2, 'p': 1}           0.950855   \n",
       "3  {'leaf_size': 1, 'n_neighbors': 2, 'p': 2}           0.935897   \n",
       "4  {'leaf_size': 1, 'n_neighbors': 3, 'p': 1}           0.895299   \n",
       "\n",
       "   split1_test_score  split2_test_score  split3_test_score  split4_test_score  \\\n",
       "0           0.946581           0.957265           0.965812           0.961538   \n",
       "1           0.944444           0.955128           0.961538           0.946581   \n",
       "2           0.946581           0.950855           0.965812           0.961538   \n",
       "3           0.944444           0.948718           0.961538           0.946581   \n",
       "4           0.899573           0.910256           0.920940           0.918803   \n",
       "\n",
       "   mean_test_score  std_test_score  rank_test_score  \n",
       "0         0.957265        0.006481                1  \n",
       "1         0.949573        0.007716               29  \n",
       "2         0.955128        0.007278               15  \n",
       "3         0.947436        0.008287               43  \n",
       "4         0.908974        0.010167               57  "
      ]
     },
     "execution_count": 79,
     "metadata": {},
     "output_type": "execute_result"
    }
   ],
   "source": [
    "df_knn_tuning_GS_model_results.head()"
   ]
  },
  {
   "cell_type": "code",
   "execution_count": 80,
   "id": "8d02cfce",
   "metadata": {},
   "outputs": [
    {
     "data": {
      "text/html": [
       "<div>\n",
       "<style scoped>\n",
       "    .dataframe tbody tr th:only-of-type {\n",
       "        vertical-align: middle;\n",
       "    }\n",
       "\n",
       "    .dataframe tbody tr th {\n",
       "        vertical-align: top;\n",
       "    }\n",
       "\n",
       "    .dataframe thead th {\n",
       "        text-align: right;\n",
       "    }\n",
       "</style>\n",
       "<table border=\"1\" class=\"dataframe\">\n",
       "  <thead>\n",
       "    <tr style=\"text-align: right;\">\n",
       "      <th></th>\n",
       "      <th>param_leaf_size</th>\n",
       "      <th>param_n_neighbors</th>\n",
       "      <th>param_p</th>\n",
       "      <th>params</th>\n",
       "      <th>mean_test_score</th>\n",
       "    </tr>\n",
       "  </thead>\n",
       "  <tbody>\n",
       "    <tr>\n",
       "      <th>0</th>\n",
       "      <td>1</td>\n",
       "      <td>1</td>\n",
       "      <td>1</td>\n",
       "      <td>{'leaf_size': 1, 'n_neighbors': 1, 'p': 1}</td>\n",
       "      <td>0.957265</td>\n",
       "    </tr>\n",
       "    <tr>\n",
       "      <th>1</th>\n",
       "      <td>1</td>\n",
       "      <td>1</td>\n",
       "      <td>2</td>\n",
       "      <td>{'leaf_size': 1, 'n_neighbors': 1, 'p': 2}</td>\n",
       "      <td>0.949573</td>\n",
       "    </tr>\n",
       "    <tr>\n",
       "      <th>2</th>\n",
       "      <td>1</td>\n",
       "      <td>2</td>\n",
       "      <td>1</td>\n",
       "      <td>{'leaf_size': 1, 'n_neighbors': 2, 'p': 1}</td>\n",
       "      <td>0.955128</td>\n",
       "    </tr>\n",
       "    <tr>\n",
       "      <th>3</th>\n",
       "      <td>1</td>\n",
       "      <td>2</td>\n",
       "      <td>2</td>\n",
       "      <td>{'leaf_size': 1, 'n_neighbors': 2, 'p': 2}</td>\n",
       "      <td>0.947436</td>\n",
       "    </tr>\n",
       "    <tr>\n",
       "      <th>4</th>\n",
       "      <td>1</td>\n",
       "      <td>3</td>\n",
       "      <td>1</td>\n",
       "      <td>{'leaf_size': 1, 'n_neighbors': 3, 'p': 1}</td>\n",
       "      <td>0.908974</td>\n",
       "    </tr>\n",
       "    <tr>\n",
       "      <th>...</th>\n",
       "      <td>...</td>\n",
       "      <td>...</td>\n",
       "      <td>...</td>\n",
       "      <td>...</td>\n",
       "      <td>...</td>\n",
       "    </tr>\n",
       "    <tr>\n",
       "      <th>303</th>\n",
       "      <td>14</td>\n",
       "      <td>9</td>\n",
       "      <td>2</td>\n",
       "      <td>{'leaf_size': 14, 'n_neighbors': 9, 'p': 2}</td>\n",
       "      <td>0.815812</td>\n",
       "    </tr>\n",
       "    <tr>\n",
       "      <th>304</th>\n",
       "      <td>14</td>\n",
       "      <td>10</td>\n",
       "      <td>1</td>\n",
       "      <td>{'leaf_size': 14, 'n_neighbors': 10, 'p': 1}</td>\n",
       "      <td>0.811111</td>\n",
       "    </tr>\n",
       "    <tr>\n",
       "      <th>305</th>\n",
       "      <td>14</td>\n",
       "      <td>10</td>\n",
       "      <td>2</td>\n",
       "      <td>{'leaf_size': 14, 'n_neighbors': 10, 'p': 2}</td>\n",
       "      <td>0.811538</td>\n",
       "    </tr>\n",
       "    <tr>\n",
       "      <th>306</th>\n",
       "      <td>14</td>\n",
       "      <td>11</td>\n",
       "      <td>1</td>\n",
       "      <td>{'leaf_size': 14, 'n_neighbors': 11, 'p': 1}</td>\n",
       "      <td>0.793162</td>\n",
       "    </tr>\n",
       "    <tr>\n",
       "      <th>307</th>\n",
       "      <td>14</td>\n",
       "      <td>11</td>\n",
       "      <td>2</td>\n",
       "      <td>{'leaf_size': 14, 'n_neighbors': 11, 'p': 2}</td>\n",
       "      <td>0.790171</td>\n",
       "    </tr>\n",
       "  </tbody>\n",
       "</table>\n",
       "<p>308 rows × 5 columns</p>\n",
       "</div>"
      ],
      "text/plain": [
       "    param_leaf_size param_n_neighbors param_p  \\\n",
       "0                 1                 1       1   \n",
       "1                 1                 1       2   \n",
       "2                 1                 2       1   \n",
       "3                 1                 2       2   \n",
       "4                 1                 3       1   \n",
       "..              ...               ...     ...   \n",
       "303              14                 9       2   \n",
       "304              14                10       1   \n",
       "305              14                10       2   \n",
       "306              14                11       1   \n",
       "307              14                11       2   \n",
       "\n",
       "                                           params  mean_test_score  \n",
       "0      {'leaf_size': 1, 'n_neighbors': 1, 'p': 1}         0.957265  \n",
       "1      {'leaf_size': 1, 'n_neighbors': 1, 'p': 2}         0.949573  \n",
       "2      {'leaf_size': 1, 'n_neighbors': 2, 'p': 1}         0.955128  \n",
       "3      {'leaf_size': 1, 'n_neighbors': 2, 'p': 2}         0.947436  \n",
       "4      {'leaf_size': 1, 'n_neighbors': 3, 'p': 1}         0.908974  \n",
       "..                                            ...              ...  \n",
       "303   {'leaf_size': 14, 'n_neighbors': 9, 'p': 2}         0.815812  \n",
       "304  {'leaf_size': 14, 'n_neighbors': 10, 'p': 1}         0.811111  \n",
       "305  {'leaf_size': 14, 'n_neighbors': 10, 'p': 2}         0.811538  \n",
       "306  {'leaf_size': 14, 'n_neighbors': 11, 'p': 1}         0.793162  \n",
       "307  {'leaf_size': 14, 'n_neighbors': 11, 'p': 2}         0.790171  \n",
       "\n",
       "[308 rows x 5 columns]"
      ]
     },
     "execution_count": 80,
     "metadata": {},
     "output_type": "execute_result"
    }
   ],
   "source": [
    "df_knn_tuning_GS_model_results[['param_leaf_size','param_n_neighbors','param_p','params','mean_test_score']]"
   ]
  },
  {
   "cell_type": "code",
   "execution_count": 81,
   "id": "127ebc5b",
   "metadata": {},
   "outputs": [
    {
     "name": "stdout",
     "output_type": "stream",
     "text": [
      "KNeighborsClassifier(leaf_size=1, n_neighbors=1, p=1)\n"
     ]
    }
   ],
   "source": [
    "print(knn_tuning_GS_best_model.best_estimator_)"
   ]
  },
  {
   "cell_type": "code",
   "execution_count": 82,
   "id": "d92c23bb",
   "metadata": {},
   "outputs": [
    {
     "name": "stdout",
     "output_type": "stream",
     "text": [
      "<bound method BaseEstimator.get_params of GridSearchCV(cv=5, estimator=KNeighborsClassifier(),\n",
      "             param_grid={'leaf_size': [1, 2, 3, 4, 5, 6, 7, 8, 9, 10, 11, 12,\n",
      "                                       13, 14],\n",
      "                         'n_neighbors': [1, 2, 3, 4, 5, 6, 7, 8, 9, 10, 11],\n",
      "                         'p': [1, 2]})>\n"
     ]
    }
   ],
   "source": [
    "print(knn_tuning_GS_best_model.get_params)"
   ]
  },
  {
   "cell_type": "code",
   "execution_count": 83,
   "id": "fb2b03fa",
   "metadata": {},
   "outputs": [
    {
     "name": "stdout",
     "output_type": "stream",
     "text": [
      "0.9572649572649572\n"
     ]
    }
   ],
   "source": [
    "print(knn_tuning_GS_best_model.best_score_)"
   ]
  },
  {
   "cell_type": "markdown",
   "id": "1d6504a5",
   "metadata": {},
   "source": [
    "- **Randomized Search CV**"
   ]
  },
  {
   "cell_type": "code",
   "execution_count": 84,
   "id": "45412afb",
   "metadata": {},
   "outputs": [],
   "source": [
    "knn_RS_classifier = RandomizedSearchCV(knn_tuning, knn_tuning_hyperparameters, cv= 5)\n",
    "knn_tuning_RS_best_model = knn_RS_classifier.fit(X_os_train_scaled_df, y_os_train)\n",
    "df_knn_tuning_RS_model_results = pd.DataFrame(knn_tuning_RS_best_model.cv_results_)"
   ]
  },
  {
   "cell_type": "code",
   "execution_count": 85,
   "id": "351cccd3",
   "metadata": {},
   "outputs": [
    {
     "data": {
      "text/html": [
       "<div>\n",
       "<style scoped>\n",
       "    .dataframe tbody tr th:only-of-type {\n",
       "        vertical-align: middle;\n",
       "    }\n",
       "\n",
       "    .dataframe tbody tr th {\n",
       "        vertical-align: top;\n",
       "    }\n",
       "\n",
       "    .dataframe thead th {\n",
       "        text-align: right;\n",
       "    }\n",
       "</style>\n",
       "<table border=\"1\" class=\"dataframe\">\n",
       "  <thead>\n",
       "    <tr style=\"text-align: right;\">\n",
       "      <th></th>\n",
       "      <th>mean_fit_time</th>\n",
       "      <th>std_fit_time</th>\n",
       "      <th>mean_score_time</th>\n",
       "      <th>std_score_time</th>\n",
       "      <th>param_p</th>\n",
       "      <th>param_n_neighbors</th>\n",
       "      <th>param_leaf_size</th>\n",
       "      <th>params</th>\n",
       "      <th>split0_test_score</th>\n",
       "      <th>split1_test_score</th>\n",
       "      <th>split2_test_score</th>\n",
       "      <th>split3_test_score</th>\n",
       "      <th>split4_test_score</th>\n",
       "      <th>mean_test_score</th>\n",
       "      <th>std_test_score</th>\n",
       "      <th>rank_test_score</th>\n",
       "    </tr>\n",
       "  </thead>\n",
       "  <tbody>\n",
       "    <tr>\n",
       "      <th>0</th>\n",
       "      <td>0.009376</td>\n",
       "      <td>0.007656</td>\n",
       "      <td>0.256230</td>\n",
       "      <td>0.030956</td>\n",
       "      <td>2</td>\n",
       "      <td>4</td>\n",
       "      <td>2</td>\n",
       "      <td>{'p': 2, 'n_neighbors': 4, 'leaf_size': 2}</td>\n",
       "      <td>0.893162</td>\n",
       "      <td>0.897436</td>\n",
       "      <td>0.910256</td>\n",
       "      <td>0.927350</td>\n",
       "      <td>0.908120</td>\n",
       "      <td>0.907265</td>\n",
       "      <td>0.011905</td>\n",
       "      <td>4</td>\n",
       "    </tr>\n",
       "    <tr>\n",
       "      <th>1</th>\n",
       "      <td>0.013191</td>\n",
       "      <td>0.006647</td>\n",
       "      <td>0.296603</td>\n",
       "      <td>0.010445</td>\n",
       "      <td>1</td>\n",
       "      <td>2</td>\n",
       "      <td>4</td>\n",
       "      <td>{'p': 1, 'n_neighbors': 2, 'leaf_size': 4}</td>\n",
       "      <td>0.950855</td>\n",
       "      <td>0.946581</td>\n",
       "      <td>0.950855</td>\n",
       "      <td>0.965812</td>\n",
       "      <td>0.961538</td>\n",
       "      <td>0.955128</td>\n",
       "      <td>0.007278</td>\n",
       "      <td>1</td>\n",
       "    </tr>\n",
       "    <tr>\n",
       "      <th>2</th>\n",
       "      <td>0.009790</td>\n",
       "      <td>0.007604</td>\n",
       "      <td>0.295446</td>\n",
       "      <td>0.008449</td>\n",
       "      <td>1</td>\n",
       "      <td>3</td>\n",
       "      <td>3</td>\n",
       "      <td>{'p': 1, 'n_neighbors': 3, 'leaf_size': 3}</td>\n",
       "      <td>0.895299</td>\n",
       "      <td>0.899573</td>\n",
       "      <td>0.910256</td>\n",
       "      <td>0.920940</td>\n",
       "      <td>0.918803</td>\n",
       "      <td>0.908974</td>\n",
       "      <td>0.010167</td>\n",
       "      <td>2</td>\n",
       "    </tr>\n",
       "    <tr>\n",
       "      <th>3</th>\n",
       "      <td>0.015051</td>\n",
       "      <td>0.002986</td>\n",
       "      <td>0.293605</td>\n",
       "      <td>0.006110</td>\n",
       "      <td>1</td>\n",
       "      <td>8</td>\n",
       "      <td>7</td>\n",
       "      <td>{'p': 1, 'n_neighbors': 8, 'leaf_size': 7}</td>\n",
       "      <td>0.837607</td>\n",
       "      <td>0.839744</td>\n",
       "      <td>0.854701</td>\n",
       "      <td>0.858974</td>\n",
       "      <td>0.844017</td>\n",
       "      <td>0.847009</td>\n",
       "      <td>0.008396</td>\n",
       "      <td>6</td>\n",
       "    </tr>\n",
       "    <tr>\n",
       "      <th>4</th>\n",
       "      <td>0.012723</td>\n",
       "      <td>0.006376</td>\n",
       "      <td>0.267413</td>\n",
       "      <td>0.003954</td>\n",
       "      <td>2</td>\n",
       "      <td>8</td>\n",
       "      <td>4</td>\n",
       "      <td>{'p': 2, 'n_neighbors': 8, 'leaf_size': 4}</td>\n",
       "      <td>0.835470</td>\n",
       "      <td>0.814103</td>\n",
       "      <td>0.856838</td>\n",
       "      <td>0.826923</td>\n",
       "      <td>0.839744</td>\n",
       "      <td>0.834615</td>\n",
       "      <td>0.014148</td>\n",
       "      <td>7</td>\n",
       "    </tr>\n",
       "  </tbody>\n",
       "</table>\n",
       "</div>"
      ],
      "text/plain": [
       "   mean_fit_time  std_fit_time  mean_score_time  std_score_time param_p  \\\n",
       "0       0.009376      0.007656         0.256230        0.030956       2   \n",
       "1       0.013191      0.006647         0.296603        0.010445       1   \n",
       "2       0.009790      0.007604         0.295446        0.008449       1   \n",
       "3       0.015051      0.002986         0.293605        0.006110       1   \n",
       "4       0.012723      0.006376         0.267413        0.003954       2   \n",
       "\n",
       "  param_n_neighbors param_leaf_size  \\\n",
       "0                 4               2   \n",
       "1                 2               4   \n",
       "2                 3               3   \n",
       "3                 8               7   \n",
       "4                 8               4   \n",
       "\n",
       "                                       params  split0_test_score  \\\n",
       "0  {'p': 2, 'n_neighbors': 4, 'leaf_size': 2}           0.893162   \n",
       "1  {'p': 1, 'n_neighbors': 2, 'leaf_size': 4}           0.950855   \n",
       "2  {'p': 1, 'n_neighbors': 3, 'leaf_size': 3}           0.895299   \n",
       "3  {'p': 1, 'n_neighbors': 8, 'leaf_size': 7}           0.837607   \n",
       "4  {'p': 2, 'n_neighbors': 8, 'leaf_size': 4}           0.835470   \n",
       "\n",
       "   split1_test_score  split2_test_score  split3_test_score  split4_test_score  \\\n",
       "0           0.897436           0.910256           0.927350           0.908120   \n",
       "1           0.946581           0.950855           0.965812           0.961538   \n",
       "2           0.899573           0.910256           0.920940           0.918803   \n",
       "3           0.839744           0.854701           0.858974           0.844017   \n",
       "4           0.814103           0.856838           0.826923           0.839744   \n",
       "\n",
       "   mean_test_score  std_test_score  rank_test_score  \n",
       "0         0.907265        0.011905                4  \n",
       "1         0.955128        0.007278                1  \n",
       "2         0.908974        0.010167                2  \n",
       "3         0.847009        0.008396                6  \n",
       "4         0.834615        0.014148                7  "
      ]
     },
     "execution_count": 85,
     "metadata": {},
     "output_type": "execute_result"
    }
   ],
   "source": [
    "df_knn_tuning_RS_model_results.head()"
   ]
  },
  {
   "cell_type": "code",
   "execution_count": 86,
   "id": "eed3444e",
   "metadata": {},
   "outputs": [
    {
     "data": {
      "text/html": [
       "<div>\n",
       "<style scoped>\n",
       "    .dataframe tbody tr th:only-of-type {\n",
       "        vertical-align: middle;\n",
       "    }\n",
       "\n",
       "    .dataframe tbody tr th {\n",
       "        vertical-align: top;\n",
       "    }\n",
       "\n",
       "    .dataframe thead th {\n",
       "        text-align: right;\n",
       "    }\n",
       "</style>\n",
       "<table border=\"1\" class=\"dataframe\">\n",
       "  <thead>\n",
       "    <tr style=\"text-align: right;\">\n",
       "      <th></th>\n",
       "      <th>param_leaf_size</th>\n",
       "      <th>param_n_neighbors</th>\n",
       "      <th>param_p</th>\n",
       "      <th>params</th>\n",
       "      <th>mean_test_score</th>\n",
       "    </tr>\n",
       "  </thead>\n",
       "  <tbody>\n",
       "    <tr>\n",
       "      <th>0</th>\n",
       "      <td>2</td>\n",
       "      <td>4</td>\n",
       "      <td>2</td>\n",
       "      <td>{'p': 2, 'n_neighbors': 4, 'leaf_size': 2}</td>\n",
       "      <td>0.907265</td>\n",
       "    </tr>\n",
       "    <tr>\n",
       "      <th>1</th>\n",
       "      <td>4</td>\n",
       "      <td>2</td>\n",
       "      <td>1</td>\n",
       "      <td>{'p': 1, 'n_neighbors': 2, 'leaf_size': 4}</td>\n",
       "      <td>0.955128</td>\n",
       "    </tr>\n",
       "    <tr>\n",
       "      <th>2</th>\n",
       "      <td>3</td>\n",
       "      <td>3</td>\n",
       "      <td>1</td>\n",
       "      <td>{'p': 1, 'n_neighbors': 3, 'leaf_size': 3}</td>\n",
       "      <td>0.908974</td>\n",
       "    </tr>\n",
       "    <tr>\n",
       "      <th>3</th>\n",
       "      <td>7</td>\n",
       "      <td>8</td>\n",
       "      <td>1</td>\n",
       "      <td>{'p': 1, 'n_neighbors': 8, 'leaf_size': 7}</td>\n",
       "      <td>0.847009</td>\n",
       "    </tr>\n",
       "    <tr>\n",
       "      <th>4</th>\n",
       "      <td>4</td>\n",
       "      <td>8</td>\n",
       "      <td>2</td>\n",
       "      <td>{'p': 2, 'n_neighbors': 8, 'leaf_size': 4}</td>\n",
       "      <td>0.834615</td>\n",
       "    </tr>\n",
       "    <tr>\n",
       "      <th>5</th>\n",
       "      <td>14</td>\n",
       "      <td>11</td>\n",
       "      <td>2</td>\n",
       "      <td>{'p': 2, 'n_neighbors': 11, 'leaf_size': 14}</td>\n",
       "      <td>0.790171</td>\n",
       "    </tr>\n",
       "    <tr>\n",
       "      <th>6</th>\n",
       "      <td>13</td>\n",
       "      <td>3</td>\n",
       "      <td>2</td>\n",
       "      <td>{'p': 2, 'n_neighbors': 3, 'leaf_size': 13}</td>\n",
       "      <td>0.908547</td>\n",
       "    </tr>\n",
       "    <tr>\n",
       "      <th>7</th>\n",
       "      <td>6</td>\n",
       "      <td>11</td>\n",
       "      <td>1</td>\n",
       "      <td>{'p': 1, 'n_neighbors': 11, 'leaf_size': 6}</td>\n",
       "      <td>0.793162</td>\n",
       "    </tr>\n",
       "    <tr>\n",
       "      <th>8</th>\n",
       "      <td>11</td>\n",
       "      <td>5</td>\n",
       "      <td>1</td>\n",
       "      <td>{'p': 1, 'n_neighbors': 5, 'leaf_size': 11}</td>\n",
       "      <td>0.875641</td>\n",
       "    </tr>\n",
       "    <tr>\n",
       "      <th>9</th>\n",
       "      <td>10</td>\n",
       "      <td>9</td>\n",
       "      <td>1</td>\n",
       "      <td>{'p': 1, 'n_neighbors': 9, 'leaf_size': 10}</td>\n",
       "      <td>0.820085</td>\n",
       "    </tr>\n",
       "  </tbody>\n",
       "</table>\n",
       "</div>"
      ],
      "text/plain": [
       "  param_leaf_size param_n_neighbors param_p  \\\n",
       "0               2                 4       2   \n",
       "1               4                 2       1   \n",
       "2               3                 3       1   \n",
       "3               7                 8       1   \n",
       "4               4                 8       2   \n",
       "5              14                11       2   \n",
       "6              13                 3       2   \n",
       "7               6                11       1   \n",
       "8              11                 5       1   \n",
       "9              10                 9       1   \n",
       "\n",
       "                                         params  mean_test_score  \n",
       "0    {'p': 2, 'n_neighbors': 4, 'leaf_size': 2}         0.907265  \n",
       "1    {'p': 1, 'n_neighbors': 2, 'leaf_size': 4}         0.955128  \n",
       "2    {'p': 1, 'n_neighbors': 3, 'leaf_size': 3}         0.908974  \n",
       "3    {'p': 1, 'n_neighbors': 8, 'leaf_size': 7}         0.847009  \n",
       "4    {'p': 2, 'n_neighbors': 8, 'leaf_size': 4}         0.834615  \n",
       "5  {'p': 2, 'n_neighbors': 11, 'leaf_size': 14}         0.790171  \n",
       "6   {'p': 2, 'n_neighbors': 3, 'leaf_size': 13}         0.908547  \n",
       "7   {'p': 1, 'n_neighbors': 11, 'leaf_size': 6}         0.793162  \n",
       "8   {'p': 1, 'n_neighbors': 5, 'leaf_size': 11}         0.875641  \n",
       "9   {'p': 1, 'n_neighbors': 9, 'leaf_size': 10}         0.820085  "
      ]
     },
     "execution_count": 86,
     "metadata": {},
     "output_type": "execute_result"
    }
   ],
   "source": [
    "df_knn_tuning_RS_model_results[['param_leaf_size','param_n_neighbors','param_p','params','mean_test_score']]"
   ]
  },
  {
   "cell_type": "code",
   "execution_count": 87,
   "id": "21b53833",
   "metadata": {},
   "outputs": [
    {
     "name": "stdout",
     "output_type": "stream",
     "text": [
      "KNeighborsClassifier(leaf_size=4, n_neighbors=2, p=1)\n"
     ]
    }
   ],
   "source": [
    "print(knn_tuning_RS_best_model.best_estimator_)"
   ]
  },
  {
   "cell_type": "code",
   "execution_count": 88,
   "id": "62bb868a",
   "metadata": {},
   "outputs": [
    {
     "name": "stdout",
     "output_type": "stream",
     "text": [
      "<bound method BaseEstimator.get_params of RandomizedSearchCV(cv=5, estimator=KNeighborsClassifier(),\n",
      "                   param_distributions={'leaf_size': [1, 2, 3, 4, 5, 6, 7, 8, 9,\n",
      "                                                      10, 11, 12, 13, 14],\n",
      "                                        'n_neighbors': [1, 2, 3, 4, 5, 6, 7, 8,\n",
      "                                                        9, 10, 11],\n",
      "                                        'p': [1, 2]})>\n"
     ]
    }
   ],
   "source": [
    "print(knn_tuning_RS_best_model.get_params)"
   ]
  },
  {
   "cell_type": "code",
   "execution_count": 89,
   "id": "68bba449",
   "metadata": {},
   "outputs": [
    {
     "name": "stdout",
     "output_type": "stream",
     "text": [
      "0.9551282051282051\n"
     ]
    }
   ],
   "source": [
    "print(knn_tuning_RS_best_model.best_score_)"
   ]
  },
  {
   "cell_type": "markdown",
   "id": "9a0d5f60",
   "metadata": {},
   "source": [
    "#### Q5 C - Apply hyper-parameter tuning techniques to get the best accuracy."
   ]
  },
  {
   "cell_type": "code",
   "execution_count": 90,
   "id": "271d284d",
   "metadata": {},
   "outputs": [
    {
     "data": {
      "text/html": [
       "<style>#sk-container-id-4 {color: black;background-color: white;}#sk-container-id-4 pre{padding: 0;}#sk-container-id-4 div.sk-toggleable {background-color: white;}#sk-container-id-4 label.sk-toggleable__label {cursor: pointer;display: block;width: 100%;margin-bottom: 0;padding: 0.3em;box-sizing: border-box;text-align: center;}#sk-container-id-4 label.sk-toggleable__label-arrow:before {content: \"▸\";float: left;margin-right: 0.25em;color: #696969;}#sk-container-id-4 label.sk-toggleable__label-arrow:hover:before {color: black;}#sk-container-id-4 div.sk-estimator:hover label.sk-toggleable__label-arrow:before {color: black;}#sk-container-id-4 div.sk-toggleable__content {max-height: 0;max-width: 0;overflow: hidden;text-align: left;background-color: #f0f8ff;}#sk-container-id-4 div.sk-toggleable__content pre {margin: 0.2em;color: black;border-radius: 0.25em;background-color: #f0f8ff;}#sk-container-id-4 input.sk-toggleable__control:checked~div.sk-toggleable__content {max-height: 200px;max-width: 100%;overflow: auto;}#sk-container-id-4 input.sk-toggleable__control:checked~label.sk-toggleable__label-arrow:before {content: \"▾\";}#sk-container-id-4 div.sk-estimator input.sk-toggleable__control:checked~label.sk-toggleable__label {background-color: #d4ebff;}#sk-container-id-4 div.sk-label input.sk-toggleable__control:checked~label.sk-toggleable__label {background-color: #d4ebff;}#sk-container-id-4 input.sk-hidden--visually {border: 0;clip: rect(1px 1px 1px 1px);clip: rect(1px, 1px, 1px, 1px);height: 1px;margin: -1px;overflow: hidden;padding: 0;position: absolute;width: 1px;}#sk-container-id-4 div.sk-estimator {font-family: monospace;background-color: #f0f8ff;border: 1px dotted black;border-radius: 0.25em;box-sizing: border-box;margin-bottom: 0.5em;}#sk-container-id-4 div.sk-estimator:hover {background-color: #d4ebff;}#sk-container-id-4 div.sk-parallel-item::after {content: \"\";width: 100%;border-bottom: 1px solid gray;flex-grow: 1;}#sk-container-id-4 div.sk-label:hover label.sk-toggleable__label {background-color: #d4ebff;}#sk-container-id-4 div.sk-serial::before {content: \"\";position: absolute;border-left: 1px solid gray;box-sizing: border-box;top: 0;bottom: 0;left: 50%;z-index: 0;}#sk-container-id-4 div.sk-serial {display: flex;flex-direction: column;align-items: center;background-color: white;padding-right: 0.2em;padding-left: 0.2em;position: relative;}#sk-container-id-4 div.sk-item {position: relative;z-index: 1;}#sk-container-id-4 div.sk-parallel {display: flex;align-items: stretch;justify-content: center;background-color: white;position: relative;}#sk-container-id-4 div.sk-item::before, #sk-container-id-4 div.sk-parallel-item::before {content: \"\";position: absolute;border-left: 1px solid gray;box-sizing: border-box;top: 0;bottom: 0;left: 50%;z-index: -1;}#sk-container-id-4 div.sk-parallel-item {display: flex;flex-direction: column;z-index: 1;position: relative;background-color: white;}#sk-container-id-4 div.sk-parallel-item:first-child::after {align-self: flex-end;width: 50%;}#sk-container-id-4 div.sk-parallel-item:last-child::after {align-self: flex-start;width: 50%;}#sk-container-id-4 div.sk-parallel-item:only-child::after {width: 0;}#sk-container-id-4 div.sk-dashed-wrapped {border: 1px dashed gray;margin: 0 0.4em 0.5em 0.4em;box-sizing: border-box;padding-bottom: 0.4em;background-color: white;}#sk-container-id-4 div.sk-label label {font-family: monospace;font-weight: bold;display: inline-block;line-height: 1.2em;}#sk-container-id-4 div.sk-label-container {text-align: center;}#sk-container-id-4 div.sk-container {/* jupyter's `normalize.less` sets `[hidden] { display: none; }` but bootstrap.min.css set `[hidden] { display: none !important; }` so we also need the `!important` here to be able to override the default hidden behavior on the sphinx rendered scikit-learn.org. See: https://github.com/scikit-learn/scikit-learn/issues/21755 */display: inline-block !important;position: relative;}#sk-container-id-4 div.sk-text-repr-fallback {display: none;}</style><div id=\"sk-container-id-4\" class=\"sk-top-container\"><div class=\"sk-text-repr-fallback\"><pre>KNeighborsClassifier(leaf_size=1, n_neighbors=2, p=1, weights=&#x27;distance&#x27;)</pre><b>In a Jupyter environment, please rerun this cell to show the HTML representation or trust the notebook. <br />On GitHub, the HTML representation is unable to render, please try loading this page with nbviewer.org.</b></div><div class=\"sk-container\" hidden><div class=\"sk-item\"><div class=\"sk-estimator sk-toggleable\"><input class=\"sk-toggleable__control sk-hidden--visually\" id=\"sk-estimator-id-4\" type=\"checkbox\" checked><label for=\"sk-estimator-id-4\" class=\"sk-toggleable__label sk-toggleable__label-arrow\">KNeighborsClassifier</label><div class=\"sk-toggleable__content\"><pre>KNeighborsClassifier(leaf_size=1, n_neighbors=2, p=1, weights=&#x27;distance&#x27;)</pre></div></div></div></div></div>"
      ],
      "text/plain": [
       "KNeighborsClassifier(leaf_size=1, n_neighbors=2, p=1, weights='distance')"
      ]
     },
     "execution_count": 90,
     "metadata": {},
     "output_type": "execute_result"
    }
   ],
   "source": [
    "knn_GS_final_model_1_2_1 = KNeighborsClassifier(n_neighbors= 2, leaf_size= 1,  p= 1, weights = 'distance' )\n",
    "knn_GS_final_model_1_2_1.fit(X_os_train_scaled_df, y_os_train)"
   ]
  },
  {
   "cell_type": "code",
   "execution_count": 91,
   "id": "d9b7ad82",
   "metadata": {},
   "outputs": [],
   "source": [
    "knn_GS_final_model_1_2_1_predictions = knn_GS_final_model_1_2_1.predict(X_os_test_scaled_df)"
   ]
  },
  {
   "cell_type": "code",
   "execution_count": 92,
   "id": "1ff21428",
   "metadata": {},
   "outputs": [
    {
     "name": "stdout",
     "output_type": "stream",
     "text": [
      "[[264  16]\n",
      " [  0 306]]\n"
     ]
    }
   ],
   "source": [
    "print(confusion_matrix(y_os_test, knn_GS_final_model_1_2_1_predictions))"
   ]
  },
  {
   "cell_type": "code",
   "execution_count": 93,
   "id": "7c8ecabb",
   "metadata": {},
   "outputs": [
    {
     "name": "stdout",
     "output_type": "stream",
     "text": [
      "              precision    recall  f1-score   support\n",
      "\n",
      "        -1.0       1.00      0.94      0.97       280\n",
      "         1.0       0.95      1.00      0.97       306\n",
      "\n",
      "    accuracy                           0.97       586\n",
      "   macro avg       0.98      0.97      0.97       586\n",
      "weighted avg       0.97      0.97      0.97       586\n",
      "\n"
     ]
    }
   ],
   "source": [
    "print(classification_report(y_os_test, knn_GS_final_model_1_2_1_predictions))"
   ]
  },
  {
   "cell_type": "code",
   "execution_count": 94,
   "id": "8e3539f5",
   "metadata": {},
   "outputs": [
    {
     "name": "stdout",
     "output_type": "stream",
     "text": [
      "In KNN Final model, using GridSearch by changing parameters  we got 97% accuracy.\n"
     ]
    }
   ],
   "source": [
    "print('In KNN Final model, using GridSearch by changing parameters  we got 97% accuracy.')"
   ]
  },
  {
   "cell_type": "markdown",
   "id": "19549a28",
   "metadata": {},
   "source": [
    "**Now we will use Randomized Serach CV method**"
   ]
  },
  {
   "cell_type": "code",
   "execution_count": 95,
   "id": "db50943d",
   "metadata": {},
   "outputs": [],
   "source": [
    "knn_RS_final_model_6_1_1 = KNeighborsClassifier(n_neighbors= 1, leaf_size= 6,  p= 2, weights = 'distance' )"
   ]
  },
  {
   "cell_type": "code",
   "execution_count": 96,
   "id": "d908e807",
   "metadata": {},
   "outputs": [],
   "source": [
    "knn_RS_final_model_6_1_1.fit(X_os_train_scaled_df, y_os_train)\n",
    "knn_RS_final_model_6_1_1_predictions = knn_RS_final_model_6_1_1.predict(X_os_test_scaled_df)"
   ]
  },
  {
   "cell_type": "code",
   "execution_count": 97,
   "id": "721a23ed",
   "metadata": {},
   "outputs": [
    {
     "name": "stdout",
     "output_type": "stream",
     "text": [
      "[[258  22]\n",
      " [  0 306]]\n"
     ]
    }
   ],
   "source": [
    "print(confusion_matrix(y_os_test, knn_RS_final_model_6_1_1_predictions))"
   ]
  },
  {
   "cell_type": "code",
   "execution_count": 98,
   "id": "c5a848b9",
   "metadata": {},
   "outputs": [
    {
     "name": "stdout",
     "output_type": "stream",
     "text": [
      "              precision    recall  f1-score   support\n",
      "\n",
      "        -1.0       1.00      0.92      0.96       280\n",
      "         1.0       0.93      1.00      0.97       306\n",
      "\n",
      "    accuracy                           0.96       586\n",
      "   macro avg       0.97      0.96      0.96       586\n",
      "weighted avg       0.96      0.96      0.96       586\n",
      "\n"
     ]
    }
   ],
   "source": [
    "print(classification_report(y_os_test, knn_RS_final_model_6_1_1_predictions))"
   ]
  },
  {
   "cell_type": "code",
   "execution_count": 99,
   "id": "cfdfc609",
   "metadata": {},
   "outputs": [
    {
     "name": "stdout",
     "output_type": "stream",
     "text": [
      "In KNN Final model, using RandomizedSearch by changing parameters  we got 97% accuracy.\n"
     ]
    }
   ],
   "source": [
    "print('In KNN Final model, using RandomizedSearch by changing parameters  we got 97% accuracy.')"
   ]
  },
  {
   "cell_type": "markdown",
   "id": "d692d0ee",
   "metadata": {},
   "source": [
    "#### Q5 D - Use any other technique/method which can enhance the model performance."
   ]
  },
  {
   "cell_type": "code",
   "execution_count": 100,
   "id": "74b02a5f",
   "metadata": {},
   "outputs": [
    {
     "data": {
      "text/plain": [
       "(2926, 79)"
      ]
     },
     "execution_count": 100,
     "metadata": {},
     "output_type": "execute_result"
    }
   ],
   "source": [
    "Full_X_scaled_df.shape"
   ]
  },
  {
   "cell_type": "code",
   "execution_count": 101,
   "id": "14264791",
   "metadata": {},
   "outputs": [],
   "source": [
    "pca60 = PCA(n_components= 60)"
   ]
  },
  {
   "cell_type": "code",
   "execution_count": 102,
   "id": "cb5fc966",
   "metadata": {},
   "outputs": [
    {
     "data": {
      "text/html": [
       "<style>#sk-container-id-5 {color: black;background-color: white;}#sk-container-id-5 pre{padding: 0;}#sk-container-id-5 div.sk-toggleable {background-color: white;}#sk-container-id-5 label.sk-toggleable__label {cursor: pointer;display: block;width: 100%;margin-bottom: 0;padding: 0.3em;box-sizing: border-box;text-align: center;}#sk-container-id-5 label.sk-toggleable__label-arrow:before {content: \"▸\";float: left;margin-right: 0.25em;color: #696969;}#sk-container-id-5 label.sk-toggleable__label-arrow:hover:before {color: black;}#sk-container-id-5 div.sk-estimator:hover label.sk-toggleable__label-arrow:before {color: black;}#sk-container-id-5 div.sk-toggleable__content {max-height: 0;max-width: 0;overflow: hidden;text-align: left;background-color: #f0f8ff;}#sk-container-id-5 div.sk-toggleable__content pre {margin: 0.2em;color: black;border-radius: 0.25em;background-color: #f0f8ff;}#sk-container-id-5 input.sk-toggleable__control:checked~div.sk-toggleable__content {max-height: 200px;max-width: 100%;overflow: auto;}#sk-container-id-5 input.sk-toggleable__control:checked~label.sk-toggleable__label-arrow:before {content: \"▾\";}#sk-container-id-5 div.sk-estimator input.sk-toggleable__control:checked~label.sk-toggleable__label {background-color: #d4ebff;}#sk-container-id-5 div.sk-label input.sk-toggleable__control:checked~label.sk-toggleable__label {background-color: #d4ebff;}#sk-container-id-5 input.sk-hidden--visually {border: 0;clip: rect(1px 1px 1px 1px);clip: rect(1px, 1px, 1px, 1px);height: 1px;margin: -1px;overflow: hidden;padding: 0;position: absolute;width: 1px;}#sk-container-id-5 div.sk-estimator {font-family: monospace;background-color: #f0f8ff;border: 1px dotted black;border-radius: 0.25em;box-sizing: border-box;margin-bottom: 0.5em;}#sk-container-id-5 div.sk-estimator:hover {background-color: #d4ebff;}#sk-container-id-5 div.sk-parallel-item::after {content: \"\";width: 100%;border-bottom: 1px solid gray;flex-grow: 1;}#sk-container-id-5 div.sk-label:hover label.sk-toggleable__label {background-color: #d4ebff;}#sk-container-id-5 div.sk-serial::before {content: \"\";position: absolute;border-left: 1px solid gray;box-sizing: border-box;top: 0;bottom: 0;left: 50%;z-index: 0;}#sk-container-id-5 div.sk-serial {display: flex;flex-direction: column;align-items: center;background-color: white;padding-right: 0.2em;padding-left: 0.2em;position: relative;}#sk-container-id-5 div.sk-item {position: relative;z-index: 1;}#sk-container-id-5 div.sk-parallel {display: flex;align-items: stretch;justify-content: center;background-color: white;position: relative;}#sk-container-id-5 div.sk-item::before, #sk-container-id-5 div.sk-parallel-item::before {content: \"\";position: absolute;border-left: 1px solid gray;box-sizing: border-box;top: 0;bottom: 0;left: 50%;z-index: -1;}#sk-container-id-5 div.sk-parallel-item {display: flex;flex-direction: column;z-index: 1;position: relative;background-color: white;}#sk-container-id-5 div.sk-parallel-item:first-child::after {align-self: flex-end;width: 50%;}#sk-container-id-5 div.sk-parallel-item:last-child::after {align-self: flex-start;width: 50%;}#sk-container-id-5 div.sk-parallel-item:only-child::after {width: 0;}#sk-container-id-5 div.sk-dashed-wrapped {border: 1px dashed gray;margin: 0 0.4em 0.5em 0.4em;box-sizing: border-box;padding-bottom: 0.4em;background-color: white;}#sk-container-id-5 div.sk-label label {font-family: monospace;font-weight: bold;display: inline-block;line-height: 1.2em;}#sk-container-id-5 div.sk-label-container {text-align: center;}#sk-container-id-5 div.sk-container {/* jupyter's `normalize.less` sets `[hidden] { display: none; }` but bootstrap.min.css set `[hidden] { display: none !important; }` so we also need the `!important` here to be able to override the default hidden behavior on the sphinx rendered scikit-learn.org. See: https://github.com/scikit-learn/scikit-learn/issues/21755 */display: inline-block !important;position: relative;}#sk-container-id-5 div.sk-text-repr-fallback {display: none;}</style><div id=\"sk-container-id-5\" class=\"sk-top-container\"><div class=\"sk-text-repr-fallback\"><pre>PCA(n_components=60)</pre><b>In a Jupyter environment, please rerun this cell to show the HTML representation or trust the notebook. <br />On GitHub, the HTML representation is unable to render, please try loading this page with nbviewer.org.</b></div><div class=\"sk-container\" hidden><div class=\"sk-item\"><div class=\"sk-estimator sk-toggleable\"><input class=\"sk-toggleable__control sk-hidden--visually\" id=\"sk-estimator-id-5\" type=\"checkbox\" checked><label for=\"sk-estimator-id-5\" class=\"sk-toggleable__label sk-toggleable__label-arrow\">PCA</label><div class=\"sk-toggleable__content\"><pre>PCA(n_components=60)</pre></div></div></div></div></div>"
      ],
      "text/plain": [
       "PCA(n_components=60)"
      ]
     },
     "execution_count": 102,
     "metadata": {},
     "output_type": "execute_result"
    }
   ],
   "source": [
    "pca60.fit(Full_X_scaled_df)"
   ]
  },
  {
   "cell_type": "code",
   "execution_count": 103,
   "id": "f42f8855",
   "metadata": {},
   "outputs": [
    {
     "data": {
      "text/plain": [
       "-101.61264520821031"
      ]
     },
     "execution_count": 103,
     "metadata": {},
     "output_type": "execute_result"
    }
   ],
   "source": [
    "pca60.score(Full_X_scaled_df, y_os)"
   ]
  },
  {
   "cell_type": "code",
   "execution_count": 104,
   "id": "af5146a0",
   "metadata": {},
   "outputs": [
    {
     "name": "stdout",
     "output_type": "stream",
     "text": [
      "[4.43084397 2.8828739  2.32870278 2.22340859 2.13918953 2.01420101\n",
      " 1.91238876 1.82428568 1.79663345 1.73542001 1.66133691 1.64273484\n",
      " 1.58646516 1.48601549 1.41929435 1.3945083  1.36171431 1.34482665\n",
      " 1.28300994 1.27041438 1.23374123 1.20029415 1.15693438 1.14000238\n",
      " 1.09870115 1.0900127  1.05389528 1.04206187 1.03179238 1.00615517\n",
      " 0.99694377 0.97118273 0.94804852 0.91177927 0.88236237 0.86279749\n",
      " 0.859528   0.83937846 0.81964668 0.80950473 0.79786235 0.773438\n",
      " 0.75325327 0.72658311 0.70998916 0.70407062 0.69376599 0.66983029\n",
      " 0.65022688 0.64032563 0.62038162 0.61185256 0.6002072  0.58091182\n",
      " 0.57283046 0.55365606 0.53387046 0.52694452 0.50451375 0.48485807]\n"
     ]
    }
   ],
   "source": [
    "print(pca60.explained_variance_)"
   ]
  },
  {
   "cell_type": "code",
   "execution_count": 105,
   "id": "96487e62",
   "metadata": {},
   "outputs": [
    {
     "name": "stdout",
     "output_type": "stream",
     "text": [
      "[[-3.21443538e-02  5.55111512e-17 -7.24127979e-02 ...  3.62915854e-02\n",
      "   9.39121797e-02 -1.10037080e-01]\n",
      " [-1.41312441e-02 -1.11022302e-16  7.23025111e-02 ... -5.32116772e-02\n",
      "  -1.01822086e-01  1.00187161e-01]\n",
      " [ 1.79706631e-01 -1.11022302e-16  6.37471451e-02 ...  2.95565789e-02\n",
      "   1.19056360e-01 -6.08336661e-02]\n",
      " ...\n",
      " [ 6.97157758e-02 -1.79554044e-16 -2.92618176e-01 ...  9.07449305e-02\n",
      "  -6.05907400e-02 -6.76832295e-02]\n",
      " [ 4.61183018e-02 -6.75457953e-17  7.12758077e-02 ...  2.54170930e-01\n",
      "   4.87708018e-02  9.26254933e-02]\n",
      " [-9.50755859e-02  3.82181266e-17 -5.51633756e-02 ... -9.99428602e-02\n",
      "  -7.68434856e-02  2.59510882e-02]]\n"
     ]
    }
   ],
   "source": [
    "print(pca60.components_)"
   ]
  },
  {
   "cell_type": "code",
   "execution_count": 106,
   "id": "988a7a2a",
   "metadata": {},
   "outputs": [
    {
     "name": "stdout",
     "output_type": "stream",
     "text": [
      "[0.05828065 0.03791959 0.03063035 0.02924538 0.02813761 0.02649359\n",
      " 0.02515441 0.02399556 0.02363183 0.02282667 0.02185223 0.02160754\n",
      " 0.02086741 0.01954615 0.01866854 0.01834252 0.01791117 0.01768904\n",
      " 0.01687594 0.01671027 0.01622789 0.01578795 0.01521762 0.0149949\n",
      " 0.01445165 0.01433737 0.0138623  0.01370665 0.01357158 0.01323436\n",
      " 0.0131132  0.01277435 0.01247006 0.011993   0.01160606 0.01134872\n",
      " 0.01130571 0.01104068 0.01078114 0.01064774 0.0104946  0.01017334\n",
      " 0.00990784 0.00955704 0.00933877 0.00926092 0.00912538 0.00881054\n",
      " 0.00855269 0.00842246 0.00816013 0.00804794 0.00789476 0.00764096\n",
      " 0.00753467 0.00728246 0.00702221 0.00693111 0.00663607 0.00637753]\n"
     ]
    }
   ],
   "source": [
    "print(pca60.explained_variance_ratio_)"
   ]
  },
  {
   "cell_type": "code",
   "execution_count": 107,
   "id": "f63b0ee6",
   "metadata": {},
   "outputs": [
    {
     "data": {
      "image/png": "[encoded data removed]",
      "text/plain": [
       "<Figure size 1296x1296 with 1 Axes>"
      ]
     },
     "metadata": {
      "needs_background": "light"
     },
     "output_type": "display_data"
    }
   ],
   "source": [
    "plt.step(list(range(1,61)),np.cumsum(pca60.explained_variance_), where='mid')\n",
    "plt.ylabel('Cum of variation explained')\n",
    "plt.xlabel('eigen Value')\n",
    "plt.show()"
   ]
  },
  {
   "cell_type": "code",
   "execution_count": 108,
   "id": "0364879c",
   "metadata": {},
   "outputs": [
    {
     "data": {
      "image/png": "[encoded data removed]",
      "text/plain": [
       "<Figure size 1296x1296 with 1 Axes>"
      ]
     },
     "metadata": {
      "needs_background": "light"
     },
     "output_type": "display_data"
    }
   ],
   "source": [
    "plt.step(list(range(1,61)),np.cumsum(pca60.explained_variance_ratio_), where='mid')\n",
    "plt.ylabel('Cum of variation explained')\n",
    "plt.xlabel('eigen Value')\n",
    "plt.axhline(y=0.90, color='g', linestyle='-')         \n",
    "plt.show()"
   ]
  },
  {
   "cell_type": "code",
   "execution_count": 109,
   "id": "7df9d156",
   "metadata": {},
   "outputs": [
    {
     "name": "stdout",
     "output_type": "stream",
     "text": [
      "The line cuts between principal components/eigen values 4 and 5\n"
     ]
    }
   ],
   "source": [
    "print('The line cuts between principal components/eigen values 4 and 5')"
   ]
  },
  {
   "cell_type": "code",
   "execution_count": 110,
   "id": "754ed26a",
   "metadata": {},
   "outputs": [],
   "source": [
    "pca55 = PCA(n_components= 55)"
   ]
  },
  {
   "cell_type": "code",
   "execution_count": 111,
   "id": "a96776f6",
   "metadata": {},
   "outputs": [
    {
     "data": {
      "text/html": [
       "<style>#sk-container-id-6 {color: black;background-color: white;}#sk-container-id-6 pre{padding: 0;}#sk-container-id-6 div.sk-toggleable {background-color: white;}#sk-container-id-6 label.sk-toggleable__label {cursor: pointer;display: block;width: 100%;margin-bottom: 0;padding: 0.3em;box-sizing: border-box;text-align: center;}#sk-container-id-6 label.sk-toggleable__label-arrow:before {content: \"▸\";float: left;margin-right: 0.25em;color: #696969;}#sk-container-id-6 label.sk-toggleable__label-arrow:hover:before {color: black;}#sk-container-id-6 div.sk-estimator:hover label.sk-toggleable__label-arrow:before {color: black;}#sk-container-id-6 div.sk-toggleable__content {max-height: 0;max-width: 0;overflow: hidden;text-align: left;background-color: #f0f8ff;}#sk-container-id-6 div.sk-toggleable__content pre {margin: 0.2em;color: black;border-radius: 0.25em;background-color: #f0f8ff;}#sk-container-id-6 input.sk-toggleable__control:checked~div.sk-toggleable__content {max-height: 200px;max-width: 100%;overflow: auto;}#sk-container-id-6 input.sk-toggleable__control:checked~label.sk-toggleable__label-arrow:before {content: \"▾\";}#sk-container-id-6 div.sk-estimator input.sk-toggleable__control:checked~label.sk-toggleable__label {background-color: #d4ebff;}#sk-container-id-6 div.sk-label input.sk-toggleable__control:checked~label.sk-toggleable__label {background-color: #d4ebff;}#sk-container-id-6 input.sk-hidden--visually {border: 0;clip: rect(1px 1px 1px 1px);clip: rect(1px, 1px, 1px, 1px);height: 1px;margin: -1px;overflow: hidden;padding: 0;position: absolute;width: 1px;}#sk-container-id-6 div.sk-estimator {font-family: monospace;background-color: #f0f8ff;border: 1px dotted black;border-radius: 0.25em;box-sizing: border-box;margin-bottom: 0.5em;}#sk-container-id-6 div.sk-estimator:hover {background-color: #d4ebff;}#sk-container-id-6 div.sk-parallel-item::after {content: \"\";width: 100%;border-bottom: 1px solid gray;flex-grow: 1;}#sk-container-id-6 div.sk-label:hover label.sk-toggleable__label {background-color: #d4ebff;}#sk-container-id-6 div.sk-serial::before {content: \"\";position: absolute;border-left: 1px solid gray;box-sizing: border-box;top: 0;bottom: 0;left: 50%;z-index: 0;}#sk-container-id-6 div.sk-serial {display: flex;flex-direction: column;align-items: center;background-color: white;padding-right: 0.2em;padding-left: 0.2em;position: relative;}#sk-container-id-6 div.sk-item {position: relative;z-index: 1;}#sk-container-id-6 div.sk-parallel {display: flex;align-items: stretch;justify-content: center;background-color: white;position: relative;}#sk-container-id-6 div.sk-item::before, #sk-container-id-6 div.sk-parallel-item::before {content: \"\";position: absolute;border-left: 1px solid gray;box-sizing: border-box;top: 0;bottom: 0;left: 50%;z-index: -1;}#sk-container-id-6 div.sk-parallel-item {display: flex;flex-direction: column;z-index: 1;position: relative;background-color: white;}#sk-container-id-6 div.sk-parallel-item:first-child::after {align-self: flex-end;width: 50%;}#sk-container-id-6 div.sk-parallel-item:last-child::after {align-self: flex-start;width: 50%;}#sk-container-id-6 div.sk-parallel-item:only-child::after {width: 0;}#sk-container-id-6 div.sk-dashed-wrapped {border: 1px dashed gray;margin: 0 0.4em 0.5em 0.4em;box-sizing: border-box;padding-bottom: 0.4em;background-color: white;}#sk-container-id-6 div.sk-label label {font-family: monospace;font-weight: bold;display: inline-block;line-height: 1.2em;}#sk-container-id-6 div.sk-label-container {text-align: center;}#sk-container-id-6 div.sk-container {/* jupyter's `normalize.less` sets `[hidden] { display: none; }` but bootstrap.min.css set `[hidden] { display: none !important; }` so we also need the `!important` here to be able to override the default hidden behavior on the sphinx rendered scikit-learn.org. See: https://github.com/scikit-learn/scikit-learn/issues/21755 */display: inline-block !important;position: relative;}#sk-container-id-6 div.sk-text-repr-fallback {display: none;}</style><div id=\"sk-container-id-6\" class=\"sk-top-container\"><div class=\"sk-text-repr-fallback\"><pre>PCA(n_components=55)</pre><b>In a Jupyter environment, please rerun this cell to show the HTML representation or trust the notebook. <br />On GitHub, the HTML representation is unable to render, please try loading this page with nbviewer.org.</b></div><div class=\"sk-container\" hidden><div class=\"sk-item\"><div class=\"sk-estimator sk-toggleable\"><input class=\"sk-toggleable__control sk-hidden--visually\" id=\"sk-estimator-id-6\" type=\"checkbox\" checked><label for=\"sk-estimator-id-6\" class=\"sk-toggleable__label sk-toggleable__label-arrow\">PCA</label><div class=\"sk-toggleable__content\"><pre>PCA(n_components=55)</pre></div></div></div></div></div>"
      ],
      "text/plain": [
       "PCA(n_components=55)"
      ]
     },
     "execution_count": 111,
     "metadata": {},
     "output_type": "execute_result"
    }
   ],
   "source": [
    "pca55.fit(Full_X_scaled_df)"
   ]
  },
  {
   "cell_type": "code",
   "execution_count": 112,
   "id": "10abdee6",
   "metadata": {},
   "outputs": [
    {
     "name": "stdout",
     "output_type": "stream",
     "text": [
      "[[-3.21436960e-02 -1.11022302e-16 -7.24116601e-02 ...  3.62909967e-02\n",
      "   9.39128986e-02 -1.10036022e-01]\n",
      " [-1.41283338e-02 -1.11022302e-16  7.23053526e-02 ... -5.32083667e-02\n",
      "  -1.01812150e-01  1.00199644e-01]\n",
      " [ 1.79707129e-01 -0.00000000e+00  6.37436142e-02 ...  2.95549077e-02\n",
      "   1.19067803e-01 -6.08219921e-02]\n",
      " ...\n",
      " [ 1.41821761e-01 -5.82216567e-17 -1.62173398e-01 ... -1.08386281e-01\n",
      "  -1.54848951e-01 -7.46183045e-02]\n",
      " [-1.89517793e-01  5.48606299e-17 -2.32192468e-01 ...  5.80051797e-02\n",
      "   5.17192501e-03  7.34594054e-02]\n",
      " [ 4.88001534e-02  1.63660318e-16  1.57485017e-02 ...  5.29962945e-02\n",
      "   1.87400453e-02  2.75792187e-02]]\n"
     ]
    }
   ],
   "source": [
    "print(pca55.components_)"
   ]
  },
  {
   "cell_type": "code",
   "execution_count": 113,
   "id": "2dd782ea",
   "metadata": {},
   "outputs": [
    {
     "name": "stdout",
     "output_type": "stream",
     "text": [
      "[4.43084397 2.88287389 2.32870277 2.22340844 2.13918885 2.0141994\n",
      " 1.91238783 1.82428489 1.79663184 1.7354187  1.66133294 1.64273088\n",
      " 1.58646414 1.48600282 1.41928661 1.39450152 1.36168865 1.3448224\n",
      " 1.2829822  1.27039704 1.23372239 1.20020778 1.15689695 1.13992548\n",
      " 1.09865539 1.09004078 1.05365152 1.04197537 1.031731   1.00609238\n",
      " 0.99679698 0.97104283 0.94788808 0.91148398 0.88209985 0.86267899\n",
      " 0.85946872 0.83919369 0.81934149 0.80872861 0.79751143 0.77352666\n",
      " 0.75209831 0.72622265 0.70899602 0.70234228 0.69245307 0.66902163\n",
      " 0.64992641 0.63832479 0.61848324 0.61273648 0.59749065 0.57882827\n",
      " 0.56485301]\n"
     ]
    }
   ],
   "source": [
    "print(pca55.explained_variance_)"
   ]
  },
  {
   "cell_type": "code",
   "execution_count": 114,
   "id": "0c8d666d",
   "metadata": {},
   "outputs": [
    {
     "name": "stdout",
     "output_type": "stream",
     "text": [
      "[0.05828065 0.03791959 0.03063035 0.02924538 0.0281376  0.02649357\n",
      " 0.0251544  0.02399554 0.02363181 0.02282665 0.02185217 0.02160749\n",
      " 0.02086739 0.01954599 0.01866844 0.01834243 0.01791083 0.01768898\n",
      " 0.01687558 0.01671004 0.01622764 0.01578681 0.01521713 0.01499389\n",
      " 0.01445105 0.01433774 0.0138591  0.01370552 0.01357077 0.01323353\n",
      " 0.01311127 0.01277251 0.01246795 0.01198911 0.01160261 0.01134716\n",
      " 0.01130493 0.01103825 0.01077712 0.01063753 0.01048999 0.0101745\n",
      " 0.00989265 0.0095523  0.00932571 0.00923819 0.00910811 0.00879991\n",
      " 0.00854874 0.00839614 0.00813516 0.00805957 0.00785903 0.00761356\n",
      " 0.00742974]\n"
     ]
    }
   ],
   "source": [
    "print(pca55.explained_variance_ratio_)"
   ]
  },
  {
   "cell_type": "code",
   "execution_count": 115,
   "id": "ad351b5c",
   "metadata": {},
   "outputs": [
    {
     "data": {
      "image/png": "[encoded data removed]",
      "text/plain": [
       "<Figure size 1296x1296 with 1 Axes>"
      ]
     },
     "metadata": {
      "needs_background": "light"
     },
     "output_type": "display_data"
    }
   ],
   "source": [
    "plt.step(list(range(1,56)),np.cumsum(pca55.explained_variance_ratio_), where='mid')\n",
    "plt.ylabel('Cum of variation explained')\n",
    "plt.xlabel('eigen Value')\n",
    "plt.show()"
   ]
  },
  {
   "cell_type": "code",
   "execution_count": 116,
   "id": "83b5fae0",
   "metadata": {},
   "outputs": [],
   "source": [
    "Xpca55 = pca55.transform(Full_X_scaled_df)"
   ]
  },
  {
   "cell_type": "code",
   "execution_count": 117,
   "id": "7d6bb793",
   "metadata": {},
   "outputs": [
    {
     "data": {
      "text/html": [
       "<style>#sk-container-id-7 {color: black;background-color: white;}#sk-container-id-7 pre{padding: 0;}#sk-container-id-7 div.sk-toggleable {background-color: white;}#sk-container-id-7 label.sk-toggleable__label {cursor: pointer;display: block;width: 100%;margin-bottom: 0;padding: 0.3em;box-sizing: border-box;text-align: center;}#sk-container-id-7 label.sk-toggleable__label-arrow:before {content: \"▸\";float: left;margin-right: 0.25em;color: #696969;}#sk-container-id-7 label.sk-toggleable__label-arrow:hover:before {color: black;}#sk-container-id-7 div.sk-estimator:hover label.sk-toggleable__label-arrow:before {color: black;}#sk-container-id-7 div.sk-toggleable__content {max-height: 0;max-width: 0;overflow: hidden;text-align: left;background-color: #f0f8ff;}#sk-container-id-7 div.sk-toggleable__content pre {margin: 0.2em;color: black;border-radius: 0.25em;background-color: #f0f8ff;}#sk-container-id-7 input.sk-toggleable__control:checked~div.sk-toggleable__content {max-height: 200px;max-width: 100%;overflow: auto;}#sk-container-id-7 input.sk-toggleable__control:checked~label.sk-toggleable__label-arrow:before {content: \"▾\";}#sk-container-id-7 div.sk-estimator input.sk-toggleable__control:checked~label.sk-toggleable__label {background-color: #d4ebff;}#sk-container-id-7 div.sk-label input.sk-toggleable__control:checked~label.sk-toggleable__label {background-color: #d4ebff;}#sk-container-id-7 input.sk-hidden--visually {border: 0;clip: rect(1px 1px 1px 1px);clip: rect(1px, 1px, 1px, 1px);height: 1px;margin: -1px;overflow: hidden;padding: 0;position: absolute;width: 1px;}#sk-container-id-7 div.sk-estimator {font-family: monospace;background-color: #f0f8ff;border: 1px dotted black;border-radius: 0.25em;box-sizing: border-box;margin-bottom: 0.5em;}#sk-container-id-7 div.sk-estimator:hover {background-color: #d4ebff;}#sk-container-id-7 div.sk-parallel-item::after {content: \"\";width: 100%;border-bottom: 1px solid gray;flex-grow: 1;}#sk-container-id-7 div.sk-label:hover label.sk-toggleable__label {background-color: #d4ebff;}#sk-container-id-7 div.sk-serial::before {content: \"\";position: absolute;border-left: 1px solid gray;box-sizing: border-box;top: 0;bottom: 0;left: 50%;z-index: 0;}#sk-container-id-7 div.sk-serial {display: flex;flex-direction: column;align-items: center;background-color: white;padding-right: 0.2em;padding-left: 0.2em;position: relative;}#sk-container-id-7 div.sk-item {position: relative;z-index: 1;}#sk-container-id-7 div.sk-parallel {display: flex;align-items: stretch;justify-content: center;background-color: white;position: relative;}#sk-container-id-7 div.sk-item::before, #sk-container-id-7 div.sk-parallel-item::before {content: \"\";position: absolute;border-left: 1px solid gray;box-sizing: border-box;top: 0;bottom: 0;left: 50%;z-index: -1;}#sk-container-id-7 div.sk-parallel-item {display: flex;flex-direction: column;z-index: 1;position: relative;background-color: white;}#sk-container-id-7 div.sk-parallel-item:first-child::after {align-self: flex-end;width: 50%;}#sk-container-id-7 div.sk-parallel-item:last-child::after {align-self: flex-start;width: 50%;}#sk-container-id-7 div.sk-parallel-item:only-child::after {width: 0;}#sk-container-id-7 div.sk-dashed-wrapped {border: 1px dashed gray;margin: 0 0.4em 0.5em 0.4em;box-sizing: border-box;padding-bottom: 0.4em;background-color: white;}#sk-container-id-7 div.sk-label label {font-family: monospace;font-weight: bold;display: inline-block;line-height: 1.2em;}#sk-container-id-7 div.sk-label-container {text-align: center;}#sk-container-id-7 div.sk-container {/* jupyter's `normalize.less` sets `[hidden] { display: none; }` but bootstrap.min.css set `[hidden] { display: none !important; }` so we also need the `!important` here to be able to override the default hidden behavior on the sphinx rendered scikit-learn.org. See: https://github.com/scikit-learn/scikit-learn/issues/21755 */display: inline-block !important;position: relative;}#sk-container-id-7 div.sk-text-repr-fallback {display: none;}</style><div id=\"sk-container-id-7\" class=\"sk-top-container\"><div class=\"sk-text-repr-fallback\"><pre>PCA(n_components=55)</pre><b>In a Jupyter environment, please rerun this cell to show the HTML representation or trust the notebook. <br />On GitHub, the HTML representation is unable to render, please try loading this page with nbviewer.org.</b></div><div class=\"sk-container\" hidden><div class=\"sk-item\"><div class=\"sk-estimator sk-toggleable\"><input class=\"sk-toggleable__control sk-hidden--visually\" id=\"sk-estimator-id-7\" type=\"checkbox\" checked><label for=\"sk-estimator-id-7\" class=\"sk-toggleable__label sk-toggleable__label-arrow\">PCA</label><div class=\"sk-toggleable__content\"><pre>PCA(n_components=55)</pre></div></div></div></div></div>"
      ],
      "text/plain": [
       "PCA(n_components=55)"
      ]
     },
     "execution_count": 117,
     "metadata": {},
     "output_type": "execute_result"
    }
   ],
   "source": [
    "pca55"
   ]
  },
  {
   "cell_type": "code",
   "execution_count": 118,
   "id": "77d9cb2e",
   "metadata": {},
   "outputs": [
    {
     "data": {
      "text/plain": [
       "array([[-1.24949328e+00, -6.94635693e-03,  4.92467514e+00, ...,\n",
       "        -6.08846548e-01,  9.44853157e-01, -3.14969601e-01],\n",
       "       [-8.90409580e-01, -5.73071339e-01, -1.87245830e+00, ...,\n",
       "         3.63092439e-03, -8.26726613e-01,  1.51563533e+00],\n",
       "       [-3.28444750e+00, -1.88092042e+00,  1.28254426e+00, ...,\n",
       "        -1.47726999e-01,  2.97244026e-01,  9.48509746e-01],\n",
       "       ...,\n",
       "       [ 1.24442695e+00,  1.50181222e+00,  2.99509124e+00, ...,\n",
       "         9.20205623e-01, -2.79589481e-01, -3.08889924e-01],\n",
       "       [ 3.77581389e-01,  1.49886741e+00, -2.14694467e+00, ...,\n",
       "         4.34932502e-01, -2.27161014e-01,  1.72827737e-01],\n",
       "       [ 1.15873912e+00,  6.70277082e-01, -1.38622443e+00, ...,\n",
       "        -8.85552976e-01,  3.89633946e-01, -5.36733069e-01]])"
      ]
     },
     "execution_count": 118,
     "metadata": {},
     "output_type": "execute_result"
    }
   ],
   "source": [
    "Xpca55"
   ]
  },
  {
   "cell_type": "code",
   "execution_count": 119,
   "id": "b0bf541d",
   "metadata": {},
   "outputs": [
    {
     "data": {
      "text/html": [
       "<div>\n",
       "<style scoped>\n",
       "    .dataframe tbody tr th:only-of-type {\n",
       "        vertical-align: middle;\n",
       "    }\n",
       "\n",
       "    .dataframe tbody tr th {\n",
       "        vertical-align: top;\n",
       "    }\n",
       "\n",
       "    .dataframe thead th {\n",
       "        text-align: right;\n",
       "    }\n",
       "</style>\n",
       "<table border=\"1\" class=\"dataframe\">\n",
       "  <thead>\n",
       "    <tr style=\"text-align: right;\">\n",
       "      <th></th>\n",
       "      <th>0</th>\n",
       "      <th>1</th>\n",
       "      <th>2</th>\n",
       "      <th>3</th>\n",
       "      <th>4</th>\n",
       "      <th>5</th>\n",
       "      <th>6</th>\n",
       "      <th>7</th>\n",
       "      <th>8</th>\n",
       "      <th>9</th>\n",
       "      <th>...</th>\n",
       "      <th>45</th>\n",
       "      <th>46</th>\n",
       "      <th>47</th>\n",
       "      <th>48</th>\n",
       "      <th>49</th>\n",
       "      <th>50</th>\n",
       "      <th>51</th>\n",
       "      <th>52</th>\n",
       "      <th>53</th>\n",
       "      <th>54</th>\n",
       "    </tr>\n",
       "  </thead>\n",
       "  <tbody>\n",
       "    <tr>\n",
       "      <th>0</th>\n",
       "      <td>-1.249493</td>\n",
       "      <td>-0.006946</td>\n",
       "      <td>4.924675</td>\n",
       "      <td>2.484131</td>\n",
       "      <td>-1.630834</td>\n",
       "      <td>1.258626</td>\n",
       "      <td>1.208245</td>\n",
       "      <td>-2.406236</td>\n",
       "      <td>3.673841</td>\n",
       "      <td>2.104687</td>\n",
       "      <td>...</td>\n",
       "      <td>0.443476</td>\n",
       "      <td>1.626686</td>\n",
       "      <td>0.988174</td>\n",
       "      <td>-1.254064</td>\n",
       "      <td>-0.184631</td>\n",
       "      <td>1.845135</td>\n",
       "      <td>-0.726769</td>\n",
       "      <td>-0.608847</td>\n",
       "      <td>0.944853</td>\n",
       "      <td>-0.314970</td>\n",
       "    </tr>\n",
       "    <tr>\n",
       "      <th>1</th>\n",
       "      <td>-0.890410</td>\n",
       "      <td>-0.573071</td>\n",
       "      <td>-1.872458</td>\n",
       "      <td>3.062066</td>\n",
       "      <td>0.674967</td>\n",
       "      <td>-1.086651</td>\n",
       "      <td>0.599175</td>\n",
       "      <td>0.248148</td>\n",
       "      <td>0.793159</td>\n",
       "      <td>-0.626820</td>\n",
       "      <td>...</td>\n",
       "      <td>0.753168</td>\n",
       "      <td>-0.653709</td>\n",
       "      <td>-0.774428</td>\n",
       "      <td>-0.676487</td>\n",
       "      <td>0.066388</td>\n",
       "      <td>0.047739</td>\n",
       "      <td>-0.197665</td>\n",
       "      <td>0.003631</td>\n",
       "      <td>-0.826727</td>\n",
       "      <td>1.515635</td>\n",
       "    </tr>\n",
       "    <tr>\n",
       "      <th>2</th>\n",
       "      <td>-3.284448</td>\n",
       "      <td>-1.880920</td>\n",
       "      <td>1.282544</td>\n",
       "      <td>0.017945</td>\n",
       "      <td>1.648244</td>\n",
       "      <td>1.428980</td>\n",
       "      <td>-0.777690</td>\n",
       "      <td>1.707112</td>\n",
       "      <td>-0.893234</td>\n",
       "      <td>0.434927</td>\n",
       "      <td>...</td>\n",
       "      <td>-0.171450</td>\n",
       "      <td>0.263924</td>\n",
       "      <td>-0.073527</td>\n",
       "      <td>-0.313338</td>\n",
       "      <td>0.666139</td>\n",
       "      <td>-0.456755</td>\n",
       "      <td>0.168789</td>\n",
       "      <td>-0.147727</td>\n",
       "      <td>0.297244</td>\n",
       "      <td>0.948510</td>\n",
       "    </tr>\n",
       "    <tr>\n",
       "      <th>3</th>\n",
       "      <td>-1.849325</td>\n",
       "      <td>1.002147</td>\n",
       "      <td>0.789752</td>\n",
       "      <td>0.088160</td>\n",
       "      <td>-0.863459</td>\n",
       "      <td>0.000734</td>\n",
       "      <td>1.370823</td>\n",
       "      <td>-0.533012</td>\n",
       "      <td>-3.780278</td>\n",
       "      <td>-3.166223</td>\n",
       "      <td>...</td>\n",
       "      <td>-1.483614</td>\n",
       "      <td>0.001792</td>\n",
       "      <td>1.537312</td>\n",
       "      <td>-2.834219</td>\n",
       "      <td>-0.768787</td>\n",
       "      <td>0.296113</td>\n",
       "      <td>-1.189638</td>\n",
       "      <td>-0.715073</td>\n",
       "      <td>-0.352981</td>\n",
       "      <td>0.064616</td>\n",
       "    </tr>\n",
       "    <tr>\n",
       "      <th>4</th>\n",
       "      <td>-1.782653</td>\n",
       "      <td>-0.019872</td>\n",
       "      <td>-1.609149</td>\n",
       "      <td>-0.320865</td>\n",
       "      <td>-0.976026</td>\n",
       "      <td>1.659306</td>\n",
       "      <td>-0.192214</td>\n",
       "      <td>-0.267497</td>\n",
       "      <td>0.928086</td>\n",
       "      <td>-0.786226</td>\n",
       "      <td>...</td>\n",
       "      <td>-0.791719</td>\n",
       "      <td>-1.732541</td>\n",
       "      <td>-0.554419</td>\n",
       "      <td>-1.417036</td>\n",
       "      <td>-1.118786</td>\n",
       "      <td>0.036632</td>\n",
       "      <td>-0.334745</td>\n",
       "      <td>0.136686</td>\n",
       "      <td>-1.833226</td>\n",
       "      <td>-0.053308</td>\n",
       "    </tr>\n",
       "  </tbody>\n",
       "</table>\n",
       "<p>5 rows × 55 columns</p>\n",
       "</div>"
      ],
      "text/plain": [
       "         0         1         2         3         4         5         6   \\\n",
       "0 -1.249493 -0.006946  4.924675  2.484131 -1.630834  1.258626  1.208245   \n",
       "1 -0.890410 -0.573071 -1.872458  3.062066  0.674967 -1.086651  0.599175   \n",
       "2 -3.284448 -1.880920  1.282544  0.017945  1.648244  1.428980 -0.777690   \n",
       "3 -1.849325  1.002147  0.789752  0.088160 -0.863459  0.000734  1.370823   \n",
       "4 -1.782653 -0.019872 -1.609149 -0.320865 -0.976026  1.659306 -0.192214   \n",
       "\n",
       "         7         8         9   ...        45        46        47        48  \\\n",
       "0 -2.406236  3.673841  2.104687  ...  0.443476  1.626686  0.988174 -1.254064   \n",
       "1  0.248148  0.793159 -0.626820  ...  0.753168 -0.653709 -0.774428 -0.676487   \n",
       "2  1.707112 -0.893234  0.434927  ... -0.171450  0.263924 -0.073527 -0.313338   \n",
       "3 -0.533012 -3.780278 -3.166223  ... -1.483614  0.001792  1.537312 -2.834219   \n",
       "4 -0.267497  0.928086 -0.786226  ... -0.791719 -1.732541 -0.554419 -1.417036   \n",
       "\n",
       "         49        50        51        52        53        54  \n",
       "0 -0.184631  1.845135 -0.726769 -0.608847  0.944853 -0.314970  \n",
       "1  0.066388  0.047739 -0.197665  0.003631 -0.826727  1.515635  \n",
       "2  0.666139 -0.456755  0.168789 -0.147727  0.297244  0.948510  \n",
       "3 -0.768787  0.296113 -1.189638 -0.715073 -0.352981  0.064616  \n",
       "4 -1.118786  0.036632 -0.334745  0.136686 -1.833226 -0.053308  \n",
       "\n",
       "[5 rows x 55 columns]"
      ]
     },
     "execution_count": 119,
     "metadata": {},
     "output_type": "execute_result"
    }
   ],
   "source": [
    "tranformed_componenets = pd.DataFrame(Xpca55)\n",
    "tranformed_componenets.head()"
   ]
  },
  {
   "cell_type": "markdown",
   "id": "0a4f5314",
   "metadata": {},
   "source": [
    "#### Q5 E - Display and explain the classification report in detail."
   ]
  },
  {
   "cell_type": "code",
   "execution_count": 120,
   "id": "4b86de9f",
   "metadata": {},
   "outputs": [
    {
     "data": {
      "text/html": [
       "<style>#sk-container-id-8 {color: black;background-color: white;}#sk-container-id-8 pre{padding: 0;}#sk-container-id-8 div.sk-toggleable {background-color: white;}#sk-container-id-8 label.sk-toggleable__label {cursor: pointer;display: block;width: 100%;margin-bottom: 0;padding: 0.3em;box-sizing: border-box;text-align: center;}#sk-container-id-8 label.sk-toggleable__label-arrow:before {content: \"▸\";float: left;margin-right: 0.25em;color: #696969;}#sk-container-id-8 label.sk-toggleable__label-arrow:hover:before {color: black;}#sk-container-id-8 div.sk-estimator:hover label.sk-toggleable__label-arrow:before {color: black;}#sk-container-id-8 div.sk-toggleable__content {max-height: 0;max-width: 0;overflow: hidden;text-align: left;background-color: #f0f8ff;}#sk-container-id-8 div.sk-toggleable__content pre {margin: 0.2em;color: black;border-radius: 0.25em;background-color: #f0f8ff;}#sk-container-id-8 input.sk-toggleable__control:checked~div.sk-toggleable__content {max-height: 200px;max-width: 100%;overflow: auto;}#sk-container-id-8 input.sk-toggleable__control:checked~label.sk-toggleable__label-arrow:before {content: \"▾\";}#sk-container-id-8 div.sk-estimator input.sk-toggleable__control:checked~label.sk-toggleable__label {background-color: #d4ebff;}#sk-container-id-8 div.sk-label input.sk-toggleable__control:checked~label.sk-toggleable__label {background-color: #d4ebff;}#sk-container-id-8 input.sk-hidden--visually {border: 0;clip: rect(1px 1px 1px 1px);clip: rect(1px, 1px, 1px, 1px);height: 1px;margin: -1px;overflow: hidden;padding: 0;position: absolute;width: 1px;}#sk-container-id-8 div.sk-estimator {font-family: monospace;background-color: #f0f8ff;border: 1px dotted black;border-radius: 0.25em;box-sizing: border-box;margin-bottom: 0.5em;}#sk-container-id-8 div.sk-estimator:hover {background-color: #d4ebff;}#sk-container-id-8 div.sk-parallel-item::after {content: \"\";width: 100%;border-bottom: 1px solid gray;flex-grow: 1;}#sk-container-id-8 div.sk-label:hover label.sk-toggleable__label {background-color: #d4ebff;}#sk-container-id-8 div.sk-serial::before {content: \"\";position: absolute;border-left: 1px solid gray;box-sizing: border-box;top: 0;bottom: 0;left: 50%;z-index: 0;}#sk-container-id-8 div.sk-serial {display: flex;flex-direction: column;align-items: center;background-color: white;padding-right: 0.2em;padding-left: 0.2em;position: relative;}#sk-container-id-8 div.sk-item {position: relative;z-index: 1;}#sk-container-id-8 div.sk-parallel {display: flex;align-items: stretch;justify-content: center;background-color: white;position: relative;}#sk-container-id-8 div.sk-item::before, #sk-container-id-8 div.sk-parallel-item::before {content: \"\";position: absolute;border-left: 1px solid gray;box-sizing: border-box;top: 0;bottom: 0;left: 50%;z-index: -1;}#sk-container-id-8 div.sk-parallel-item {display: flex;flex-direction: column;z-index: 1;position: relative;background-color: white;}#sk-container-id-8 div.sk-parallel-item:first-child::after {align-self: flex-end;width: 50%;}#sk-container-id-8 div.sk-parallel-item:last-child::after {align-self: flex-start;width: 50%;}#sk-container-id-8 div.sk-parallel-item:only-child::after {width: 0;}#sk-container-id-8 div.sk-dashed-wrapped {border: 1px dashed gray;margin: 0 0.4em 0.5em 0.4em;box-sizing: border-box;padding-bottom: 0.4em;background-color: white;}#sk-container-id-8 div.sk-label label {font-family: monospace;font-weight: bold;display: inline-block;line-height: 1.2em;}#sk-container-id-8 div.sk-label-container {text-align: center;}#sk-container-id-8 div.sk-container {/* jupyter's `normalize.less` sets `[hidden] { display: none; }` but bootstrap.min.css set `[hidden] { display: none !important; }` so we also need the `!important` here to be able to override the default hidden behavior on the sphinx rendered scikit-learn.org. See: https://github.com/scikit-learn/scikit-learn/issues/21755 */display: inline-block !important;position: relative;}#sk-container-id-8 div.sk-text-repr-fallback {display: none;}</style><div id=\"sk-container-id-8\" class=\"sk-top-container\"><div class=\"sk-text-repr-fallback\"><pre>KNeighborsClassifier(leaf_size=1, n_neighbors=2, p=1, weights=&#x27;distance&#x27;)</pre><b>In a Jupyter environment, please rerun this cell to show the HTML representation or trust the notebook. <br />On GitHub, the HTML representation is unable to render, please try loading this page with nbviewer.org.</b></div><div class=\"sk-container\" hidden><div class=\"sk-item\"><div class=\"sk-estimator sk-toggleable\"><input class=\"sk-toggleable__control sk-hidden--visually\" id=\"sk-estimator-id-8\" type=\"checkbox\" checked><label for=\"sk-estimator-id-8\" class=\"sk-toggleable__label sk-toggleable__label-arrow\">KNeighborsClassifier</label><div class=\"sk-toggleable__content\"><pre>KNeighborsClassifier(leaf_size=1, n_neighbors=2, p=1, weights=&#x27;distance&#x27;)</pre></div></div></div></div></div>"
      ],
      "text/plain": [
       "KNeighborsClassifier(leaf_size=1, n_neighbors=2, p=1, weights='distance')"
      ]
     },
     "execution_count": 120,
     "metadata": {},
     "output_type": "execute_result"
    }
   ],
   "source": [
    "KNN_PCA = KNeighborsClassifier(n_neighbors= 2, leaf_size= 1,  p= 1, weights = 'distance')\n",
    "KNN_PCA.fit(Xpca55, y_os)"
   ]
  },
  {
   "cell_type": "code",
   "execution_count": 121,
   "id": "23adb205",
   "metadata": {},
   "outputs": [
    {
     "data": {
      "text/plain": [
       "1.0"
      ]
     },
     "execution_count": 121,
     "metadata": {},
     "output_type": "execute_result"
    }
   ],
   "source": [
    "KNN_PCA.score(Xpca55, y_os)"
   ]
  },
  {
   "cell_type": "code",
   "execution_count": 122,
   "id": "d652065e",
   "metadata": {},
   "outputs": [
    {
     "name": "stdout",
     "output_type": "stream",
     "text": [
      "We got 100% score in-sample data.\n"
     ]
    }
   ],
   "source": [
    "print('We got 100% score in-sample data.')"
   ]
  },
  {
   "cell_type": "markdown",
   "id": "41718a07",
   "metadata": {},
   "source": [
    "#### Q5 F - Apply the above steps for all possible models that you have learnt so far."
   ]
  },
  {
   "cell_type": "markdown",
   "id": "0601ea49",
   "metadata": {},
   "source": [
    "**Logistic Regression :**"
   ]
  },
  {
   "cell_type": "code",
   "execution_count": 123,
   "id": "7ebba2d0",
   "metadata": {},
   "outputs": [
    {
     "name": "stdout",
     "output_type": "stream",
     "text": [
      "Fitting 5 folds for each of 2 candidates, totalling 10 fits\n",
      "GridSearchCV(cv=5, estimator=LogisticRegression(), n_jobs=-1,\n",
      "             param_grid={'max_iter': [2000], 'penalty': ['l1', 'l2'],\n",
      "                         'solver': ['liblinear']},\n",
      "             scoring='accuracy', verbose=1)\n"
     ]
    }
   ],
   "source": [
    "params_logistic = {'max_iter': [2000],                 #Answer\n",
    "                   'penalty': ['l1', 'l2'],\n",
    "                   'solver': ['liblinear']}\n",
    "model_logistic = LogisticRegression()\n",
    "final_tuning_logistic = GridSearchCV(model_logistic, params_logistic, cv=5, scoring='accuracy', n_jobs=-1, verbose=1).fit(X_os_train_scaled_df, y_os_train)\n",
    "print(final_tuning_logistic)"
   ]
  },
  {
   "cell_type": "code",
   "execution_count": 124,
   "id": "77064156",
   "metadata": {},
   "outputs": [
    {
     "name": "stdout",
     "output_type": "stream",
     "text": [
      "{'max_iter': 2000, 'penalty': 'l1', 'solver': 'liblinear'}\n"
     ]
    }
   ],
   "source": [
    "print(final_tuning_logistic.best_params_)"
   ]
  },
  {
   "cell_type": "markdown",
   "id": "48f03e7b",
   "metadata": {},
   "source": [
    "**K- Nearest :**"
   ]
  },
  {
   "cell_type": "code",
   "execution_count": 125,
   "id": "6ab9c047",
   "metadata": {},
   "outputs": [
    {
     "name": "stdout",
     "output_type": "stream",
     "text": [
      "Fitting 5 folds for each of 36 candidates, totalling 180 fits\n",
      "{'n_neighbors': 1, 'p': 1, 'weights': 'uniform'}\n"
     ]
    }
   ],
   "source": [
    "params_knn = {'n_neighbors' : range(1, 10),\n",
    "              'weights' : ['uniform', 'distance'],\n",
    "              'p' : [1,2]}\n",
    "model_knn = KNeighborsClassifier()\n",
    "final_tuning_knn = GridSearchCV(model_knn, params_knn, cv=5, scoring='accuracy', n_jobs=-1, verbose=1).fit(X_os_train_scaled_df, y_os_train)\n",
    "print(final_tuning_knn.best_params_)"
   ]
  },
  {
   "cell_type": "markdown",
   "id": "8034e02f",
   "metadata": {},
   "source": [
    "**SVM :**"
   ]
  },
  {
   "cell_type": "code",
   "execution_count": 126,
   "id": "a558ecef",
   "metadata": {},
   "outputs": [
    {
     "name": "stdout",
     "output_type": "stream",
     "text": [
      "Fitting 5 folds for each of 30 candidates, totalling 150 fits\n",
      "GridSearchCV(cv=5, estimator=SVC(), n_jobs=-1,\n",
      "             param_grid={'C': [0.01, 0.1, 1, 10, 100, 1000],\n",
      "                         'gamma': [1, 0.1, 0.001, 0.0001, 1e-05],\n",
      "                         'kernel': ['rbf']},\n",
      "             scoring='accuracy', verbose=1)\n"
     ]
    }
   ],
   "source": [
    "params_svc = {'kernel': ['rbf'],\n",
    "              'C' : [0.01, 0.1, 1, 10, 100, 1000 ],\n",
    "              'gamma' : [1, 0.1, 0.001, 0.0001, 0.00001]}\n",
    "model_svc = svm.SVC()\n",
    "final_tuning_svc = GridSearchCV(model_svc, params_svc, cv=5, scoring='accuracy', n_jobs=-1, verbose=1).fit(X_os_train_scaled_df, y_os_train)\n",
    "print(final_tuning_svc)"
   ]
  },
  {
   "cell_type": "code",
   "execution_count": 127,
   "id": "3d044ef2",
   "metadata": {},
   "outputs": [
    {
     "name": "stdout",
     "output_type": "stream",
     "text": [
      "{'C': 1, 'gamma': 1, 'kernel': 'rbf'}\n"
     ]
    }
   ],
   "source": [
    "print(final_tuning_svc.best_params_)"
   ]
  },
  {
   "cell_type": "markdown",
   "id": "3a94ac65",
   "metadata": {},
   "source": [
    "**DecisionTree :**"
   ]
  },
  {
   "cell_type": "code",
   "execution_count": 128,
   "id": "020af6e0",
   "metadata": {},
   "outputs": [],
   "source": [
    "params_dt = {'criterion': ['gini'],\n",
    "             'max_depth': [3, 4, 5, 6, 7],\n",
    "             'random_state': [0]}\n",
    "model_dt = DecisionTreeClassifier()\n",
    "final_tuning_dt = GridSearchCV(model_dt, params_dt, cv=5).fit(X_os_train_scaled_df, y_os_train)"
   ]
  },
  {
   "cell_type": "code",
   "execution_count": 129,
   "id": "1f3a754a",
   "metadata": {},
   "outputs": [
    {
     "name": "stdout",
     "output_type": "stream",
     "text": [
      "{'criterion': 'gini', 'max_depth': 7, 'random_state': 0}\n"
     ]
    }
   ],
   "source": [
    "print(final_tuning_dt.best_params_)"
   ]
  },
  {
   "cell_type": "markdown",
   "id": "dc23b13a",
   "metadata": {},
   "source": [
    "**Random Forest :**"
   ]
  },
  {
   "cell_type": "code",
   "execution_count": 130,
   "id": "187cbef9",
   "metadata": {},
   "outputs": [
    {
     "name": "stdout",
     "output_type": "stream",
     "text": [
      "Fitting 5 folds for each of 486 candidates, totalling 2430 fits\n",
      "{'bootstrap': False, 'criterion': 'entropy', 'max_depth': 40, 'max_features': 4, 'min_samples_leaf': 1, 'min_samples_split': 9, 'n_estimators': 95, 'random_state': 242}\n"
     ]
    }
   ],
   "source": [
    "params_rf = {'n_estimators': [95, 100, 105],\n",
    "             'criterion':['entropy'],\n",
    "             'bootstrap': [True, False],\n",
    "             'max_depth': [40, 45, 50],\n",
    "             'max_features': [4, 5, 6],\n",
    "             'min_samples_leaf': [1, 2, 3],\n",
    "             'min_samples_split': [9, 10, 11],\n",
    "             'random_state': [734]}\n",
    "model_rf = RandomForestClassifier()\n",
    "final_tuning_rf = GridSearchCV(model_rf, params_rf, cv=5, scoring='accuracy', n_jobs=-1, verbose=1).fit(X_os_train_scaled_df, y_os_train)\n",
    "final_tuning_rf.best_params_['random_state']=242\n",
    "final_tuning_rf.best_estimator_.random_state=242\n",
    "print(final_tuning_rf.best_params_)"
   ]
  },
  {
   "cell_type": "markdown",
   "id": "f3c8b5f6",
   "metadata": {},
   "source": [
    "**Bagging Classifier :**"
   ]
  },
  {
   "cell_type": "code",
   "execution_count": 131,
   "id": "ef7b244d",
   "metadata": {},
   "outputs": [
    {
     "name": "stdout",
     "output_type": "stream",
     "text": [
      "{'n_estimators': 40, 'random_state': 0}\n"
     ]
    }
   ],
   "source": [
    "params_bc = {'n_estimators': [20, 30, 40, 50, 60],\n",
    "             'random_state': [0]}\n",
    "model_bc = BaggingClassifier()\n",
    "final_tuning_bc = GridSearchCV(model_bc, params_bc, cv=5).fit(X_os_train_scaled_df, y_os_train)\n",
    "print(final_tuning_bc.best_params_)"
   ]
  },
  {
   "cell_type": "markdown",
   "id": "c033c39c",
   "metadata": {},
   "source": [
    "**Gardient Boosting :**"
   ]
  },
  {
   "cell_type": "code",
   "execution_count": 132,
   "id": "eb2bdd32",
   "metadata": {},
   "outputs": [
    {
     "name": "stdout",
     "output_type": "stream",
     "text": [
      "{'n_estimators': 60, 'random_state': 0}\n"
     ]
    }
   ],
   "source": [
    "params_gbc = {'n_estimators': [20, 30, 40, 50, 60],\n",
    "             'random_state': [0]}\n",
    "model_gbc = GradientBoostingClassifier()\n",
    "final_tuning_gbc = GridSearchCV(model_gbc, params_gbc, cv=5).fit(X_os_train_scaled_df, y_os_train)\n",
    "print(final_tuning_gbc.best_params_)"
   ]
  },
  {
   "cell_type": "markdown",
   "id": "6948ad98",
   "metadata": {},
   "source": [
    "**Ada Boosting :** "
   ]
  },
  {
   "cell_type": "code",
   "execution_count": 133,
   "id": "c0aa1dcd",
   "metadata": {},
   "outputs": [
    {
     "name": "stdout",
     "output_type": "stream",
     "text": [
      "{'n_estimators': 60, 'random_state': 0}\n"
     ]
    }
   ],
   "source": [
    "params_abc = {'n_estimators': [20, 30, 40, 50, 60],\n",
    "             'random_state': [0]}\n",
    "model_abc = AdaBoostClassifier()\n",
    "final_tuning_abc = GridSearchCV(model_abc, params_abc, cv=5).fit(X_os_train_scaled_df, y_os_train)\n",
    "print(final_tuning_abc.best_params_)"
   ]
  },
  {
   "cell_type": "markdown",
   "id": "1e23b535",
   "metadata": {},
   "source": [
    "**Pipelines :**"
   ]
  },
  {
   "cell_type": "code",
   "execution_count": 136,
   "id": "4a3509f9",
   "metadata": {},
   "outputs": [],
   "source": [
    "pl_LogisticRegression = Pipeline( [('Scalar1', StandardScaler()),\n",
    "                                 ('lr_classifier', LogisticRegression(max_iter = 2000, penalty= 'l1', solver= 'liblinear'))] )"
   ]
  },
  {
   "cell_type": "code",
   "execution_count": 137,
   "id": "2f5ef4c3",
   "metadata": {},
   "outputs": [],
   "source": [
    "pl_KNeighborsClassifier = Pipeline( [('Scalar2', StandardScaler()),\n",
    "                                 ('knn_classifier', KNeighborsClassifier(n_neighbors= 2, p= 1, weights= 'uniform'))] )\n",
    "pl_SupportVectorClassifier = Pipeline( [('Scalar3', StandardScaler()),\n",
    "                                 ('svc_classifier', svm.SVC(C= 1, gamma= 1, kernel= 'rbf'))] )\n",
    "pl_DecisionTreeClassifier = Pipeline( [('Scalar4', StandardScaler()),\n",
    "                                 ('dt_classifier', DecisionTreeClassifier(criterion = 'gini', random_state= 0)) ])\n",
    "pl_RandomForestClassifier = Pipeline( [('Scalar5', StandardScaler()),\n",
    "                                 ('rf_classifier', RandomForestClassifier(bootstrap= True, criterion= 'entropy', max_depth= 40,\n",
    "                                                                          max_features= 6, min_samples_leaf= 1, min_samples_split=10,\n",
    "                                                                          n_estimators= 95, random_state= 242)) ])\n",
    "pl_BaggingClassifier = Pipeline( [('Scalar6', StandardScaler()),\n",
    "                                  ('bag_classifier', BaggingClassifier(n_estimators= 20, random_state= 0)) ])\n",
    "pl_GradientBoostingClassifier = Pipeline( [('Scalar7', StandardScaler()),\n",
    "                                  ('gb_classifier', GradientBoostingClassifier(n_estimators= 60, random_state= 0)) ])\n",
    "pl_AdaBoostClassifier = Pipeline( [('Scalar8', StandardScaler()),\n",
    "                                  ('ab_classifier', AdaBoostClassifier(n_estimators= 60, random_state= 0)) ])"
   ]
  },
  {
   "cell_type": "code",
   "execution_count": 138,
   "id": "3f17046d",
   "metadata": {},
   "outputs": [],
   "source": [
    "best_accuracy = 0.0\n",
    "best_classifier = 0\n",
    "best_pipleine = ''"
   ]
  },
  {
   "cell_type": "code",
   "execution_count": 139,
   "id": "d1d56fa1",
   "metadata": {},
   "outputs": [],
   "source": [
    "pipe_dict = {0 : 'Logistic Regression',                    #creating a dictionary for all the classifiers for mapping\n",
    "             1 : 'K Nearest Neighbours',\n",
    "             2 : 'Support vector Classifier',\n",
    "             3 : 'Decision Tree Classifier',\n",
    "             4 : 'Random Forest Classifier',\n",
    "             5 : 'Bagging Classifier',\n",
    "             6 : 'Gradient Boosting Classifier',\n",
    "             7 : 'Ada Boost Classifier'}"
   ]
  },
  {
   "cell_type": "code",
   "execution_count": 141,
   "id": "61d9e18f",
   "metadata": {},
   "outputs": [],
   "source": [
    "pipe_lines = [pl_LogisticRegression,                      #Creating different ensemble models into a list\n",
    "              pl_KNeighborsClassifier,\n",
    "              pl_SupportVectorClassifier,\n",
    "              pl_DecisionTreeClassifier,\n",
    "              pl_RandomForestClassifier,\n",
    "              pl_BaggingClassifier,\n",
    "              pl_GradientBoostingClassifier,\n",
    "              pl_AdaBoostClassifier]"
   ]
  },
  {
   "cell_type": "code",
   "execution_count": 142,
   "id": "8447ac97",
   "metadata": {},
   "outputs": [
    {
     "name": "stdout",
     "output_type": "stream",
     "text": [
      "0\n",
      "Pipeline(steps=[('Scalar1', StandardScaler()),\n",
      "                ('lr_classifier',\n",
      "                 LogisticRegression(max_iter=2000, penalty='l1',\n",
      "                                    solver='liblinear'))])\n",
      "1\n",
      "Pipeline(steps=[('Scalar2', StandardScaler()),\n",
      "                ('knn_classifier', KNeighborsClassifier(n_neighbors=2, p=1))])\n",
      "2\n",
      "Pipeline(steps=[('Scalar3', StandardScaler()),\n",
      "                ('svc_classifier', SVC(C=1, gamma=1))])\n",
      "3\n",
      "Pipeline(steps=[('Scalar4', StandardScaler()),\n",
      "                ('dt_classifier', DecisionTreeClassifier(random_state=0))])\n",
      "4\n",
      "Pipeline(steps=[('Scalar5', StandardScaler()),\n",
      "                ('rf_classifier',\n",
      "                 RandomForestClassifier(criterion='entropy', max_depth=40,\n",
      "                                        max_features=6, min_samples_split=10,\n",
      "                                        n_estimators=95, random_state=242))])\n",
      "5\n",
      "Pipeline(steps=[('Scalar6', StandardScaler()),\n",
      "                ('bag_classifier',\n",
      "                 BaggingClassifier(n_estimators=20, random_state=0))])\n",
      "6\n",
      "Pipeline(steps=[('Scalar7', StandardScaler()),\n",
      "                ('gb_classifier',\n",
      "                 GradientBoostingClassifier(n_estimators=60, random_state=0))])\n",
      "7\n",
      "Pipeline(steps=[('Scalar8', StandardScaler()),\n",
      "                ('ab_classifier',\n",
      "                 AdaBoostClassifier(n_estimators=60, random_state=0))])\n"
     ]
    }
   ],
   "source": [
    "for i, model in enumerate(pipe_lines):\n",
    "    print(i)\n",
    "    print(model)"
   ]
  },
  {
   "cell_type": "code",
   "execution_count": 143,
   "id": "b1e917de",
   "metadata": {},
   "outputs": [],
   "source": [
    "for pipe in pipe_lines:\n",
    "    pipe.fit(X_os_train_scaled_df, y_os_train)"
   ]
  },
  {
   "cell_type": "code",
   "execution_count": 144,
   "id": "d56cdae5",
   "metadata": {},
   "outputs": [
    {
     "name": "stdout",
     "output_type": "stream",
     "text": [
      "Logistic Regression Testing Data Accuracy 0.7389078498293515\n",
      "K Nearest Neighbours Testing Data Accuracy 0.9726962457337884\n",
      "Support vector Classifier Testing Data Accuracy 1.0\n",
      "Decision Tree Classifier Testing Data Accuracy 0.9692832764505119\n",
      "Random Forest Classifier Testing Data Accuracy 1.0\n",
      "Bagging Classifier Testing Data Accuracy 0.9812286689419796\n",
      "Gradient Boosting Classifier Testing Data Accuracy 0.9522184300341296\n",
      "Ada Boost Classifier Testing Data Accuracy 0.89419795221843\n"
     ]
    }
   ],
   "source": [
    "for i, model in enumerate(pipe_lines):\n",
    "    print(str(pipe_dict[i]) + ' Testing Data Accuracy ' + str(model.score(X_os_test_scaled_df, y_os_test)) )"
   ]
  },
  {
   "cell_type": "markdown",
   "id": "11807ecf",
   "metadata": {},
   "source": [
    "#### Q6 A- Display and compare all the models designed with their train and test accuracies."
   ]
  },
  {
   "cell_type": "code",
   "execution_count": 149,
   "id": "18d2e5c5",
   "metadata": {},
   "outputs": [
    {
     "name": "stdout",
     "output_type": "stream",
     "text": [
      "Train data score is 0.7760683760683761\n",
      "Test data score is 0.7389078498293515\n",
      "\n",
      "\n",
      "Train data score is 1.0\n",
      "Test data score is 0.9726962457337884\n",
      "\n",
      "\n",
      "Train data score is 1.0\n",
      "Test data score is 1.0\n",
      "\n",
      "\n",
      "Train data score is 1.0\n",
      "Test data score is 0.9692832764505119\n",
      "\n",
      "\n",
      "Train data score is 1.0\n",
      "Test data score is 1.0\n",
      "\n",
      "\n",
      "Train data score is 1.0\n",
      "Test data score is 0.9812286689419796\n",
      "\n",
      "\n",
      "Train data score is 0.967948717948718\n",
      "Test data score is 0.9522184300341296\n",
      "\n",
      "\n",
      "Train data score is 0.9452991452991453\n",
      "Test data score is 0.89419795221843\n",
      "\n",
      "\n"
     ]
    }
   ],
   "source": [
    "for i, model in enumerate(pipe_lines):\n",
    "     print( 'Train data score is ' + str(model.score(X_os_train_scaled_df, y_os_train)))\n",
    "     print('Test data score is ' + str(model.score(X_os_test_scaled_df, y_os_test)))\n",
    "     print('\\n')"
   ]
  },
  {
   "cell_type": "markdown",
   "id": "eb13fb92",
   "metadata": {},
   "source": [
    "#### Q6 B - Select the final best trained model along with your detailed comments for selecting this model."
   ]
  },
  {
   "cell_type": "code",
   "execution_count": 150,
   "id": "ccf79fc8",
   "metadata": {},
   "outputs": [
    {
     "name": "stdout",
     "output_type": "stream",
     "text": [
      "0.7389078498293515\n",
      "0.9726962457337884\n",
      "1.0\n"
     ]
    }
   ],
   "source": [
    "for i, model in enumerate(pipe_lines):        #Answer      #Selecting and printing the best classifier based on test accuracy score\n",
    "     if model.score(X_os_test_scaled_df, y_os_test) > best_accuracy:\n",
    "         best_accuracy = model.score(X_os_test_scaled_df, y_os_test)\n",
    "         print(best_accuracy)\n",
    "         best_pipleine = model\n",
    "         best_classifier = i"
   ]
  },
  {
   "cell_type": "code",
   "execution_count": 151,
   "id": "a579a8d8",
   "metadata": {},
   "outputs": [
    {
     "name": "stdout",
     "output_type": "stream",
     "text": [
      "The best trained model is Support vector Classifier with score of 1.0\n"
     ]
    }
   ],
   "source": [
    "print('The best trained model is ' + pipe_dict[best_classifier] + ' with score of ' + str(best_accuracy) )"
   ]
  },
  {
   "cell_type": "markdown",
   "id": "b2290501",
   "metadata": {},
   "source": [
    "#### Q6 C - Pickle the selected model for future use."
   ]
  },
  {
   "cell_type": "code",
   "execution_count": 152,
   "id": "042fa971",
   "metadata": {},
   "outputs": [],
   "source": [
    "import pickle"
   ]
  },
  {
   "cell_type": "code",
   "execution_count": 153,
   "id": "f058d3a5",
   "metadata": {},
   "outputs": [],
   "source": [
    "with open('best_model_svc_classifier', 'wb') as files:\n",
    "    pickle.dump(pl_SupportVectorClassifier, files)"
   ]
  },
  {
   "cell_type": "code",
   "execution_count": 154,
   "id": "b96e15bd",
   "metadata": {},
   "outputs": [],
   "source": [
    "with open('best_model_svc_classifier' , 'rb') as files:\n",
    "    ab = pickle.load(files)"
   ]
  },
  {
   "cell_type": "code",
   "execution_count": 155,
   "id": "c1c66466",
   "metadata": {},
   "outputs": [
    {
     "name": "stdout",
     "output_type": "stream",
     "text": [
      "Pipeline(steps=[('Scalar3', StandardScaler()),\n",
      "                ('svc_classifier', SVC(C=1, gamma=1))])\n"
     ]
    }
   ],
   "source": [
    "print(ab)"
   ]
  },
  {
   "cell_type": "markdown",
   "id": "19e131b7",
   "metadata": {},
   "source": [
    "#### Q6 D - Write your conclusion on the results."
   ]
  },
  {
   "cell_type": "markdown",
   "id": "5ec6c657",
   "metadata": {},
   "source": [
    "- Grid Search CV results and using the best hyper parameters and using ensemble techniques we got best results.\n",
    "- In Support Vector Classifier and Random Forest Classifiers. \n",
    "- The best and ideal results we got in Support Vector Classifier."
   ]
  }
 ],
 "metadata": {
  "kernelspec": {
   "display_name": "Python 3 (ipykernel)",
   "language": "python",
   "name": "python3"
  },
  "language_info": {
   "codemirror_mode": {
    "name": "ipython",
    "version": 3
   },
   "file_extension": ".py",
   "mimetype": "text/x-python",
   "name": "python",
   "nbconvert_exporter": "python",
   "pygments_lexer": "ipython3",
   "version": "3.9.12"
  }
 },
 "nbformat": 4,
 "nbformat_minor": 5
}
