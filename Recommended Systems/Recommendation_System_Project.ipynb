{
 "cells": [
  {
   "cell_type": "markdown",
   "id": "dedcfe44",
   "metadata": {},
   "source": [
    "# Name : Sunita Samantasinghar\n",
    "### Post Graduate Program in Artificial Intelligence and Machine Learning\n",
    "2022-2023"
   ]
  },
  {
   "cell_type": "markdown",
   "id": "22118349",
   "metadata": {},
   "source": [
    "# Recommendation Systems\n",
    "### • CONTEXT: \n",
    "India is the second largest market globally for smartphones after China. About 134 million smartphones were sold across India \n",
    "in the year 2017 and is estimated to increase to about 442 million in 2022. India ranked second in the average time spent on mobile web by smartphone users across Asia Pacific. The combination of very high sales volumes and the average smartphone consumer behaviour has made India a very attractive market for foreign vendors. As per Consumer behaviour, 97% of consumers turn to a search engine when they are buying a product vs. 15% who turn to social media. If a seller succeeds to publish smartphones based on user’s behaviour/choice at the right place, there are 90% chances that user will enquire for the same. This Case Study is targeted to build a recommendation system based on individual consumer’s behaviour or choice."
   ]
  },
  {
   "cell_type": "markdown",
   "id": "af6aa15a",
   "metadata": {},
   "source": [
    "#### IMPORT ALL THE REQUIRED PACKAGES"
   ]
  },
  {
   "cell_type": "code",
   "execution_count": 65,
   "id": "553fbd4b",
   "metadata": {},
   "outputs": [],
   "source": [
    "import pandas as pd\n",
    "import os\n",
    "import numpy as np\n",
    "import seaborn as sns\n",
    "import matplotlib.pyplot as plt\n",
    "%matplotlib inline\n",
    "import plotly.graph_objs as go\n",
    "import plotly.express as px\n",
    "from collections import defaultdict\n",
    "from surprise import SVD\n",
    "from surprise import KNNWithMeans\n",
    "from surprise import Dataset\n",
    "from surprise import accuracy\n",
    "from surprise import Reader\n",
    "from surprise.model_selection import cross_validate\n",
    "from surprise.model_selection import train_test_split"
   ]
  },
  {
   "cell_type": "markdown",
   "id": "29f01d46",
   "metadata": {},
   "source": [
    "#### Q1 A - Merge all the provided CSVs into one data-frame."
   ]
  },
  {
   "cell_type": "code",
   "execution_count": 23,
   "id": "520e39e4",
   "metadata": {},
   "outputs": [
    {
     "data": {
      "text/html": [
       "<div>\n",
       "<style scoped>\n",
       "    .dataframe tbody tr th:only-of-type {\n",
       "        vertical-align: middle;\n",
       "    }\n",
       "\n",
       "    .dataframe tbody tr th {\n",
       "        vertical-align: top;\n",
       "    }\n",
       "\n",
       "    .dataframe thead th {\n",
       "        text-align: right;\n",
       "    }\n",
       "</style>\n",
       "<table border=\"1\" class=\"dataframe\">\n",
       "  <thead>\n",
       "    <tr style=\"text-align: right;\">\n",
       "      <th></th>\n",
       "      <th>phone_url</th>\n",
       "      <th>date</th>\n",
       "      <th>lang</th>\n",
       "      <th>country</th>\n",
       "      <th>source</th>\n",
       "      <th>domain</th>\n",
       "      <th>score</th>\n",
       "      <th>score_max</th>\n",
       "      <th>extract</th>\n",
       "      <th>author</th>\n",
       "      <th>product</th>\n",
       "    </tr>\n",
       "  </thead>\n",
       "  <tbody>\n",
       "    <tr>\n",
       "      <th>0</th>\n",
       "      <td>/cellphones/samsung-galaxy-s8/</td>\n",
       "      <td>5/2/2017</td>\n",
       "      <td>en</td>\n",
       "      <td>us</td>\n",
       "      <td>Verizon Wireless</td>\n",
       "      <td>verizonwireless.com</td>\n",
       "      <td>10.0</td>\n",
       "      <td>10.0</td>\n",
       "      <td>As a diehard Samsung fan who has had every Sam...</td>\n",
       "      <td>CarolAnn35</td>\n",
       "      <td>Samsung Galaxy S8</td>\n",
       "    </tr>\n",
       "    <tr>\n",
       "      <th>1</th>\n",
       "      <td>/cellphones/samsung-galaxy-s8/</td>\n",
       "      <td>4/28/2017</td>\n",
       "      <td>en</td>\n",
       "      <td>us</td>\n",
       "      <td>Phone Arena</td>\n",
       "      <td>phonearena.com</td>\n",
       "      <td>10.0</td>\n",
       "      <td>10.0</td>\n",
       "      <td>Love the phone. the phone is sleek and smooth ...</td>\n",
       "      <td>james0923</td>\n",
       "      <td>Samsung Galaxy S8</td>\n",
       "    </tr>\n",
       "    <tr>\n",
       "      <th>2</th>\n",
       "      <td>/cellphones/samsung-galaxy-s8/</td>\n",
       "      <td>5/4/2017</td>\n",
       "      <td>en</td>\n",
       "      <td>us</td>\n",
       "      <td>Amazon</td>\n",
       "      <td>amazon.com</td>\n",
       "      <td>6.0</td>\n",
       "      <td>10.0</td>\n",
       "      <td>Adequate feel. Nice heft. Processor's still sl...</td>\n",
       "      <td>R. Craig</td>\n",
       "      <td>Samsung Galaxy S8 (64GB) G950U 5.8\" 4G LTE Unl...</td>\n",
       "    </tr>\n",
       "    <tr>\n",
       "      <th>3</th>\n",
       "      <td>/cellphones/samsung-galaxy-s8/</td>\n",
       "      <td>5/2/2017</td>\n",
       "      <td>en</td>\n",
       "      <td>us</td>\n",
       "      <td>Samsung</td>\n",
       "      <td>samsung.com</td>\n",
       "      <td>9.2</td>\n",
       "      <td>10.0</td>\n",
       "      <td>Never disappointed. One of the reasons I've be...</td>\n",
       "      <td>Buster2020</td>\n",
       "      <td>Samsung Galaxy S8 64GB (AT&amp;T)</td>\n",
       "    </tr>\n",
       "    <tr>\n",
       "      <th>4</th>\n",
       "      <td>/cellphones/samsung-galaxy-s8/</td>\n",
       "      <td>5/11/2017</td>\n",
       "      <td>en</td>\n",
       "      <td>us</td>\n",
       "      <td>Verizon Wireless</td>\n",
       "      <td>verizonwireless.com</td>\n",
       "      <td>4.0</td>\n",
       "      <td>10.0</td>\n",
       "      <td>I've now found that i'm in a group of people t...</td>\n",
       "      <td>S Ate Mine</td>\n",
       "      <td>Samsung Galaxy S8</td>\n",
       "    </tr>\n",
       "  </tbody>\n",
       "</table>\n",
       "</div>"
      ],
      "text/plain": [
       "                        phone_url       date lang country            source  \\\n",
       "0  /cellphones/samsung-galaxy-s8/   5/2/2017   en      us  Verizon Wireless   \n",
       "1  /cellphones/samsung-galaxy-s8/  4/28/2017   en      us       Phone Arena   \n",
       "2  /cellphones/samsung-galaxy-s8/   5/4/2017   en      us            Amazon   \n",
       "3  /cellphones/samsung-galaxy-s8/   5/2/2017   en      us           Samsung   \n",
       "4  /cellphones/samsung-galaxy-s8/  5/11/2017   en      us  Verizon Wireless   \n",
       "\n",
       "                domain  score  score_max  \\\n",
       "0  verizonwireless.com   10.0       10.0   \n",
       "1       phonearena.com   10.0       10.0   \n",
       "2           amazon.com    6.0       10.0   \n",
       "3          samsung.com    9.2       10.0   \n",
       "4  verizonwireless.com    4.0       10.0   \n",
       "\n",
       "                                             extract       author  \\\n",
       "0  As a diehard Samsung fan who has had every Sam...   CarolAnn35   \n",
       "1  Love the phone. the phone is sleek and smooth ...    james0923   \n",
       "2  Adequate feel. Nice heft. Processor's still sl...     R. Craig   \n",
       "3  Never disappointed. One of the reasons I've be...  Buster2020    \n",
       "4  I've now found that i'm in a group of people t...   S Ate Mine   \n",
       "\n",
       "                                             product  \n",
       "0                                  Samsung Galaxy S8  \n",
       "1                                  Samsung Galaxy S8  \n",
       "2  Samsung Galaxy S8 (64GB) G950U 5.8\" 4G LTE Unl...  \n",
       "3                      Samsung Galaxy S8 64GB (AT&T)  \n",
       "4                                  Samsung Galaxy S8  "
      ]
     },
     "execution_count": 23,
     "metadata": {},
     "output_type": "execute_result"
    }
   ],
   "source": [
    "review_1 = pd.read_csv(r'C:\\Users\\Datta\\Downloads\\Data Set\\phone_user_review_file_1.csv', encoding='iso-8859-1')\n",
    "review_1.head()"
   ]
  },
  {
   "cell_type": "code",
   "execution_count": 24,
   "id": "7cf68a4c",
   "metadata": {},
   "outputs": [
    {
     "data": {
      "text/html": [
       "<div>\n",
       "<style scoped>\n",
       "    .dataframe tbody tr th:only-of-type {\n",
       "        vertical-align: middle;\n",
       "    }\n",
       "\n",
       "    .dataframe tbody tr th {\n",
       "        vertical-align: top;\n",
       "    }\n",
       "\n",
       "    .dataframe thead th {\n",
       "        text-align: right;\n",
       "    }\n",
       "</style>\n",
       "<table border=\"1\" class=\"dataframe\">\n",
       "  <thead>\n",
       "    <tr style=\"text-align: right;\">\n",
       "      <th></th>\n",
       "      <th>phone_url</th>\n",
       "      <th>date</th>\n",
       "      <th>lang</th>\n",
       "      <th>country</th>\n",
       "      <th>source</th>\n",
       "      <th>domain</th>\n",
       "      <th>score</th>\n",
       "      <th>score_max</th>\n",
       "      <th>extract</th>\n",
       "      <th>author</th>\n",
       "      <th>product</th>\n",
       "    </tr>\n",
       "  </thead>\n",
       "  <tbody>\n",
       "    <tr>\n",
       "      <th>0</th>\n",
       "      <td>/cellphones/leagoo-lead-7/</td>\n",
       "      <td>4/15/2015</td>\n",
       "      <td>en</td>\n",
       "      <td>us</td>\n",
       "      <td>Amazon</td>\n",
       "      <td>amazon.com</td>\n",
       "      <td>2.0</td>\n",
       "      <td>10.0</td>\n",
       "      <td>The telephone headset is of poor quality , not...</td>\n",
       "      <td>luis</td>\n",
       "      <td>Leagoo Lead7 5.0 Inch HD JDI LTPS Screen 3G Sm...</td>\n",
       "    </tr>\n",
       "    <tr>\n",
       "      <th>1</th>\n",
       "      <td>/cellphones/leagoo-lead-7/</td>\n",
       "      <td>5/23/2015</td>\n",
       "      <td>en</td>\n",
       "      <td>gb</td>\n",
       "      <td>Amazon</td>\n",
       "      <td>amazon.co.uk</td>\n",
       "      <td>10.0</td>\n",
       "      <td>10.0</td>\n",
       "      <td>This is my first smartphone so I have nothing ...</td>\n",
       "      <td>Mark Lavin</td>\n",
       "      <td>Leagoo Lead 7 Lead7 MTK6582 Quad core 1GB RAM ...</td>\n",
       "    </tr>\n",
       "    <tr>\n",
       "      <th>2</th>\n",
       "      <td>/cellphones/leagoo-lead-7/</td>\n",
       "      <td>4/27/2015</td>\n",
       "      <td>en</td>\n",
       "      <td>gb</td>\n",
       "      <td>Amazon</td>\n",
       "      <td>amazon.co.uk</td>\n",
       "      <td>8.0</td>\n",
       "      <td>10.0</td>\n",
       "      <td>Great phone. Battery life not great but seems ...</td>\n",
       "      <td>tracey</td>\n",
       "      <td>Leagoo Lead 7 Lead7 MTK6582 Quad core 1GB RAM ...</td>\n",
       "    </tr>\n",
       "    <tr>\n",
       "      <th>3</th>\n",
       "      <td>/cellphones/leagoo-lead-7/</td>\n",
       "      <td>4/22/2015</td>\n",
       "      <td>en</td>\n",
       "      <td>gb</td>\n",
       "      <td>Amazon</td>\n",
       "      <td>amazon.co.uk</td>\n",
       "      <td>10.0</td>\n",
       "      <td>10.0</td>\n",
       "      <td>Best 90 quid I've ever spent on a smart phone</td>\n",
       "      <td>Reuben Ingram</td>\n",
       "      <td>Leagoo Lead 7 Lead7 MTK6582 Quad core 1GB RAM ...</td>\n",
       "    </tr>\n",
       "    <tr>\n",
       "      <th>4</th>\n",
       "      <td>/cellphones/leagoo-lead-7/</td>\n",
       "      <td>4/18/2015</td>\n",
       "      <td>en</td>\n",
       "      <td>gb</td>\n",
       "      <td>Amazon</td>\n",
       "      <td>amazon.co.uk</td>\n",
       "      <td>10.0</td>\n",
       "      <td>10.0</td>\n",
       "      <td>I m happy with this phone.it s very good.thx team</td>\n",
       "      <td>viorel</td>\n",
       "      <td>Leagoo Lead 7 Lead7 MTK6582 Quad core 1GB RAM ...</td>\n",
       "    </tr>\n",
       "  </tbody>\n",
       "</table>\n",
       "</div>"
      ],
      "text/plain": [
       "                    phone_url       date lang country  source        domain  \\\n",
       "0  /cellphones/leagoo-lead-7/  4/15/2015   en      us  Amazon    amazon.com   \n",
       "1  /cellphones/leagoo-lead-7/  5/23/2015   en      gb  Amazon  amazon.co.uk   \n",
       "2  /cellphones/leagoo-lead-7/  4/27/2015   en      gb  Amazon  amazon.co.uk   \n",
       "3  /cellphones/leagoo-lead-7/  4/22/2015   en      gb  Amazon  amazon.co.uk   \n",
       "4  /cellphones/leagoo-lead-7/  4/18/2015   en      gb  Amazon  amazon.co.uk   \n",
       "\n",
       "   score  score_max                                            extract  \\\n",
       "0    2.0       10.0  The telephone headset is of poor quality , not...   \n",
       "1   10.0       10.0  This is my first smartphone so I have nothing ...   \n",
       "2    8.0       10.0  Great phone. Battery life not great but seems ...   \n",
       "3   10.0       10.0      Best 90 quid I've ever spent on a smart phone   \n",
       "4   10.0       10.0  I m happy with this phone.it s very good.thx team   \n",
       "\n",
       "          author                                            product  \n",
       "0           luis  Leagoo Lead7 5.0 Inch HD JDI LTPS Screen 3G Sm...  \n",
       "1     Mark Lavin  Leagoo Lead 7 Lead7 MTK6582 Quad core 1GB RAM ...  \n",
       "2         tracey  Leagoo Lead 7 Lead7 MTK6582 Quad core 1GB RAM ...  \n",
       "3  Reuben Ingram  Leagoo Lead 7 Lead7 MTK6582 Quad core 1GB RAM ...  \n",
       "4         viorel  Leagoo Lead 7 Lead7 MTK6582 Quad core 1GB RAM ...  "
      ]
     },
     "execution_count": 24,
     "metadata": {},
     "output_type": "execute_result"
    }
   ],
   "source": [
    "review_2 = pd.read_csv(r'C:\\Users\\Datta\\Downloads\\Data Set\\phone_user_review_file_2.csv', encoding='iso-8859-1')\n",
    "review_2.head()"
   ]
  },
  {
   "cell_type": "code",
   "execution_count": 25,
   "id": "f5078d8d",
   "metadata": {},
   "outputs": [
    {
     "data": {
      "text/html": [
       "<div>\n",
       "<style scoped>\n",
       "    .dataframe tbody tr th:only-of-type {\n",
       "        vertical-align: middle;\n",
       "    }\n",
       "\n",
       "    .dataframe tbody tr th {\n",
       "        vertical-align: top;\n",
       "    }\n",
       "\n",
       "    .dataframe thead th {\n",
       "        text-align: right;\n",
       "    }\n",
       "</style>\n",
       "<table border=\"1\" class=\"dataframe\">\n",
       "  <thead>\n",
       "    <tr style=\"text-align: right;\">\n",
       "      <th></th>\n",
       "      <th>phone_url</th>\n",
       "      <th>date</th>\n",
       "      <th>lang</th>\n",
       "      <th>country</th>\n",
       "      <th>source</th>\n",
       "      <th>domain</th>\n",
       "      <th>score</th>\n",
       "      <th>score_max</th>\n",
       "      <th>extract</th>\n",
       "      <th>author</th>\n",
       "      <th>product</th>\n",
       "    </tr>\n",
       "  </thead>\n",
       "  <tbody>\n",
       "    <tr>\n",
       "      <th>0</th>\n",
       "      <td>/cellphones/samsung-galaxy-s-iii-slim-sm-g3812/</td>\n",
       "      <td>11/7/2015</td>\n",
       "      <td>pt</td>\n",
       "      <td>br</td>\n",
       "      <td>Submarino</td>\n",
       "      <td>submarino.com.br</td>\n",
       "      <td>6.0</td>\n",
       "      <td>10.0</td>\n",
       "      <td>recomendo, eu comprei um, a um ano, e agora co...</td>\n",
       "      <td>herlington tesch</td>\n",
       "      <td>Samsung Smartphone Samsung Galaxy S3 Slim G381...</td>\n",
       "    </tr>\n",
       "    <tr>\n",
       "      <th>1</th>\n",
       "      <td>/cellphones/samsung-galaxy-s-iii-slim-sm-g3812/</td>\n",
       "      <td>10/2/2015</td>\n",
       "      <td>pt</td>\n",
       "      <td>br</td>\n",
       "      <td>Submarino</td>\n",
       "      <td>submarino.com.br</td>\n",
       "      <td>10.0</td>\n",
       "      <td>10.0</td>\n",
       "      <td>Comprei um pouco desconfiada do site e do celu...</td>\n",
       "      <td>Luisa Silva Marieta</td>\n",
       "      <td>Samsung Smartphone Samsung Galaxy S3 Slim G381...</td>\n",
       "    </tr>\n",
       "    <tr>\n",
       "      <th>2</th>\n",
       "      <td>/cellphones/samsung-galaxy-s-iii-slim-sm-g3812/</td>\n",
       "      <td>9/2/2015</td>\n",
       "      <td>pt</td>\n",
       "      <td>br</td>\n",
       "      <td>Submarino</td>\n",
       "      <td>submarino.com.br</td>\n",
       "      <td>10.0</td>\n",
       "      <td>10.0</td>\n",
       "      <td>Muito bom o produto, obvio que tem versÃµes me...</td>\n",
       "      <td>Cyrus</td>\n",
       "      <td>Samsung Smartphone Samsung Galaxy S3 Slim G381...</td>\n",
       "    </tr>\n",
       "    <tr>\n",
       "      <th>3</th>\n",
       "      <td>/cellphones/samsung-galaxy-s-iii-slim-sm-g3812/</td>\n",
       "      <td>9/2/2015</td>\n",
       "      <td>pt</td>\n",
       "      <td>br</td>\n",
       "      <td>Submarino</td>\n",
       "      <td>submarino.com.br</td>\n",
       "      <td>8.0</td>\n",
       "      <td>10.0</td>\n",
       "      <td>Unica ressalva fica para a camera que poderia ...</td>\n",
       "      <td>Marcela Santa Clara Brito</td>\n",
       "      <td>Samsung Smartphone Samsung Galaxy S3 Slim G381...</td>\n",
       "    </tr>\n",
       "    <tr>\n",
       "      <th>4</th>\n",
       "      <td>/cellphones/samsung-galaxy-s-iii-slim-sm-g3812/</td>\n",
       "      <td>9/1/2015</td>\n",
       "      <td>pt</td>\n",
       "      <td>br</td>\n",
       "      <td>Colombo</td>\n",
       "      <td>colombo.com.br</td>\n",
       "      <td>8.0</td>\n",
       "      <td>10.0</td>\n",
       "      <td>Rapidez e atenÃ§Ã£o na entrega. O aparelho Ã© ...</td>\n",
       "      <td>Claudine Maria Kuhn Walendorff</td>\n",
       "      <td>Smartphone Samsung Galaxy S3 Slim, Dual Chip, ...</td>\n",
       "    </tr>\n",
       "  </tbody>\n",
       "</table>\n",
       "</div>"
      ],
      "text/plain": [
       "                                         phone_url       date lang country  \\\n",
       "0  /cellphones/samsung-galaxy-s-iii-slim-sm-g3812/  11/7/2015   pt      br   \n",
       "1  /cellphones/samsung-galaxy-s-iii-slim-sm-g3812/  10/2/2015   pt      br   \n",
       "2  /cellphones/samsung-galaxy-s-iii-slim-sm-g3812/   9/2/2015   pt      br   \n",
       "3  /cellphones/samsung-galaxy-s-iii-slim-sm-g3812/   9/2/2015   pt      br   \n",
       "4  /cellphones/samsung-galaxy-s-iii-slim-sm-g3812/   9/1/2015   pt      br   \n",
       "\n",
       "      source            domain  score  score_max  \\\n",
       "0  Submarino  submarino.com.br    6.0       10.0   \n",
       "1  Submarino  submarino.com.br   10.0       10.0   \n",
       "2  Submarino  submarino.com.br   10.0       10.0   \n",
       "3  Submarino  submarino.com.br    8.0       10.0   \n",
       "4    Colombo    colombo.com.br    8.0       10.0   \n",
       "\n",
       "                                             extract  \\\n",
       "0  recomendo, eu comprei um, a um ano, e agora co...   \n",
       "1  Comprei um pouco desconfiada do site e do celu...   \n",
       "2  Muito bom o produto, obvio que tem versÃµes me...   \n",
       "3  Unica ressalva fica para a camera que poderia ...   \n",
       "4  Rapidez e atenÃ§Ã£o na entrega. O aparelho Ã© ...   \n",
       "\n",
       "                           author  \\\n",
       "0                herlington tesch   \n",
       "1             Luisa Silva Marieta   \n",
       "2                           Cyrus   \n",
       "3       Marcela Santa Clara Brito   \n",
       "4  Claudine Maria Kuhn Walendorff   \n",
       "\n",
       "                                             product  \n",
       "0  Samsung Smartphone Samsung Galaxy S3 Slim G381...  \n",
       "1  Samsung Smartphone Samsung Galaxy S3 Slim G381...  \n",
       "2  Samsung Smartphone Samsung Galaxy S3 Slim G381...  \n",
       "3  Samsung Smartphone Samsung Galaxy S3 Slim G381...  \n",
       "4  Smartphone Samsung Galaxy S3 Slim, Dual Chip, ...  "
      ]
     },
     "execution_count": 25,
     "metadata": {},
     "output_type": "execute_result"
    }
   ],
   "source": [
    "review_3 = pd.read_csv(r'C:\\Users\\Datta\\Downloads\\Data Set\\phone_user_review_file_3.csv', encoding='iso-8859-1')\n",
    "review_3.head()"
   ]
  },
  {
   "cell_type": "code",
   "execution_count": 26,
   "id": "a439ab85",
   "metadata": {},
   "outputs": [
    {
     "data": {
      "text/html": [
       "<div>\n",
       "<style scoped>\n",
       "    .dataframe tbody tr th:only-of-type {\n",
       "        vertical-align: middle;\n",
       "    }\n",
       "\n",
       "    .dataframe tbody tr th {\n",
       "        vertical-align: top;\n",
       "    }\n",
       "\n",
       "    .dataframe thead th {\n",
       "        text-align: right;\n",
       "    }\n",
       "</style>\n",
       "<table border=\"1\" class=\"dataframe\">\n",
       "  <thead>\n",
       "    <tr style=\"text-align: right;\">\n",
       "      <th></th>\n",
       "      <th>phone_url</th>\n",
       "      <th>date</th>\n",
       "      <th>lang</th>\n",
       "      <th>country</th>\n",
       "      <th>source</th>\n",
       "      <th>domain</th>\n",
       "      <th>score</th>\n",
       "      <th>score_max</th>\n",
       "      <th>extract</th>\n",
       "      <th>author</th>\n",
       "      <th>product</th>\n",
       "    </tr>\n",
       "  </thead>\n",
       "  <tbody>\n",
       "    <tr>\n",
       "      <th>0</th>\n",
       "      <td>/cellphones/samsung-s7262-duos-galaxy-ace/</td>\n",
       "      <td>3/11/2015</td>\n",
       "      <td>en</td>\n",
       "      <td>us</td>\n",
       "      <td>Amazon</td>\n",
       "      <td>amazon.com</td>\n",
       "      <td>2.0</td>\n",
       "      <td>10.0</td>\n",
       "      <td>was not conpatable with my phone as stated. I ...</td>\n",
       "      <td>Frances DeSimone</td>\n",
       "      <td>Samsung Galaxy Star Pro DUOS S7262 Unlocked Ce...</td>\n",
       "    </tr>\n",
       "    <tr>\n",
       "      <th>1</th>\n",
       "      <td>/cellphones/samsung-s7262-duos-galaxy-ace/</td>\n",
       "      <td>17/11/2015</td>\n",
       "      <td>en</td>\n",
       "      <td>in</td>\n",
       "      <td>Zopper</td>\n",
       "      <td>zopper.com</td>\n",
       "      <td>10.0</td>\n",
       "      <td>10.0</td>\n",
       "      <td>Decent Functions and Easy to Operate Pros:- Th...</td>\n",
       "      <td>Expert Review</td>\n",
       "      <td>Samsung Galaxy Star Pro S7262 Black</td>\n",
       "    </tr>\n",
       "    <tr>\n",
       "      <th>2</th>\n",
       "      <td>/cellphones/samsung-s7262-duos-galaxy-ace/</td>\n",
       "      <td>29/10/2015</td>\n",
       "      <td>en</td>\n",
       "      <td>in</td>\n",
       "      <td>Amazon</td>\n",
       "      <td>amazon.in</td>\n",
       "      <td>4.0</td>\n",
       "      <td>10.0</td>\n",
       "      <td>Not Good Phone such price. Hang too much and v...</td>\n",
       "      <td>Amazon Customer</td>\n",
       "      <td>Samsung Galaxy Star Pro GT-S7262 (Midnight Black)</td>\n",
       "    </tr>\n",
       "    <tr>\n",
       "      <th>3</th>\n",
       "      <td>/cellphones/samsung-s7262-duos-galaxy-ace/</td>\n",
       "      <td>29/10/2015</td>\n",
       "      <td>en</td>\n",
       "      <td>in</td>\n",
       "      <td>Amazon</td>\n",
       "      <td>amazon.in</td>\n",
       "      <td>6.0</td>\n",
       "      <td>10.0</td>\n",
       "      <td>not bad for features</td>\n",
       "      <td>Amazon Customer</td>\n",
       "      <td>Samsung Galaxy Star Pro GT-S7262 (Midnight Black)</td>\n",
       "    </tr>\n",
       "    <tr>\n",
       "      <th>4</th>\n",
       "      <td>/cellphones/samsung-s7262-duos-galaxy-ace/</td>\n",
       "      <td>29/10/2015</td>\n",
       "      <td>en</td>\n",
       "      <td>in</td>\n",
       "      <td>Amazon</td>\n",
       "      <td>amazon.in</td>\n",
       "      <td>10.0</td>\n",
       "      <td>10.0</td>\n",
       "      <td>Excellent product</td>\n",
       "      <td>NHK</td>\n",
       "      <td>Samsung Galaxy Star Pro GT-S7262 (Midnight Black)</td>\n",
       "    </tr>\n",
       "  </tbody>\n",
       "</table>\n",
       "</div>"
      ],
      "text/plain": [
       "                                    phone_url        date lang country  \\\n",
       "0  /cellphones/samsung-s7262-duos-galaxy-ace/   3/11/2015   en      us   \n",
       "1  /cellphones/samsung-s7262-duos-galaxy-ace/  17/11/2015   en      in   \n",
       "2  /cellphones/samsung-s7262-duos-galaxy-ace/  29/10/2015   en      in   \n",
       "3  /cellphones/samsung-s7262-duos-galaxy-ace/  29/10/2015   en      in   \n",
       "4  /cellphones/samsung-s7262-duos-galaxy-ace/  29/10/2015   en      in   \n",
       "\n",
       "   source      domain  score  score_max  \\\n",
       "0  Amazon  amazon.com    2.0       10.0   \n",
       "1  Zopper  zopper.com   10.0       10.0   \n",
       "2  Amazon   amazon.in    4.0       10.0   \n",
       "3  Amazon   amazon.in    6.0       10.0   \n",
       "4  Amazon   amazon.in   10.0       10.0   \n",
       "\n",
       "                                             extract            author  \\\n",
       "0  was not conpatable with my phone as stated. I ...  Frances DeSimone   \n",
       "1  Decent Functions and Easy to Operate Pros:- Th...     Expert Review   \n",
       "2  Not Good Phone such price. Hang too much and v...   Amazon Customer   \n",
       "3                               not bad for features   Amazon Customer   \n",
       "4                                  Excellent product               NHK   \n",
       "\n",
       "                                             product  \n",
       "0  Samsung Galaxy Star Pro DUOS S7262 Unlocked Ce...  \n",
       "1                Samsung Galaxy Star Pro S7262 Black  \n",
       "2  Samsung Galaxy Star Pro GT-S7262 (Midnight Black)  \n",
       "3  Samsung Galaxy Star Pro GT-S7262 (Midnight Black)  \n",
       "4  Samsung Galaxy Star Pro GT-S7262 (Midnight Black)  "
      ]
     },
     "execution_count": 26,
     "metadata": {},
     "output_type": "execute_result"
    }
   ],
   "source": [
    "review_4 = pd.read_csv(r'C:\\Users\\Datta\\Downloads\\Data Set\\phone_user_review_file_4.csv', encoding='iso-8859-1')\n",
    "review_4.head()"
   ]
  },
  {
   "cell_type": "code",
   "execution_count": 27,
   "id": "d9e4fa81",
   "metadata": {},
   "outputs": [
    {
     "data": {
      "text/html": [
       "<div>\n",
       "<style scoped>\n",
       "    .dataframe tbody tr th:only-of-type {\n",
       "        vertical-align: middle;\n",
       "    }\n",
       "\n",
       "    .dataframe tbody tr th {\n",
       "        vertical-align: top;\n",
       "    }\n",
       "\n",
       "    .dataframe thead th {\n",
       "        text-align: right;\n",
       "    }\n",
       "</style>\n",
       "<table border=\"1\" class=\"dataframe\">\n",
       "  <thead>\n",
       "    <tr style=\"text-align: right;\">\n",
       "      <th></th>\n",
       "      <th>phone_url</th>\n",
       "      <th>date</th>\n",
       "      <th>lang</th>\n",
       "      <th>country</th>\n",
       "      <th>source</th>\n",
       "      <th>domain</th>\n",
       "      <th>score</th>\n",
       "      <th>score_max</th>\n",
       "      <th>extract</th>\n",
       "      <th>author</th>\n",
       "      <th>product</th>\n",
       "    </tr>\n",
       "  </thead>\n",
       "  <tbody>\n",
       "    <tr>\n",
       "      <th>0</th>\n",
       "      <td>/cellphones/karbonn-k1616/</td>\n",
       "      <td>7/13/2016</td>\n",
       "      <td>en</td>\n",
       "      <td>in</td>\n",
       "      <td>91 Mobiles</td>\n",
       "      <td>91mobiles.com</td>\n",
       "      <td>2.0</td>\n",
       "      <td>10.0</td>\n",
       "      <td>I bought 1 month before. currently speaker is ...</td>\n",
       "      <td>venkatesh</td>\n",
       "      <td>Karbonn K1616</td>\n",
       "    </tr>\n",
       "    <tr>\n",
       "      <th>1</th>\n",
       "      <td>/cellphones/karbonn-k1616/</td>\n",
       "      <td>7/13/2016</td>\n",
       "      <td>en</td>\n",
       "      <td>in</td>\n",
       "      <td>91 Mobiles</td>\n",
       "      <td>91mobiles.com</td>\n",
       "      <td>6.0</td>\n",
       "      <td>10.0</td>\n",
       "      <td>I just bought one week back, I have Airtel con...</td>\n",
       "      <td>Venkat</td>\n",
       "      <td>Karbonn K1616</td>\n",
       "    </tr>\n",
       "    <tr>\n",
       "      <th>2</th>\n",
       "      <td>/cellphones/karbonn-k1616/</td>\n",
       "      <td>7/13/2016</td>\n",
       "      <td>en</td>\n",
       "      <td>in</td>\n",
       "      <td>91 Mobiles</td>\n",
       "      <td>91mobiles.com</td>\n",
       "      <td>4.0</td>\n",
       "      <td>10.0</td>\n",
       "      <td>one problem in this handset opera is not worki...</td>\n",
       "      <td>krrish</td>\n",
       "      <td>Karbonn K1616</td>\n",
       "    </tr>\n",
       "    <tr>\n",
       "      <th>3</th>\n",
       "      <td>/cellphones/karbonn-k1616/</td>\n",
       "      <td>4/25/2014</td>\n",
       "      <td>en</td>\n",
       "      <td>in</td>\n",
       "      <td>Naaptol</td>\n",
       "      <td>naaptol.com</td>\n",
       "      <td>10.0</td>\n",
       "      <td>10.0</td>\n",
       "      <td>here Karbonn comes up with an another excellen...</td>\n",
       "      <td>BRIJESH CHAUHAN</td>\n",
       "      <td>Karbonn K1616 - Black</td>\n",
       "    </tr>\n",
       "    <tr>\n",
       "      <th>4</th>\n",
       "      <td>/cellphones/karbonn-k1616/</td>\n",
       "      <td>4/23/2013</td>\n",
       "      <td>en</td>\n",
       "      <td>in</td>\n",
       "      <td>Naaptol</td>\n",
       "      <td>naaptol.com</td>\n",
       "      <td>10.0</td>\n",
       "      <td>10.0</td>\n",
       "      <td>What a phone, all so on Naaptol my god 23% off...</td>\n",
       "      <td>Suraj CHAUHAN</td>\n",
       "      <td>Karbonn K1616 - Black</td>\n",
       "    </tr>\n",
       "  </tbody>\n",
       "</table>\n",
       "</div>"
      ],
      "text/plain": [
       "                    phone_url       date lang country      source  \\\n",
       "0  /cellphones/karbonn-k1616/  7/13/2016   en      in  91 Mobiles   \n",
       "1  /cellphones/karbonn-k1616/  7/13/2016   en      in  91 Mobiles   \n",
       "2  /cellphones/karbonn-k1616/  7/13/2016   en      in  91 Mobiles   \n",
       "3  /cellphones/karbonn-k1616/  4/25/2014   en      in     Naaptol   \n",
       "4  /cellphones/karbonn-k1616/  4/23/2013   en      in     Naaptol   \n",
       "\n",
       "          domain  score  score_max  \\\n",
       "0  91mobiles.com    2.0       10.0   \n",
       "1  91mobiles.com    6.0       10.0   \n",
       "2  91mobiles.com    4.0       10.0   \n",
       "3    naaptol.com   10.0       10.0   \n",
       "4    naaptol.com   10.0       10.0   \n",
       "\n",
       "                                             extract           author  \\\n",
       "0  I bought 1 month before. currently speaker is ...        venkatesh   \n",
       "1  I just bought one week back, I have Airtel con...           Venkat   \n",
       "2  one problem in this handset opera is not worki...           krrish   \n",
       "3  here Karbonn comes up with an another excellen...  BRIJESH CHAUHAN   \n",
       "4  What a phone, all so on Naaptol my god 23% off...    Suraj CHAUHAN   \n",
       "\n",
       "                 product  \n",
       "0          Karbonn K1616  \n",
       "1          Karbonn K1616  \n",
       "2          Karbonn K1616  \n",
       "3  Karbonn K1616 - Black  \n",
       "4  Karbonn K1616 - Black  "
      ]
     },
     "execution_count": 27,
     "metadata": {},
     "output_type": "execute_result"
    }
   ],
   "source": [
    "review_5 = pd.read_csv(r'C:\\Users\\Datta\\Downloads\\Data Set\\phone_user_review_file_5.csv', encoding='iso-8859-1')\n",
    "review_5.head()"
   ]
  },
  {
   "cell_type": "code",
   "execution_count": 28,
   "id": "b90158c8",
   "metadata": {},
   "outputs": [
    {
     "data": {
      "text/html": [
       "<div>\n",
       "<style scoped>\n",
       "    .dataframe tbody tr th:only-of-type {\n",
       "        vertical-align: middle;\n",
       "    }\n",
       "\n",
       "    .dataframe tbody tr th {\n",
       "        vertical-align: top;\n",
       "    }\n",
       "\n",
       "    .dataframe thead th {\n",
       "        text-align: right;\n",
       "    }\n",
       "</style>\n",
       "<table border=\"1\" class=\"dataframe\">\n",
       "  <thead>\n",
       "    <tr style=\"text-align: right;\">\n",
       "      <th></th>\n",
       "      <th>phone_url</th>\n",
       "      <th>date</th>\n",
       "      <th>lang</th>\n",
       "      <th>country</th>\n",
       "      <th>source</th>\n",
       "      <th>domain</th>\n",
       "      <th>score</th>\n",
       "      <th>score_max</th>\n",
       "      <th>extract</th>\n",
       "      <th>author</th>\n",
       "      <th>product</th>\n",
       "    </tr>\n",
       "  </thead>\n",
       "  <tbody>\n",
       "    <tr>\n",
       "      <th>0</th>\n",
       "      <td>/cellphones/samsung-instinct-sph-m800/</td>\n",
       "      <td>9/16/2011</td>\n",
       "      <td>en</td>\n",
       "      <td>us</td>\n",
       "      <td>Phone Arena</td>\n",
       "      <td>phonearena.com</td>\n",
       "      <td>8.0</td>\n",
       "      <td>10.0</td>\n",
       "      <td>I've had the phone for awhile and it's a prett...</td>\n",
       "      <td>ajabrams95</td>\n",
       "      <td>Samsung Instinct HD</td>\n",
       "    </tr>\n",
       "    <tr>\n",
       "      <th>1</th>\n",
       "      <td>/cellphones/samsung-instinct-sph-m800/</td>\n",
       "      <td>2/13/2014</td>\n",
       "      <td>en</td>\n",
       "      <td>us</td>\n",
       "      <td>Amazon</td>\n",
       "      <td>amazon.com</td>\n",
       "      <td>6.0</td>\n",
       "      <td>10.0</td>\n",
       "      <td>to be clear it is not the sellers fault that t...</td>\n",
       "      <td>Stephanie</td>\n",
       "      <td>Samsung SPH M800 Instinct</td>\n",
       "    </tr>\n",
       "    <tr>\n",
       "      <th>2</th>\n",
       "      <td>/cellphones/samsung-instinct-sph-m800/</td>\n",
       "      <td>12/30/2011</td>\n",
       "      <td>en</td>\n",
       "      <td>us</td>\n",
       "      <td>Phone Scoop</td>\n",
       "      <td>phonescoop.com</td>\n",
       "      <td>9.0</td>\n",
       "      <td>10.0</td>\n",
       "      <td>Well i love this phone. i have had ton of phon...</td>\n",
       "      <td>snickers</td>\n",
       "      <td>Instinct M800</td>\n",
       "    </tr>\n",
       "    <tr>\n",
       "      <th>3</th>\n",
       "      <td>/cellphones/samsung-instinct-sph-m800/</td>\n",
       "      <td>10/18/2008</td>\n",
       "      <td>en</td>\n",
       "      <td>us</td>\n",
       "      <td>HandCellPhone</td>\n",
       "      <td>handcellphone.com</td>\n",
       "      <td>4.0</td>\n",
       "      <td>10.0</td>\n",
       "      <td>I have had my Instinct for several months now ...</td>\n",
       "      <td>A4C</td>\n",
       "      <td>Samsung Instinct</td>\n",
       "    </tr>\n",
       "    <tr>\n",
       "      <th>4</th>\n",
       "      <td>/cellphones/samsung-instinct-sph-m800/</td>\n",
       "      <td>9/6/2008</td>\n",
       "      <td>en</td>\n",
       "      <td>us</td>\n",
       "      <td>Reviewed.com</td>\n",
       "      <td>reviewed.com</td>\n",
       "      <td>6.0</td>\n",
       "      <td>10.0</td>\n",
       "      <td>i have had this instinct phone for about two m...</td>\n",
       "      <td>betaBgood</td>\n",
       "      <td>Samsung Instinct</td>\n",
       "    </tr>\n",
       "  </tbody>\n",
       "</table>\n",
       "</div>"
      ],
      "text/plain": [
       "                                phone_url        date lang country  \\\n",
       "0  /cellphones/samsung-instinct-sph-m800/   9/16/2011   en      us   \n",
       "1  /cellphones/samsung-instinct-sph-m800/   2/13/2014   en      us   \n",
       "2  /cellphones/samsung-instinct-sph-m800/  12/30/2011   en      us   \n",
       "3  /cellphones/samsung-instinct-sph-m800/  10/18/2008   en      us   \n",
       "4  /cellphones/samsung-instinct-sph-m800/    9/6/2008   en      us   \n",
       "\n",
       "          source             domain  score  score_max  \\\n",
       "0    Phone Arena     phonearena.com    8.0       10.0   \n",
       "1         Amazon         amazon.com    6.0       10.0   \n",
       "2    Phone Scoop     phonescoop.com    9.0       10.0   \n",
       "3  HandCellPhone  handcellphone.com    4.0       10.0   \n",
       "4   Reviewed.com       reviewed.com    6.0       10.0   \n",
       "\n",
       "                                             extract      author  \\\n",
       "0  I've had the phone for awhile and it's a prett...  ajabrams95   \n",
       "1  to be clear it is not the sellers fault that t...   Stephanie   \n",
       "2  Well i love this phone. i have had ton of phon...    snickers   \n",
       "3  I have had my Instinct for several months now ...         A4C   \n",
       "4  i have had this instinct phone for about two m...   betaBgood   \n",
       "\n",
       "                     product  \n",
       "0        Samsung Instinct HD  \n",
       "1  Samsung SPH M800 Instinct  \n",
       "2              Instinct M800  \n",
       "3           Samsung Instinct  \n",
       "4           Samsung Instinct  "
      ]
     },
     "execution_count": 28,
     "metadata": {},
     "output_type": "execute_result"
    }
   ],
   "source": [
    "review_6 = pd.read_csv(r'C:\\Users\\Datta\\Downloads\\Data Set\\phone_user_review_file_6.csv', encoding='iso-8859-1')\n",
    "review_6.head()"
   ]
  },
  {
   "cell_type": "code",
   "execution_count": 29,
   "id": "b237c89d",
   "metadata": {},
   "outputs": [],
   "source": [
    "#Merge the data into a single dataframe \n",
    "reviews = pd.concat([review_1,review_2,review_3,review_4,review_5,review_6], ignore_index=True)"
   ]
  },
  {
   "cell_type": "code",
   "execution_count": 30,
   "id": "8a919756",
   "metadata": {},
   "outputs": [
    {
     "data": {
      "text/html": [
       "<div>\n",
       "<style scoped>\n",
       "    .dataframe tbody tr th:only-of-type {\n",
       "        vertical-align: middle;\n",
       "    }\n",
       "\n",
       "    .dataframe tbody tr th {\n",
       "        vertical-align: top;\n",
       "    }\n",
       "\n",
       "    .dataframe thead th {\n",
       "        text-align: right;\n",
       "    }\n",
       "</style>\n",
       "<table border=\"1\" class=\"dataframe\">\n",
       "  <thead>\n",
       "    <tr style=\"text-align: right;\">\n",
       "      <th></th>\n",
       "      <th>phone_url</th>\n",
       "      <th>date</th>\n",
       "      <th>lang</th>\n",
       "      <th>country</th>\n",
       "      <th>source</th>\n",
       "      <th>domain</th>\n",
       "      <th>score</th>\n",
       "      <th>score_max</th>\n",
       "      <th>extract</th>\n",
       "      <th>author</th>\n",
       "      <th>product</th>\n",
       "    </tr>\n",
       "  </thead>\n",
       "  <tbody>\n",
       "    <tr>\n",
       "      <th>0</th>\n",
       "      <td>/cellphones/samsung-galaxy-s8/</td>\n",
       "      <td>5/2/2017</td>\n",
       "      <td>en</td>\n",
       "      <td>us</td>\n",
       "      <td>Verizon Wireless</td>\n",
       "      <td>verizonwireless.com</td>\n",
       "      <td>10.0</td>\n",
       "      <td>10.0</td>\n",
       "      <td>As a diehard Samsung fan who has had every Sam...</td>\n",
       "      <td>CarolAnn35</td>\n",
       "      <td>Samsung Galaxy S8</td>\n",
       "    </tr>\n",
       "    <tr>\n",
       "      <th>1</th>\n",
       "      <td>/cellphones/samsung-galaxy-s8/</td>\n",
       "      <td>4/28/2017</td>\n",
       "      <td>en</td>\n",
       "      <td>us</td>\n",
       "      <td>Phone Arena</td>\n",
       "      <td>phonearena.com</td>\n",
       "      <td>10.0</td>\n",
       "      <td>10.0</td>\n",
       "      <td>Love the phone. the phone is sleek and smooth ...</td>\n",
       "      <td>james0923</td>\n",
       "      <td>Samsung Galaxy S8</td>\n",
       "    </tr>\n",
       "    <tr>\n",
       "      <th>2</th>\n",
       "      <td>/cellphones/samsung-galaxy-s8/</td>\n",
       "      <td>5/4/2017</td>\n",
       "      <td>en</td>\n",
       "      <td>us</td>\n",
       "      <td>Amazon</td>\n",
       "      <td>amazon.com</td>\n",
       "      <td>6.0</td>\n",
       "      <td>10.0</td>\n",
       "      <td>Adequate feel. Nice heft. Processor's still sl...</td>\n",
       "      <td>R. Craig</td>\n",
       "      <td>Samsung Galaxy S8 (64GB) G950U 5.8\" 4G LTE Unl...</td>\n",
       "    </tr>\n",
       "    <tr>\n",
       "      <th>3</th>\n",
       "      <td>/cellphones/samsung-galaxy-s8/</td>\n",
       "      <td>5/2/2017</td>\n",
       "      <td>en</td>\n",
       "      <td>us</td>\n",
       "      <td>Samsung</td>\n",
       "      <td>samsung.com</td>\n",
       "      <td>9.2</td>\n",
       "      <td>10.0</td>\n",
       "      <td>Never disappointed. One of the reasons I've be...</td>\n",
       "      <td>Buster2020</td>\n",
       "      <td>Samsung Galaxy S8 64GB (AT&amp;T)</td>\n",
       "    </tr>\n",
       "    <tr>\n",
       "      <th>4</th>\n",
       "      <td>/cellphones/samsung-galaxy-s8/</td>\n",
       "      <td>5/11/2017</td>\n",
       "      <td>en</td>\n",
       "      <td>us</td>\n",
       "      <td>Verizon Wireless</td>\n",
       "      <td>verizonwireless.com</td>\n",
       "      <td>4.0</td>\n",
       "      <td>10.0</td>\n",
       "      <td>I've now found that i'm in a group of people t...</td>\n",
       "      <td>S Ate Mine</td>\n",
       "      <td>Samsung Galaxy S8</td>\n",
       "    </tr>\n",
       "  </tbody>\n",
       "</table>\n",
       "</div>"
      ],
      "text/plain": [
       "                        phone_url       date lang country            source  \\\n",
       "0  /cellphones/samsung-galaxy-s8/   5/2/2017   en      us  Verizon Wireless   \n",
       "1  /cellphones/samsung-galaxy-s8/  4/28/2017   en      us       Phone Arena   \n",
       "2  /cellphones/samsung-galaxy-s8/   5/4/2017   en      us            Amazon   \n",
       "3  /cellphones/samsung-galaxy-s8/   5/2/2017   en      us           Samsung   \n",
       "4  /cellphones/samsung-galaxy-s8/  5/11/2017   en      us  Verizon Wireless   \n",
       "\n",
       "                domain  score  score_max  \\\n",
       "0  verizonwireless.com   10.0       10.0   \n",
       "1       phonearena.com   10.0       10.0   \n",
       "2           amazon.com    6.0       10.0   \n",
       "3          samsung.com    9.2       10.0   \n",
       "4  verizonwireless.com    4.0       10.0   \n",
       "\n",
       "                                             extract       author  \\\n",
       "0  As a diehard Samsung fan who has had every Sam...   CarolAnn35   \n",
       "1  Love the phone. the phone is sleek and smooth ...    james0923   \n",
       "2  Adequate feel. Nice heft. Processor's still sl...     R. Craig   \n",
       "3  Never disappointed. One of the reasons I've be...  Buster2020    \n",
       "4  I've now found that i'm in a group of people t...   S Ate Mine   \n",
       "\n",
       "                                             product  \n",
       "0                                  Samsung Galaxy S8  \n",
       "1                                  Samsung Galaxy S8  \n",
       "2  Samsung Galaxy S8 (64GB) G950U 5.8\" 4G LTE Unl...  \n",
       "3                      Samsung Galaxy S8 64GB (AT&T)  \n",
       "4                                  Samsung Galaxy S8  "
      ]
     },
     "execution_count": 30,
     "metadata": {},
     "output_type": "execute_result"
    }
   ],
   "source": [
    "reviews.head()"
   ]
  },
  {
   "cell_type": "markdown",
   "id": "113d230a",
   "metadata": {},
   "source": [
    "#### Q1 B - Explore, understand the Data and share at least 2 observations."
   ]
  },
  {
   "cell_type": "code",
   "execution_count": 31,
   "id": "b0953312",
   "metadata": {
    "scrolled": true
   },
   "outputs": [
    {
     "name": "stdout",
     "output_type": "stream",
     "text": [
      "<class 'pandas.core.frame.DataFrame'>\n",
      "RangeIndex: 1415133 entries, 0 to 1415132\n",
      "Data columns (total 11 columns):\n",
      " #   Column     Non-Null Count    Dtype  \n",
      "---  ------     --------------    -----  \n",
      " 0   phone_url  1415133 non-null  object \n",
      " 1   date       1415133 non-null  object \n",
      " 2   lang       1415133 non-null  object \n",
      " 3   country    1415133 non-null  object \n",
      " 4   source     1415133 non-null  object \n",
      " 5   domain     1415133 non-null  object \n",
      " 6   score      1351644 non-null  float64\n",
      " 7   score_max  1351644 non-null  float64\n",
      " 8   extract    1395772 non-null  object \n",
      " 9   author     1351931 non-null  object \n",
      " 10  product    1415132 non-null  object \n",
      "dtypes: float64(2), object(9)\n",
      "memory usage: 118.8+ MB\n"
     ]
    }
   ],
   "source": [
    "reviews.info()"
   ]
  },
  {
   "cell_type": "code",
   "execution_count": 32,
   "id": "a8eb07cc",
   "metadata": {},
   "outputs": [
    {
     "data": {
      "text/plain": [
       "phone_url        0\n",
       "date             0\n",
       "lang             0\n",
       "country          0\n",
       "source           0\n",
       "domain           0\n",
       "score        63489\n",
       "score_max    63489\n",
       "extract      19361\n",
       "author       63202\n",
       "product          1\n",
       "dtype: int64"
      ]
     },
     "execution_count": 32,
     "metadata": {},
     "output_type": "execute_result"
    }
   ],
   "source": [
    "reviews.isna().sum()"
   ]
  },
  {
   "cell_type": "code",
   "execution_count": 33,
   "id": "32c4d22e",
   "metadata": {},
   "outputs": [
    {
     "name": "stdout",
     "output_type": "stream",
     "text": [
      "reviews: Rows: 1415133 and Columns: 11\n",
      "\n"
     ]
    }
   ],
   "source": [
    "print(f'reviews: Rows: {reviews.shape[0]} and Columns: {reviews.shape[1]}\\n')"
   ]
  },
  {
   "cell_type": "markdown",
   "id": "172aafe0",
   "metadata": {},
   "source": [
    "**Observations :**\n",
    "- score and score_max are of float type and all other features are of object type.\n",
    "- score, score_max, extract and author columns have Null values.\n",
    "- date column should be datetype."
   ]
  },
  {
   "cell_type": "markdown",
   "id": "028ef319",
   "metadata": {},
   "source": [
    "#### Q1 C - Round off scores to the nearest integers."
   ]
  },
  {
   "cell_type": "code",
   "execution_count": 34,
   "id": "94ec6731",
   "metadata": {},
   "outputs": [
    {
     "name": "stdout",
     "output_type": "stream",
     "text": [
      "Number of unique values in each feature: \n",
      " phone_url       5556\n",
      "date            7728\n",
      "lang              22\n",
      "country           42\n",
      "source           331\n",
      "domain           384\n",
      "score             86\n",
      "score_max          1\n",
      "extract      1321353\n",
      "author        801103\n",
      "product        61313\n",
      "dtype: int64\n"
     ]
    }
   ],
   "source": [
    "print('Number of unique values in each feature: \\n',reviews.nunique())"
   ]
  },
  {
   "cell_type": "code",
   "execution_count": 36,
   "id": "75afcdfc",
   "metadata": {},
   "outputs": [
    {
     "data": {
      "text/plain": [
       "Cliente Amazon        19276\n",
       "e-bit                  8663\n",
       "Client d'Amazon        7613\n",
       "Amazon Kunde           4735\n",
       "Amazon Customer        2713\n",
       "einer Kundin           2610\n",
       "einem Kunden           1898\n",
       "unknown                1718\n",
       "ÐÐ»ÐµÐºÑÐ°Ð½Ð´Ñ     1070\n",
       "Ð¡ÐµÑÐ³ÐµÐ¹            904\n",
       "Name: author, dtype: int64"
      ]
     },
     "execution_count": 36,
     "metadata": {},
     "output_type": "execute_result"
    }
   ],
   "source": [
    "reviews[reviews['lang']!='en']['author'].value_counts(ascending=False)[:10]"
   ]
  },
  {
   "cell_type": "code",
   "execution_count": 37,
   "id": "a70e3b19",
   "metadata": {},
   "outputs": [
    {
     "data": {
      "text/plain": [
       "Huawei P8lite zwart / 16 GB        2707\n",
       "Samsung Galaxy Express I8730       2686\n",
       "Samsung Galaxy S6 zwart / 32 GB    2345\n",
       "Nokia 5800 XpressMusic             1996\n",
       "Nokia N95                          1848\n",
       "Name: product, dtype: int64"
      ]
     },
     "execution_count": 37,
     "metadata": {},
     "output_type": "execute_result"
    }
   ],
   "source": [
    "reviews[reviews['lang']!='en']['product'].value_counts(ascending=False)[:5]"
   ]
  },
  {
   "cell_type": "code",
   "execution_count": 38,
   "id": "f73a83de",
   "metadata": {},
   "outputs": [
    {
     "data": {
      "text/plain": [
       "/cellphones/samsung-galaxy-s-iii/         17093\n",
       "/cellphones/apple-iphone-5s/              16379\n",
       "/cellphones/samsung-galaxy-s6/            16145\n",
       "/cellphones/samsung-galaxy-s5/            16082\n",
       "/cellphones/samsung-galaxy-s7-edge/       15917\n",
       "/cellphones/motorola-moto-g/              14476\n",
       "/cellphones/samsung-galaxy-s7-789999/     13488\n",
       "/cellphones/samsung-i9500-galaxy-s-iv/    13161\n",
       "/cellphones/huawei-p8-lite/               12629\n",
       "/cellphones/lenovo-vibe-k4-note/           9662\n",
       "Name: phone_url, dtype: int64"
      ]
     },
     "execution_count": 38,
     "metadata": {},
     "output_type": "execute_result"
    }
   ],
   "source": [
    "reviews['phone_url'].value_counts(ascending=False).head(10)"
   ]
  },
  {
   "cell_type": "code",
   "execution_count": 39,
   "id": "86991a8b",
   "metadata": {},
   "outputs": [
    {
     "data": {
      "text/plain": [
       "product                                                                                                                             \n",
       "Samsung Galaxy S6 zwart / 32 GB                                                                                                         2345\n",
       "Samsung Galaxy S6 32GB (AT&T)                                                                                                            979\n",
       "Samsung Galaxy S6 32GB (Sprint)                                                                                                          935\n",
       "Samsung Galaxy S6 32GB (Verizon)                                                                                                         919\n",
       "Samsung Galaxy S6 wit / 32 GB                                                                                                            801\n",
       "Samsung Galaxy S6 32GB (T-Mobile)                                                                                                        736\n",
       "Samsung Galaxy S6                                                                                                                        595\n",
       "Samsung Galaxy S6 64 GB UK SIM-Free Smartphone - Gold                                                                                    468\n",
       "Samsung Galaxy S6 64GB (Verizon)                                                                                                         464\n",
       "Samsung Galaxy S6 Smartphone (5,1 Zoll (12,9 cm) Touch-Display, 128 GB Speicher, Android 5.0) gold (Nur fÃ¼r EuropÃ¤ische SIM-Karte)     397\n",
       "dtype: int64"
      ]
     },
     "execution_count": 39,
     "metadata": {},
     "output_type": "execute_result"
    }
   ],
   "source": [
    "reviews[reviews[\"phone_url\"]=='/cellphones/samsung-galaxy-s6/'][['product']].value_counts().head(10)"
   ]
  },
  {
   "cell_type": "code",
   "execution_count": 40,
   "id": "948e0e0f",
   "metadata": {},
   "outputs": [
    {
     "data": {
      "text/plain": [
       "array(['samsung galaxy s8', 'samsung galaxy s6 edgeplus',\n",
       "       'samsung galaxy s8 plus', ..., 'siemens c10', 'maxon mx 3204',\n",
       "       'alcatel ot club_1187'], dtype=object)"
      ]
     },
     "execution_count": 40,
     "metadata": {},
     "output_type": "execute_result"
    }
   ],
   "source": [
    "reviews['phone'] = reviews['phone_url'].str.split(\"/\").apply(lambda col: col[2]).replace('-', ' ', regex=True)\n",
    "reviews['product'] = reviews['phone']\n",
    "reviews['phone'].unique()"
   ]
  },
  {
   "cell_type": "code",
   "execution_count": 41,
   "id": "98ff87ff",
   "metadata": {},
   "outputs": [
    {
     "data": {
      "text/plain": [
       "(1415133,)"
      ]
     },
     "execution_count": 41,
     "metadata": {},
     "output_type": "execute_result"
    }
   ],
   "source": [
    "reviews['product'].shape"
   ]
  },
  {
   "cell_type": "code",
   "execution_count": 42,
   "id": "29a72f4c",
   "metadata": {},
   "outputs": [
    {
     "name": "stdout",
     "output_type": "stream",
     "text": [
      "Distribution of number of ratings per item (Clipped at 10): \n",
      " samsung galaxy s iii         17093\n",
      "apple iphone 5s              16379\n",
      "samsung galaxy s6            16145\n",
      "samsung galaxy s5            16082\n",
      "samsung galaxy s7 edge       15917\n",
      "motorola moto g              14476\n",
      "samsung galaxy s7 789999     13488\n",
      "samsung i9500 galaxy s iv    13161\n",
      "huawei p8 lite               12629\n",
      "lenovo vibe k4 note           9662\n",
      "Name: product, dtype: int64\n"
     ]
    }
   ],
   "source": [
    "product = reviews['product'].value_counts()[:10]\n",
    "print('Distribution of number of ratings per item (Clipped at 10): \\n',product)"
   ]
  },
  {
   "cell_type": "code",
   "execution_count": 43,
   "id": "7b08c43b",
   "metadata": {},
   "outputs": [
    {
     "name": "stdout",
     "output_type": "stream",
     "text": [
      "Distribution of number of ratings per user(Clipped at 10): \n",
      " Amazon Customer    76978\n",
      "NaN                63202\n",
      "Cliente Amazon     19304\n",
      "e-bit               8663\n",
      "Client d'Amazon     7716\n",
      "Amazon Kunde        4750\n",
      "Anonymous           2750\n",
      "einer Kundin        2610\n",
      "einem Kunden        1898\n",
      "unknown             1738\n",
      "Name: author, dtype: int64\n"
     ]
    }
   ],
   "source": [
    "users = reviews['author'].value_counts(dropna=False)[:10]\n",
    "print('Distribution of number of ratings per user(Clipped at 10): \\n',users)"
   ]
  },
  {
   "cell_type": "code",
   "execution_count": 44,
   "id": "7b53388f",
   "metadata": {},
   "outputs": [
    {
     "name": "stdout",
     "output_type": "stream",
     "text": [
      "Uniqe values in the \"score\" feature: \n",
      " [10.   6.   9.2  4.   8.   2.   9.6  7.2  6.8  9.   8.3  8.8  8.4  5.3\n",
      "  7.   6.4  7.6  nan  5.2  3.2  4.4  2.8  5.6  3.6  4.8  1.   5.   3.\n",
      "  2.4  9.3  8.5  9.5  6.5  5.5  9.8  8.2  8.6  7.8  9.4  6.6  6.2  7.5\n",
      "  9.9  2.7  8.7  6.7  3.3  7.7  7.3  9.7  6.3  7.4  5.7  4.7  4.3  5.8\n",
      "  4.2  4.5  2.2  5.4  7.9  3.5  4.6  3.7  2.5  3.4  7.1  8.1  1.2  1.4\n",
      "  3.8  9.1  2.6  1.6  1.7  1.5  1.8  2.3  6.1  5.9  1.3  0.2  0.4  8.9\n",
      "  6.9  0.6  4.9]\n"
     ]
    }
   ],
   "source": [
    "print('Uniqe values in the \"score\" feature: \\n',reviews.score.unique())"
   ]
  },
  {
   "cell_type": "code",
   "execution_count": 47,
   "id": "7fe7085c",
   "metadata": {},
   "outputs": [],
   "source": [
    "relevant_features=['author','product','score']"
   ]
  },
  {
   "cell_type": "code",
   "execution_count": 45,
   "id": "17ece091",
   "metadata": {},
   "outputs": [],
   "source": [
    "reviews_1 = reviews.copy()"
   ]
  },
  {
   "cell_type": "code",
   "execution_count": 48,
   "id": "64c3806d",
   "metadata": {},
   "outputs": [
    {
     "name": "stdout",
     "output_type": "stream",
     "text": [
      "reviews_1 Shape after removing irrelevant features: Rows: 1415133 and Columns: 3\n",
      "\n"
     ]
    }
   ],
   "source": [
    "reviews_1 = reviews_1.loc[:,relevant_features]\n",
    "print(f'reviews_1 Shape after removing irrelevant features: Rows: {reviews_1.shape[0]} and Columns: {reviews_1.shape[1]}\\n')"
   ]
  },
  {
   "cell_type": "code",
   "execution_count": 49,
   "id": "db3be2b0",
   "metadata": {},
   "outputs": [
    {
     "name": "stdout",
     "output_type": "stream",
     "text": [
      "Round-off Unique values in the \"score\" feature(after rounding-off): \n",
      " [10, 6, 9, 4, 8, 2, 7, 5, <NA>, 3, 1, 0]\n"
     ]
    }
   ],
   "source": [
    "reviews_1['score'] = reviews_1['score'].round(0).astype('Int64')\n",
    "print('Round-off Unique values in the \"score\" feature(after rounding-off): \\n',list(reviews_1.score.unique()))"
   ]
  },
  {
   "cell_type": "markdown",
   "id": "462ca2b4",
   "metadata": {},
   "source": [
    "#### Q1 D - Check for missing values. Impute the missing values, if any."
   ]
  },
  {
   "cell_type": "code",
   "execution_count": 53,
   "id": "55976376",
   "metadata": {},
   "outputs": [],
   "source": [
    "reviews_1['score'] = reviews_1['score'].fillna(reviews_1['score'].median())"
   ]
  },
  {
   "cell_type": "code",
   "execution_count": 54,
   "id": "7bf6d461",
   "metadata": {},
   "outputs": [
    {
     "name": "stdout",
     "output_type": "stream",
     "text": [
      "reviews_1 : Rows: 1349181 and Columns: 3\n",
      "\n"
     ]
    }
   ],
   "source": [
    "reviews_1.dropna(inplace=True)\n",
    "reviews_1 = reviews_1[reviews_1[\"author\"] != 'Anonymous']\n",
    "print(f'reviews_1 : Rows: {reviews_1.shape[0]} and Columns: {reviews_1.shape[1]}\\n')"
   ]
  },
  {
   "cell_type": "code",
   "execution_count": 55,
   "id": "a28a8a4e",
   "metadata": {},
   "outputs": [
    {
     "name": "stdout",
     "output_type": "stream",
     "text": [
      "After removing duplicates): Rows: 1154651 and Columns: 3\n",
      "\n"
     ]
    }
   ],
   "source": [
    "reviews_1 = reviews_1.drop_duplicates()\n",
    "print(f'After removing duplicates): Rows: {reviews_1.shape[0]} and Columns: {reviews_1.shape[1]}\\n')"
   ]
  },
  {
   "cell_type": "code",
   "execution_count": 56,
   "id": "a6325756",
   "metadata": {},
   "outputs": [
    {
     "data": {
      "text/html": [
       "<div>\n",
       "<style scoped>\n",
       "    .dataframe tbody tr th:only-of-type {\n",
       "        vertical-align: middle;\n",
       "    }\n",
       "\n",
       "    .dataframe tbody tr th {\n",
       "        vertical-align: top;\n",
       "    }\n",
       "\n",
       "    .dataframe thead th {\n",
       "        text-align: right;\n",
       "    }\n",
       "</style>\n",
       "<table border=\"1\" class=\"dataframe\">\n",
       "  <thead>\n",
       "    <tr style=\"text-align: right;\">\n",
       "      <th></th>\n",
       "      <th>author</th>\n",
       "      <th>product</th>\n",
       "      <th>score</th>\n",
       "    </tr>\n",
       "  </thead>\n",
       "  <tbody>\n",
       "    <tr>\n",
       "      <th>0</th>\n",
       "      <td>CarolAnn35</td>\n",
       "      <td>samsung galaxy s8</td>\n",
       "      <td>10</td>\n",
       "    </tr>\n",
       "    <tr>\n",
       "      <th>1</th>\n",
       "      <td>james0923</td>\n",
       "      <td>samsung galaxy s8</td>\n",
       "      <td>10</td>\n",
       "    </tr>\n",
       "    <tr>\n",
       "      <th>2</th>\n",
       "      <td>R. Craig</td>\n",
       "      <td>samsung galaxy s8</td>\n",
       "      <td>6</td>\n",
       "    </tr>\n",
       "    <tr>\n",
       "      <th>3</th>\n",
       "      <td>Buster2020</td>\n",
       "      <td>samsung galaxy s8</td>\n",
       "      <td>9</td>\n",
       "    </tr>\n",
       "    <tr>\n",
       "      <th>4</th>\n",
       "      <td>S Ate Mine</td>\n",
       "      <td>samsung galaxy s8</td>\n",
       "      <td>4</td>\n",
       "    </tr>\n",
       "  </tbody>\n",
       "</table>\n",
       "</div>"
      ],
      "text/plain": [
       "        author            product  score\n",
       "0   CarolAnn35  samsung galaxy s8     10\n",
       "1    james0923  samsung galaxy s8     10\n",
       "2     R. Craig  samsung galaxy s8      6\n",
       "3  Buster2020   samsung galaxy s8      9\n",
       "4   S Ate Mine  samsung galaxy s8      4"
      ]
     },
     "execution_count": 56,
     "metadata": {},
     "output_type": "execute_result"
    }
   ],
   "source": [
    "reviews_1.head()"
   ]
  },
  {
   "cell_type": "code",
   "execution_count": 57,
   "id": "c8d55374",
   "metadata": {},
   "outputs": [
    {
     "data": {
      "text/plain": [
       "samsung galaxy s5         13205\n",
       "samsung galaxy s6         12775\n",
       "motorola moto g           11991\n",
       "samsung galaxy s7 edge    11957\n",
       "apple iphone 5s           11853\n",
       "Name: product, dtype: int64"
      ]
     },
     "execution_count": 57,
     "metadata": {},
     "output_type": "execute_result"
    }
   ],
   "source": [
    "reviews_1['product'].value_counts().head()"
   ]
  },
  {
   "cell_type": "markdown",
   "id": "e5e1e566",
   "metadata": {},
   "source": [
    "#### Q1 E - Check for duplicate values and remove them, if any."
   ]
  },
  {
   "cell_type": "code",
   "execution_count": 58,
   "id": "a8f7f835",
   "metadata": {},
   "outputs": [
    {
     "data": {
      "text/html": [
       "<div>\n",
       "<style scoped>\n",
       "    .dataframe tbody tr th:only-of-type {\n",
       "        vertical-align: middle;\n",
       "    }\n",
       "\n",
       "    .dataframe tbody tr th {\n",
       "        vertical-align: top;\n",
       "    }\n",
       "\n",
       "    .dataframe thead th {\n",
       "        text-align: right;\n",
       "    }\n",
       "</style>\n",
       "<table border=\"1\" class=\"dataframe\">\n",
       "  <thead>\n",
       "    <tr style=\"text-align: right;\">\n",
       "      <th></th>\n",
       "      <th>author</th>\n",
       "      <th>product</th>\n",
       "      <th>score</th>\n",
       "    </tr>\n",
       "  </thead>\n",
       "  <tbody>\n",
       "    <tr>\n",
       "      <th>0</th>\n",
       "      <td>CarolAnn35</td>\n",
       "      <td>samsung galaxy s8</td>\n",
       "      <td>10</td>\n",
       "    </tr>\n",
       "    <tr>\n",
       "      <th>1</th>\n",
       "      <td>james0923</td>\n",
       "      <td>samsung galaxy s8</td>\n",
       "      <td>10</td>\n",
       "    </tr>\n",
       "    <tr>\n",
       "      <th>2</th>\n",
       "      <td>R. Craig</td>\n",
       "      <td>samsung galaxy s8</td>\n",
       "      <td>6</td>\n",
       "    </tr>\n",
       "    <tr>\n",
       "      <th>3</th>\n",
       "      <td>Buster2020</td>\n",
       "      <td>samsung galaxy s8</td>\n",
       "      <td>9</td>\n",
       "    </tr>\n",
       "    <tr>\n",
       "      <th>4</th>\n",
       "      <td>S Ate Mine</td>\n",
       "      <td>samsung galaxy s8</td>\n",
       "      <td>4</td>\n",
       "    </tr>\n",
       "  </tbody>\n",
       "</table>\n",
       "</div>"
      ],
      "text/plain": [
       "        author            product  score\n",
       "0   CarolAnn35  samsung galaxy s8     10\n",
       "1    james0923  samsung galaxy s8     10\n",
       "2     R. Craig  samsung galaxy s8      6\n",
       "3  Buster2020   samsung galaxy s8      9\n",
       "4   S Ate Mine  samsung galaxy s8      4"
      ]
     },
     "execution_count": 58,
     "metadata": {},
     "output_type": "execute_result"
    }
   ],
   "source": [
    "reviews_1 = reviews_1.drop_duplicates()\n",
    "reviews_1.head()"
   ]
  },
  {
   "cell_type": "code",
   "execution_count": null,
   "id": "844433fa",
   "metadata": {},
   "outputs": [],
   "source": []
  },
  {
   "cell_type": "markdown",
   "id": "3beb7478",
   "metadata": {},
   "source": [
    "#### Q1 F - Keep only 1 Million data samples. Use random state=612."
   ]
  },
  {
   "cell_type": "code",
   "execution_count": 72,
   "id": "eb6cc0b6",
   "metadata": {},
   "outputs": [
    {
     "data": {
      "text/html": [
       "<div>\n",
       "<style scoped>\n",
       "    .dataframe tbody tr th:only-of-type {\n",
       "        vertical-align: middle;\n",
       "    }\n",
       "\n",
       "    .dataframe tbody tr th {\n",
       "        vertical-align: top;\n",
       "    }\n",
       "\n",
       "    .dataframe thead th {\n",
       "        text-align: right;\n",
       "    }\n",
       "</style>\n",
       "<table border=\"1\" class=\"dataframe\">\n",
       "  <thead>\n",
       "    <tr style=\"text-align: right;\">\n",
       "      <th></th>\n",
       "      <th>author</th>\n",
       "      <th>product</th>\n",
       "      <th>score</th>\n",
       "    </tr>\n",
       "  </thead>\n",
       "  <tbody>\n",
       "    <tr>\n",
       "      <th>246060</th>\n",
       "      <td>Client d'Amazon</td>\n",
       "      <td>oukitel k10000</td>\n",
       "      <td>10</td>\n",
       "    </tr>\n",
       "    <tr>\n",
       "      <th>92208</th>\n",
       "      <td>Ekat1997</td>\n",
       "      <td>samsung galaxy a5 2017</td>\n",
       "      <td>10</td>\n",
       "    </tr>\n",
       "    <tr>\n",
       "      <th>1114590</th>\n",
       "      <td>Michael Bartels</td>\n",
       "      <td>doro phoneeasy 338</td>\n",
       "      <td>6</td>\n",
       "    </tr>\n",
       "    <tr>\n",
       "      <th>47342</th>\n",
       "      <td>Tommaso</td>\n",
       "      <td>huawei honor 7</td>\n",
       "      <td>10</td>\n",
       "    </tr>\n",
       "    <tr>\n",
       "      <th>466206</th>\n",
       "      <td>Chiara Mancinelli</td>\n",
       "      <td>samsung galaxy s5 mini</td>\n",
       "      <td>10</td>\n",
       "    </tr>\n",
       "  </tbody>\n",
       "</table>\n",
       "</div>"
      ],
      "text/plain": [
       "                    author                 product  score\n",
       "246060     Client d'Amazon          oukitel k10000     10\n",
       "92208             Ekat1997  samsung galaxy a5 2017     10\n",
       "1114590    Michael Bartels      doro phoneeasy 338      6\n",
       "47342              Tommaso          huawei honor 7     10\n",
       "466206   Chiara Mancinelli  samsung galaxy s5 mini     10"
      ]
     },
     "execution_count": 72,
     "metadata": {},
     "output_type": "execute_result"
    }
   ],
   "source": [
    "reviews_1M = reviews_1.sample(n=1000000)\n",
    "reviews_1M.head()"
   ]
  },
  {
   "cell_type": "code",
   "execution_count": 73,
   "id": "ed3623e0",
   "metadata": {},
   "outputs": [
    {
     "data": {
      "text/plain": [
       "(1000000, 3)"
      ]
     },
     "execution_count": 73,
     "metadata": {},
     "output_type": "execute_result"
    }
   ],
   "source": [
    "reviews_1M.shape"
   ]
  },
  {
   "cell_type": "code",
   "execution_count": 74,
   "id": "823e53ec",
   "metadata": {},
   "outputs": [
    {
     "data": {
      "text/plain": [
       "samsung galaxy s5         11419\n",
       "samsung galaxy s6         11146\n",
       "samsung galaxy s7 edge    10332\n",
       "motorola moto g           10330\n",
       "apple iphone 5s           10218\n",
       "Name: product, dtype: int64"
      ]
     },
     "execution_count": 74,
     "metadata": {},
     "output_type": "execute_result"
    }
   ],
   "source": [
    "reviews_1M['product'].value_counts().head()"
   ]
  },
  {
   "cell_type": "markdown",
   "id": "f1a51203",
   "metadata": {},
   "source": [
    "#### Q1 G - Drop irrelevant features. Keep features like Author, Product, and Score."
   ]
  },
  {
   "cell_type": "code",
   "execution_count": 76,
   "id": "f8d2a5a1",
   "metadata": {},
   "outputs": [],
   "source": [
    "relevant_features=['author','product','score']"
   ]
  },
  {
   "cell_type": "code",
   "execution_count": 79,
   "id": "f27bbad2",
   "metadata": {},
   "outputs": [],
   "source": [
    "author = reviews_1M['product'].value_counts()[:10]\n",
    "product = reviews_1M['product'].value_counts()[:10]\n",
    "score = reviews_1M['score'].value_counts()[:10]"
   ]
  },
  {
   "cell_type": "code",
   "execution_count": 78,
   "id": "fe6a6d6b",
   "metadata": {},
   "outputs": [
    {
     "data": {
      "text/plain": [
       "samsung galaxy s5            11419\n",
       "samsung galaxy s6            11146\n",
       "samsung galaxy s7 edge       10332\n",
       "motorola moto g              10330\n",
       "apple iphone 5s              10218\n",
       "samsung i9500 galaxy s iv     9714\n",
       "samsung galaxy s7 789999      9301\n",
       "huawei p8 lite                6579\n",
       "apple iphone 4s               6447\n",
       "samsung galaxy s iii          6287\n",
       "Name: product, dtype: int64"
      ]
     },
     "execution_count": 78,
     "metadata": {},
     "output_type": "execute_result"
    }
   ],
   "source": [
    "author"
   ]
  },
  {
   "cell_type": "code",
   "execution_count": 80,
   "id": "d593ef71",
   "metadata": {},
   "outputs": [
    {
     "name": "stdout",
     "output_type": "stream",
     "text": [
      "Distribution of number of ratings per item (Clipped at 10): \n",
      " samsung galaxy s5            11419\n",
      "samsung galaxy s6            11146\n",
      "samsung galaxy s7 edge       10332\n",
      "motorola moto g              10330\n",
      "apple iphone 5s              10218\n",
      "samsung i9500 galaxy s iv     9714\n",
      "samsung galaxy s7 789999      9301\n",
      "huawei p8 lite                6579\n",
      "apple iphone 4s               6447\n",
      "samsung galaxy s iii          6287\n",
      "Name: product, dtype: int64\n"
     ]
    },
    {
     "data": {
      "image/png": "[encoded data removed]",
      "text/plain": [
       "<Figure size 432x288 with 1 Axes>"
      ]
     },
     "metadata": {
      "needs_background": "light"
     },
     "output_type": "display_data"
    }
   ],
   "source": [
    "print('Distribution of number of ratings per item (Clipped at 10): \\n',product)\n",
    "sns.barplot(y=product.index,x=product)\n",
    "plt.tight_layout()\n",
    "plt.show()"
   ]
  },
  {
   "cell_type": "code",
   "execution_count": 81,
   "id": "4d810dd8",
   "metadata": {},
   "outputs": [
    {
     "name": "stdout",
     "output_type": "stream",
     "text": [
      "Distribution of number of ratings per user(Clipped at 10): \n",
      " Amazon Customer    76978\n",
      "NaN                63202\n",
      "Cliente Amazon     19304\n",
      "e-bit               8663\n",
      "Client d'Amazon     7716\n",
      "Amazon Kunde        4750\n",
      "Anonymous           2750\n",
      "einer Kundin        2610\n",
      "einem Kunden        1898\n",
      "unknown             1738\n",
      "Name: author, dtype: int64\n"
     ]
    },
    {
     "data": {
      "image/png": "[encoded data removed]",
      "text/plain": [
       "<Figure size 432x288 with 1 Axes>"
      ]
     },
     "metadata": {
      "needs_background": "light"
     },
     "output_type": "display_data"
    }
   ],
   "source": [
    "print('Distribution of number of ratings per user(Clipped at 10): \\n',users)\n",
    "users.index = users.index.map(str)\n",
    "sns.barplot(y=users.index,x=users)\n",
    "plt.tight_layout()\n",
    "plt.show()"
   ]
  },
  {
   "cell_type": "code",
   "execution_count": 83,
   "id": "cda30aa3",
   "metadata": {},
   "outputs": [
    {
     "name": "stdout",
     "output_type": "stream",
     "text": [
      "Distribution of number of ratings per user(Clipped at 10): \n",
      " Amazon Customer    4868\n",
      "Cliente Amazon     1685\n",
      "Amazon Kunde       1165\n",
      "Client d'Amazon     984\n",
      "David               553\n",
      "Alex                540\n",
      "Daniel              492\n",
      "Chris               468\n",
      "Marco               449\n",
      "Andrea              440\n",
      "Name: author, dtype: int64\n"
     ]
    },
    {
     "data": {
      "image/png": "[encoded data removed]",
      "text/plain": [
       "<Figure size 432x288 with 1 Axes>"
      ]
     },
     "metadata": {
      "needs_background": "light"
     },
     "output_type": "display_data"
    }
   ],
   "source": [
    "users = reviews_1M['author'].value_counts(dropna=False)[:10]\n",
    "print('Distribution of number of ratings per user(Clipped at 10): \\n',users)\n",
    "users.index = users.index.map(str)\n",
    "sns.barplot(y=users.index,x=users)\n",
    "plt.tight_layout()\n",
    "plt.show()"
   ]
  },
  {
   "cell_type": "code",
   "execution_count": 85,
   "id": "2351fb72",
   "metadata": {},
   "outputs": [],
   "source": [
    "reviews_1M_new = reviews_1M.copy()"
   ]
  },
  {
   "cell_type": "code",
   "execution_count": 86,
   "id": "d350e069",
   "metadata": {},
   "outputs": [
    {
     "name": "stdout",
     "output_type": "stream",
     "text": [
      "After removing irrelevant features: Rows: 1000000 and Columns: 3\n",
      "\n"
     ]
    }
   ],
   "source": [
    "reviews_1M_new = reviews_1M_new.loc[:,relevant_features]\n",
    "print(f'After removing irrelevant features: Rows: {reviews_1M_new.shape[0]} and Columns: {reviews_1M_new.shape[1]}\\n')"
   ]
  },
  {
   "cell_type": "code",
   "execution_count": 89,
   "id": "a3e54027",
   "metadata": {},
   "outputs": [
    {
     "name": "stdout",
     "output_type": "stream",
     "text": [
      "After removing duplicates: Rows: 1000000 and Columns: 3\n",
      "\n"
     ]
    }
   ],
   "source": [
    "reviews_1M_new = reviews_1M_new.drop_duplicates()\n",
    "print(f'After removing duplicates: Rows: {reviews_1M_new.shape[0]} and Columns: {reviews_1M_new.shape[1]}\\n')"
   ]
  },
  {
   "cell_type": "code",
   "execution_count": 88,
   "id": "3ff04707",
   "metadata": {},
   "outputs": [
    {
     "name": "stdout",
     "output_type": "stream",
     "text": [
      "After removing missing values): Rows: 1000000 and Columns: 3\n",
      "\n"
     ]
    }
   ],
   "source": [
    "reviews_1M_new.dropna(inplace=True)\n",
    "reviews_1M_new = reviews_1M_new[reviews_1M_new[\"author\"] != 'Anonymous']\n",
    "print(f'After removing missing values): Rows: {reviews_1M_new.shape[0]} and Columns: {reviews_1M_new.shape[1]}\\n')"
   ]
  },
  {
   "cell_type": "code",
   "execution_count": 90,
   "id": "3a9ed7a7",
   "metadata": {},
   "outputs": [
    {
     "data": {
      "text/html": [
       "<div>\n",
       "<style scoped>\n",
       "    .dataframe tbody tr th:only-of-type {\n",
       "        vertical-align: middle;\n",
       "    }\n",
       "\n",
       "    .dataframe tbody tr th {\n",
       "        vertical-align: top;\n",
       "    }\n",
       "\n",
       "    .dataframe thead th {\n",
       "        text-align: right;\n",
       "    }\n",
       "</style>\n",
       "<table border=\"1\" class=\"dataframe\">\n",
       "  <thead>\n",
       "    <tr style=\"text-align: right;\">\n",
       "      <th></th>\n",
       "      <th>author</th>\n",
       "      <th>product</th>\n",
       "      <th>score</th>\n",
       "    </tr>\n",
       "  </thead>\n",
       "  <tbody>\n",
       "    <tr>\n",
       "      <th>246060</th>\n",
       "      <td>Client d'Amazon</td>\n",
       "      <td>oukitel k10000</td>\n",
       "      <td>10</td>\n",
       "    </tr>\n",
       "    <tr>\n",
       "      <th>92208</th>\n",
       "      <td>Ekat1997</td>\n",
       "      <td>samsung galaxy a5 2017</td>\n",
       "      <td>10</td>\n",
       "    </tr>\n",
       "    <tr>\n",
       "      <th>1114590</th>\n",
       "      <td>Michael Bartels</td>\n",
       "      <td>doro phoneeasy 338</td>\n",
       "      <td>6</td>\n",
       "    </tr>\n",
       "    <tr>\n",
       "      <th>47342</th>\n",
       "      <td>Tommaso</td>\n",
       "      <td>huawei honor 7</td>\n",
       "      <td>10</td>\n",
       "    </tr>\n",
       "    <tr>\n",
       "      <th>466206</th>\n",
       "      <td>Chiara Mancinelli</td>\n",
       "      <td>samsung galaxy s5 mini</td>\n",
       "      <td>10</td>\n",
       "    </tr>\n",
       "  </tbody>\n",
       "</table>\n",
       "</div>"
      ],
      "text/plain": [
       "                    author                 product  score\n",
       "246060     Client d'Amazon          oukitel k10000     10\n",
       "92208             Ekat1997  samsung galaxy a5 2017     10\n",
       "1114590    Michael Bartels      doro phoneeasy 338      6\n",
       "47342              Tommaso          huawei honor 7     10\n",
       "466206   Chiara Mancinelli  samsung galaxy s5 mini     10"
      ]
     },
     "execution_count": 90,
     "metadata": {},
     "output_type": "execute_result"
    }
   ],
   "source": [
    "reviews_1M_new.head()"
   ]
  },
  {
   "cell_type": "markdown",
   "id": "d713c91c",
   "metadata": {},
   "source": [
    "#### Q2 A - Identify the most rated features."
   ]
  },
  {
   "cell_type": "code",
   "execution_count": 93,
   "id": "5baf9e61",
   "metadata": {},
   "outputs": [
    {
     "name": "stdout",
     "output_type": "stream",
     "text": [
      "Most rated features/products are: \n",
      "\n"
     ]
    },
    {
     "data": {
      "text/plain": [
       "samsung galaxy s5         11419\n",
       "samsung galaxy s6         11146\n",
       "samsung galaxy s7 edge    10332\n",
       "motorola moto g           10330\n",
       "apple iphone 5s           10218\n",
       "Name: product, dtype: int64"
      ]
     },
     "execution_count": 93,
     "metadata": {},
     "output_type": "execute_result"
    }
   ],
   "source": [
    "print('Most rated features/products are: \\n')\n",
    "reviews_1M_new['product'].value_counts().head()"
   ]
  },
  {
   "cell_type": "code",
   "execution_count": 94,
   "id": "6fc86d20",
   "metadata": {},
   "outputs": [
    {
     "data": {
      "image/png": "[encoded data removed]",
      "text/plain": [
       "<Figure size 432x288 with 1 Axes>"
      ]
     },
     "metadata": {
      "needs_background": "light"
     },
     "output_type": "display_data"
    }
   ],
   "source": [
    "sns.countplot(data=reviews_1M_new , x='score')\n",
    "plt.show()"
   ]
  },
  {
   "cell_type": "code",
   "execution_count": 95,
   "id": "2136297b",
   "metadata": {},
   "outputs": [
    {
     "data": {
      "text/plain": [
       "Amazon Customer    1339\n",
       "Cliente Amazon      444\n",
       "Amazon Kunde        368\n",
       "Client d'Amazon     257\n",
       "David               246\n",
       "Alex                242\n",
       "Daniel              231\n",
       "Marco               206\n",
       "Chris               191\n",
       "Amazon-Kunde        179\n",
       "Name: author, dtype: int64"
      ]
     },
     "execution_count": 95,
     "metadata": {},
     "output_type": "execute_result"
    }
   ],
   "source": [
    "reviews_1[reviews_1['score']==10]['author'].value_counts().head(10)"
   ]
  },
  {
   "cell_type": "markdown",
   "id": "bc426231",
   "metadata": {},
   "source": [
    "#### Q2 B - Identify the users with most number of reviews."
   ]
  },
  {
   "cell_type": "code",
   "execution_count": 99,
   "id": "96e52bf3",
   "metadata": {},
   "outputs": [
    {
     "name": "stdout",
     "output_type": "stream",
     "text": [
      "User with highest number of reviews: \n",
      "\n"
     ]
    },
    {
     "data": {
      "text/plain": [
       "Amazon Customer    4868\n",
       "Cliente Amazon     1685\n",
       "Amazon Kunde       1165\n",
       "Client d'Amazon     984\n",
       "David               553\n",
       "Name: author, dtype: int64"
      ]
     },
     "execution_count": 99,
     "metadata": {},
     "output_type": "execute_result"
    }
   ],
   "source": [
    "print('User with highest number of reviews: \\n')\n",
    "reviews_1M_new['author'].value_counts().head()"
   ]
  },
  {
   "cell_type": "code",
   "execution_count": 105,
   "id": "23a59c42",
   "metadata": {},
   "outputs": [
    {
     "name": "stdout",
     "output_type": "stream",
     "text": [
      "Products with highest number of reviews: \n",
      "\n"
     ]
    },
    {
     "data": {
      "text/plain": [
       "samsung galaxy s5         11419\n",
       "samsung galaxy s6         11146\n",
       "samsung galaxy s7 edge    10332\n",
       "motorola moto g           10330\n",
       "apple iphone 5s           10218\n",
       "Name: product, dtype: int64"
      ]
     },
     "execution_count": 105,
     "metadata": {},
     "output_type": "execute_result"
    }
   ],
   "source": [
    "print('Products with highest number of reviews: \\n')\n",
    "reviews_1M_new['product'].value_counts().head()"
   ]
  },
  {
   "cell_type": "code",
   "execution_count": 107,
   "id": "2fd5f3a7",
   "metadata": {},
   "outputs": [
    {
     "name": "stdout",
     "output_type": "stream",
     "text": [
      "Highest scores: \n",
      "\n"
     ]
    },
    {
     "data": {
      "text/plain": [
       "10    472773\n",
       "8     221249\n",
       "2      88091\n",
       "6      86802\n",
       "9      63540\n",
       "Name: score, dtype: Int64"
      ]
     },
     "execution_count": 107,
     "metadata": {},
     "output_type": "execute_result"
    }
   ],
   "source": [
    "print('Highest scores: \\n')\n",
    "reviews_1M_new['score'].value_counts().head()"
   ]
  },
  {
   "cell_type": "markdown",
   "id": "6444e4b1",
   "metadata": {},
   "source": [
    "#### Q2 C - Select the data with products having more than 50 ratings and users who have given more than 50 ratings. Report the shape of the final dataset."
   ]
  },
  {
   "cell_type": "code",
   "execution_count": 134,
   "id": "d43d2f27",
   "metadata": {},
   "outputs": [
    {
     "name": "stdout",
     "output_type": "stream",
     "text": [
      "Number of user who have given more than 50 rating:  687\n"
     ]
    }
   ],
   "source": [
    "user50 = reviews_1M_new['author'].value_counts()\n",
    "user50 = user50[user50>50].index.tolist() # list of authors with > 50 ratings\n",
    "print('Number of user who have given more than 50 rating: ', len(user50))"
   ]
  },
  {
   "cell_type": "code",
   "execution_count": 135,
   "id": "d81e363e",
   "metadata": {},
   "outputs": [
    {
     "name": "stdout",
     "output_type": "stream",
     "text": [
      "Number of products having more than 50 rating:  2338\n"
     ]
    }
   ],
   "source": [
    "product50 = reviews_1M_new['product'].value_counts()\n",
    "product50 = product50[product50>50].index.tolist() # list of products with > 50 ratings\n",
    "print('Number of products having more than 50 rating: ', len(product50))"
   ]
  },
  {
   "cell_type": "code",
   "execution_count": 136,
   "id": "0076ee80",
   "metadata": {},
   "outputs": [
    {
     "name": "stdout",
     "output_type": "stream",
     "text": [
      "\n",
      "reviews_1M_final_dataset: Rows: 77373 and Columns: 3\n",
      "\n"
     ]
    }
   ],
   "source": [
    "reviews_1M_final_dataset = reviews_1M_new[(reviews_1M_new['author'].isin(user50)) & (reviews_1M_new['product'].isin(product50))]\n",
    "print(f'\\nreviews_1M_final_dataset: Rows: {reviews_1M_final_dataset.shape[0]} and Columns: {reviews_1M_final_dataset.shape[1]}\\n')"
   ]
  },
  {
   "cell_type": "code",
   "execution_count": 137,
   "id": "893e50b1",
   "metadata": {},
   "outputs": [
    {
     "data": {
      "text/html": [
       "<div>\n",
       "<style scoped>\n",
       "    .dataframe tbody tr th:only-of-type {\n",
       "        vertical-align: middle;\n",
       "    }\n",
       "\n",
       "    .dataframe tbody tr th {\n",
       "        vertical-align: top;\n",
       "    }\n",
       "\n",
       "    .dataframe thead th {\n",
       "        text-align: right;\n",
       "    }\n",
       "</style>\n",
       "<table border=\"1\" class=\"dataframe\">\n",
       "  <thead>\n",
       "    <tr style=\"text-align: right;\">\n",
       "      <th></th>\n",
       "      <th>author</th>\n",
       "      <th>product</th>\n",
       "      <th>score</th>\n",
       "    </tr>\n",
       "  </thead>\n",
       "  <tbody>\n",
       "    <tr>\n",
       "      <th>246060</th>\n",
       "      <td>Client d'Amazon</td>\n",
       "      <td>oukitel k10000</td>\n",
       "      <td>10</td>\n",
       "    </tr>\n",
       "    <tr>\n",
       "      <th>693580</th>\n",
       "      <td>Alberto</td>\n",
       "      <td>samsung i9500 galaxy s iv</td>\n",
       "      <td>10</td>\n",
       "    </tr>\n",
       "    <tr>\n",
       "      <th>265888</th>\n",
       "      <td>diego</td>\n",
       "      <td>apple iphone 6</td>\n",
       "      <td>10</td>\n",
       "    </tr>\n",
       "    <tr>\n",
       "      <th>1015793</th>\n",
       "      <td>Chris</td>\n",
       "      <td>htc desire</td>\n",
       "      <td>4</td>\n",
       "    </tr>\n",
       "    <tr>\n",
       "      <th>595841</th>\n",
       "      <td>Amazon Customer</td>\n",
       "      <td>ttfone venus 2</td>\n",
       "      <td>6</td>\n",
       "    </tr>\n",
       "  </tbody>\n",
       "</table>\n",
       "</div>"
      ],
      "text/plain": [
       "                  author                    product  score\n",
       "246060   Client d'Amazon             oukitel k10000     10\n",
       "693580           Alberto  samsung i9500 galaxy s iv     10\n",
       "265888             diego             apple iphone 6     10\n",
       "1015793            Chris                 htc desire      4\n",
       "595841   Amazon Customer             ttfone venus 2      6"
      ]
     },
     "execution_count": 137,
     "metadata": {},
     "output_type": "execute_result"
    }
   ],
   "source": [
    "del user50, product50\n",
    "reviews_1M_final_dataset.head()"
   ]
  },
  {
   "cell_type": "code",
   "execution_count": 138,
   "id": "a34a5196",
   "metadata": {},
   "outputs": [
    {
     "data": {
      "text/plain": [
       "array([\"Client d'Amazon\", 'Alberto', 'diego', 'Chris', 'Amazon Customer',\n",
       "       'Lucas', 'Ray', 'Jason', 'anonieme bezoeker', 'Mark', 'Ed', 'Raj',\n",
       "       'Carlos', 'Ð\\x9dÐ¸ÐºÐ¾Ð»Ð°Ð¹', 'streghe_1965', 'Martin',\n",
       "       'gumusoje', 'William', 'JÃ¼rgen', 'zehrabalta', 'Steve',\n",
       "       'Ð\\x9dÐ°Ñ\\x82Ð°Ð»Ñ\\x8cÑ\\x8f', 'Paul', 'bedduamiz', 'Federico',\n",
       "       'pikacu', 'Ð\\x9eÐ»Ñ\\x8cÐ³Ð°', 'Peter', 'ZÃ¡kaznÃ\\xadk', 'ozer1299',\n",
       "       'Kim', 'Fabio', 'tony', 'Ð\\x90Ð½Ñ\\x82Ð¾Ð½', 'Kevin', 'francesco',\n",
       "       'Erik', 'Ð\\x92Ð»Ð°Ð´Ð¸Ñ\\x81Ð»Ð°Ð²', 'Alex', 'G', 'Javi', 'patrick',\n",
       "       'MS', 'Cliente Amazon', 'ali', 'Christopher', 'Jonathan', 'mike',\n",
       "       'Maria', 'patricia', 'Sandy', 'Amazon-Kunde', 'bumudur', 'Alfredo',\n",
       "       'Ð\\x90Ð½Ð´Ñ\\x80ÐµÐ¹', 'Hans', 'zeynep34', 'Phil', 'enrico',\n",
       "       'Pen Name', 'anneme', 'Ram', 'Christian', 'Roman', 'Andres',\n",
       "       'Alessandra', 'e-bit', 'Roberto', 'pedro', 'Melissa', 'Christophe',\n",
       "       'Ð\\x90Ð½Ð°Ñ\\x81Ñ\\x82Ð°Ñ\\x81Ð¸Ñ\\x8f', 'Rahul', 'fabio', 'Gast',\n",
       "       'Adam', 'David', 'Jose', 'Davide', 'Alexandre', 'angelo', 'Stefan',\n",
       "       'Francisco', 'Ð¢Ð°Ñ\\x82Ñ\\x8cÑ\\x8fÐ½Ð°',\n",
       "       'Ð\\x95ÐºÐ°Ñ\\x82ÐµÑ\\x80Ð¸Ð½Ð°', 'Dario', 'Kunde', 'Sabine',\n",
       "       'Giulia', 'Gabriel', 'Matthew', 'Lisa', '????????????', 'carlos',\n",
       "       'Ð\\x95Ð²Ð³ÐµÐ½Ð¸Ð¹', 'Jack',\n",
       "       'Ð\\x9fÐ¾Ð»Ñ\\x8cÐ·Ð¾Ð²Ð°Ñ\\x82ÐµÐ»Ñ\\x8c Ñ\\x81ÐºÑ\\x80Ñ\\x8bÐ» Ñ\\x81Ð²Ð¾Ð¸ Ð´Ð°Ð½Ð½Ñ\\x8bÐµ',\n",
       "       'Eduardo', 'pablo', 'JÃ¶rg'], dtype=object)"
      ]
     },
     "execution_count": 138,
     "metadata": {},
     "output_type": "execute_result"
    }
   ],
   "source": [
    "reviews_1M_final_dataset['author'].unique()[:100]"
   ]
  },
  {
   "cell_type": "code",
   "execution_count": 139,
   "id": "795760ed",
   "metadata": {},
   "outputs": [
    {
     "data": {
      "text/plain": [
       "array(['oukitel k10000', 'samsung i9500 galaxy s iv', 'apple iphone 6',\n",
       "       'htc desire', 'ttfone venus 2', 'samsung galaxy s duos s7562',\n",
       "       'samsung galaxy j3 duos', 'samsung gt e1200', 'alcatel ot 918d',\n",
       "       'asus zenfone 3', 'sony xperia c4', 'nokia 3230',\n",
       "       'microsoft lumia 640 dual sim', 'nokia x2 02', 'samsung b5722',\n",
       "       'samsung e1050', 'samsung galaxy fit', 'apple iphone 6s plus',\n",
       "       'apple iphone 3gs', 'samsung sgh j700', 'doogee x5 max pro',\n",
       "       'lenovo ideaphone a706', 'apple iphone 7', 'motorola rokr e8',\n",
       "       'motorola droid x', 'apple iphone 4s', 'sony k790i',\n",
       "       'htc wildfire s', 'samsung galaxy s6 edgeplus',\n",
       "       'asus zenfone go zc500tg', 'motorola droid razr maxx',\n",
       "       'samsung galaxy s5', 'alcatel onetouch pop 3 5015d',\n",
       "       'sony xperia zr', 'motorola rokr z6m', 'lg g3 d855 657484',\n",
       "       'samsung galaxy s6', 'huawei ascend mate', 'asus zenfone 4',\n",
       "       'sony xperia z2', 'nokia 100', 'lg optimus l9 ii',\n",
       "       'motorola atrix', 'blu win jr', 'lg v20 h990', 'motorola ve240',\n",
       "       'nokia asha 200', 'samsung corby s3650', 'samsung galaxy light',\n",
       "       'sony xperia sola', 'nokia 6288', 'nokia lumia 530',\n",
       "       'huawei honor 8', 'nokia 808', 'samsung c3222', 'huawei y6',\n",
       "       'asus zenfone 5', 'blackberry priv',\n",
       "       'samsung sph m310 slash virgin', 'samsung galaxy note 4',\n",
       "       'huawei ascend y530', 'nokia 220', 'htc desire c golf wildfire c',\n",
       "       'nokia lumia 620', 'motorola moto e 2 lte', 'meizu m3 note',\n",
       "       'nokia lumia 900', 'htc desire 610', 'apple iphone 5c',\n",
       "       'huawei ascend y300', 'sony xperia sp', 'lenovo vibe k4 note',\n",
       "       'siemens c55', 'samsung galaxy j7 2016', 'apple iphone 7 plus',\n",
       "       'doogee x5 max', 'samsung galaxy s iii neo i9300i',\n",
       "       'huawei honor 4x', 'samsung c3520', 'samsung galaxy y s5360',\n",
       "       'htc desire 530188', 'htc one mini', 'nokia 2220 slide',\n",
       "       'htc raider 4g', 'htc one x', 'blackberry z10',\n",
       "       'samsung galaxy nexus', 'motorola moto x', 'apple iphone se',\n",
       "       'samsung galaxy j1 2016 4 5 sm j120', 'sony ericsson xperia arc s',\n",
       "       'xiaomi redmi note', 'lenovo a1000 dual sim 4 mobile phone',\n",
       "       'nokia 2720 fold', 'sony xperia z5 compact', 'sony xperia m',\n",
       "       'blu a310a', 'motorola defy', 'sony xperia j', 'huawei honor 6x'],\n",
       "      dtype=object)"
      ]
     },
     "execution_count": 139,
     "metadata": {},
     "output_type": "execute_result"
    }
   ],
   "source": [
    "reviews_1M_final_dataset['product'].unique()[:100]"
   ]
  },
  {
   "cell_type": "code",
   "execution_count": 140,
   "id": "1d9ff9c0",
   "metadata": {},
   "outputs": [
    {
     "data": {
      "text/plain": [
       "(77373, 3)"
      ]
     },
     "execution_count": 140,
     "metadata": {},
     "output_type": "execute_result"
    }
   ],
   "source": [
    "reviews_1M_final_dataset.shape"
   ]
  },
  {
   "cell_type": "code",
   "execution_count": 141,
   "id": "1002cc93",
   "metadata": {},
   "outputs": [
    {
     "data": {
      "text/html": [
       "<div>\n",
       "<style scoped>\n",
       "    .dataframe tbody tr th:only-of-type {\n",
       "        vertical-align: middle;\n",
       "    }\n",
       "\n",
       "    .dataframe tbody tr th {\n",
       "        vertical-align: top;\n",
       "    }\n",
       "\n",
       "    .dataframe thead th {\n",
       "        text-align: right;\n",
       "    }\n",
       "</style>\n",
       "<table border=\"1\" class=\"dataframe\">\n",
       "  <thead>\n",
       "    <tr style=\"text-align: right;\">\n",
       "      <th></th>\n",
       "      <th>author</th>\n",
       "      <th>product</th>\n",
       "      <th>score</th>\n",
       "    </tr>\n",
       "  </thead>\n",
       "  <tbody>\n",
       "    <tr>\n",
       "      <th>246060</th>\n",
       "      <td>Client d'Amazon</td>\n",
       "      <td>oukitel k10000</td>\n",
       "      <td>10</td>\n",
       "    </tr>\n",
       "    <tr>\n",
       "      <th>693580</th>\n",
       "      <td>Alberto</td>\n",
       "      <td>samsung i9500 galaxy s iv</td>\n",
       "      <td>10</td>\n",
       "    </tr>\n",
       "    <tr>\n",
       "      <th>265888</th>\n",
       "      <td>diego</td>\n",
       "      <td>apple iphone 6</td>\n",
       "      <td>10</td>\n",
       "    </tr>\n",
       "    <tr>\n",
       "      <th>1015793</th>\n",
       "      <td>Chris</td>\n",
       "      <td>htc desire</td>\n",
       "      <td>4</td>\n",
       "    </tr>\n",
       "    <tr>\n",
       "      <th>595841</th>\n",
       "      <td>Amazon Customer</td>\n",
       "      <td>ttfone venus 2</td>\n",
       "      <td>6</td>\n",
       "    </tr>\n",
       "  </tbody>\n",
       "</table>\n",
       "</div>"
      ],
      "text/plain": [
       "                  author                    product  score\n",
       "246060   Client d'Amazon             oukitel k10000     10\n",
       "693580           Alberto  samsung i9500 galaxy s iv     10\n",
       "265888             diego             apple iphone 6     10\n",
       "1015793            Chris                 htc desire      4\n",
       "595841   Amazon Customer             ttfone venus 2      6"
      ]
     },
     "execution_count": 141,
     "metadata": {},
     "output_type": "execute_result"
    }
   ],
   "source": [
    "reviews_1M_final_dataset.head()"
   ]
  },
  {
   "cell_type": "markdown",
   "id": "d496fda3",
   "metadata": {},
   "source": [
    "#### Q3 - Build a popularity based model and recommend top 5 mobile phones."
   ]
  },
  {
   "cell_type": "code",
   "execution_count": 142,
   "id": "03cfefef",
   "metadata": {},
   "outputs": [],
   "source": [
    "def popularity_rec(data):\n",
    "    ratings_mean_count = pd.DataFrame(data.groupby('product')['score'].mean())\n",
    "    ratings_mean_count['rating_counts'] = data.groupby('product')['score'].count()\n",
    "    ratings_mean_count = ratings_mean_count.sort_values(by=['score','rating_counts'], ascending=[False,False])\n",
    "    print('Top 5 recommendations for the products are: \\n')\n",
    "    display(ratings_mean_count.head())\n",
    "    return"
   ]
  },
  {
   "cell_type": "code",
   "execution_count": 144,
   "id": "639fffa0",
   "metadata": {},
   "outputs": [
    {
     "name": "stdout",
     "output_type": "stream",
     "text": [
      "Top 5 recommendations for the products are: \n",
      "\n"
     ]
    },
    {
     "data": {
      "text/html": [
       "<div>\n",
       "<style scoped>\n",
       "    .dataframe tbody tr th:only-of-type {\n",
       "        vertical-align: middle;\n",
       "    }\n",
       "\n",
       "    .dataframe tbody tr th {\n",
       "        vertical-align: top;\n",
       "    }\n",
       "\n",
       "    .dataframe thead th {\n",
       "        text-align: right;\n",
       "    }\n",
       "</style>\n",
       "<table border=\"1\" class=\"dataframe\">\n",
       "  <thead>\n",
       "    <tr style=\"text-align: right;\">\n",
       "      <th></th>\n",
       "      <th>score</th>\n",
       "      <th>rating_counts</th>\n",
       "    </tr>\n",
       "    <tr>\n",
       "      <th>product</th>\n",
       "      <th></th>\n",
       "      <th></th>\n",
       "    </tr>\n",
       "  </thead>\n",
       "  <tbody>\n",
       "    <tr>\n",
       "      <th>htc gratia</th>\n",
       "      <td>10.0</td>\n",
       "      <td>4</td>\n",
       "    </tr>\n",
       "    <tr>\n",
       "      <th>samsung e1120</th>\n",
       "      <td>10.0</td>\n",
       "      <td>4</td>\n",
       "    </tr>\n",
       "    <tr>\n",
       "      <th>lg p930</th>\n",
       "      <td>10.0</td>\n",
       "      <td>3</td>\n",
       "    </tr>\n",
       "    <tr>\n",
       "      <th>samsung sgh s500</th>\n",
       "      <td>10.0</td>\n",
       "      <td>3</td>\n",
       "    </tr>\n",
       "    <tr>\n",
       "      <th>karbonn titanium x</th>\n",
       "      <td>10.0</td>\n",
       "      <td>2</td>\n",
       "    </tr>\n",
       "  </tbody>\n",
       "</table>\n",
       "</div>"
      ],
      "text/plain": [
       "                    score  rating_counts\n",
       "product                                 \n",
       "htc gratia           10.0              4\n",
       "samsung e1120        10.0              4\n",
       "lg p930              10.0              3\n",
       "samsung sgh s500     10.0              3\n",
       "karbonn titanium x   10.0              2"
      ]
     },
     "metadata": {},
     "output_type": "display_data"
    }
   ],
   "source": [
    "popularity_rec(reviews_1M_final_dataset)"
   ]
  },
  {
   "cell_type": "code",
   "execution_count": 145,
   "id": "39d8c533",
   "metadata": {},
   "outputs": [
    {
     "name": "stdout",
     "output_type": "stream",
     "text": [
      "ÐÐ¾Ð»ÑÐ·Ð¾Ð²Ð°ÑÐµÐ»Ñ ÑÐºÑÑÐ» ÑÐ²Ð¾Ð¸ Ð´Ð°Ð½Ð½ÑÐµ\n"
     ]
    }
   ],
   "source": [
    "field_length = reviews_1M_final_dataset.author.astype(str).map(len)\n",
    "print (reviews_1M_final_dataset.iloc[field_length.argmax(),0])"
   ]
  },
  {
   "cell_type": "markdown",
   "id": "9bd56e0a",
   "metadata": {},
   "source": [
    "#### Q4 - Build a collaborative filtering model using SVD. You can use SVD from surprise or build it from scratch."
   ]
  },
  {
   "cell_type": "code",
   "execution_count": 147,
   "id": "4ca03fd0",
   "metadata": {},
   "outputs": [],
   "source": [
    "revs50_ = Dataset.load_from_df(reviews_1M_final_dataset[['author','product','score']], Reader(rating_scale=(1, 10)))\n",
    "trainset, testset = train_test_split(revs50_, test_size=.25)"
   ]
  },
  {
   "cell_type": "markdown",
   "id": "6779358e",
   "metadata": {},
   "source": [
    "**Top 3 values from data set :**"
   ]
  },
  {
   "cell_type": "code",
   "execution_count": 148,
   "id": "a750859e",
   "metadata": {},
   "outputs": [
    {
     "name": "stdout",
     "output_type": "stream",
     "text": [
      "0 ->  [(0, 9.0), (88, 2.0), (403, 8.0), (818, 2.0), (305, 8.0), (73, 8.0), (194, 6.0), (856, 10.0), (29, 2.0), (39, 9.0), (692, 6.0), (88, 10.0), (413, 10.0), (160, 9.0), (29, 10.0), (1411, 8.0), (1512, 10.0), (594, 2.0), (34, 8.0), (218, 2.0), (276, 10.0), (134, 10.0), (240, 8.0), (1467, 10.0), (50, 7.0), (1672, 8.0), (575, 10.0), (73, 2.0), (1081, 10.0), (729, 8.0), (191, 4.0), (283, 10.0), (1654, 8.0), (1444, 2.0), (877, 6.0), (603, 2.0), (465, 8.0), (26, 6.0), (1158, 10.0), (761, 8.0), (212, 9.0), (388, 8.0), (131, 10.0), (51, 6.0), (267, 8.0), (389, 10.0), (1689, 10.0), (864, 2.0), (1967, 8.0), (1594, 10.0), (393, 10.0), (181, 9.0), (1055, 10.0), (192, 10.0), (194, 2.0), (194, 4.0), (462, 10.0), (294, 10.0), (166, 6.0), (64, 4.0), (207, 2.0), (136, 10.0), (209, 4.0), (581, 10.0), (163, 8.0), (814, 6.0), (1704, 10.0), (125, 10.0), (1132, 10.0), (1788, 10.0), (1114, 4.0), (300, 10.0), (200, 10.0), (580, 10.0), (170, 8.0), (50, 8.0), (163, 2.0), (8, 6.0), (522, 8.0), (1347, 6.0), (417, 8.0), (1281, 10.0), (232, 10.0), (77, 10.0), (480, 10.0), (464, 10.0), (539, 10.0), (765, 8.0), (896, 10.0), (1270, 8.0), (207, 8.0), (289, 10.0), (1145, 4.0), (709, 6.0), (116, 2.0), (222, 10.0), (212, 10.0), (148, 2.0), (12, 10.0), (443, 8.0), (75, 10.0), (1438, 9.0), (212, 8.0), (38, 10.0), (1879, 9.0), (64, 2.0), (71, 10.0), (267, 10.0), (241, 6.0), (50, 10.0), (958, 2.0), (1004, 8.0), (95, 10.0), (34, 10.0), (147, 2.0), (467, 8.0), (682, 2.0), (589, 8.0), (651, 6.0), (230, 2.0), (1028, 10.0), (401, 2.0), (1273, 10.0), (59, 10.0), (219, 10.0), (1836, 10.0), (932, 10.0), (181, 10.0), (40, 8.0), (43, 10.0), (35, 8.0), (219, 8.0), (677, 10.0), (769, 10.0), (255, 6.0), (100, 10.0), (2018, 2.0), (326, 8.0), (23, 8.0), (882, 10.0), (950, 2.0), (230, 10.0), (270, 10.0), (668, 10.0), (208, 8.0), (156, 2.0)] \n",
      "\n",
      "1 ->  [(1, 10.0), (7, 6.0), (393, 10.0), (181, 2.0), (294, 10.0), (525, 6.0), (540, 6.0), (106, 4.0), (5, 10.0), (691, 10.0), (32, 4.0), (405, 10.0), (312, 10.0), (19, 8.0), (365, 8.0), (136, 10.0), (116, 10.0), (147, 10.0), (230, 10.0), (166, 8.0), (39, 10.0), (527, 8.0), (47, 8.0), (491, 8.0), (282, 10.0), (113, 10.0), (111, 2.0), (201, 6.0), (245, 10.0), (1364, 10.0), (918, 10.0), (236, 10.0), (1404, 8.0), (247, 10.0), (182, 8.0), (469, 10.0), (522, 10.0), (338, 8.0), (73, 6.0), (392, 10.0), (710, 2.0), (130, 2.0), (73, 10.0), (395, 10.0), (1010, 10.0), (53, 10.0), (729, 10.0), (1361, 4.0), (49, 10.0), (944, 4.0), (765, 4.0), (255, 10.0), (1517, 6.0), (424, 2.0), (282, 4.0), (233, 8.0), (123, 8.0), (502, 10.0), (165, 10.0), (277, 8.0), (1000, 4.0), (204, 10.0), (658, 6.0), (181, 10.0), (112, 10.0), (246, 8.0), (376, 10.0), (148, 8.0), (386, 6.0), (653, 10.0), (200, 10.0), (657, 10.0), (992, 6.0), (993, 10.0), (246, 10.0), (385, 2.0), (9, 10.0), (455, 10.0), (19, 10.0), (81, 10.0), (32, 10.0), (81, 8.0), (915, 8.0), (688, 8.0), (229, 8.0), (229, 10.0), (136, 6.0), (146, 10.0), (799, 4.0), (249, 8.0), (54, 10.0), (658, 10.0), (980, 10.0), (189, 8.0), (297, 10.0), (491, 6.0), (414, 8.0), (296, 10.0), (121, 4.0), (1387, 6.0), (271, 10.0), (197, 10.0), (684, 10.0), (453, 2.0), (230, 4.0), (457, 10.0), (781, 8.0), (960, 8.0), (224, 10.0), (788, 10.0), (194, 10.0), (502, 6.0), (37, 10.0), (707, 10.0), (185, 2.0), (410, 8.0), (767, 2.0), (1825, 8.0), (489, 8.0), (254, 4.0), (232, 10.0), (1261, 8.0), (3, 10.0), (713, 2.0), (480, 8.0), (29, 10.0), (11, 10.0), (188, 8.0), (385, 10.0), (1405, 8.0), (96, 10.0), (50, 10.0), (170, 8.0), (885, 8.0), (654, 8.0), (796, 10.0), (802, 6.0), (219, 10.0), (307, 4.0), (789, 8.0), (320, 10.0), (413, 8.0), (323, 10.0), (694, 8.0), (254, 2.0), (283, 10.0), (619, 6.0), (29, 8.0), (765, 8.0), (267, 10.0), (387, 8.0), (18, 10.0), (713, 10.0), (310, 10.0), (1986, 4.0), (104, 4.0), (563, 8.0), (260, 8.0), (729, 8.0), (323, 4.0), (1289, 8.0), (109, 8.0), (148, 10.0), (496, 10.0), (1626, 8.0), (453, 8.0), (724, 10.0), (1594, 10.0), (600, 10.0), (417, 10.0), (138, 10.0), (344, 6.0), (1075, 10.0), (146, 8.0), (190, 8.0), (194, 2.0), (997, 10.0), (263, 10.0), (282, 8.0), (896, 10.0), (57, 10.0), (321, 10.0), (1248, 6.0), (681, 10.0), (540, 2.0), (559, 10.0), (453, 10.0), (50, 4.0), (283, 4.0), (792, 10.0), (414, 6.0), (792, 8.0), (1045, 8.0), (394, 4.0), (348, 10.0), (178, 10.0), (862, 10.0), (207, 2.0), (885, 10.0), (214, 6.0), (87, 10.0), (914, 6.0), (435, 10.0), (1110, 9.0), (192, 10.0), (238, 10.0), (192, 8.0), (130, 8.0), (125, 2.0), (1116, 10.0), (30, 10.0), (652, 4.0), (470, 10.0), (502, 8.0), (160, 4.0), (76, 10.0), (260, 10.0), (1498, 10.0), (134, 8.0), (903, 8.0), (803, 8.0), (480, 10.0), (1075, 8.0), (1121, 8.0), (138, 8.0), (1241, 10.0)] \n",
      "\n",
      "2 ->  [(2, 10.0), (217, 10.0), (270, 10.0), (124, 10.0), (581, 10.0), (184, 10.0), (76, 8.0), (169, 6.0), (770, 2.0), (643, 8.0), (54, 8.0), (389, 6.0), (154, 2.0), (883, 8.0), (641, 2.0), (1359, 8.0), (332, 10.0), (24, 4.0), (958, 4.0), (1758, 8.0), (137, 2.0), (1007, 8.0), (561, 8.0), (1426, 8.0), (853, 10.0), (773, 8.0), (879, 10.0), (1354, 9.0), (1745, 8.0), (5, 8.0), (138, 10.0), (877, 8.0), (912, 10.0), (1350, 2.0), (1692, 9.0), (875, 2.0), (1733, 2.0), (408, 10.0), (50, 10.0), (1025, 10.0), (154, 10.0), (1672, 2.0), (212, 9.0), (774, 4.0), (1428, 10.0), (271, 6.0), (1222, 10.0), (386, 10.0), (722, 10.0), (76, 10.0), (1320, 10.0), (53, 10.0), (53, 8.0), (1939, 10.0), (247, 10.0), (804, 4.0), (641, 8.0), (86, 10.0), (200, 2.0), (272, 10.0), (1207, 10.0), (643, 2.0), (77, 10.0), (128, 10.0), (1803, 4.0), (545, 6.0), (897, 10.0), (1145, 7.0), (932, 6.0), (265, 8.0), (32, 10.0), (90, 10.0), (1119, 6.0), (194, 8.0), (103, 10.0), (34, 10.0), (248, 10.0), (170, 2.0), (74, 10.0), (414, 10.0), (1091, 2.0), (285, 2.0), (654, 10.0), (283, 10.0), (170, 10.0), (140, 10.0), (1473, 8.0), (208, 8.0), (1277, 10.0), (1238, 10.0)] \n",
      "\n",
      "\n",
      "\n",
      "\n",
      "('Richard', 'alcatel gophone 510a', 2.0)\n",
      "\n",
      "('Vincenzo', 'nokia c2 01', 10.0)\n",
      "\n",
      "('Maria', 'lg encore gt550', 10.0)\n"
     ]
    }
   ],
   "source": [
    "for key,value in {k: v for k, v in trainset.ur.items() if k <= 2}.items(): print(key,'-> ',value,'\\n')\n",
    "print('\\n', *testset[0:3], sep='\\n\\n')"
   ]
  },
  {
   "cell_type": "code",
   "execution_count": 152,
   "id": "67c91971",
   "metadata": {},
   "outputs": [],
   "source": [
    "# Objective: To get top_n recommendation for each user\n",
    "def get_top_n(predictions, n=5):\n",
    "    # First map the predictions to each user.\n",
    "    top_n = defaultdict(list)\n",
    "    for uid, iid, true_r, est, _ in predictions:\n",
    "        top_n[uid].append((iid, est))\n",
    "\n",
    "    # Then sort the predictions for each user and retrieve the n highest ones.\n",
    "    for uid, user_ratings in top_n.items():\n",
    "        user_ratings.sort(key=lambda x: x[1], reverse=True)\n",
    "        top_n[uid] = user_ratings[:n]\n",
    "\n",
    "    return top_n"
   ]
  },
  {
   "cell_type": "code",
   "execution_count": 157,
   "id": "2eb17253",
   "metadata": {},
   "outputs": [
    {
     "name": "stdout",
     "output_type": "stream",
     "text": [
      "First few prediction values: \n",
      " [Prediction(uid='Richard', iid='alcatel gophone 510a', r_ui=2.0, est=8.226149307743116, details={'was_impossible': False}), Prediction(uid='Vincenzo', iid='nokia c2 01', r_ui=10.0, est=8.71030292444284, details={'was_impossible': False})]\n",
      "RMSE: 2.9287\n",
      "CPU times: total: 1.66 s\n",
      "Wall time: 1.75 s\n"
     ]
    }
   ],
   "source": [
    "%%time\n",
    "# fit and predict using svd\n",
    "def svd_func(train, test):\n",
    "    svd = SVD()\n",
    "    svd.fit(train)\n",
    "    svd_pred = svd.test(test)\n",
    "    return svd_pred, svd\n",
    "\n",
    "svd_pred, svd = svd_func(trainset,testset)\n",
    "print('First few prediction values: \\n',svd_pred[0:2])\n",
    "svd_rmse = round(accuracy.rmse(svd_pred),2)"
   ]
  },
  {
   "cell_type": "markdown",
   "id": "d30a1f65",
   "metadata": {},
   "source": [
    "- Collaborative Filtering model using kNNWithMeans_Item based :"
   ]
  },
  {
   "cell_type": "code",
   "execution_count": 159,
   "id": "2c6c5849",
   "metadata": {},
   "outputs": [
    {
     "name": "stdout",
     "output_type": "stream",
     "text": [
      "Estimating biases using als...\n",
      "Computing the pearson_baseline similarity matrix...\n",
      "Done computing similarity matrix.\n",
      "First few prediction values: \n",
      " [Prediction(uid='Richard', iid='alcatel gophone 510a', r_ui=2.0, est=7.6855851529609716, details={'actual_k': 38, 'was_impossible': False}), Prediction(uid='Vincenzo', iid='nokia c2 01', r_ui=10.0, est=8.797244401798583, details={'actual_k': 36, 'was_impossible': False})]\n",
      "RMSE: 2.8563\n",
      "CPU times: total: 16.2 s\n",
      "Wall time: 16.9 s\n"
     ]
    }
   ],
   "source": [
    "%%time\n",
    "# fit and predict using knn\n",
    "def knn_item(train, test):\n",
    "    knn_i = KNNWithMeans(k=50, sim_options={'name': 'pearson_baseline', 'user_based': False})\n",
    "    knn_i.fit(train)\n",
    "    knn_i_pred = knn_i.test(test)\n",
    "    return knn_i_pred, knn_i\n",
    "\n",
    "knn_i_pred, knn_i = knn_item(trainset, testset)\n",
    "print('First few prediction values: \\n',knn_i_pred[0:2])\n",
    "knn_i_rmse = round(accuracy.rmse(knn_i_pred),2)"
   ]
  },
  {
   "cell_type": "markdown",
   "id": "a30787a7",
   "metadata": {},
   "source": [
    "- Collaborative Filtering model using kNNWithMeans_User based :"
   ]
  },
  {
   "cell_type": "code",
   "execution_count": 161,
   "id": "a9b125ef",
   "metadata": {},
   "outputs": [
    {
     "name": "stdout",
     "output_type": "stream",
     "text": [
      "Estimating biases using als...\n",
      "Computing the pearson_baseline similarity matrix...\n",
      "Done computing similarity matrix.\n",
      "First few prediction values: \n",
      " [Prediction(uid='Richard', iid='alcatel gophone 510a', r_ui=2.0, est=7.889830508474576, details={'actual_k': 0, 'was_impossible': False}), Prediction(uid='Vincenzo', iid='nokia c2 01', r_ui=10.0, est=9.12426958526799, details={'actual_k': 50, 'was_impossible': False})]\n",
      "RMSE: 2.9028\n",
      "CPU times: total: 6.22 s\n",
      "Wall time: 6.7 s\n"
     ]
    }
   ],
   "source": [
    "%%time\n",
    "# fit and predict using knn\n",
    "def knn_user(train, test):\n",
    "    knn_u = KNNWithMeans(k=50, sim_options={'name': 'pearson_baseline', 'user_based': True})\n",
    "    knn_u.fit(train)\n",
    "    knn_u_pred = knn_u.test(test)\n",
    "    return knn_u_pred, knn_u\n",
    "\n",
    "knn_u_pred, knn_u = knn_user(trainset, testset)\n",
    "print('First few prediction values: \\n',knn_u_pred[0:2])\n",
    "knn_u_rmse = round(accuracy.rmse(knn_u_pred),2)"
   ]
  },
  {
   "cell_type": "markdown",
   "id": "ab90560c",
   "metadata": {},
   "source": [
    "#### Q5 - Evaluate the collaborative model. Print RMSE value."
   ]
  },
  {
   "cell_type": "code",
   "execution_count": 158,
   "id": "1a4fba75",
   "metadata": {},
   "outputs": [
    {
     "name": "stdout",
     "output_type": "stream",
     "text": [
      "RMSE: 2.9287\n",
      "\n",
      "RMSE value(test-set):  2.93 \n",
      "\n"
     ]
    }
   ],
   "source": [
    "print('\\nRMSE value(test-set): ',round(accuracy.rmse(svd_pred),2),'\\n')"
   ]
  },
  {
   "cell_type": "code",
   "execution_count": 160,
   "id": "4f18cf2a",
   "metadata": {},
   "outputs": [
    {
     "name": "stdout",
     "output_type": "stream",
     "text": [
      "RMSE: 2.8563\n",
      "\n",
      "RMSE value(Item-based Model, test-set):  2.86 \n",
      "\n"
     ]
    }
   ],
   "source": [
    "print('\\nRMSE value(Item-based Model, test-set): ',round(accuracy.rmse(knn_i_pred),2),'\\n')"
   ]
  },
  {
   "cell_type": "code",
   "execution_count": 162,
   "id": "ca08be72",
   "metadata": {},
   "outputs": [
    {
     "name": "stdout",
     "output_type": "stream",
     "text": [
      "RMSE: 2.9028\n",
      "\n",
      "RMSE value(User-based Model, test-set):  2.9 \n",
      "\n"
     ]
    }
   ],
   "source": [
    "print('\\nRMSE value(User-based Model, test-set): ',round(accuracy.rmse(knn_u_pred),2),'\\n')"
   ]
  },
  {
   "cell_type": "code",
   "execution_count": 163,
   "id": "102f658b",
   "metadata": {},
   "outputs": [
    {
     "data": {
      "text/plain": [
       "<AxesSubplot:>"
      ]
     },
     "execution_count": 163,
     "metadata": {},
     "output_type": "execute_result"
    },
    {
     "data": {
      "image/png": "[encoded data removed]",
      "text/plain": [
       "<Figure size 432x288 with 1 Axes>"
      ]
     },
     "metadata": {
      "needs_background": "light"
     },
     "output_type": "display_data"
    }
   ],
   "source": [
    "sns.barplot(x=['svd_rmse','knn_i_rmse', 'knn_u_rmse'],y=[svd_rmse,knn_i_rmse, knn_u_rmse])"
   ]
  },
  {
   "cell_type": "markdown",
   "id": "a05c8752",
   "metadata": {},
   "source": [
    "#### Q6 - Predict score (average rating) for test users."
   ]
  },
  {
   "cell_type": "markdown",
   "id": "570dc7ab",
   "metadata": {},
   "source": [
    "**SVD :**"
   ]
  },
  {
   "cell_type": "code",
   "execution_count": 168,
   "id": "fe4d7882",
   "metadata": {},
   "outputs": [
    {
     "name": "stdout",
     "output_type": "stream",
     "text": [
      "average prediction for test users:  7.786028758517933\n"
     ]
    }
   ],
   "source": [
    "svd_pred_df=pd.DataFrame(svd_pred, columns=['uid', 'iid', 'rui', 'est', 'details'])\n",
    "avg_pred_test_user = svd_pred_df['est'].mean()\n",
    "print('average prediction for test users: ',avg_pred_test_user)"
   ]
  },
  {
   "cell_type": "code",
   "execution_count": 169,
   "id": "f18ac8fe",
   "metadata": {},
   "outputs": [
    {
     "name": "stdout",
     "output_type": "stream",
     "text": [
      "average ratings for test users:  7.85990488006617\n"
     ]
    }
   ],
   "source": [
    "avg_rating_test_user = svd_pred_df['rui'].mean()\n",
    "print('average ratings for test users: ',avg_rating_test_user)"
   ]
  },
  {
   "cell_type": "code",
   "execution_count": 177,
   "id": "dd91488b",
   "metadata": {},
   "outputs": [
    {
     "name": "stdout",
     "output_type": "stream",
     "text": [
      "average prediction error for test users:  2.2767379409365307\n"
     ]
    }
   ],
   "source": [
    "avg_pred_error_test_user = (svd_pred_df['rui']-svd_pred_df['est']).abs().mean()\n",
    "print('average prediction error for test users: ',avg_pred_error_test_user)"
   ]
  },
  {
   "cell_type": "markdown",
   "id": "4b103bf2",
   "metadata": {},
   "source": [
    "**KNN Itm Prediction :**"
   ]
  },
  {
   "cell_type": "code",
   "execution_count": null,
   "id": "951ae270",
   "metadata": {},
   "outputs": [],
   "source": [
    "knn_item_pred_df=pd.DataFrame(knn_i_pred, columns=['uid', 'iid', 'rui', 'est', 'details'])"
   ]
  },
  {
   "cell_type": "code",
   "execution_count": 173,
   "id": "0c684d77",
   "metadata": {},
   "outputs": [
    {
     "name": "stdout",
     "output_type": "stream",
     "text": [
      "average prediction for test users:  7.743952581618266\n"
     ]
    }
   ],
   "source": [
    "knn_item_pred_test_user = knn_item_pred_df['est'].mean()\n",
    "print('average prediction for test users: ',knn_item_pred_test_user)"
   ]
  },
  {
   "cell_type": "code",
   "execution_count": 174,
   "id": "8db7e748",
   "metadata": {},
   "outputs": [
    {
     "name": "stdout",
     "output_type": "stream",
     "text": [
      "average ratings for test users:  7.85990488006617\n"
     ]
    }
   ],
   "source": [
    "knn_item_rating_test_user = knn_item_pred_df['rui'].mean()\n",
    "print('average ratings for test users: ',knn_item_rating_test_user)"
   ]
  },
  {
   "cell_type": "code",
   "execution_count": 178,
   "id": "ebcab146",
   "metadata": {},
   "outputs": [
    {
     "name": "stdout",
     "output_type": "stream",
     "text": [
      "average prediction error for test users:  2.2466862533886847\n"
     ]
    }
   ],
   "source": [
    "knn_item_pred_error_test_user = (knn_item_pred_df['rui']-knn_item_pred_df['est']).abs().mean()\n",
    "print('average prediction error for test users: ',knn_item_pred_error_test_user)"
   ]
  },
  {
   "cell_type": "markdown",
   "id": "8b729394",
   "metadata": {},
   "source": [
    "**KNN User Prediction :**"
   ]
  },
  {
   "cell_type": "code",
   "execution_count": 179,
   "id": "4ee9a550",
   "metadata": {},
   "outputs": [],
   "source": [
    "knn_user_pred_df=pd.DataFrame(knn_u_pred, columns=['uid', 'iid', 'rui', 'est', 'details'])"
   ]
  },
  {
   "cell_type": "code",
   "execution_count": 181,
   "id": "5e2068f3",
   "metadata": {},
   "outputs": [
    {
     "name": "stdout",
     "output_type": "stream",
     "text": [
      "Average prediction for test users:  7.767693589411553\n"
     ]
    }
   ],
   "source": [
    "knn_user_pred_test_user = knn_user_pred_df['est'].mean()\n",
    "print('Average prediction for test users: ',knn_user_pred_test_user)"
   ]
  },
  {
   "cell_type": "code",
   "execution_count": 182,
   "id": "d2fa6a56",
   "metadata": {},
   "outputs": [
    {
     "name": "stdout",
     "output_type": "stream",
     "text": [
      "Average ratings for test users:  7.85990488006617\n"
     ]
    }
   ],
   "source": [
    "knn_user_ratings_test_user = knn_user_pred_df['rui'].mean()\n",
    "print('Average ratings for test users: ',knn_user_ratings_test_user)"
   ]
  },
  {
   "cell_type": "code",
   "execution_count": 183,
   "id": "72d42639",
   "metadata": {},
   "outputs": [
    {
     "name": "stdout",
     "output_type": "stream",
     "text": [
      "Average prediction error for test users:  2.252720932338256\n"
     ]
    }
   ],
   "source": [
    "knn_user_pred_error_test_user = (knn_user_pred_df['rui']-knn_user_pred_df['est']).abs().mean()\n",
    "print('Average prediction error for test users: ',knn_user_pred_error_test_user)"
   ]
  },
  {
   "cell_type": "markdown",
   "id": "2ffc4a11",
   "metadata": {},
   "source": [
    "#### Q7 - Report your findings and inferences."
   ]
  },
  {
   "cell_type": "markdown",
   "id": "37c45c8e",
   "metadata": {},
   "source": [
    "- Most popular phone , which rated 10 by highest number. \n",
    "    * htc gratia\n",
    "    * samsung e1120\n",
    "- Overall dataset is highly skewed towards 'Amazon Customers' from different countries.\n",
    "- Most of the author / user have given rating 10 or 8.\n",
    "- Both knn item based and knn user based are similar **RMSE**."
   ]
  },
  {
   "cell_type": "markdown",
   "id": "25db2811",
   "metadata": {},
   "source": [
    "#### Q8 - Try and recommend top 5 products for test users."
   ]
  },
  {
   "cell_type": "code",
   "execution_count": 184,
   "id": "b0a8408d",
   "metadata": {},
   "outputs": [
    {
     "name": "stdout",
     "output_type": "stream",
     "text": [
      "Top 5 recommendations for all test users are: \n",
      "\n",
      "Richard ->  [('binatone speakeasy 210', 10), ('nokia mural 6750', 10), ('motorola moto g 4 plus', 9.94873512251663), ('apple iphone 6s', 9.444647324702737), ('nokia 108', 9.118311710582434)] \n",
      "\n",
      "Vincenzo ->  [('huawei ascend honor 3c', 10), ('lg optimus g', 10), ('microsoft lumia 532', 9.87723917582234), ('alcatel one touch idol 6030d', 9.865869063014875), ('motorola moto x', 9.790995937189907)] \n",
      "\n",
      "Maria ->  [('asus zenfone selfie zd551kl', 9.135631493421394), ('sony xperia z 504642', 9.057057511306963), ('samsung galaxy j5', 8.988098993767787), ('huawei p9 lite', 8.84022495302737), ('apple iphone 4s', 8.565726123551633)] \n",
      "\n",
      "ÐÐ³Ð¾ÑÑ ->  [('samsung galaxy j7 2016', 9.599806876525207), ('apple iphone se', 9.592664280362028), ('apple iphone se', 9.592664280362028), ('samsung galaxy note 2', 9.488363239349708), ('samsung galaxy note 5 sm n920f', 9.455654870599714)] \n",
      "\n",
      "Amazon Customer ->  [('siemens s45', 10), ('binatone speakeasy 210', 10), ('lg a290', 10), ('zte zmax 2', 10), ('zte zmax 2', 10)] \n",
      "\n",
      "Alias ->  [('apple iphone 6 plus', 9.542994817464447), ('nokia c2 01', 9.488446508047593), ('apple iphone 4s', 9.409573850359859), ('apple iphone 4s', 9.409573850359859), ('sony xperia z 504642', 8.954820099042406)] \n",
      "\n",
      "Dominik ->  [('nokia lumia 930', 9.69005414619352), ('zopo zp980', 8.944115723158681), ('nokia lumia 630', 8.67847667837017), ('samsung galaxy a5 2016', 8.674203090407817), ('samsung galaxy note 3 neo 4g n7505', 8.581389178370117)] \n",
      "\n",
      "Angelo ->  [('samsung galaxy a5 2016', 9.667763025827877), ('nokia lumia 720', 9.56139696140599), ('huawei honor 7', 9.359593608114878), ('samsung galaxy s6 edgeplus', 9.34883616216825), ('cubot x15', 9.170281139913143)] \n",
      "\n",
      "Cliente Amazon ->  [('cubot s108', 9.927254782857753), ('htc one m8s', 9.73787555160847), ('nokia 6600', 9.613282368746226), ('alcatel one touch pop c1', 9.20833654195251), ('alcatel one touch pop c1', 9.20833654195251)] \n",
      "\n",
      "massimo ->  [('huawei p8', 9.43121903202332), ('asus zenfone 2', 9.127001985887462), ('asus zenfone 2', 9.127001985887462), ('asus zenfone 2', 9.127001985887462), ('asus zenfone 3', 9.12592945031138)] \n",
      "\n",
      "Client d'Amazon ->  [('meizu pro 6', 9.36574679479372), ('elephone s7', 9.06104867801285), ('lenovo k6 dual', 8.75177591965478), ('sony xperia x compact', 8.645549611775705), ('acer liquid jade z', 8.492640906110452)] \n",
      "\n",
      "Matthew ->  [('motorola moto x', 9.651617680741932), ('blackberry priv', 8.937350416935336), ('yota yotaphone 2', 8.880731385187017), ('motorola moto g', 8.285814255905505), ('huawei honor 5x', 8.145896817256874)] \n",
      "\n",
      "Sophie ->  [('nokia lumia 625', 9.749084705227762), ('microsoft lumia 950', 9.352297847278514), ('asus zenfone 3 max', 9.307321237994035), ('nokia lumia 520', 9.195838680857173), ('huawei p9 lite', 9.030429238316863)] \n",
      "\n",
      "dolunay ->  [('samsung sgh e840', 9.550859730722312), ('nokia e5', 9.420476821350938), ('nokia 6288', 9.320505931946965), ('blackberry curve 8300', 9.309051433342301), ('nokia 5233', 9.047536977166018)] \n",
      "\n",
      "Luca ->  [('xiaomi mi 3', 9.539558934856627), ('alcatel onetouch 20 04', 9.38271817691178), ('huawei ascend y550', 9.373682403158595), ('nokia lumia 720', 9.110493262097691), ('sony xperia x compact', 9.063832037345934)] \n",
      "\n",
      "Eva ->  [('samsung galaxy gio s5660', 8.713743606385286), ('samsung galaxy j5', 8.404805778147946), ('cubot note s', 8.365207099894581), ('lg k10', 8.308185911176189), ('samsung galaxy note 5 sm n920f', 8.178598409171476)] \n",
      "\n",
      "Angel ->  [('samsung galaxy mini 2 s6500', 9.790423915069304), ('samsung gt i8160', 9.734741240774689), ('nokia lumia 810', 9.367831049206274), ('apple iphone 6s plus', 9.308147167015855), ('nokia lumia 930', 9.148851482749297)] \n",
      "\n",
      "Amazon Kunde ->  [('nokia 6210', 10), ('lg e440 optimus l4 ii', 9.676702305322495), ('htc one m8s', 9.540350980841728), ('blackberry z30', 9.09906821211559), ('nokia 3310', 9.044015626037542)] \n",
      "\n",
      "Matteo ->  [('siemens cx65', 9.89018671577388), ('huawei ascend y550', 9.695292164678172), ('samsung galaxy nexus', 9.471654265705952), ('samsung galaxy s3 mini', 9.433094410214204), ('nokia lumia 925', 9.34272440488415)] \n",
      "\n",
      "Laura ->  [('samsung galaxy mega 6 3 i9200', 9.8046204530177), ('huawei y6', 9.397654256750032), ('apple iphone 7', 9.351732971800809), ('sony ericsson xperia pro', 9.256428515308306), ('apple iphone 6', 9.126849474290417)] \n",
      "\n",
      "michael ->  [('nokia lumia 930', 9.750462789701393), ('samsung galaxy note iii', 9.74514128323436), ('sony xperia x f5121', 9.54335547258306), ('samsung galaxy s4 zoom', 9.404515038027075), ('motorola razr v3 v3a v3m v3c', 9.265129354941788)] \n",
      "\n",
      "mario ->  [('nokia asha 309', 9.272271360026771), ('huawei y6', 8.995422565336394), ('motorola moto g4', 8.829914483948304), ('apple iphone 5s', 8.58863546842463), ('sony xperia z5', 8.561877193092785)] \n",
      "\n",
      "andrea ->  [('samsung galaxy mega 6 3 i9200', 9.750141445949328), ('samsung galaxy j5', 9.31505595476862), ('nokia lumia 930', 9.21083361067288), ('microsoft lumia 532', 9.125207997445967), ('alcatel one touch 1010d', 9.010627939365516)] \n",
      "\n",
      "Phil ->  [('nokia 2710', 9.951100783576877), ('huawei honor 6', 9.834525689244844), ('samsung sgh s425', 9.47441561377195), ('huawei p8', 9.431877587882278), ('doro phoneeasy 612', 9.430298838480493)] \n",
      "\n",
      "Dan ->  [('lg vx8360', 10), ('blackberry pearl 8100', 9.579460117045265), ('apple iphone se', 9.340925105764153), ('samsung galaxy s4 mini gt i9190 gt i9192 dual sim', 9.293428931896061), ('apple iphone 4', 9.202698150205507)] \n",
      "\n",
      "Ð¡Ð²ÐµÑÐ»Ð°Ð½Ð° ->  [('lenovo a2010', 9.712796666710902), ('lg optimus l3 ii e430 e425', 9.691608116408444), ('lg e440 optimus l4 ii', 9.622558645876989), ('samsung galaxy j5', 9.486045290096499), ('sony xperia zr', 9.439186512123324)] \n",
      "\n",
      "Julia ->  [('apple iphone 7', 9.453604517340171), ('apple iphone 7', 9.453604517340171), ('samsung galaxy j7', 9.42184894529065), ('huawei p8', 9.123454397710212), ('sony xperia sp', 8.983920975391563)] \n",
      "\n",
      "Adam ->  [('huawei honor 6x', 9.950363190044605), ('apple iphone 6s', 9.759064391283465), ('motorola moto x', 9.470638274479771), ('motorola moto x', 9.470638274479771), ('sony xperia xz', 9.24605274973041)] \n",
      "\n",
      "luis ->  [('blackberry priv', 9.01119176628323), ('nokia lumia 930', 8.828309314577432), ('asus zenfone 3', 8.429023222059667), ('doro phoneeasy 610gsm', 8.30529893549952), ('samsung galaxy s iii neo i9300i', 8.302065796389307)] \n",
      "\n",
      "Rose ->  [('samsung galaxy core', 8.493990217649609), ('nokia 7230', 8.40540111894126), ('nokia lumia 635', 7.840057746514548), ('lg g3 stylus d690', 7.513970612629601), ('sanyo pro 700', 7.408333342116161)] \n",
      "\n",
      "ÐÐ½Ð°ÑÑÐ°ÑÐ¸Ñ ->  [('sony xperia tx', 10), ('apple iphone 6s', 9.607434040744717), ('apple iphone 6s plus', 9.56035688082821), ('nokia 206', 9.547321672010813), ('samsung galaxy note 2', 9.460912043079794)] \n",
      "\n",
      "Paula ->  [('apple iphone 7', 9.514055395987153), ('apple iphone 7', 9.514055395987153), ('sony xperia z2', 9.3501688696755), ('lg optimus one p500', 9.027498441369843), ('huawei honor 6', 8.628157442054707)] \n",
      "\n",
      "Fred ->  [('apple iphone 5s', 9.516238236012036), ('huawei nova', 9.084272912910455), ('lg g2 594708', 8.693100404645842), ('sony xperia z5', 8.683145031027095), ('huawei p8 lite', 8.474510408204013)] \n",
      "\n",
      "Oks ->  [('nokia e66', 9.258952893732838), ('nokia 7500 prism', 9.038720080939507), ('sony ericsson c510', 8.667083057495093), ('lg kp500', 8.05789292856509), ('nokia 5530 xpressmusic', 8.038133082457755)] \n",
      "\n",
      "Fabio ->  [('huawei ascend g620s', 9.458322385770224), ('samsung galaxy note 2', 9.378298617090977), ('htc incredible s', 9.341404232912616), ('samsung galaxy s6', 9.248547569291654), ('nokia lumia 520', 9.10154417344134)] \n",
      "\n",
      "ÐÐ¸Ð¼Ð° ->  [('nokia lumia 720', 9.790671605016103), ('lg p713 optimus l7 ii', 9.625254094481068), ('samsung galaxy s ii', 9.140855756177961), ('samsung galaxy s5', 8.936767190436672), ('apple iphone 5s', 8.671940720872493)] \n",
      "\n",
      "Davide ->  [('huawei honor 6', 10), ('huawei honor 4x', 9.904044200210242), ('huawei ascend mate 7', 9.478653089512381), ('samsung galaxy s6', 9.358088888742044), ('sony xperia m2', 9.294142274902208)] \n",
      "\n",
      "Dave ->  [('cubot p6', 9.467369506061969), ('lg x power', 9.278768442459663), ('lg optimus g pro', 8.964569357636046), ('huawei honor 5x', 8.800726888236952), ('samsung galaxy j5 4g lte 5 2 inches', 8.758805303244653)] \n",
      "\n",
      "Roland ->  [('huawei ascend mate 8', 10), ('nokia lumia 625', 10), ('microsoft lumia 640 dual sim', 9.769177755049476), ('lenovo moto g4', 9.526371190929082), ('cubot note s', 9.065680511456616)] \n",
      "\n",
      "emre ->  [('lg optimus g pro', 9.501843095023332), ('nokia asha 202', 8.924702329328259), ('samsung galaxy s ii', 8.857994553569833), ('nokia e6', 8.767739009076505), ('lg p713 optimus l7 ii', 8.731289380552395)] \n",
      "\n",
      "Giorgio ->  [('huawei p9 797082', 9.053017179094018), ('samsung galaxy s ii', 8.847944622064828), ('samsung galaxy s ii plus', 8.795672270039146), ('apple iphone 5s', 8.75177207165736), ('xiaomi redmi note 2', 8.595338141636496)] \n",
      "\n",
      "Michael ->  [('samsung galaxy note 5 sm n920f', 9.222222553369113), ('apple iphone 7', 9.051394047684632), ('apple iphone 7', 9.051394047684632), ('samsung galaxy s7 789999', 8.76535282482706), ('samsung galaxy s7 789999', 8.76535282482706)] \n",
      "\n",
      "Alessio ->  [('motorola moto x 1 moto x1 moto x 2nd gen', 10), ('cubot x15', 9.544214734488166), ('nokia lumia 625', 9.456616205811065), ('nokia lumia 735', 9.400313142165716), ('samsung galaxy s6', 9.300130766884248)] \n",
      "\n",
      "ÐÐ»ÐµÐ³ ->  [('samsung galaxy mega 6 3 i9200', 10), ('lenovo p700i', 10), ('sony xperia z 504642', 9.845612751676306), ('lenovo p70', 9.740443887723568), ('samsung galaxy a3 819970', 9.678934146922481)] \n",
      "\n",
      "Claudia ->  [('lg k10', 9.278906500788983), ('huawei ascend g700', 9.075425001790716), ('motorola moto g', 9.025083153994064), ('nokia 6303i', 8.939712990460517), ('huawei honor 6', 8.904937671127998)] \n",
      "\n",
      "einer Kundin ->  [('huawei p10 plus', 9.961641982426716), ('samsung galaxy a3 819970', 7.986573784992827), ('huawei nova', 7.797629846386947), ('apple iphone 6s', 7.492008173222909), ('samsung galaxy a5 2017', 7.208379338502879)] \n",
      "\n",
      "Chris ->  [('lg vx8360', 10), ('sony ericsson w850i', 9.54768931196208), ('samsung rugby ii', 9.541368856282368), ('apple iphone 6s', 9.349909762098616), ('samsung galaxy a3 819970', 9.287812716726055)] \n",
      "\n",
      "# ->  [('samsung sgh x700', 9.928277540875598), ('samsung e1081', 9.810946827384182), ('samsung wave 525 s5250', 9.693505985117858), ('nokia e52', 9.645271627639236), ('samsung e1080', 9.607994584225661)] \n",
      "\n",
      "Carlo ->  [('asus ze550kl', 9.53922165538538), ('lg g2 594708', 9.320818012358645), ('blackberry priv', 9.233375818120422), ('samsung galaxy j5', 8.935473059820625), ('samsung galaxy s duos s7562', 8.8724947060225)] \n",
      "\n",
      "Emanuele ->  [('asus zenfone 3', 9.793003368923813), ('lg l90 d410', 9.757979253752179), ('motorola moto g 753361', 9.57256395566138), ('motorola moto g 753361', 9.57256395566138), ('huawei ascend g700', 9.275299493327921)] \n",
      "\n",
      "Mark ->  [('blackberry curve 8330', 9.593493782525746), ('huawei honor 5x', 9.44038029276344), ('samsung blackjack sgh i607', 9.282592995924944), ('samsung blackjack sgh i607', 9.282592995924944), ('huawei u8850 vision', 9.186131666639122)] \n",
      "\n",
      "emanetcan ->  [('samsung sgh e840', 9.778631291779762), ('samsung f400', 9.589166057844743), ('samsung g810', 9.515156977311035), ('samsung sgh e370', 9.503718433563774), ('nokia 6120 classic', 9.459839869576443)] \n",
      "\n",
      "gulsen28 ->  [('nokia 6120 classic', 9.574790115116494), ('samsung sgh b300', 9.54270283738131), ('samsung sgh i560', 9.470446738687574), ('nokia n72', 9.419199419350283), ('sony ericsson c903', 9.379135997281523)] \n",
      "\n",
      "ÐÐ°ÑÐ¸Ñ ->  [('samsung galaxy note 2', 9.565625429855965), ('lg x power', 9.453726440890513), ('sony xperia tipo', 9.408673934885119), ('sony xperia z1', 9.392734669274834), ('samsung galaxy a3', 9.31293588273908)] \n",
      "\n",
      "Terry ->  [('nokia lumia 920', 9.610285865605562), ('samsung galaxy a3 819970', 9.510767133792971), ('alcatel one touch pixi 3', 8.987806052077637), ('huawei ascend y330', 8.986471885643983), ('lg d686 g pro lite dual', 8.260303911869084)] \n",
      "\n",
      "Lucas ->  [('lg g2 594708', 9.673717447034374), ('samsung galaxy s iii', 9.505506892347976), ('apple iphone 7', 9.243794654188198), ('apple iphone 7', 9.243794654188198), ('microsoft lumia 640 xl', 8.7491651882558)] \n",
      "\n",
      "Gaurav ->  [('motorola moto z play', 8.849632466250137), ('zte axon 7', 8.367388405436913), ('asus ze550kl', 8.352837247046935), ('motorola moto e', 7.756381110037849), ('motorola moto e 2 lte', 7.263511087574697)] \n",
      "\n",
      "Emily ->  [('huawei p9 lite', 9.608346784119995), ('samsung i9500 galaxy s iv', 8.984055222508161), ('samsung galaxy note iii', 8.982516342143775), ('lg venus vx 8800', 8.852539274374996), ('htc one m9', 8.822211283857033)] \n",
      "\n",
      "???????????? ?????????????? ->  [('apple iphone 4s', 9.758594494141379), ('nokia lumia 820', 9.654807362033154), ('samsung gt i8160', 8.88632490469875), ('samsung gt i8160', 8.88632490469875), ('lenovo a660', 8.886215199934961)] \n",
      "\n",
      "narn3049 ->  [('samsung sch a650', 10), ('nokia 8800', 10), ('htc nexus one', 10), ('lg vx 9400', 10), ('samsung rugby ii', 10)] \n",
      "\n",
      "Michelle ->  [('lg l90 d410', 9.299795783214456), ('samsung galaxy s5', 9.273070888625641), ('lg g2 594708', 8.931130077738022), ('asus zenfone 2 ze551ml', 8.537267730537309), ('blackberry 9720', 8.429932381599503)] \n",
      "\n",
      "Sarah ->  [('apple iphone 6s plus', 9.994535573207159), ('apple iphone 6s', 9.31809264586903), ('huawei honor 7', 9.098398998125607), ('thl 4000', 9.081765553980466), ('microsoft lumia 535', 8.877306835523942)] \n",
      "\n",
      "Andreas ->  [('blackberry z30', 9.651989538009822), ('samsung galaxy s plus', 9.637611305501723), ('sony ericsson xperia pro', 9.571180509613942), ('nokia 2710', 9.462102901865727), ('sony ericsson k770i', 9.097149786508696)] \n",
      "\n",
      "Melissa ->  [('apple iphone 5c', 9.052815093659946), ('motorola rokr z6m', 8.942496166946922), ('blackberry q5', 8.711637570365113), ('blu studio x', 8.531664169677029), ('samsung galaxy s7 789999', 8.336932311250417)] \n",
      "\n",
      "ÐÐ»ÑÑ ->  [('samsung galaxy a3 819970', 9.81179258796525), ('samsung galaxy note 2', 9.781484655433506), ('samsung galaxy ace 3', 9.761350323119007), ('sony xperia zr', 9.742696274861785), ('lg gt540', 9.654756584342634)] \n",
      "\n",
      "James ->  [('apple iphone 7', 9.31416793100511), ('samsung i8510 innov8', 9.307071725283484), ('samsung f400', 9.005689857206828), ('lg g3 d855 657484', 9.0002504982152), ('blackberry classic', 8.817053486747543)] \n",
      "\n",
      "Dario ->  [('huawei honor 4x', 9.370109648952123), ('huawei p9 lite', 9.319160149284516), ('samsung galaxy a5 2016', 9.297016063154398), ('huawei mate 9', 9.252262689645933), ('motorola moto g', 9.160641179788065)] \n",
      "\n",
      "Scott ->  [('huawei mate 9', 9.36549857477026), ('htc m8', 9.295834584888), ('sony xperia z1', 9.19572623256254), ('samsung galaxy s6 edge sm g925f', 8.667950318467668), ('samsung galaxy s6 edgeplus', 8.215237810777202)] \n",
      "\n",
      "Silvia ->  [('huawei y6', 9.789694765821597), ('panasonic x70', 9.01694529709049), ('xiaomi mi 3', 8.987175132946465), ('samsung galaxy j5 4g lte 5 2 inches', 8.872423777052674), ('nokia lumia 625', 8.627196905402213)] \n",
      "\n",
      "Tony ->  [('binatone speakeasy 210', 9.996071154527804), ('motorola xt1225', 9.586033317989735), ('apple iphone 5s', 9.04834631050937), ('huawei honor 6', 9.041943784930762), ('lg e440 optimus l4 ii', 8.974161363790767)] \n",
      "\n",
      "retkit ->  [('nokia 5250', 9.906149507050541), ('samsung e1081', 9.809766858080767), ('samsung sgh e740', 9.680764308802214), ('nokia 6288', 9.554231783847122), ('nokia n72', 9.549142959545264)] \n",
      "\n",
      "Sam ->  [('apple iphone 6s plus', 9.504780132656064), ('zte axon 7', 9.338790436566766), ('samsung galaxy a3 2016', 9.202278888948939), ('samsung wave 723 gt s7230e', 9.163090912520392), ('asus zenfone 3', 9.107608212611936)] \n",
      "\n",
      "claudio ->  [('lg optimus l7 ii dual', 10), ('asus zenfone 3', 9.788497486971519), ('siemens cx65', 9.667142810027492), ('samsung galaxy a5 2016', 9.36594242254782), ('motorola moto x 1 moto x1 moto x 2nd gen', 9.309492234178414)] \n",
      "\n",
      "Toni ->  [('lg gm205', 10), ('samsung galaxy note 2', 9.664883598333226), ('nokia lumia 625', 9.296728715377924), ('sony xperia x f5121', 8.206386078113688), ('motorola moto e', 8.148585520258521)] \n",
      "\n",
      "Paul ->  [('casio g zone ravine 2', 8.998674221219153), ('apple iphone 6s plus', 8.88598864831157), ('nokia 6700 classic', 8.792661121079085), ('asus padfone x mini', 8.769135879806411), ('nokia lumia 920', 8.736020803186456)] \n",
      "\n",
      "Alessandro ->  [('blackberry z30', 9.823709755774972), ('apple iphone 6s', 9.776926556514262), ('nokia lumia 720', 9.621167184411407), ('apple iphone se', 9.585495833363849), ('huawei mate s', 9.341833666636585)] \n",
      "\n",
      "roberto ->  [('blackberry z30', 9.77842131814782), ('nokia 1209', 9.644488010825427), ('samsung ativ s', 9.216071786517368), ('samsung galaxy core', 9.034767759968632), ('sony xperia z1 compact d5503', 8.985556732802038)] \n",
      "\n",
      "Jonathan ->  [('samsung galaxy mega 6 3 i9200', 10), ('huawei inspira h867g', 10), ('google nexus 6', 9.263136549099727), ('huawei ascend y550', 9.227610568764756), ('apple iphone 5s', 9.085975757663244)] \n",
      "\n",
      "missing ->  [('sony k790i', 9.486162419177877), ('samsung sgh b300', 9.470655349510654), ('samsung d880 duos', 9.285920449467731), ('sony ericsson z320i', 9.171558486189667), ('blackberry 8800', 9.025611183413167)] \n",
      "\n",
      "Sunny ->  [('apple iphone 6s', 9.240689481591144), ('motorola moto z play', 8.071543827881833), ('samsung galaxy s3 mini', 7.473075270228261), ('samsung galaxy s3 mini', 7.473075270228261), ('sony ericsson c905', 7.467442389709076)] \n",
      "\n",
      "Manuela ->  [('lg h410', 10), ('samsung sgh e250', 9.97044491863786), ('huawei p8', 9.893115277659529), ('samsung galaxy core prime', 9.44803607991699), ('huawei y6', 9.162649746667782)] \n",
      "\n",
      "Thomas ->  [('sony ericsson k770i', 10), ('cubot bobby', 9.995388548986796), ('nokia lumia 930', 9.160550630382124), ('samsung galaxy s8 plus', 9.045785957020808), ('samsung galaxy s6', 9.042840600618261)] \n",
      "\n",
      "Liz ->  [('lg env', 8.84380866657622), ('nokia lumia 710', 8.511483372646266), ('samsung galaxy y s5360', 8.36932233538896), ('doro phoneeasy 612', 8.358175395885835), ('vodafone smart first 6', 8.029016469593497)] \n",
      "\n",
      "Linda ->  [('sony ericsson k530i', 8.76961867094508), ('huawei prism ii', 8.687921445163282), ('nokia 7610 supernova', 8.56616651703488), ('sony xperia z5', 8.513785209977463), ('blackberry passport', 8.383644912607615)] \n",
      "\n",
      "Lee ->  [('samsung galaxy j3 duos', 9.333738076589292), ('lg g4', 9.20670415774837), ('microsoft lumia 640 dual sim', 9.031452468012112), ('apple iphone 7', 8.462465832522899), ('motorola krave zn4', 8.27348128235666)] \n",
      "\n",
      "Marina ->  [('apple iphone 7', 7.843677697100325), ('sony ericsson xperia x10 mini pro', 7.745440685859744), ('samsung gt s3570', 7.69620576858456), ('lg rumor2', 7.557961237367982), ('nokia 215 dual sim', 7.495494094057419)] \n",
      "\n",
      "ÐÐ½Ð´ÑÐµÐ¹ ->  [('zte v880', 9.436989208052), ('sony xperia z5', 9.42285458414333), ('apple iphone se', 9.335665174272092), ('lg e440 optimus l4 ii', 9.215341329786398), ('samsung galaxy s3 mini', 9.192149078800941)] \n",
      "\n",
      "Roberto ->  [('nokia 112', 9.637114169942599), ('nokia lumia 720', 9.381453371914812), ('alcatel one touch 997d ot 997d', 9.343497893359034), ('samsung galaxy y s5360', 9.269856362556595), ('huawei p9 plus', 9.16946107478614)] \n",
      "\n",
      "Alfonso ->  [('samsung galaxy s6 edge sm g925f', 9.490270431969591), ('motorola moto x', 9.207154455646613), ('huawei p8', 9.182852465595316), ('nokia 1112', 9.161847536415848), ('motorola moto g4', 8.719129482939312)] \n",
      "\n",
      "javier ->  [('zte blade v7 lite', 9.726923648913738), ('htc one m9', 9.539855184767536), ('apple iphone 6s', 9.27293197009646), ('huawei honor 6', 9.266280548196518), ('blackberry passport', 9.22898442713353)] \n",
      "\n",
      "Florian ->  [('palm pre plus', 9.245680792944734), ('sony ericsson w810i', 8.798919941346934), ('sony ericsson xperia arc s', 8.79407259711988), ('samsung galaxy s ii plus', 8.773131176414404), ('nokia lumia 830', 8.769027881788846)] \n",
      "\n",
      "John ->  [('htc one m8s', 9.620687526491269), ('sony xperia z5', 9.597944707360117), ('blackberry passport', 9.523872432291071), ('nokia lumia 930', 9.433655301201389), ('blackberry z30', 9.427770341220493)] \n",
      "\n",
      "Paolo ->  [('alcatel onetouch 20 04', 9.702687134482264), ('alcatel onetouch 20 04', 9.702687134482264), ('alcatel idol 3', 9.552336676258676), ('apple iphone 6s', 9.550035503613262), ('asus zenfone 3 max', 9.471914449687795)] \n",
      "\n",
      "???????????????? ???????? ->  [('samsung gt e1200', 9.781861372021162), ('apple iphone 4s', 9.502606052601541), ('htc desire c golf wildfire c', 8.757731399392323), ('samsung gt i8160', 8.113762580332537), ('samsung galaxy note', 7.974656703143962)] \n",
      "\n",
      "Aditya ->  [('oneplus one 64gb', 9.294707018099908), ('oneplus one 64gb', 9.294707018099908), ('oneplus one 64gb', 9.294707018099908), ('blackberry priv', 7.9616722446358175), ('asus ze500kl', 7.933024613383056)] \n",
      "\n",
      "Ð¡ÐµÑÐ³ÐµÐ¹ ->  [('samsung e1081', 9.862100488641387), ('apple iphone 6s', 9.699478201839066), ('meizu pro 6', 9.441479997068791), ('samsung galaxy a5 2016', 9.349614574876671), ('samsung galaxy a5 2016', 9.349614574876671)] \n",
      "\n",
      "Miguel ->  [('elephone p6000 pro', 9.484688851337424), ('nokia lumia 930', 9.429729123290985), ('sony xperia z 504642', 9.274308056711666), ('nokia asha 302', 9.258991924487615), ('lg g2 594708', 9.150872851601761)] \n",
      "\n",
      "Danny ->  [('htc amaze 4g', 10), ('lg prime gs390', 9.156927601991397), ('samsung galaxy s6', 9.13882288677885), ('huawei p8', 9.12627891389009), ('htc legend', 8.986330017148818)] \n",
      "\n",
      "91mobiles Customer ->  [('samsung galaxy j5', 9.831432745225149), ('lenovo vibe x3', 9.465199322688246), ('htc one x9', 9.34132048361122), ('lenovo vibe s1', 9.238548422178127), ('lenovo zuk z1', 8.417652814192842)] \n",
      "\n",
      "Oscar ->  [('nokia lumia 520', 9.552331563661413), ('sony ericsson k790', 9.041284923200287), ('huawei honor 3', 8.892925529609172), ('huawei ascend p7', 8.829703701706505), ('wileyfox swift', 8.645425549229056)] \n",
      "\n",
      "Bill ->  [('apple iphone 6s plus', 9.884346136069318), ('htc one m7', 9.861306963705466), ('blu vivo 5r', 9.593919495743405), ('nokia lumia 920', 9.498585243298757), ('vodafone 785 smart 4 mini', 9.472884883147968)] \n",
      "\n",
      "stefano ->  [('htc one xplus', 9.656297906760232), ('samsung galaxy j5', 9.47405764155744), ('huawei ascend honor 3c', 9.449705832304506), ('siemens m65', 9.292392370545201), ('lg k10', 9.240008898714533)] \n",
      "\n",
      "Steven ->  [('blackberry priv', 10), ('samsung sph m390', 10), ('samsung galaxy j5', 10), ('sony xperia z5', 10), ('motorola moto g 4 plus', 9.95855166771262)] \n",
      "\n",
      "William ->  [('samsung galaxy s6', 9.417800714387699), ('nokia n95', 9.011525004570323), ('huawei ascend mate', 8.908709142362273), ('dell venue pro', 8.626937522572385), ('sony xperia z 504642', 8.616072704931108)] \n",
      "\n",
      "Nina ->  [('sony xperia z2', 9.521298989362414), ('samsung galaxy s iii', 9.399714031298796), ('samsung galaxy ace s5830', 9.04785885024304), ('samsung e2550', 9.042430744772687), ('huawei ascend g7', 8.885863211336442)] \n",
      "\n",
      "Sharon ->  [('apple iphone 4s', 9.730816024356399), ('motorola moto x', 9.576874552211548), ('cubot note s', 8.980592549080141), ('motorola w490', 8.977183032398495), ('doro phoneeasy 605', 8.620490610663843)] \n",
      "\n",
      "ana ->  [('huawei ascend g7', 8.054839919202562), ('lg l70', 7.883221403174221), ('huawei ascend g510', 7.769180203762682), ('huawei ascend p6', 7.695110647464599), ('google nexus 5x h791', 7.59875167076573)] \n",
      "\n",
      "ÐÐ»ÐµÐºÑÐµÐ¹ ->  [('samsung c5212', 9.474920817020626), ('samsung galaxy s8', 9.376552198355675), ('lg optimus g', 9.367533483925282), ('lenovo ideaphone a706', 9.334109328813119), ('samsung galaxy mega 5 8', 9.324861510188711)] \n",
      "\n",
      "Tobias ->  [('samsung galaxy a3 819970', 8.81119839152604), ('nokia 3310', 8.460283318946237), ('samsung galaxy note iii', 8.167163109237926), ('nokia 6500 classic', 7.9427747857272735), ('google nexus 5x h791', 7.8120459956090205)] \n",
      "\n",
      "nicola ->  [('lg l fino', 9.26365061771188), ('microsoft lumia 640 dual sim', 9.149989138383424), ('samsung galaxy note 3 neo 4g n7505', 9.136194250726922), ('blackberry curve 9380', 9.083659263984938), ('sharp gx20', 8.982551854216556)] \n",
      "\n",
      "sergio ->  [('samsung genoa c3510', 9.165571694029081), ('alcatel idol mini 6012', 8.940605590481603), ('huawei ascend p7', 8.89708622883201), ('lg google nexus 5', 8.8248978626811), ('sony xperia miro', 8.684101233147775)] \n",
      "\n",
      "Matt ->  [('nokia n75', 10), ('samsung e950', 9.539337474120082), ('zte zmax 2', 9.145638761943138), ('samsung ativ s', 8.572333341616192), ('htc titan', 8.394514556815562)] \n",
      "\n",
      "daniel ->  [('huawei ascend mate 7', 9.751681491279266), ('lg vx8600', 9.638988120444125), ('samsung galaxy j5 4g lte 5 2 inches', 9.600865757183694), ('lg l90 d410', 9.456472099195754), ('huawei ascend honor 3c', 9.455303702840707)] \n",
      "\n",
      "Victor ->  [('nokia lumia 930', 9.812240244559867), ('sony xperia z 504642', 9.665721493014477), ('motorola moto g4', 9.56636139804354), ('huawei g610', 9.562825100241545), ('motorola moto z play', 9.407563632057883)] \n",
      "\n",
      "Salvatore ->  [('asus ze500kl', 9.749623180367129), ('huawei ascend mate 8', 9.527207431376011), ('motorola moto g', 9.507909767425149), ('cubot p6', 9.219650834385076), ('lg k8', 9.179373841545361)] \n",
      "\n",
      "david ->  [('inew v3', 10), ('huawei ascend g620s', 9.65011318140485), ('nokia lumia 520', 9.503584347743168), ('lg l90 d410', 8.905494245243188), ('huawei ascend mate 7', 8.89017987821448)] \n",
      "\n",
      "kevin ->  [('lenovo s660', 8.492260644549887), ('htc one m9', 8.289629225770863), ('samsung gt i8160', 8.137787498451027), ('nokia lumia 710', 7.796445429689111), ('sony xperia e4', 7.398945567459054)] \n",
      "\n",
      "???????????? ->  [('acer cloudmobile', 10), ('lenovo k900', 9.449913316654103), ('apple iphone 4s', 9.386217219082706), ('sony ericsson xperia neo v', 9.352410985690709), ('samsung gt i8160', 9.246152427853001)] \n",
      "\n",
      "Arun ->  [('samsung galaxy j5 4g lte 5 2 inches', 9.387737977448337), ('motorola moto x', 9.271747527676215), ('sony xperia z5', 9.124515131855633), ('huawei honor 6x', 9.118132390309947), ('motorola moto g4', 8.952288075209118)] \n",
      "\n",
      "Al ->  [('nokia 6021', 9.448641219875745), ('lenovo moto g4', 9.192208002797733), ('samsung galaxy s7 789999', 8.787605568101005), ('samsung galaxy s7 789999', 8.787605568101005), ('sony xperia t2 ultra', 8.767967485649498)] \n",
      "\n",
      "Rahul ->  [('apple iphone 7', 9.070630868777993), ('samsung gt e1200', 9.00540023279985), ('apple iphone 6s', 8.995477878742035), ('apple iphone 6s', 8.995477878742035), ('motorola em30', 8.987309482808769)] \n",
      "\n",
      "ÐÐ»Ð°Ð´Ð¸ÑÐ»Ð°Ð² ->  [('samsung galaxy note iii', 9.853472362536678), ('samsung galaxy j5', 9.495479479847326), ('lg k10', 9.234851694159637), ('samsung galaxy s6', 9.218195961255146), ('htc desire hd', 9.178399520239406)] \n",
      "\n",
      "luca ->  [('lg e450 optimus l5 ii', 9.566990432348277), ('alcatel onetouch 20 04', 9.444015059226071), ('blackberry z30', 9.25334462603016), ('samsung galaxy a5 2016', 9.114221132501267), ('asus zenfone 3', 9.067337222174707)] \n",
      "\n",
      "JosÃ© ->  [('samsung galaxy j7', 9.95713900709873), ('meizu mx4', 9.482807486653938), ('microsoft lumia 640 dual sim', 9.395529180244448), ('microsoft lumia 640 dual sim', 9.395529180244448), ('lenovo k6 dual', 9.36909108213916)] \n",
      "\n",
      "Leo ->  [('zopo zp980', 10), ('lg l90 d410', 9.89333903823761), ('huawei p8', 9.431240755675205), ('samsung galaxy a3 2016', 9.288545057717814), ('samsung galaxy s7 789999', 9.269056775449082)] \n",
      "\n",
      "Marco ->  [('samsung galaxy grand duos i9080 i9082', 9.48656047270182), ('blackberry z30', 9.412489012069816), ('nokia lumia 520', 9.230790863179429), ('samsung m8800 pixon', 9.184641486539615), ('nokia lumia 620', 9.116053865923021)] \n",
      "\n",
      "Kindle Customer ->  [('lg vx8360', 10), ('sony xperia xa ultra', 9.498422283267608), ('blu win jr', 9.40085702141171), ('blackberry curve 8520', 9.13558533975539), ('samsung galaxy s7 789999', 9.065158454331643)] \n",
      "\n",
      "Martin ->  [('htc hd7', 9.601743246670367), ('nokia 3200', 9.440823221399452), ('lenovo moto g4', 9.212617216176929), ('samsung sgh z400', 9.0), ('apple iphone 7', 8.96928961743577)] \n",
      "\n",
      "Amy ->  [('apple iphone 7', 9.056404505677307), ('apple iphone 6s plus', 8.85988941947787), ('blackberry 9720', 8.361762364922628), ('blackberry curve 3g 9300', 8.098913460945136), ('nokia lumia 630', 7.811007313578035)] \n",
      "\n",
      "Vijay ->  [('lenovo vibe s1', 9.043703932994736), ('htc desire 620g', 8.860760703821992), ('samsung galaxy j5 4g lte 5 2 inches', 8.622487440924855), ('motorola moto x 2', 8.516747247846485), ('oneplus 3t', 8.399578837578066)] \n",
      "\n",
      "ÐÐ»Ð°Ð´Ð¸Ð¼Ð¸Ñ ->  [('samsung galaxy s8', 9.87065155738922), ('huawei honor 8', 9.603514718317719), ('samsung galaxy j7', 9.59345803691657), ('apple iphone 6s plus', 9.436353221322175), ('lg k7', 9.389456992873393)] \n",
      "\n",
      "Andrew ->  [('apple iphone 6s plus', 9.668797252068185), ('samsung galaxy s8 plus', 9.391972217280996), ('htc one mini', 9.271222059464973), ('htc one max', 9.062471599864674), ('htc 10', 8.980582063924887)] \n",
      "\n",
      "Chiara ->  [('apple iphone 4s', 9.306634692791551), ('samsung galaxy ch t b5330', 8.86061240398806), ('lg g2 594708', 8.745096714102127), ('samsung galaxy s7 edge', 8.66019632955843), ('sony xperia sp', 8.639566170021267)] \n",
      "\n",
      "Eric ->  [('htc amaze 4g', 10), ('samsung galaxy s7 789999', 9.420688302744633), ('nokia lumia 735', 9.306187456793898), ('lg e450 optimus l5 ii', 9.158099946575906), ('apple iphone 6', 9.093640690294496)] \n",
      "\n",
      "Ricardo ->  [('nokia lumia 930', 9.36690142921978), ('apple iphone 6', 9.178107413436237), ('lg optimus l9 p760', 9.13610849493873), ('huawei ascend p7', 9.129250614849704), ('samsung galaxy core', 8.857881194910107)] \n",
      "\n",
      "AndrÃ© ->  [('samsung ativ s', 9.392698644111013), ('nokia lumia 625', 8.644572889832924), ('alcatel one touch pop c5 5036d', 8.507832732802402), ('huawei p8 lite', 8.498079311478108), ('samsung galaxy trend lite gt s7390', 8.093507315956947)] \n",
      "\n",
      "???????????? ???????? ->  [('nokia asha 302', 9.554227117205444), ('nokia asha 302', 9.554227117205444), ('samsung gt i8160', 8.757044894474639), ('htc sensation xe', 8.607250807672797), ('sony ericsson xperia arc s', 8.572181532918993)] \n",
      "\n",
      "Alexander ->  [('lg g2 mini', 9.448058174940897), ('huawei ascend mate', 9.406311601157443), ('samsung galaxy j5', 9.392120019955616), ('huawei honor 7', 9.33125224664287), ('lg e440 optimus l4 ii', 9.134111679153019)] \n",
      "\n",
      "AJ ->  [('motorola v620', 10), ('zopo zp980', 9.27755619876417), ('apple iphone 6', 9.064499969821867), ('nokia 808', 9.05857150027016), ('nokia 6085', 8.789950907784654)] \n",
      "\n",
      "ÐÐ°ÐºÑÐ¸Ð¼ ->  [('huawei nova', 9.606137838297581), ('sony xperia tx', 9.318224934682418), ('sony xperia c', 9.296727267498065), ('nokia 5230', 9.269321773548937), ('nokia 6303', 9.194718145840644)] \n",
      "\n",
      "Anthony ->  [('apple iphone 7', 9.50723546655164), ('apple iphone 7', 9.50723546655164), ('samsung galaxy ace s5830', 9.11042092698629), ('lg eclipse 4g lte', 8.745804618968645), ('nokia lumia 810', 8.38010600161552)] \n",
      "\n",
      "Giuseppe ->  [('samsung c3520', 9.770832908970409), ('siemens cx65', 9.583070377529959), ('wiko fever', 9.337105726000985), ('wiko fever', 9.337105726000985), ('samsung galaxy j5', 9.219900927494997)] \n",
      "\n",
      "einem Kunden ->  [('huawei p10 plus', 9.969091215042457), ('huawei nova', 9.581242418654648), ('huawei p8 lite 2017', 8.744271181831687), ('huawei p9 lite', 8.703704698133452), ('huawei p9 lite', 8.703704698133452)] \n",
      "\n",
      "Pseudonym ->  [('lg optimus l5 e610', 9.007329466334415), ('samsung galaxy s6 edgeplus', 8.509828895880585), ('huawei ascend y550', 8.450793221801117), ('samsung galaxy a5', 8.408094224290265), ('sony xperia z5', 8.145183914127397)] \n",
      "\n",
      "e-bit ->  [('samsung e1207', 9.821179493664095), ('samsung galaxy j2 prime sm g532f', 9.354010797657308), ('samsung galaxy j2 prime sm g532f', 9.354010797657308), ('samsung galaxy j2 prime sm g532f', 9.354010797657308), ('lg k10', 9.100353109121558)] \n",
      "\n",
      "Amit ->  [('samsung galaxy s6', 8.629751116094866), ('samsung galaxy note iii', 7.866758823973875), ('samsung galaxy a8 a800fd', 7.729731875702634), ('htc desire 820', 7.623175583449645), ('xiaomi redmi note', 7.463693560850533)] \n",
      "\n",
      "Joe ->  [('samsung galaxy s6', 9.286831023441302), ('kyocera hydro', 8.991809465315669), ('huawei honor 6', 8.855389949231277), ('microsoft lumia 950', 8.66803526444377), ('sony ericsson xperia ray', 8.578593666986752)] \n",
      "\n",
      "Alberto ->  [('huawei ascend honor 3c', 9.604815232528905), ('huawei ascend honor 3c', 9.604815232528905), ('samsung galaxy core', 9.43674941282405), ('nokia lumia 930', 9.417510174119107), ('motorola moto x', 9.399130345067928)] \n",
      "\n",
      "Andi ->  [('lg kc910 196322', 10), ('samsung galaxy z r gt i9103', 9.192276439239802), ('samsung galaxy j5 4g lte 5 2 inches', 9.071711043176174), ('samsung galaxy s6', 8.99418175855958), ('apple iphone 7', 8.843453298073776)] \n",
      "\n",
      "Kindle-Kunde ->  [('nokia lumia 720', 9.678312556247914), ('nokia 5233', 9.445728992968697), ('samsung sgh e250', 8.88025894376383), ('sony xperia z3 compact', 8.805233979121633), ('samsung omnia ii i8000', 8.65654742050412)] \n",
      "\n",
      "ÐÐ¾ÑÑÑ ->  [('nokia x2 00 358331', 9.733626448271774), ('nokia e52', 9.694441913783985), ('nokia e52', 9.694441913783985), ('nokia c7 277394', 9.633442560156645), ('nokia 6303', 8.503304954828096)] \n",
      "\n",
      "Jack ->  [('samsung f400', 9.857281325709451), ('samsung sgh t401g', 9.358652178307091), ('nokia 6350', 9.087429255648363), ('huawei ascend p6', 9.013771349957187), ('samsung galaxy note', 8.924482959832941)] \n",
      "\n",
      "Eduardo ->  [('sony ericsson xperia pro', 9.759252130572222), ('blu a310a', 9.669580814860149), ('samsung ativ s', 9.065202702084854), ('samsung galaxy s5', 8.87905184138919), ('samsung galaxy s ii', 8.664053934147486)] \n",
      "\n",
      "Sebastian ->  [('sony ericsson xperia x8', 9.399912776694842), ('apple iphone 6s plus', 9.185451449631854), ('samsung galaxy s5', 8.981274193343983), ('sony xperia t', 8.922033342806348), ('samsung galaxy s4 mini gt i9190 gt i9192 dual sim', 8.733808266536768)] \n",
      "\n",
      "Ravi ->  [('samsung galaxy j7', 9.611526791816303), ('oneplus 3t', 7.865270631951345), ('lenovo vibe x3', 7.828040658488705), ('samsung e1207', 7.652145681198819), ('motorola moto g3', 7.462114111504118)] \n",
      "\n",
      "Jose ->  [('samsung galaxy nexus', 9.652477860910462), ('samsung galaxy s6', 9.243770958404507), ('samsung i9500 galaxy s iv', 9.168064189817722), ('lg e450 optimus l5 ii', 9.08588863185942), ('motorola moto e', 9.035508249568027)] \n",
      "\n",
      "Roberta ->  [('huawei honor 7', 9.791807383107075), ('asus zenfone go zc500tg', 9.630248330171304), ('samsung galaxy s7 789999', 9.573457584767885), ('huawei p9 lite', 9.38016042722368), ('nokia lumia 925', 9.216062666035567)] \n",
      "\n",
      "paolo ->  [('benq siemens s68', 10), ('asus zenfone 3', 9.70974681340423), ('apple iphone 6s', 9.558099185750358), ('htc m8', 9.411403709916362), ('alcatel one touch idol 6030d', 9.361329817598412)] \n",
      "\n",
      "unknown ->  [('meizu pro 6', 9.217044374675268), ('meizu pro 6', 9.217044374675268), ('lg google nexus 5', 9.14127329396625), ('samsung galaxy j2 prime sm g532f', 9.140248063254885), ('nokia lumia 930', 8.993146887828894)] \n",
      "\n",
      "Kris ->  [('lg vx8360', 10), ('samsung galaxy j7 2016', 9.722591400712817), ('apple iphone 7 plus', 9.686388349654695), ('huawei ascend g620s', 9.538379983967289), ('apple iphone 5s', 9.41527025089551)] \n",
      "\n",
      "Pete ->  [('vodafone 858', 10), ('lg dare vx9700', 10), ('sony xperia z1 compact d5503', 9.1654827020958), ('blackberry passport', 8.886289661231709), ('samsung c5212', 8.820476267443167)] \n",
      "\n",
      "Felix ->  [('apple iphone 4s', 8.879197115269026), ('samsung galaxy s ii', 8.61447667566867), ('htc one m7', 8.507401237074623), ('samsung ch t 222 gt e2220', 8.297874760259878), ('nokia 100', 8.084294294804657)] \n",
      "\n",
      "Cindy ->  [('samsung galaxy a3 819970', 9.229462251010597), ('samsung galaxy j5 4g lte 5 2 inches', 8.419705088920672), ('nokia x3', 7.8830427370872735), ('samsung galaxy note iii', 7.816928916875795), ('cubot gt95', 7.664283912468337)] \n",
      "\n",
      "ÐÐ»ÑÐ³Ð° ->  [('lg k7', 9.459883834769805), ('sony xperia l', 9.22828669968069), ('sony xperia zr', 9.217294038656096), ('samsung galaxy s7 789999', 9.165745727981708), ('nokia x2 00 358331', 9.09005707083936)] \n",
      "\n",
      "Luigi ->  [('samsung galaxy mini 2 s6500', 9.140857842768037), ('huawei ascend g620s', 8.924192242835304), ('doogee dagger dg550', 8.593389419591144), ('nokia lumia 520', 8.383017442020689), ('samsung galaxy note 3 neo 4g n7505', 8.032102061402275)] \n",
      "\n",
      "mrgreg ->  [('samsung galaxy s giorgio armani android', 8.410315406984495), ('samsung c260', 8.082310689154587), ('alcatel onetouch pop 3 5015d', 7.221618938347285), ('nokia 113', 7.0228833675309925), ('nokia 2100', 7.0)] \n",
      "\n",
      "George ->  [('samsung galaxy s6', 9.662981772476414), ('microsoft lumia 640 dual sim', 9.63351110072021), ('vodafone 785 smart 4 mini', 9.114735779765885), ('lenovo k6 dual', 9.113627723625015), ('sony xperia z5', 9.081458258030006)] \n",
      "\n",
      "huliye ->  [('blackberry 8100 269227', 9.652586225821448), ('lg ke990', 9.6404504551825), ('lg kf600', 9.561510371878553), ('nokia n81', 9.468439013136372), ('nokia 5800 navigation edition', 9.35286181200707)] \n",
      "\n",
      "Amazon-Kunde ->  [('samsung galaxy a5 2016', 9.326387863606671), ('samsung galaxy alpha', 9.29518711398986), ('nokia e6', 8.932142134544208), ('huawei p9 lite', 8.700469930189865), ('nokia c3', 8.657352576564357)] \n",
      "\n",
      "Luis ->  [('samsung galaxy ace 3', 9.340250315636444), ('huawei honor 4c', 9.22964174132226), ('motorola moto e', 9.17231298132724), ('motorola moto e', 9.17231298132724), ('nokia lumia 630', 9.152839542207209)] \n",
      "\n",
      "sedat01 ->  [('nokia x2', 9.785631579145829), ('samsung galaxy nexus', 9.625640576544763), ('nokia n76', 9.47816772153501), ('blackberry 8100 269227', 9.460310722412496), ('samsung e2550', 9.328991329771751)] \n",
      "\n",
      "ceren2006 ->  [('lg t310', 9.723829499280681), ('sony ericsson xperia neo', 9.710748347039736), ('samsung g810', 9.59094528022322), ('sony ericsson w950i', 9.58384598543405), ('samsung sph m620zkaspr', 9.575986068180299)] \n",
      "\n",
      "Sonia ->  [('samsung galaxy note 2', 9.684383798995396), ('apple iphone 5s', 9.303674820347384), ('sony xperia z 504642', 8.790420992090231), ('wiko lenny 3', 8.686173366361144), ('blackberry curve 8520', 8.338404807947967)] \n",
      "\n",
      "jean ->  [('microsoft lumia 640 dual sim', 9.272548032555806), ('sony xperia m2', 9.12935499238619), ('nokia lumia 520', 8.972739805725023), ('samsung gt e1200', 8.877282322695066), ('lg g3 d855 657484', 8.711494187442007)] \n",
      "\n",
      "Sara ->  [('samsung galaxy j5', 9.156037003874973), ('huawei p8 lite 2017', 9.007987030666257), ('lg c1100', 9.0), ('huawei ascend p1', 8.662215931614506), ('nokia 112', 8.655878999785912)] \n",
      "\n",
      "Rick ->  [('lenovo ideaphone s960', 10), ('motorola droid 425280', 9.571428571428571), ('samsung galaxy s7 edge', 9.39077014702227), ('asus zenfone 3', 8.980713753509125), ('htc evo 3d', 8.761121896056798)] \n",
      "\n",
      "Alex ->  [('samsung galaxy victory 4g lte sph l300', 9.440676316010336), ('lenovo k6 dual', 9.429986936004706), ('nokia 5140i', 9.315310329828447), ('motorola moto x', 9.291971108845868), ('sony xperia xz', 9.181545655935702)] \n",
      "\n",
      "Massimo ->  [('huawei ascend g620s', 9.824633617604988), ('doro phoneeasy 610gsm', 9.46263581307445), ('alcatel onetouch pop 3 5015d', 9.401639152380834), ('alcatel onetouch pop 3 5015d', 9.401639152380834), ('alcatel one touch 997d ot 997d', 9.301747056129157)] \n",
      "\n",
      "frank ->  [('lg g2 594708', 9.102429516915624), ('samsung e2121', 8.492108654600447), ('huawei ascend p1', 8.409459314280177), ('prestigio multiphone 4040 duo', 8.284038792074787), ('htc desire', 8.252715995004946)] \n",
      "\n",
      "Francisco ->  [('lg kc910 196322', 10), ('samsung galaxy s3 mini', 9.753138897699538), ('samsung galaxy nexus', 9.456632586139973), ('samsung galaxy s ii', 9.449012230878365), ('lg eclipse 4g lte', 9.325133713185092)] \n",
      "\n",
      "Jenny ->  [('samsung galaxy s3 mini', 9.580139499395408), ('apple iphone 7', 9.196413532733105), ('lg k4', 9.186257112243691), ('microsoft lumia 640 dual sim', 8.679846075261443), ('acer liquid z630', 8.51874279882466)] \n",
      "\n",
      "marco ->  [('huawei ascend honor 3c', 9.31015263386352), ('samsung galaxy s6', 9.285652644724864), ('lg g2 594708', 9.194477717970877), ('thl 4000', 9.189857064680279), ('huawei ascend p7', 9.08956808192236)] \n",
      "\n",
      "Rajesh ->  [('samsung galaxy e5', 8.504021953287488), ('lg google nexus 5', 8.49916178830381), ('lenovo vibe x3', 8.407850304705512), ('samsung galaxy j3 duos', 8.29339357398093), ('sony xperia m', 8.245610061471925)] \n",
      "\n",
      "Diana ->  [('sony ericsson w850i', 10), ('htc 7 mozart', 8.877296867593529), ('blu studio x', 8.331924551302764), ('nokia lumia 730', 8.205072478701148), ('samsung galaxy note 4', 8.196904900251361)] \n",
      "\n",
      "Carlos ->  [('samsung galaxy s7 789999', 9.340869048704509), ('google nexus 6p', 9.286066210944172), ('alcatel idol 3 5 5 6045y', 9.086805572858616), ('lg kf600', 9.060002153230991), ('motorola moto g3', 9.02848159346405)] \n",
      "\n",
      "Karin ->  [('huawei honor 6', 9.795455050906904), ('huawei p8 lite', 9.409260491662451), ('huawei p8', 8.73096072157137), ('blackberry z10', 8.541023914642352), ('samsung galaxy note 5 sm n920f', 7.701584827972797)] \n",
      "\n",
      "Flipkart Customer ->  [('nokia asha 502', 9.872251341874517), ('samsung galaxy j7 2016', 9.313886860392143), ('nokia lumia 830', 8.0348027883664), ('apple iphone 5s', 7.998820247530414), ('yu yunique', 7.994288394875334)] \n",
      "\n",
      "Jennifer ->  [('samsung galaxy a3 819970', 9.96824571174763), ('lg optimus g', 9.941587170522459), ('apple iphone 3gs', 9.464331081881364), ('samsung i9500 galaxy s iv', 9.44383754335996), ('samsung i9500 galaxy s iv', 9.44383754335996)] \n",
      "\n",
      "Rebecca ->  [('samsung galaxy s ii', 8.291448531890508), ('htc hd mini', 8.243196191053014), ('htc one s', 8.235469697593386), ('apple iphone 5s', 8.165880704401786), ('apple iphone 7', 8.109268335604762)] \n",
      "\n",
      "Vincent ->  [('motorola moto g', 9.60343439732019), ('palm treo 750', 9.183730552297348), ('samsung galaxy y s5360', 9.03005016141711), ('huawei honor 7', 8.832343100766524), ('huawei p8 lite', 8.476355569515997)] \n",
      "\n",
      "???????? ->  [('samsung gt s5282', 9.44570178325693), ('nokia asha 210', 9.316294792855977), ('nokia 112', 9.140927441144427), ('nokia c2 05', 8.825756748464617), ('apple iphone 5', 8.579808536043522)] \n",
      "\n",
      "Francesca ->  [('alcatel onetouch 20 04', 9.853216464835375), ('huawei nova', 9.839693349431698), ('huawei y6', 9.493061047490372), ('huawei y6', 9.493061047490372), ('microsoft lumia 640 dual sim', 9.208873369341301)] \n",
      "\n",
      "michele ->  [('huawei ascend y550', 9.90268969586074), ('huawei ascend y550', 9.90268969586074), ('microsoft lumia 640 dual sim', 9.59478121959388), ('lg g2 mini', 9.172096592081692), ('huawei ascend mate 7', 9.073086778183876)] \n",
      "\n",
      "juan ->  [('samsung sch r351', 10), ('alcatel onetouch 20 04', 9.672582575304078), ('motorola moto g', 9.360827535633838), ('lg google nexus 5', 8.943231765761563), ('alcatel one touch 997d ot 997d', 8.888114648167967)] \n",
      "\n",
      "francesca ->  [('huawei p9 lite', 9.540608699150155), ('huawei p9 lite', 9.540608699150155), ('alcatel onetouch pop 3 5015d', 8.954941423269128), ('samsung galaxy j7 2016', 8.873904671952605), ('cubot s168', 8.559561539358349)] \n",
      "\n",
      "mike ->  [('htc amaze 4g', 10), ('tp link archer t6e', 9.398045852312775), ('lg dare vx9700', 9.350622385266016), ('sony xperia l', 8.74775227967163), ('nokia lumia 625', 8.716047368047382)] \n",
      "\n",
      "Mike ->  [('blackberry priv', 9.230623411798257), ('samsung galaxy nexus', 9.137816141492067), ('lg dare vx9700', 9.061838719560228), ('blackberry z30', 9.034201163541159), ('nokia lumia 920', 8.718256696357042)] \n",
      "\n",
      "daniele ->  [('huawei g8', 9.440411614181869), ('nokia c2 01', 9.114271875896089), ('microsoft lumia 640 dual sim', 9.032033407069147), ('motorola moto g3', 9.01306513484568), ('sony xperia z 504642', 9.012091128990313)] \n",
      "\n",
      "Daniele ->  [('huawei p8', 9.622985517474868), ('lg h410', 9.44022652663858), ('huawei ascend g7', 9.21781215512714), ('nokia lumia 720', 8.982218223742226), ('ttfone pluto', 8.910132042082374)] \n",
      "\n",
      "Nicola ->  [('huawei ascend g700', 9.705348174139067), ('samsung galaxy a5 2017', 9.632057337149083), ('samsung galaxy j5', 9.613813506976667), ('huawei p8', 9.597918740060368), ('huawei p8', 9.597918740060368)] \n",
      "\n",
      "Ann ->  [('motorola sidekick slide', 9.771903956239228), ('samsung sgh t459', 9.61072526811266), ('microsoft lumia 650', 9.40686824267775), ('apple iphone 6s', 9.372673404169795), ('samsung galaxy j1', 9.369059886857162)] \n",
      "\n",
      "iboibo ->  [('samsung f400', 9.555283914223192), ('samsung i450', 9.4275434562669), ('nokia 5630 xpressmusic', 9.399821439090273), ('nokia n70', 9.397303084193831), ('nokia e51', 9.388649604398587)] \n",
      "\n",
      "xceday ->  [('samsung jet sgh s8003', 9.421606833122091), ('nokia 6120 classic', 9.404354523982137), ('samsung sgh e370', 9.360277545414055), ('samsung sgh b130', 9.349225951273645), ('samsung sgh e740', 9.339712620339093)] \n",
      "\n",
      "Daniel ->  [('sony ericsson w550i', 10), ('samsung pixon 12 m8910', 9.760080360173514), ('huawei ascend honor 3c', 9.365409973163494), ('nokia lumia 930', 9.30175507086972), ('sony xperia z1 compact d5503', 9.200929883378606)] \n",
      "\n",
      "laura ->  [('lg e440 optimus l4 ii', 9.19659749497259), ('huawei p8', 8.682227245435318), ('lg g2 594708', 8.681299928528185), ('huawei ascend y300', 8.332429966993953), ('samsung galaxy young', 7.853955356280762)] \n",
      "\n",
      "Ð®ÑÐ¸Ð¹ ->  [('samsung sgh x700', 10), ('xiaomi mi 2s', 10), ('samsung galaxy sl i9003', 10), ('nokia n72', 9.916809210215812), ('sony xperia x compact', 9.494102136134439)] \n",
      "\n",
      "User ->  [('motorola moto g 753361', 9.80799897281601), ('nokia 6233', 7.9998617077976), ('samsung galaxy note 2', 7.871069978947144), ('nokia 5320 xpressmusic', 7.0), ('samsung ch t 335', 6.656568427627802)] \n",
      "\n",
      "Pedro ->  [('samsung ativ s', 9.488475105358068), ('nokia 5800 xpressmusic tube', 9.09330638025771), ('asus zenfone 3', 9.06370753342694), ('nokia lumia 925', 9.04201308574019), ('lg optimus l5 e610', 9.036451846334666)] \n",
      "\n",
      "Gary ->  [('lg g2 594708', 9.88273327443179), ('huawei mate 9', 9.684579949617868), ('huawei mate 9', 9.684579949617868), ('lg optimus l9 p760', 9.209835744405805), ('google nexus 5x h791', 8.836593305195732)] \n",
      "\n",
      "iceblu_78 ->  [('huawei ascend p6', 9.183868433728279), ('asus zenfone 5', 9.159416982989555), ('samsung galaxy mega 6 3 i9200', 9.092766079318135), ('lg optimus g', 8.872647890662517), ('apple iphone se', 8.703540799740605)] \n",
      "\n",
      "kyef ->  [('nokia 7390', 9.521356374104984), ('nokia e51', 9.518337440720682), ('lg ke990', 9.502652077048223), ('palm treo 600', 9.474633593120867), ('nokia 3110 classic', 9.404946936829901)] \n",
      "\n",
      "Alejandro ->  [('lg g4', 9.01621427484344), ('nokia lumia 625', 9.004374299908585), ('xiaomi mi 3', 8.814312558358177), ('alcatel onetouch 20 04', 8.601744139775459), ('sony xperia z2', 8.467312059947183)] \n",
      "\n",
      "davide ->  [('huawei p9 797082', 9.592110890366829), ('motorola moto g', 9.519515030318818), ('samsung galaxy j7 2016', 9.426028192434828), ('samsung galaxy a5', 9.417929971457694), ('nokia lumia 630', 9.375509282648325)] \n",
      "\n",
      "Barbara ->  [('google nexus 5x h791', 9.402503793281616), ('samsung galaxy core', 8.831642293819229), ('samsung sph m390', 8.503755353694721), ('motorola moto e', 8.154670232190393), ('sony xperia m', 8.07063669443804)] \n",
      "\n",
      "ozlemce108 ->  [('samsung sgh e840', 9.631664699116637), ('sony ericsson c903', 9.4881492072237), ('siemens cx75', 9.37402819233808), ('samsung d880 duos', 9.21880541132027), ('samsung m8800 pixon', 9.174083785544337)] \n",
      "\n",
      "ÐÐºÐ°ÑÐµÑÐ¸Ð½Ð° ->  [('samsung galaxy a3 819970', 9.584325692637425), ('sony ericsson w200i', 9.491209136770903), ('apple iphone 6s plus', 9.306147545801425), ('sony ericsson xperia arc', 9.276691804365798), ('samsung galaxy a5 2017', 9.09681069513967)] \n",
      "\n",
      "Hugo ->  [('lg l90 d410', 10), ('nokia lumia 822', 9.748803855457517), ('samsung s3850', 9.664867565961693), ('samsung galaxy j5', 9.548381332935573), ('samsung galaxy j5', 9.548381332935573)] \n",
      "\n",
      "Fabian ->  [('samsung galaxy j7 2016', 10), ('sony xperia z5', 9.724626760307183), ('cubot note s', 8.789759540154504), ('samsung galaxy a5 2016', 8.752462041218532), ('cubot x15', 8.285622315877815)] \n",
      "\n",
      "ozer1299 ->  [('nokia x2', 9.745555116752739), ('samsung c6112', 9.515759918294902), ('nokia e51', 9.480043669010772), ('samsung sgh b130', 9.46495608357127), ('nokia 6120 classic', 9.45663017533218)] \n",
      "\n",
      "Cristina ->  [('huawei nova plus', 9.969019718975833), ('motorola moto g 753361', 9.556265570241155), ('lg g2 594708', 9.061045634536441), ('samsung galaxy s iii', 9.01838511333641), ('samsung galaxy ch t b5330', 9.012024316981242)] \n",
      "\n",
      "Marta ->  [('nokia lumia 620', 9.447591354265986), ('bq aquaris 5', 9.406513455711195), ('samsung galaxy j5 4g lte 5 2 inches', 9.365714156029657), ('lg e450 optimus l5 ii', 9.333758022412555), ('sony xperia z3', 8.933074955437933)] \n",
      "\n",
      "barbiella ->  [('nokia e51', 9.56404710433842), ('samsung sph m620zkaspr', 9.499071229442057), ('siemens cx75', 9.399877938223371), ('nokia e61', 9.391467327714663), ('nokia n81', 9.388178830994937)] \n",
      "\n",
      "Stephanie ->  [('apple iphone 5', 9.511118097707232), ('pantech crossover', 8.909384645097361), ('samsung galaxy note 4', 8.373146275748633), ('nokia c2 01', 8.054150671224699), ('sony xperia z 504642', 8.014424177312588)] \n",
      "\n",
      "sadik ->  [('sony ericsson w950i', 9.810536829409873), ('sony ericsson w610i', 9.742851810137836), ('nokia e51', 9.653318988536146), ('nokia 7230', 9.500735669700756), ('sony ericsson w810i', 9.001737703872632)] \n",
      "\n",
      "Ð ÑÑÐ»Ð°Ð½ ->  [('samsung galaxy ace 3', 9.626698993226057), ('samsung galaxy a5 2017', 9.46908051130158), ('samsung galaxy a5 2017', 9.46908051130158), ('nokia lumia 710', 9.278497626740577), ('samsung c3222', 8.375506882759034)] \n",
      "\n",
      "Stefano ->  [('lg g2 mini', 9.491704549018385), ('meizu pro 6', 9.429113074566782), ('htc desire 500', 9.349673225056085), ('samsung galaxy s6', 9.303724611093754), ('huawei honor 6x', 9.213237524187022)] \n",
      "\n",
      "Natalia ->  [('apple iphone 5s', 9.469315954057432), ('samsung galaxy s5', 8.90349872965646), ('huawei p8', 8.759339152302717), ('samsung galaxy star', 8.705886312474227), ('cubot x15', 8.649407110123917)] \n",
      "\n",
      "Emma ->  [('samsung galaxy a3 819970', 9.945482970573147), ('huawei p8 lite', 9.389227158370124), ('samsung galaxy j7 2016', 9.264324270702314), ('samsung galaxy a5 2017', 8.992295735961322), ('huawei y6 ii compact', 8.612181053841844)] \n",
      "\n",
      "sonia ->  [('huawei ascend mate 7', 9.14937170035312), ('samsung galaxy s iii neo i9300i', 8.637587014045874), ('cubot note s', 8.185608567770124), ('lg g2 594708', 8.149151784581331), ('doogee x5 pro', 7.986437851296795)] \n",
      "\n",
      "Marie ->  [('htc incredible s', 9.905796233515124), ('samsung galaxy y s5360', 9.54698323570348), ('samsung galaxy s5', 9.116272167389461), ('huawei honor 7', 9.10819835121903), ('asus zenfone selfie zd551kl', 9.014211366557639)] \n",
      "\n",
      "Anna ->  [('alcatel onetouch pop 3 5015d', 9.455877959429143), ('asus ze550kl', 9.321672820851754), ('oppo r7 plus', 9.204069786532996), ('lg google nexus 5', 9.03634161576751), ('cubot note s', 9.007345164920038)] \n",
      "\n",
      "Tina ->  [('samsung galaxy nexus', 9.364744728104206), ('huawei ascend mate 8', 9.296368540852711), ('lg optimus l5 ii dual e455 optimus duet', 9.293736030034268), ('htc desire 626', 9.224505794330874), ('google nexus 5x h791', 9.10915526167947)] \n",
      "\n",
      "zeynep34 ->  [('lg p503', 9.882626537825782), ('sony ericsson z550i', 9.795994033412345), ('nokia 7390', 9.670621671397614), ('nokia n72', 9.570390314269194), ('nokia 6120 classic', 9.46929835872319)] \n",
      "\n",
      "Anonymous  ->  [('samsung galaxy s3 mini', 8.899605007129303), ('samsung galaxy s3 mini', 8.899605007129303), ('samsung galaxy s blaze', 8.398770135657358), ('samsung galaxy s6', 8.133531731302154), ('lg optimus l5 e610', 8.053801869318841)] \n",
      "\n",
      "Amazon customer ->  [('samsung galaxy s6 edge sm g925f', 8.549297002559047), ('lg optimus g pro', 8.513239055279369), ('oneplus 3', 7.907991187597427), ('oneplus 3', 7.907991187597427), ('nokia c2 05', 7.515346012521937)] \n",
      "\n",
      "Frank ->  [('lg f60', 10), ('huawei p8', 9.327897537518483), ('blackberry bold 9790', 9.32344118292539), ('nokia 100', 9.101091934198761), ('motorola moto g', 9.071720241469267)] \n",
      "\n",
      "Andrea ->  [('wiko highway', 9.762050147459565), ('lg optimus l3 ii e430 e425', 9.569157955524032), ('lg optimus l3 ii e430 e425', 9.569157955524032), ('samsung galaxy s ii plus', 9.460935468551025), ('samsung galaxy a7', 9.425050613315001)] \n",
      "\n",
      "Vanessa ->  [('nokia lumia 630', 9.311247831277619), ('samsung galaxy j7 2016', 8.942232980133488), ('samsung gt i8552', 8.804895680839042), ('samsung galaxy a3', 8.774273175973978), ('lg g2 mini', 8.32824348034914)] \n",
      "\n",
      "Heather ->  [('apple iphone 7 plus', 9.355817461814855), ('huawei p9 lite', 8.159957070234375), ('amazon fire phone', 7.736423202319364), ('nokia lumia 635', 7.293957044602649), ('apple iphone 4s', 6.871873458383915)] \n",
      "\n",
      "Sandeep ->  [('apple iphone 3gs', 9.427695696490025), ('nokia 2730 classic', 8.38503622245005), ('nokia lumia 925', 8.189479966768157), ('sony xperia c', 7.973225067442094), ('nokia 3110 classic', 7.963613458742728)] \n",
      "\n",
      "David ->  [('motorola moto x 1 moto x1 moto x 2nd gen', 9.465618161291548), ('huawei ascend g525', 9.431802136942313), ('huawei ascend g620s', 9.420555799487802), ('nokia e72', 9.39328937030152), ('samsung galaxy a3 819970', 9.209676803539468)] \n",
      "\n",
      "Anja ->  [('htc one max', 8.747101678577955), ('huawei p8 lite', 8.334227879848235), ('huawei ascend mate 7', 7.697120186343133), ('samsung galaxy ace s5830', 7.567950771484565), ('emporia elegance', 7.520003835461764)] \n",
      "\n",
      "Juan ->  [('sony xperia neo l', 10), ('lg google nexus 5', 9.134424913497028), ('motorola moto g4', 8.9474130915769), ('lg optimus l7', 8.913011408661399), ('samsung galaxy s5', 8.624115979273027)] \n",
      "\n",
      "cemdiler ->  [('samsung f400', 9.525281531218944), ('samsung sgh e840', 9.52194528707949), ('nokia 7360', 9.417626584405458), ('samsung sph m620zkaspr', 9.389797234882298), ('blackberry 8100 269227', 9.387530393873577)] \n",
      "\n",
      "Federico ->  [('sony ericsson xperia pro', 9.707948045592678), ('samsung galaxy a5', 9.49770213282424), ('google nexus 5x h791', 9.342460355567377), ('samsung galaxy note 4', 9.149061261104512), ('alcatel one touch idol 6030d', 9.012141758029864)] \n",
      "\n",
      "Aaron ->  [('sony xperia z1 compact d5503', 9.324503599108283), ('apple iphone 7', 8.892671391042644), ('alcatel onetouch pixi 4', 8.876134551957097), ('motorola moto g', 8.081191289078177), ('sony xperia sola', 7.795443429251922)] \n",
      "\n",
      "lorenzo ->  [('samsung e1130', 10), ('xiaomi redmi note 2', 8.77360545152966), ('meizu m2 note', 8.603771195371172), ('asus zenfone go zc500tg', 8.30516800732394), ('samsung galaxy s3 mini', 8.233552435261705)] \n",
      "\n",
      "Elena ->  [('samsung galaxy j5', 9.20414516736992), ('sony xperia c', 9.151965487117785), ('samsung galaxy j3 duos', 9.151362886092892), ('huawei mate s', 9.145889486335342), ('huawei p8 lite 2017', 9.130335810791102)] \n",
      "\n",
      "Simon ->  [('htc one m7', 9.439622853093969), ('apple iphone 5s', 9.25590940061283), ('samsung galaxy a3 819970', 9.149458243634815), ('lg l bello', 9.120199408240431), ('lg optimus g', 9.074042866508803)] \n",
      "\n",
      "Jesus ->  [('sony xperia z1 compact d5503', 9.788462019571366), ('apple iphone 4s', 9.03675727082214), ('motorola xt1225', 9.008443318731745), ('nokia n8', 8.705737253143084), ('cubot s108', 8.64938849893323)] \n",
      "\n",
      "Martina ->  [('sony ericsson xperia mini', 10), ('apple iphone 6', 9.296537852170289), ('huawei p9 lite', 9.259805269565978), ('lg x power', 9.091102029599611), ('samsung s5610', 8.87706746136433)] \n",
      "\n",
      "Robert ->  [('samsung galaxy j5', 9.194755589983552), ('samsung galaxy a5 2016', 8.859016332194058), ('lg optimus g e970', 8.770120360371074), ('apple iphone 6s', 8.748212354821979), ('nokia n95', 8.40176480430874)] \n",
      "\n",
      "MS ->  [('samsung c260', 9.72934658588678), ('lg g5', 9.273570575928519), ('samsung galaxy j3 duos', 9.070575187251949), ('samsung galaxy s4 mini gt i9190 gt i9192 dual sim', 8.705135309155274), ('nokia asha 501', 8.507252932421888)] \n",
      "\n",
      "Jorge ->  [('huawei ascend honor 3c', 9.486475036999407), ('sony ericsson w700i', 9.423232903678329), ('huawei p8 lite', 9.366652595538465), ('nokia lumia 930', 9.30907771809437), ('bq aquaris x5', 9.184956572080878)] \n",
      "\n",
      "Simone ->  [('prestigio multiphone 4500', 10), ('nokia lumia 930', 9.784801883501105), ('nokia 7390', 9.771089235030624), ('huawei ascend g7', 9.45949074760217), ('htc desire 601', 9.196220680089551)] \n",
      "\n",
      "ÐÐ°Ð´Ð¸Ð¼ ->  [('nokia x2 00 358331', 9.914081195708372), ('nokia 6303i', 9.825377890847129), ('samsung galaxy note 5 sm n920f', 9.817997417390485), ('nokia 1100', 9.680863380673367), ('lg k10', 9.661844249202916)] \n",
      "\n",
      "Steve ->  [('binatone speakeasy 210', 10), ('nokia mural 6750', 10), ('lg optimus l3 ii e430 e425', 9.301212061094295), ('samsung gt b2100', 9.217728688736097), ('palm pre 2', 9.20730932652026)] \n",
      "\n",
      "joe ->  [('pantech p7040p', 9.70093679044936), ('samsung galaxy s7 edge', 8.431773481735977), ('blackberry z10', 8.225996873084558), ('huawei honor 8', 8.168305673778836), ('microsoft lumia 950 xl', 8.013196216775029)] \n",
      "\n",
      "Patrick ->  [('samsung gt b2100', 9.774406876973968), ('motorola moto x', 9.581451692403276), ('nokia 6230', 9.287779097932717), ('apple iphone 7', 9.210273075457403), ('samsung galaxy s7 789999', 9.16284158424692)] \n",
      "\n",
      "Fran ->  [('blackberry venice', 9.833134880220154), ('samsung galaxy nexus', 8.600837731521477), ('cubot gt95', 8.301881549165726), ('oukitel k6000', 8.198707299994117), ('motorola moto g', 7.670798760817063)] \n",
      "\n",
      "Peter ->  [('samsung galaxy j5', 9.718946880400757), ('benq siemens s68', 9.714863796018557), ('huawei honor 6', 9.705284832792143), ('huawei p9 797082', 9.560430570074214), ('samsung galaxy j5 4g lte 5 2 inches', 9.472967119522922)] \n",
      "\n",
      "Fernando ->  [('lg optimus g e970', 10), ('samsung galaxy nexus', 9.546184160151963), ('lg g2 594708', 9.08719313243783), ('lg g2 594708', 9.08719313243783), ('nokia x1 01', 9.080677434530461)] \n",
      "\n",
      "Petra ->  [('lg kf510', 8.842045019702526), ('asus zenfone 2 ze551ml', 8.638267076372362), ('microsoft lumia 640 dual sim', 8.56773716187556), ('nokia 3710 fold', 8.379544589704466), ('samsung sgh d600 d600e', 8.36948554575128)] \n",
      "\n",
      "Jason ->  [('nokia lumia 520', 9.399179719032707), ('samsung galaxy e7', 9.284298313591181), ('samsung galaxy s7 789999', 9.046753840598972), ('motorola v500', 8.635764667295136), ('asus zenfone 2', 8.344318038459695)] \n",
      "\n",
      "Diego ->  [('apple iphone se', 9.765163144972629), ('huawei honor 6', 9.400136184611505), ('samsung galaxy a5 2016', 9.313942817298825), ('samsung ativ s', 9.281497571208906), ('htc desire 610', 9.188937101801876)] \n",
      "\n",
      "Melanie ->  [('nokia 6210', 10), ('samsung galaxy s3 mini', 9.681143313926901), ('samsung s5610', 9.563866656326521), ('lg 500g', 8.794271267770394), ('samsung galaxy note', 8.794068212242045)] \n",
      "\n",
      "ANTONIO ->  [('samsung galaxy j5', 10), ('samsung ativ s', 10), ('apple iphone 6s', 9.698955124623037), ('apple iphone 6s', 9.698955124623037), ('cubot gt99', 9.673591752801922)] \n",
      "\n",
      "okuyan ->  [('samsung f400', 9.565604061627804), ('samsung i450', 9.517048698346535), ('nokia 7390', 9.513792593539216), ('lg ke990', 9.485720217174553), ('samsung sgh b300', 9.46054652441522)] \n",
      "\n",
      "Matthias ->  [('nokia 3110 classic', 9.049348024506019), ('nokia e51', 8.9403559754964), ('sonim xp3', 8.852443230287907), ('nokia 6303i', 8.84867929565343), ('huawei mate 9', 8.797556256603727)] \n",
      "\n",
      "Antonio ->  [('xiaomi mi 2s', 10), ('sony ericsson w660i', 9.776278163582145), ('huawei ascend g620s', 9.629352107797837), ('samsung galaxy a3 2016', 9.253593808280314), ('samsung galaxy j5', 9.162637322071795)] \n",
      "\n",
      "fernando ->  [('lenovo vibe z', 9.159737696327827), ('xiaomi mi 3', 8.868502018850029), ('asus zenfone 2 ze551ml', 8.349852442927624), ('apple iphone 6 plus', 7.841209376760849), ('huawei ascend g 300', 7.575703587336988)] \n",
      "\n",
      "maria ->  [('samsung galaxy gio s5660', 9.66000310844902), ('motorola moto e', 9.10800324581373), ('motorola moto x 1 moto x1 moto x 2nd gen', 9.106514070092667), ('sony xperia x dual f5122', 8.766648121633432), ('asus zenfone go zc500tg', 8.559597296139334)] \n",
      "\n",
      "Philipp ->  [('htc legend', 8.678063790818458), ('sony ericsson xperia active', 8.633771724123905), ('huawei honor 6', 8.444306408740403), ('motorola moto g', 8.00241933072995), ('microsoft lumia 550', 7.754981001998209)] \n",
      "\n",
      "streghe_1965 ->  [('samsung e2210', 9.175693618460683), ('samsung s7070', 8.464957264957263), ('nokia x7', 7.432298536854471), ('samsung galaxy core prime', 7.2776016748046555), ('samsung e1150', 6.83768264612327)] \n",
      "\n",
      "Giovanni ->  [('archos 40 titanium', 9.78972794869624), ('motorola v70', 9.68446295575138), ('huawei nova', 9.273898451134016), ('apple iphone 6s plus', 9.130238863645197), ('huawei honor 6', 8.92433443540408)] \n",
      "\n",
      "Francesco ->  [('huawei nova plus', 10), ('samsung galaxy a5 2017', 9.498236913723462), ('alcatel ot 918d', 9.400699237965034), ('samsung c3520', 9.341627276950925), ('huawei ascend g700', 9.213509114388113)] \n",
      "\n",
      "alex ->  [('philips 355', 9.210142757215769), ('apple iphone 6', 9.1473429529763), ('nokia lumia 735', 8.675882373889165), ('asus zc551kl', 8.63785334985481), ('nokia 6230i', 8.626713160571613)] \n",
      "\n",
      "francisco ->  [('huawei mate s', 9.69092018818414), ('lenovo moto g4 play', 9.478805517878772), ('lg g2 594708', 9.294147400132555), ('samsung galaxy s iii neo i9300i', 9.112830272239476), ('lg g4', 8.53332822647394)] \n",
      "\n",
      "matteo ->  [('nokia asha 309', 9.811115613767319), ('huawei p9 lite', 9.559451147640928), ('samsung galaxy mini 2 s6500', 9.478672075910413), ('microsoft lumia 640 dual sim', 9.197778313638118), ('blackview bv6000', 9.075423342058821)] \n",
      "\n",
      "Patricia ->  [('blu a310a', 10), ('sony ericsson xperia pro', 10), ('apple iphone se', 9.778187761232067), ('samsung galaxy j5', 9.701921024297267), ('lenovo ideaphone s720', 9.690070368036556)] \n",
      "\n",
      "Enrico ->  [('nokia 107', 8.920274259064279), ('samsung galaxy j5', 8.820250158939421), ('microsoft lumia 640 dual sim', 8.766097464766004), ('thl w200', 8.52841742789154), ('nokia lumia 730', 8.505607927912411)] \n",
      "\n",
      "fabio ->  [('sonim xp3', 10), ('lenovo moto g4', 9.005662753220395), ('huawei g8', 8.748532600965985), ('cubot gt99', 8.73152232856344), ('siemens cf110', 8.628082821469148)] \n",
      "\n",
      "anonieme bezoeker ->  [('lg optimus l3 e405', 8.982600448636164), ('lg optimus l3 e405', 8.982600448636164), ('lg optimus l3 e405', 8.982600448636164), ('nokia lumia 920', 8.630041252859156), ('lg optimus l5 e610', 8.5356428757263)] \n",
      "\n",
      "?????????????? ?????????? ->  [('nokia asha 501', 9.529400413318534), ('htc one x', 8.724587595897708), ('htc one s', 8.254038211296896), ('htc one s', 8.254038211296896), ('nokia 112', 8.10259847786502)] \n",
      "\n",
      "Anonym ->  [('sony ericsson k810i', 9.454690282748299), ('huawei y6', 9.407092108923417), ('microsoft lumia 640 dual sim', 8.656515521808943), ('huawei ascend g7', 8.581611420838142), ('nokia 5610', 8.544822654298292)] \n",
      "\n",
      "Anonyme ->  [('lg gw620', 10), ('lg kf700', 10), ('samsung ativ s', 9.318056872643211), ('samsung g7102 galaxy grand 2', 9.121777714623063), ('motorola razr i', 9.008376895115042)] \n",
      "\n",
      "Pen Name ->  [('apple iphone 4s', 8.939808305340636), ('sony xperia z 504642', 8.821673405870573), ('samsung sch u820', 8.577258086387072), ('blackberry priv', 8.305157049772001), ('lg 221c', 8.294501206625595)] \n",
      "\n",
      "ali ->  [('nokia c5 06', 9.880775037651395), ('motorola mb508', 9.698899371069182), ('samsung galaxy s6 edge sm g925f', 9.11447217903148), ('sony xperia ion', 8.845736474459471), ('lg p503', 8.783202452019442)] \n",
      "\n",
      "Sven ->  [('benq siemens el71', 10), ('samsung sgh l760', 10), ('huawei p8', 9.85585334727579), ('nokia lumia 930', 9.686003906685396), ('sony xperia s', 9.626843397745992)] \n",
      "\n",
      "?????????????? ???????????? ->  [('huawei ascend p1', 9.806562970206121), ('nokia x dual sim', 9.385413626822917), ('lg p725 optimus 3d max', 8.898317025020669), ('lg p725 optimus 3d max', 8.898317025020669), ('nokia n9', 8.792135164316234)] \n",
      "\n",
      "Sergio ->  [('samsung galaxy mega 6 3 i9200', 9.707425148048497), ('huawei ascend mate 7', 9.49036624223592), ('sony ericsson xperia pro', 9.30897538138176), ('htc one s', 9.274442939742922), ('huawei p9 plus', 9.101198887994011)] \n",
      "\n",
      "Benjamin ->  [('apple iphone 7', 9.847546260248777), ('lg google nexus 5', 9.699554952926464), ('motorola moto g', 9.696030458561522), ('archos 50 helium', 9.291385246583856), ('apple iphone 5', 9.156220212180136)] \n",
      "\n",
      "Ray ->  [('samsung galaxy s ii', 9.812202300936795), ('huawei prism ii', 9.66220455184252), ('blackberry curve 8900', 9.505719825467027), ('pantech crossover', 9.348181079143048), ('samsung galaxy s7 789999', 9.260384425935422)] \n",
      "\n",
      "thomas ->  [('lg g2 594708', 9.484769899093095), ('microsoft lumia 640 xl', 9.290947051918373), ('cubot p9', 8.758540597203334), ('caterpillar s60', 8.644460142178866), ('huawei ascend y330', 8.612450782065375)] \n",
      "\n",
      "ÐÐµÐ½Ð¸Ñ ->  [('samsung galaxy a7 2017', 10), ('lenovo ideaphone s820', 9.865842184490624), ('samsung c5212', 9.610430349724014), ('samsung s5610', 9.514501218896335), ('lg optimus one p500', 9.437217998976163)] \n",
      "\n",
      "dal07 ->  [('nokia e51', 9.362786072219572), ('samsung g810', 9.316887048626254), ('sony ericsson k810i', 9.313179186444204), ('nokia 6120 classic', 9.312941274160904), ('nokia 6288', 9.224460036766267)] \n",
      "\n",
      "Ram ->  [('samsung sgh x700', 10), ('microsoft lumia 640 dual sim', 8.272710816716652), ('htc nexus one', 8.033108753425639), ('lenovo vibe x3', 8.030969182109073), ('nokia 108', 7.784064054483595)] \n",
      "\n",
      "Michel ->  [('lg f60', 10), ('huawei p10 plus', 9.590058243135083), ('samsung e1150', 9.42511155161172), ('sony ericsson k510i', 9.396868210858214), ('sony xperia x f5121', 9.256585172040843)] \n",
      "\n",
      "ÐÑÑÑÐ¼ ->  [('nokia lumia 720', 9.716108452816355), ('apple iphone 7', 9.574819043737417), ('apple iphone 7', 9.574819043737417), ('samsung galaxy j5', 9.482054594508021), ('asus zenfone 2 ze551ml', 9.365781610734)] \n",
      "\n",
      "JJ ->  [('apple iphone 7', 9.260329740967627), ('samsung galaxy note 2', 8.823426373941448), ('nokia lumia 925', 8.393235102371765), ('wileyfox swift', 8.384305061154615), ('micromax canvas turbo a250', 8.201498323966362)] \n",
      "\n",
      "Johannes ->  [('alcatel ot 536', 10), ('huawei honor 7', 9.892878695100006), ('huawei y6', 9.565091559003335), ('samsung galaxy s5', 9.225817865306716), ('apple iphone 6', 9.215558453149463)] \n",
      "\n",
      "bruno ->  [('motorola moto g4', 9.676919234390999), ('samsung galaxy s6 edge sm g925f', 9.296116526832154), ('samsung galaxy j5', 9.255889367351546), ('blackberry curve 8900', 9.158425481850353), ('lg optimus l5 ii dual e455 optimus duet', 9.063617750237558)] \n",
      "\n",
      "Me ->  [('acer liquid e', 9.317347656804484), ('lg env', 8.399149997751005), ('apple iphone 7', 8.022981507335844), ('samsung galaxy j5 4g lte 5 2 inches', 7.743992073443491), ('samsung galaxy j3 duos', 7.6859713243707155)] \n",
      "\n",
      "christian ->  [('huawei honor 8', 9.424102670735586), ('huawei honor 6', 9.222375650345654), ('lg g2 594708', 8.940760752431247), ('sony ericsson k770i', 8.928342638003748), ('lg x power', 8.903212039708682)] \n",
      "\n",
      "dilekh ->  [('lg p503', 10), ('nokia x1 01', 9.82735984554424), ('samsung s3850', 9.811181237182245), ('nokia n93', 9.423292169651445), ('samsung e2550', 9.326592254586833)] \n",
      "\n",
      "Philippe ->  [('nokia lumia 625', 9.640949567657165), ('lg gw300', 9.608889720979949), ('wiko rainbow', 9.592284806272126), ('wiko getaway', 9.419093141634367), ('sony xperia t', 9.220734890692148)] \n",
      "\n",
      "Mauro ->  [('apple iphone 6s plus', 9.901922817380004), ('motorola moto g', 9.450314717794495), ('apple iphone 6s', 9.43812443502688), ('huawei p8', 9.353722877766966), ('blackberry passport', 9.260490610587373)] \n",
      "\n",
      "ÐÐ°ÑÐ¸Ð»Ð¸Ð¹ ->  [('nokia 800', 9.572544505497996), ('samsung galaxy note 2', 9.503382390856133), ('apple iphone 7', 9.222976671345428), ('samsung galaxy j7 2016', 9.216290912822583), ('nokia 5230', 8.951192275574817)] \n",
      "\n",
      "Mario ->  [('samsung c3780', 10), ('nokia lumia 710', 9.626368116678591), ('nokia n95', 9.314780592615802), ('htc 7 mozart', 9.265034442699356), ('apple iphone 6s', 9.165954565013253)] \n",
      "\n",
      "Max ->  [('sony ericsson w850i', 10), ('lg google nexus 5', 9.417408980963506), ('samsung galaxy a5 2016', 9.246769092945696), ('apple iphone 7', 9.208325554342288), ('nokia c1 01', 9.105161967306136)] \n",
      "\n",
      "UK Guest ->  [('nokia 3510i', 10), ('nokia 3410', 9.768625766824375), ('nokia 3410', 9.768625766824375), ('sharp gx30', 9.166666666666666), ('nokia 7610 supernova', 8.314754194129064)] \n",
      "\n",
      "Monica ->  [('huawei nova plus', 10), ('blackberry curve 8520', 9.519183637284499), ('cubot x6', 9.372429246358358), ('samsung ativ s', 9.273600337712564), ('huawei ascend g525', 9.187742198928502)] \n",
      "\n",
      "Angela ->  [('huawei p8', 8.951943453643839), ('samsung galaxy a5 2016', 8.803828732874646), ('apple iphone 6s', 8.633611653285861), ('apple iphone 7', 8.572580236930412), ('huawei p10 plus', 8.055940483217759)] \n",
      "\n",
      "Joseph ->  [('samsung galaxy s6', 9.113176035728523), ('nokia lumia 920', 8.569316394694999), ('nokia lumia 620', 8.019233940160731), ('motorola moto g', 7.844420147150666), ('htc 10', 7.790382394284581)] \n",
      "\n",
      "elena ->  [('nokia c2 05', 9.530833649798511), ('apple iphone se', 9.353297778871795), ('lg optimus l3 ii e430 e425', 8.776356611450337), ('samsung galaxy a3 2016', 8.596334943520633), ('huawei p8 lite', 8.26976359861583)] \n",
      "\n",
      "Markus ->  [('sony ericsson w595', 9.55419309484806), ('blackberry leap', 9.349917321402403), ('motorola moto z play', 9.24965702166982), ('lg optimus one p500', 9.056552779714073), ('nokia lumia 925', 8.980120492364412)] \n",
      "\n",
      "Marcus ->  [('samsung d880 duos', 9.810350387988978), ('sony xperia x compact', 9.56859512897476), ('samsung galaxy a3 819970', 9.550227986210537), ('samsung galaxy a3 819970', 9.550227986210537), ('motorola razr d1', 9.338417599263307)] \n",
      "\n",
      "kuzeykizi ->  [('nokia 7390', 9.512985000099576), ('samsung sgh e370', 9.45334333249985), ('samsung sgh m150', 9.40320499678048), ('samsung e1075', 9.397066405626887), ('nokia e61', 9.37735686655816)] \n",
      "\n",
      "Claudio ->  [('doro phone easy 410 gsm', 9.698153852547117), ('apple iphone 6s plus', 9.660771120754323), ('nokia asha 205', 9.648369712220664), ('samsung galaxy s3 mini', 9.61794692058489), ('nokia 220', 9.557351312372194)] \n",
      "\n",
      "Ashley ->  [('blackberry z30', 9.421679693388448), ('apple iphone 4', 9.01905727991113), ('samsung galaxy nexus', 8.372942112332828), ('apple iphone 7', 8.212698515440847), ('samsung galaxy s i9000', 8.05784625239978)] \n",
      "\n",
      "sam ->  [('samsung galaxy e7', 9.841204024006402), ('nokia 112', 9.190613612113129), ('nokia 5130 xpressmusic', 8.78304629722637), ('apple iphone 7', 8.724057450431847), ('motorola moto g3', 8.340375903546542)] \n",
      "\n",
      "robert ->  [('samsung galaxy s7 789999', 9.156259487937561), ('apple iphone 6s', 9.039245508520729), ('huawei p9 lite', 8.815868929904127), ('samsung galaxy j7', 8.804195439404964), ('nokia lumia 635', 8.578343050322447)] \n",
      "\n",
      "zehrabalta ->  [('samsung sph m620zkaspr', 9.360773393780791), ('samsung i450', 9.321222538168056), ('samsung c5212', 9.315153920612644), ('blackberry curve 8300', 9.287732123373816), ('sony ericsson w950i', 9.244184051787519)] \n",
      "\n",
      "silvia ->  [('samsung galaxy s3 mini', 8.713859375042453), ('htc desire 310', 8.65895397633729), ('samsung galaxy note 2', 8.31270211989205), ('nokia 3310', 8.089788423922242), ('blackberry curve 8520', 8.013056337808543)] \n",
      "\n",
      "ÐÐ³Ð¾Ñ ->  [('apple iphone 5s', 9.524931538028195), ('apple iphone 5s', 9.524931538028195), ('htc desire 530188', 9.275700507764263), ('samsung s8000 jet', 7.145308290888878)] \n",
      "\n",
      "Andy ->  [('htc touch dual', 10), ('motorola moto x 1 moto x1 moto x 2nd gen', 9.791950526480374), ('huawei honor 7', 9.223531884763126), ('huawei honor 5x', 9.075082213848122), ('samsung galaxy core', 8.984515626545667)] \n",
      "\n",
      "Jean ->  [('huawei ascend mate 8', 9.112315259105292), ('motorola moto g 753361', 8.599524829943107), ('blackberry q5', 8.42005774309793), ('nokia 6555', 8.372128883901789), ('nokia lumia 635', 8.219777074491166)] \n",
      "\n",
      "Alexis ->  [('htc m8', 9.542829379425921), ('sony ericsson w595', 8.186911698214496), ('htc one m7', 7.934906581408174), ('asus zenfone 2', 7.739315118674536), ('lg nexus 4', 7.735372252909383)] \n",
      "\n",
      "Ryan ->  [('samsung sch a650', 10), ('motorola i860', 10), ('blackberry priv', 9.178324053906051), ('nokia 6555', 9.07615611764588), ('samsung i9500 galaxy s iv', 9.053187036788515)] \n",
      "\n",
      "monica ->  [('apple iphone 5c', 9.214962777080274), ('samsung galaxy mini 2 s6500', 8.741625447485244), ('blackview bv6000', 8.457398630736634), ('siemens cf110', 8.33852483304405), ('doogee x5 max pro', 8.284250521525955)] \n",
      "\n",
      "alberto ->  [('huawei honor 6', 9.674668224384167), ('samsung gt e1200', 9.519187460765291), ('lg k10', 9.42829153612149), ('samsung galaxy a5 2017', 9.355384240203895), ('samsung galaxy s7 789999', 8.654573478981673)] \n",
      "\n",
      "ÐÑÑÐµÐ¼ ->  [('sony ericsson w200i', 10), ('huawei u8150', 8.999271333654502), ('sony xperia zr', 8.921483054475647), ('sony xperia z1 compact d5503', 8.731609643123994), ('samsung i9500 galaxy s iv', 8.691849064844348)] \n",
      "\n",
      "?????????????? ->  [('sony ericsson xperia ray', 9.366696650235411), ('nokia 301', 9.336679851148114), ('nokia 301', 9.336679851148114), ('htc one x', 9.13369999459703), ('sony xperia v', 8.854476595870072)] \n",
      "\n",
      "?????????? ->  [('samsung galaxy mini 2 s6500', 9.565903987428626), ('sony ericsson xperia arc s', 9.483920944500554), ('sony ericsson xperia arc s', 9.483920944500554), ('nokia 301', 9.008273054852484), ('nokia 301', 9.008273054852484)] \n",
      "\n",
      "DJ ->  [('lg eclipse 4g lte', 8.856873427225617), ('huawei ascend mate 7', 8.802643356772087), ('motorola moto z play', 8.773934562901545), ('huawei p9 lite', 8.202565604960773), ('samsung galaxy s7 edge', 8.160204036625865)] \n",
      "\n",
      "ZÃ¡kaznÃ­k ->  [('apple iphone 6s plus', 10), ('nokia lumia 620', 9.749588117684572), ('lg google nexus 5', 9.607166536843199), ('lg l40g', 9.580727975969074), ('apple iphone 5s', 9.516299663142405)] \n",
      "\n",
      "Tim ->  [('nokia 1209', 9.431742241450275), ('samsung galaxy s7 789999', 9.426262560666162), ('htc one s', 9.185541885046925), ('sony ericsson w200i', 9.134543102920837), ('alcatel idol 3 5 5 6045y', 9.0328163962352)] \n",
      "\n",
      "eric ->  [('nokia lumia 930', 9.668960749449726), ('sony xperia z5 compact', 9.322808255144288), ('samsung galaxy grand prime', 8.859874511263044), ('wiko rainbow', 8.682743580086443), ('nokia lumia 925', 8.599873080451856)] \n",
      "\n",
      "Kelly ->  [('samsung galaxy s8', 10), ('blackberry priv', 9.977161416612253), ('lg google nexus 5', 9.801020070942942), ('samsung galaxy alpha', 9.622970557779716), ('apple iphone 6s plus', 9.49575557022859)] \n",
      "\n",
      "ozerbjk ->  [('black berry 8700g', 9.603091307435557), ('samsung sgh b130', 9.480131133498343), ('sony ericsson w950i', 9.474371864868209), ('samsung sgh i560', 9.417449466758518), ('nokia 6267', 9.354588587925797)] \n",
      "\n",
      "Javi ->  [('lg f60', 10), ('htc 10', 8.883356183798352), ('samsung galaxy s7 789999', 8.812074217996905), ('microsoft lumia 640 dual sim', 8.592818054615229), ('asus zenfone 3', 8.477267249512499)] \n",
      "\n",
      "adrian ->  [('nokia c3', 8.515731682008587), ('samsung galaxy s i9000', 8.050222739553366), ('nokia 100', 7.910880658371194), ('nokia lumia 730', 7.5856531682121995), ('blackview bv6000', 7.240211230992373)] \n",
      "\n",
      "Sabine ->  [('nokia 1650', 10), ('nokia lumia 1320', 9.366106825095455), ('archos 3 5 home connect', 9.289491215208118), ('motorola moto g4', 9.078330575924376), ('sony xperia z ultra', 8.93543441403178)] \n",
      "\n",
      "Pablo ->  [('htc titan', 9.656988687015044), ('bq aquaris e5', 9.129853669012991), ('motorola moto x', 8.955313620464219), ('sony xperia u st25i', 8.715528244883096), ('nokia lumia 630', 7.949988504458367)] \n",
      "\n",
      "Wolfgang ->  [('samsung galaxy mega 6 3 i9200', 10), ('huawei ascend p1', 9.06920922214989), ('apple iphone 6s plus', 8.798661485208145), ('samsung galaxy s3 mini', 8.704566776948116), ('nokia 6300', 8.625621718577015)] \n",
      "\n",
      "antonio ->  [('huawei honor 3', 9.243329971640598), ('huawei ascend mate 8', 8.929364289770382), ('xiaomi mi 3', 8.876062022850066), ('huawei ascend g700', 8.779673427692474), ('huawei p8 lite', 8.69952339166064)] \n",
      "\n",
      "Massimiliano ->  [('nokia lumia 630', 9.775050071036853), ('samsung galaxy core', 9.716524697677862), ('lg g4', 9.587609770864773), ('apple iphone se', 9.586281712946485), ('meizu pro 5', 9.523503204572702)] \n",
      "\n",
      "Jon ->  [('motorola moto g', 9.22599002073922), ('lg g4', 9.070322956818373), ('sony xperia c', 8.758708535695224), ('motorola moto x', 8.658400414919804), ('asus zenfone 5', 8.478018357486626)] \n",
      "\n",
      "Henry ->  [('nokia e63', 9.559595664894736), ('sony xperia z5', 9.316729436935312), ('samsung galaxy note 2', 9.288692209530023), ('samsung galaxy s7 789999', 9.029231970331045), ('acer liquid z3 duo', 8.455837060495032)] \n",
      "\n"
     ]
    },
    {
     "name": "stdout",
     "output_type": "stream",
     "text": [
      "Raul ->  [('samsung gt e1200', 9.572514817555765), ('tp link archer t6e', 9.568633867873091), ('nokia 108', 8.791307924582837), ('blu star 4 5', 8.756465900950163), ('sony xperia z ultra', 8.612165231811906)] \n",
      "\n",
      "ÐÐ½Ð½Ð° ->  [('apple iphone 5s', 9.754795828611568), ('sony xperia z1 compact d5503', 9.46501210022576), ('nokia 3250', 9.272529632024522), ('huawei ascend g700', 8.927290977491918), ('lenovo a2010', 8.90337218706387)] \n",
      "\n",
      "Sabrina ->  [('apple iphone se', 9.603888561411303), ('samsung galaxy s3 mini', 9.423910700363246), ('google nexus 6', 9.133956730218374), ('microsoft lumia 640 dual sim', 8.928119077572886), ('nokia 6101', 8.89694583962409)] \n",
      "\n",
      "Josh ->  [('apple iphone 6s', 8.843558581997621), ('motorola moto z play', 8.546686554860893), ('samsung gt b2100', 8.39577096979463), ('apple iphone 5s', 8.240422019874472), ('samsung galaxy nexus', 8.149997687129508)] \n",
      "\n",
      "rick2809 ->  [('asus ze550kl', 10), ('lg optimus g e977', 10), ('microsoft lumia 532', 10), ('samsung galaxy core plus', 10), ('samsung galaxy s7 edge', 9.914369291901902)] \n",
      "\n",
      "Annie ->  [('samsung galaxy a5 2017', 10), ('samsung galaxy note iii', 9.736723525930728), ('samsung galaxy fit', 8.689244651910801), ('lg g3 d855 657484', 8.311602820834208), ('wileyfox swift', 8.101714460006901)] \n",
      "\n",
      "Alfredo ->  [('huawei ascend y550', 9.885252682135949), ('apple iphone 6', 9.436438360299535), ('samsung galaxy mini 2 s6500', 9.35299737532616), ('motorola moto x', 9.02865811019409), ('asus ze550kl', 9.024319479839875)] \n",
      "\n",
      "Ð Ð¾Ð¼Ð°Ð½ ->  [('apple iphone 6s', 9.558167902097072), ('huawei g6600', 9.463514531765085), ('nokia lumia 925', 9.242496447365104), ('sony xperia sp', 9.215998342986126), ('apple iphone 7', 9.20703433524822)] \n",
      "\n",
      "max ->  [('blackberry z30', 9.53213895051926), ('alcatel one touch 997d ot 997d', 9.373769100105728), ('apple iphone 6s', 9.141789882227243), ('xiaomi mi4', 8.825872301364639), ('motorola moto g 753361', 8.817593150862018)] \n",
      "\n",
      "Raquel ->  [('samsung galaxy s6', 9.011636800392932), ('samsung galaxy s4 mini gt i9190 gt i9192 dual sim', 8.754312903692055), ('alcatel onetouch 20 04', 8.672219521043724), ('huawei honor 3', 8.402416982728685), ('xiaomi mi4', 8.291819423815834)] \n",
      "\n",
      "anonym ->  [('sony ericsson w550i', 10), ('nokia 6210', 10), ('mitsubishi mars', 10), ('nokia 3250', 9.180915605085602), ('siemens c45', 9.0)] \n",
      "\n",
      "Oliver ->  [('samsung e1310', 10), ('huawei honor 6', 9.665305302943779), ('nokia lumia 920', 9.538397799694238), ('lg x power', 9.48454524871211), ('sony xperia ion', 9.186726876563952)] \n",
      "\n",
      "vincent ->  [('samsung galaxy a3 2016', 8.164635500111139), ('motorola moto x', 7.968028837586296), ('nokia n95', 7.632654883842611), ('apple iphone 4', 7.48399694169646), ('htc hd7', 7.068827460688805)] \n",
      "\n",
      "maurizio ->  [('samsung galaxy j7 2016', 10), ('apple iphone 5s', 9.490494941736653), ('huawei p9 lite', 9.354370654515902), ('huawei honor 7', 8.917884498308725), ('elephone p8000', 8.7742570752043)] \n",
      "\n",
      "Denis ->  [('microsoft lumia 640 dual sim', 9.365339091415354), ('sony xperia xz', 9.083742246961481), ('apple iphone 5s', 8.738502606013625), ('nokia xpressmusic 5610', 8.688596491228068), ('sony xperia l', 8.678802304731509)] \n",
      "\n",
      "diego ->  [('apple iphone 6', 9.526659928878644), ('samsung galaxy s7 edge', 9.349769901324077), ('sony xperia z 504642', 9.06009239535714), ('motorola moto g', 8.924757169832306), ('blackberry curve 8310', 8.727876692995373)] \n",
      "\n",
      "Cliente de Amazon ->  [('samsung galaxy s6 edge sm g925f', 9.192324928130006), ('motorola moto g4', 8.956569184121589), ('samsung galaxy s5', 8.79134624656549), ('samsung galaxy s6', 8.68156543005367), ('samsung galaxy mini 2 s6500', 8.526510881136181)] \n",
      "\n",
      "giuseppe ->  [('wiko getaway', 9.188529304213915), ('huawei honor 7', 9.110838165796066), ('microsoft lumia 950 xl', 9.007390077008873), ('ttfone pluto', 8.933133851023928), ('htc m8', 8.853941813345898)] \n",
      "\n",
      "Andres ->  [('lg g2 mini', 9.552646313099356), ('huawei honor 6', 9.244808835244047), ('lg l90 d410', 9.065154664384771), ('motorola moto g', 9.02092434501288), ('asus ze500kl', 8.144629528767151)] \n",
      "\n",
      "mehmet ->  [('htc desire 600', 10), ('samsung s5610', 9.706932244012535), ('nokia n8', 9.489795094919097), ('samsung corby s3650', 9.313746327600459), ('samsung galaxy s ii', 9.274858515195785)] \n",
      "\n",
      "ÐÐ¾Ð½ÑÑÐ°Ð½ÑÐ¸Ð½ ->  [('sony xperia c', 9.835526467439047), ('huawei u8500', 9.696904908106381), ('apple iphone 6s', 9.66028794132144), ('asus zenfone 3 max', 9.260806448336817), ('samsung galaxy j7 2016', 9.19205562891037)] \n",
      "\n",
      "Cristian ->  [('nokia 3510i', 10), ('lg optimus l3 ii e430 e425', 9.474308945693583), ('huawei ascend honor 3c', 9.426154082807873), ('motorola moto x play', 9.306843858785298), ('doogee x5 max pro', 8.991983096662564)] \n",
      "\n",
      "Alan ->  [('huawei p9 797082', 9.8335125792803), ('nokia 3310', 9.565707150055612), ('nokia 101', 9.52333110312138), ('samsung galaxy ace 3', 9.442550923241669), ('alcatel onetouch pixi 4', 9.37394894776361)] \n",
      "\n",
      "Danilo ->  [('huawei ideos x5', 10), ('huawei ascend g620s', 9.749686080949806), ('lg g4', 9.417622156039148), ('samsung s7580 galaxy trend plus', 9.408489223959055), ('toshiba tg01', 9.332135400613895)] \n",
      "\n",
      "Wendy ->  [('huawei p9 797082', 8.674562496581732), ('nokia lumia 530', 8.662604827590084), ('motorola razr hd', 8.347932318376516), ('blackberry curve 3g 9300', 8.249588199465828), ('apple iphone 7 plus', 8.173578190113336)] \n",
      "\n",
      "Sandra ->  [('nokia 6303', 9.442189714674896), ('sony ericsson cedar', 8.956790449144354), ('samsung sgh f480', 8.849058817228327), ('samsung galaxy core', 8.591190843040735), ('nokia n8', 8.439638563533949)] \n",
      "\n",
      "Bruno ->  [('google nexus 6p', 9.626810527923677), ('samsung galaxy s7 789999', 9.559275081608531), ('huawei honor 4x', 9.505304101862292), ('samsung galaxy core', 9.367261248343645), ('samsung galaxy s7 edge', 8.95529689279062)] \n",
      "\n",
      "sewut ->  [('sony ericsson z550i', 9.306809304618017), ('samsung sgh b300', 9.254174975630116), ('nokia e61', 9.239428667934757), ('sony ericsson w950i', 9.208450379557405), ('sony ericsson m600i', 9.203186278882765)] \n",
      "\n",
      "Alexandre ->  [('asus zenfone 3', 9.721972543261789), ('samsung galaxy j5 4g lte 5 2 inches', 9.63159966019904), ('samsung galaxy j5 4g lte 5 2 inches', 9.63159966019904), ('samsung galaxy fame s6810', 9.200866136897927), ('sony xperia t', 9.182274510505408)] \n",
      "\n",
      "karabocuk ->  [('nokia 6120 classic', 9.737282126953714), ('nokia e51', 9.724656643728856), ('samsung c5212', 9.54967275183782), ('samsung i8510 innov8', 9.484670683883687), ('samsung sph m310 slash virgin', 9.422892809719995)] \n",
      "\n",
      "Santiago ->  [('motorola moto g', 8.514444167196547), ('apple iphone 4', 8.420718068881408), ('samsung galaxy young', 8.311464809221912), ('lg nexus 4', 8.285079065834404), ('sony xperia z3', 8.236272386782664)] \n",
      "\n",
      "Tom ->  [('lg dare vx9700', 10), ('nokia 8600 luna', 10), ('samsung f400', 9.616757729073212), ('motorola moto z play', 9.265935271799902), ('huawei p9 lite', 9.08039674278414)] \n",
      "\n",
      "francesco ->  [('wiko fever', 9.381677971490092), ('samsung galaxy s7 edge', 9.26703410251402), ('wiko getaway', 9.223266314326033), ('wiko getaway', 9.223266314326033), ('microsoft lumia 532', 9.21845797669707)] \n",
      "\n",
      "Jonas ->  [('samsung galaxy j5', 9.72708576063113), ('lenovo moto g4', 9.629195463896764), ('apple iphone 7', 9.593709143426278), ('samsung galaxy s7 edge', 8.985029309095825), ('samsung c3530', 8.88912948942175)] \n",
      "\n",
      "enrico ->  [('asus zenfone 3', 9.86808919824475), ('htc desire 310', 8.604088247270917), ('lg g2 594708', 8.497719706883322), ('huawei ascend y300', 8.291042663775755), ('sony xperia tipo', 8.220362067740366)] \n",
      "\n",
      "scofield ->  [('black berry 8700g', 9.684383020703855), ('samsung c5130', 9.611135339042141), ('nokia 7390', 9.590126663796674), ('siemens cx75', 9.587334403009342), ('nokia e51', 9.58296610297387)] \n",
      "\n",
      "Nancy ->  [('apple iphone 4s', 9.569795115413179), ('apple iphone 6s', 9.359298157136166), ('apple iphone 6 plus', 8.572600497685269), ('apple iphone 6', 8.50822770215271), ('sony ericsson k500i', 7.65747342442284)] \n",
      "\n",
      "carlo ->  [('panasonic x70', 9.992388583364214), ('lg leon 4g lte h340n', 9.481146940099515), ('huawei p8 lite 2017', 9.358790191597272), ('doogee x5 max pro', 9.33736337434495), ('motorola moto g 753361', 8.831629449887936)] \n",
      "\n",
      "S ->  [('huawei p8 lite', 8.894757194262082), ('nokia lumia 520', 8.79088947854246), ('apple iphone se', 8.366048363428135), ('nokia e71', 8.270200359506271), ('samsung galaxy j3 duos', 8.265679079585665)] \n",
      "\n",
      "Irene ->  [('vodafone smart prime 6', 9.534284738708976), ('nokia lumia 830', 8.67785036372464), ('nokia 208', 8.479415830202113), ('samsung gt i8160', 8.475863031622517), ('apple iphone 6s plus', 7.79720313347222)] \n",
      "\n",
      "Franco ->  [('lg l fino', 9.645621292478872), ('acer liquid z3 duo', 9.224089952871992), ('motorola moto g', 9.184428122612186), ('blu studio energy', 9.006421584799444), ('huawei ascend g615', 8.955545032791052)] \n",
      "\n",
      "Gabriele ->  [('doogee y6 max', 9.790859580828124), ('huawei ascend g7', 9.423290856298937), ('samsung galaxy note 2', 9.342153640592073), ('lg h410', 9.081216085539838), ('huawei y635', 9.057639849325954)] \n",
      "\n",
      "Jo ->  [('mysaga c2', 8.937871553492553), ('nokia 112', 8.497652844021426), ('huawei p8 lite', 8.405242581660673), ('samsung galaxy j5', 8.353847500533925), ('samsung galaxy j7', 8.120276028150393)] \n",
      "\n",
      "Lucia ->  [('xiaomi redmi note', 9.351069503573209), ('motorola moto g', 9.14903773276255), ('sony xperia z1 compact d5503', 8.957613653486966), ('sony ericsson xperia mini', 8.787571585175765), ('samsung galaxy core plus', 8.653237531460464)] \n",
      "\n",
      "ÐÐ²Ð³ÐµÐ½Ð¸Ð¹ ->  [('lg optimus one p500', 9.777814221925341), ('samsung galaxy j7', 9.605570832099195), ('nokia 101', 9.529670932401645), ('nokia lumia 930', 9.195482085153397), ('samsung galaxy s6', 9.144511598500713)] \n",
      "\n",
      "ÐÐ½ÑÐ¾Ð½ ->  [('nokia x1 01', 9.751333723736296), ('htc 10', 9.718969124282726), ('apple iphone 7', 9.32150192089671), ('samsung c3530', 9.18953937495374), ('lenovo p780', 9.076328310235848)] \n",
      "\n",
      "Sandy ->  [('nokia n95', 9.982817931517687), ('asus ze550kl', 9.497853373717929), ('huawei honor 4x', 9.471427151703608), ('samsung galaxy note 4', 9.1991276277836), ('samsung galaxy note 4', 9.1991276277836)] \n",
      "\n",
      "Stephan ->  [('samsung wave s8500', 9.871700778059719), ('huawei honor', 9.638826787516761), ('microsoft lumia 640 dual sim', 8.269882395884176), ('cubot note s', 8.121986519165675), ('samsung c3520', 8.090158506417543)] \n",
      "\n",
      "Hans ->  [('sony xperia z1 compact d5503', 9.692984051397168), ('huawei p8', 9.549690925377753), ('sony ericsson aino', 9.500768030629123), ('nokia 808', 9.18523571728976), ('nokia 206', 9.10978723151165)] \n",
      "\n",
      "Samuel ->  [('motorola moto x 1 moto x1 moto x 2nd gen', 9.60358460856941), ('alcatel onetouch 20 04', 9.548012964554637), ('sony xperia p', 9.155180250906625), ('sony xperia z2', 8.381783684853792), ('apple iphone 5c', 8.34269357753274)] \n",
      "\n",
      "Ben ->  [('samsung galaxy s5', 9.335900972101156), ('samsung galaxy s5', 9.335900972101156), ('apple iphone 7', 9.189717672677398), ('apple iphone 5s', 9.124456917084649), ('samsung galaxy j7', 9.119170761550865)] \n",
      "\n",
      "Kate ->  [('apple iphone 5', 9.32058051244787), ('nokia 100', 8.807415479861032), ('apple iphone 5s', 8.086181764761823), ('apple iphone 5s', 8.086181764761823), ('lg gs290 cookie fresh', 7.600803398068552)] \n",
      "\n",
      "Michele ->  [('wiko highway', 9.959803082701182), ('samsung galaxy a5 2016', 9.796251701731283), ('nokia lumia 625', 9.653018059809153), ('archos 40 titanium', 9.632676000030234), ('huawei ascend g7', 9.459487142902974)] \n",
      "\n",
      "ÐÐ»ÐµÐºÑÐ°Ð½Ð´Ñ ->  [('samsung galaxy a3 819970', 9.643936716248382), ('nokia c7 00i', 9.563970770143943), ('lg e440 optimus l4 ii', 9.519062609258443), ('sony ericsson xperia arc', 9.437042106295843), ('nokia lumia 520', 9.285708351126278)] \n",
      "\n",
      "Keith ->  [('microsoft lumia 650', 8.398445513020619), ('microsoft lumia 650', 8.398445513020619), ('huawei mate 9', 8.141787783248724), ('apple iphone 4s', 8.084888714969361), ('sony xperia x performance f8131', 7.708505938507047)] \n",
      "\n",
      "Lukas ->  [('sony xperia z5', 8.641581421958444), ('samsung galaxy s7 edge', 8.153572355641382), ('samsung galaxy s5 mini', 7.838511449468349), ('nokia 515', 7.6320855341010265), ('sony xperia p', 7.324904144902667)] \n",
      "\n",
      "anna ->  [('huawei nova plus', 10), ('huawei p8 lite', 9.272172371919387), ('sharp gx20', 9.208284292604052), ('samsung galaxy s i9000', 8.27112530226756), ('samsung galaxy s iii', 8.062400079841696)] \n",
      "\n",
      "Javier ->  [('lenovo moto g4 play', 9.253433045935589), ('bq aquaris e5', 9.006043192816357), ('huawei nova plus', 8.99942038117198), ('motorola moto x play', 8.931300983476216), ('motorola moto g', 8.906813942134379)] \n",
      "\n",
      "Bezlikiy_Djo ->  [('nokia 6220 classic', 9.56316883023059), ('lg c1100', 9.0), ('nokia 5130 xpressmusic', 8.869324753639269), ('sony ericsson aspen', 8.792373745681852), ('sony ericsson w810i', 8.664416565954005)] \n",
      "\n",
      "Kyle ->  [('motorola rokr z6m', 9.927737494680342), ('motorola krave zn4', 9.032149839401368), ('lg optimus f6', 8.590387781691797), ('samsung i9500 galaxy s iv', 8.323022142680813), ('blackberry z10', 8.275652583338895)] \n",
      "\n",
      "Christian ->  [('huawei honor 6', 9.37749200561405), ('samsung galaxy s iii neo i9300i', 9.24483877854522), ('microsoft lumia 640 dual sim', 9.180468532401525), ('doro phoneeasy 605', 9.089372750852327), ('samsung galaxy s7 789999', 9.004523032201979)] \n",
      "\n",
      "Mary ->  [('motorola moto g', 9.573785761375252), ('nokia lumia 730', 9.366476270141087), ('samsung galaxy j5', 9.089010801355826), ('nokia 105', 8.939294833345857), ('apple iphone 7', 8.918716873291983)] \n",
      "\n",
      "jorge ->  [('sony xperia ion', 8.46529701715329), ('samsung galaxy core', 8.428324009696272), ('samsung galaxy j7', 8.217358004072562), ('lg google nexus 5', 7.915410334321706), ('samsung galaxy s4 active i9295', 7.749925572719677)] \n",
      "\n",
      "Carmen ->  [('huawei p10 plus', 10), ('samsung galaxy j5', 9.703200760551189), ('apple iphone 6s', 9.134995560199929), ('xiaomi redmi note', 8.908796700925333), ('sony xperia z3 compact', 8.9018977455029)] \n",
      "\n",
      "peter ->  [('samsung galaxy note 2', 9.167498273436996), ('nokia e61', 9.134485093014803), ('samsung galaxy s7 edge', 8.910841499550495), ('huawei p8 lite', 8.910565963354202), ('sony xperia z1', 8.900793006895714)] \n",
      "\n",
      "mary ->  [('nokia 3510', 9.840179340774181), ('nokia 101', 9.724234438287645), ('asus zenfone 2 laser ze601kl', 8.72495555027603), ('samsung galaxy j3 duos', 8.680450363029365), ('sony xperia m', 8.660693066671014)] \n",
      "\n",
      "Isabel ->  [('xiaomi redmi note 3 pro', 10), ('samsung galaxy note 2', 9.151357881544385), ('motorola droid razr m', 8.994785990560318), ('huawei ascend y530', 8.005352936571443), ('doogee dg300', 7.989854501992452)] \n",
      "\n",
      "Bob ->  [('samsung sgh s275', 10), ('samsung galaxy s duos s7562', 9.619578089753212), ('apple iphone', 9.581682897129381), ('samsung galaxy s6', 9.380965919829297), ('motorola moto g4', 9.186364980580969)] \n",
      "\n",
      "Christopher ->  [('samsung sph m900', 10), ('apple iphone 7 plus', 9.615594776944677), ('blu studio 5 0', 9.417980496744105), ('lg g2 594708', 9.32676597414044), ('sony xperia z1', 8.911008747766449)] \n",
      "\n",
      "Robin ->  [('htc 10', 9.75814522647223), ('lg p725 optimus 3d max', 9.646869061483322), ('lg g2 594708', 9.135306544716146), ('motorola moto g 753361', 9.005792619265472), ('sony xperia xz', 8.96779764423658)] \n",
      "\n",
      "Pascal ->  [('huawei honor 7', 9.667258016384658), ('samsung galaxy s iii neo i9300i', 9.417735515882946), ('apple iphone 6s', 9.251266782894536), ('motorola moto g3', 9.212755143967922), ('archos 50 helium', 9.190696048816994)] \n",
      "\n",
      "ÐÐ¸ÑÐ°Ð»Ð¸Ð¹ ->  [('sony xperia tx', 10), ('samsung s5233', 9.581006277215904), ('samsung galaxy note 2', 8.996184741139968), ('zte v880', 8.933393659374772), ('samsung c3222', 8.765065145617497)] \n",
      "\n",
      "sara ->  [('nokia asha 309', 8.55540679315207), ('samsung g355 galaxy core ii', 8.328132633547169), ('sony xperia l', 8.327028178891952), ('nokia 100', 8.29800591420037), ('alcatel onetouch pop c3 4033d', 8.235279359256957)] \n",
      "\n",
      "Luciano ->  [('huawei ascend honor 3c', 10), ('huawei ascend honor 3c', 10), ('huawei p8 lite', 9.426148352565285), ('samsung galaxy grand prime', 9.21946082272418), ('nokia x2 02', 9.028578121441475)] \n",
      "\n",
      "MM ->  [('apple iphone 4s', 8.961251957927288), ('motorola gleam', 8.80634875608597), ('lg e450 optimus l5 ii', 8.781936103944807), ('motorola c139', 8.401999504583785), ('samsung galaxy s3 mini', 8.365148849470538)] \n",
      "\n",
      "ÐÑÑÐµÑÐ»Ð°Ð² ->  [('nokia lumia 930', 9.642805267182785), ('samsung galaxy a5 2016', 9.625181679241422), ('htc desire s', 9.422350173450413), ('sony xperia z 504642', 9.397951771532979), ('lenovo a536', 9.22102476170623)] \n",
      "\n",
      "Roman ->  [('sony ericsson g900', 10), ('thl w200', 9.930021117232648), ('samsung galaxy a5 2016', 9.812854945310233), ('nokia 101', 9.40562941885789), ('acer liquid e2', 9.305373790751503)] \n",
      "\n",
      "Ana ->  [('samsung galaxy j1 mini', 9.46579358257208), ('samsung galaxy s3 mini', 9.289608163733773), ('samsung galaxy j5', 9.275651980720543), ('samsung galaxy s duos s7562', 9.175477017844786), ('samsung galaxy core', 9.17083373392416)] \n",
      "\n",
      "Alice ->  [('samsung sgh x660', 10), ('nokia 105', 9.427477167022872), ('apple iphone 4s', 9.398152386185895), ('sony xperia z1 compact d5503', 9.360455538492063), ('huawei p8', 9.125431252980365)] \n",
      "\n",
      "Mirko ->  [('samsung e1170', 10), ('samsung ativ s', 9.428412219958878), ('samsung galaxy s6 edge sm g925f', 9.303437826000197), ('motorola moto g 753361', 9.21249325771993), ('samsung galaxy pocket', 9.129403790644355)] \n",
      "\n",
      "Ivan ->  [('asus zenfone 3', 9.521719445610348), ('sony xperia z3', 9.20680671620725), ('thl t6s', 8.781620080737998), ('huawei honor 5x', 8.712959833109814), ('samsung galaxy note 2', 8.617881479736775)] \n",
      "\n",
      "Valentina ->  [('meizu pro 6', 10), ('lg optimus l5 e610', 9.265863316588803), ('apple iphone se', 9.121812675547641), ('apple iphone 7', 8.91130472054946), ('huawei honor 7', 8.90341890164387)] \n",
      "\n",
      "Roy ->  [('apple iphone se', 9.536370631315378), ('sony xperia xz', 9.066677156616795), ('lg gt400', 9.021406574662612), ('sony xperia z5 premium', 8.671719551151272), ('nokia lumia 520', 8.634530390470033)] \n",
      "\n",
      "Rohit ->  [('huawei mate 9', 9.615972775758392), ('samsung galaxy a7', 8.414821833230965), ('nokia 5800 xpressmusic tube', 8.308833086837009), ('xiaomi mi 4i', 8.077570252822076), ('karbonn titanium x', 7.841854934601665)] \n",
      "\n",
      "Alexandra ->  [('samsung galaxy core', 10), ('samsung galaxy y s5360', 9.568407576668724), ('nokia lumia 820', 9.50410948488478), ('sony xperia z3 compact', 9.478958624789142), ('nokia lumia 730', 9.317623346963277)] \n",
      "\n",
      "ÐÐ»ÐµÐ½Ð° ->  [('sony xperia tx', 10), ('samsung galaxy ace 3', 9.320660277837803), ('samsung galaxy a3 2016', 9.297618296787375), ('acer liquid gallant duo', 9.281522335759664), ('samsung galaxy a5', 9.175212669382425)] \n",
      "\n",
      "Nicole ->  [('nokia 6700 slide', 9.450575073106187), ('samsung galaxy j7', 9.408914856559388), ('apple iphone 5c', 9.117161851001331), ('samsung galaxy mega 6 3 i9200', 9.029820763360158), ('samsung galaxy note 2', 8.94340838189216)] \n",
      "\n",
      "Lars ->  [('blackberry venice', 9.565465112256467), ('samsung gt b2710', 9.256731392822125), ('lg e900 optimus 7', 8.653790541667684), ('huawei p8', 8.285179484147989), ('huawei p8', 8.285179484147989)] \n",
      "\n",
      ". ->  [('samsung wave 3', 9.789556273137036), ('samsung galaxy ace s5830', 9.293091194166731), ('lg gd510', 8.350662434594819), ('samsung galaxy s5', 8.11608970016334), ('lg optimus g', 8.094512300094305)] \n",
      "\n",
      "ÐÐ¼Ð¸ÑÑÐ¸Ð¹ ->  [('lenovo ideaphone a706', 9.898834066920434), ('nokia lumia 720', 9.445078736256452), ('samsung galaxy ace 3', 9.350366639641518), ('sony xperia l', 9.239566484062951), ('samsung galaxy s6', 9.146767813626738)] \n",
      "\n",
      "ÐÐ°Ð²ÐµÐ» ->  [('samsung wave 723 gt s7230e', 9.766367733851675), ('huawei ascend g700', 9.62042393962526), ('sony xperia zl', 9.577374472391787), ('huawei g6600', 9.392062345662051), ('samsung galaxy ace 3', 9.382526583420347)] \n",
      "\n",
      "Brian ->  [('microsoft lumia 640 dual sim', 8.970736341169678), ('apple iphone 5s', 8.969930055304332), ('samsung galaxy note', 8.962981755681044), ('sony xperia m2', 8.697301008749161), ('samsung galaxy s iii', 8.506170136011697)] \n",
      "\n",
      "Filippo ->  [('nokia lumia 520', 9.395159140084344), ('htc one xplus', 9.35423207669452), ('huawei p8 lite', 9.146397290165353), ('sony xperia t', 9.03038878116268), ('huawei ascend g525', 8.920033894771962)] \n",
      "\n",
      "Expert Review ->  [('apple iphone 6s', 9.228561027529686), ('samsung galaxy note iii', 9.211618203067037), ('lg google nexus 5', 8.905433828158165), ('apple iphone 6 plus', 8.885807562847889), ('samsung galaxy e7', 8.820610800610934)] \n",
      "\n",
      "anneme ->  [('samsung f400', 9.65468367875304), ('black berry 8700g', 9.565246310024587), ('samsung sgh b130', 9.540584675802725), ('nokia 7390', 9.539611348587469), ('blackberry 7290', 9.49617007588981)] \n",
      "\n",
      "Domenico ->  [('htc desire 310', 9.663637114399643), ('cubot s222', 9.61534920010983), ('samsung galaxy grand neo gt i9060', 9.559426790028978), ('lg spirit c70 h440n', 9.386013824422008), ('nokia 515', 9.36070891150672)] \n",
      "\n",
      "jose ->  [('huawei honor 6', 9.498951165157566), ('samsung galaxy s3 mini', 8.857106176411122), ('google nexus 5x h791', 8.81779009692982), ('lg g2 mini', 8.465338637301405), ('huawei ascend g600', 8.458363039942935)] \n",
      "\n",
      "Christina ->  [('samsung galaxy s5 mini', 9.221787061968831), ('blackberry priv', 8.23879506558235), ('sony xperia x performance f8131', 7.908009064866565), ('samsung c3520', 7.276683145841489), ('blackberry q5', 6.576495997958304)] \n",
      "\n",
      "geveze ->  [('lg p503', 10), ('samsung s5233', 9.854417149542817), ('nokia x2', 9.82954563072876), ('samsung i8510 innov8', 9.775373776391673), ('nokia asha 205', 9.486385890963458)] \n",
      "\n",
      "gulayy ->  [('nokia 5250', 10), ('samsung e1081', 9.834630986703097), ('samsung g810', 9.684520250093245), ('samsung corbypro b5310', 9.525365977377348), ('samsung c3200', 9.21658500075926)] \n",
      "\n",
      "john ->  [('motorola moto q global', 10), ('nokia lumia 520', 9.743551448942352), ('nokia n81', 9.67602219625863), ('huawei ascend mate 7', 9.580304263685115), ('huawei p8', 8.989379601538367)] \n",
      "\n",
      "pablo ->  [('huawei honor 6', 8.961276794123144), ('asus zenfone 3 max', 8.702311727186185), ('doogee x5', 8.63590753496324), ('nokia 800', 8.582927310815318), ('htc desire c golf wildfire c', 8.485465973212333)] \n",
      "\n",
      "cristina ->  [('cubot gt88', 9.504536597697449), ('motorola moto g 753361', 8.98171876571735), ('samsung galaxy j7 2016', 8.957455093744574), ('lenovo s850', 8.914040280227653), ('samsung galaxy j5 4g lte 5 2 inches', 8.784990094148995)] \n",
      "\n",
      "alessandro ->  [('huawei p9 797082', 8.834097082977765), ('samsung galaxy j5', 8.796940462423823), ('motorola moto x', 8.707485877554955), ('samsung galaxy s iii neo i9300i', 8.696329593920192), ('nokia lumia 920', 8.635386708126749)] \n",
      "\n",
      "vincenzo ->  [('alcatel ot 918d', 9.09632453347983), ('lg optimus g', 8.998783215437667), ('huawei p9 lite', 8.832553852222661), ('samsung galaxy s4 mini gt i9190 gt i9192 dual sim', 8.822353590481335), ('huawei ascend y300', 8.641735183131795)] \n",
      "\n",
      "Emilio ->  [('huawei ascend g525', 9.735667494827739), ('nokia e6', 9.586120382098258), ('lenovo moto g4 play', 9.570343134118204), ('lg l70', 9.448590974783736), ('samsung galaxy note iii', 9.259334237066899)] \n",
      "\n",
      "J ->  [('nokia lumia 930', 8.441866481370335), ('huawei ascend p7', 8.238057794331654), ('samsung galaxy s7 789999', 8.176765680029908), ('sony ericsson xperia pro', 7.87581238367947), ('samsung galaxy j5 4g lte 5 2 inches', 7.668665170487966)] \n",
      "\n",
      "ÐÐ¸Ñ",
      "Ð°Ð¸Ð» ->  [('samsung wave s8500', 9.579332718640504), ('samsung galaxy s7 789999', 9.343238811821236), ('lg gs101', 9.189134918064562), ('samsung galaxy j7 2016', 9.155148707015991), ('samsung galaxy j2 prime sm g532f', 9.11553773172319)] \n",
      "\n",
      "Jessica ->  [('lenovo moto g4 play', 9.113087990694556), ('samsung galaxy s7 edge', 9.060315085038624), ('nokia lumia 925', 8.878708974716691), ('huawei y6', 8.828899725260644), ('samsung galaxy s iii neo i9300i', 8.43597505408656)] \n",
      "\n",
      "Christophe ->  [('samsung galaxy s5', 9.656640417499457), ('zte blade v7 lite', 9.603236912893925), ('sony xperia m2', 9.415627627896459), ('sony ericsson w960i', 9.174454043083509), ('nokia lumia 635', 9.112933939357013)] \n",
      "\n",
      "Gianni ->  [('samsung s7580 galaxy trend plus', 8.829621854756423), ('lg g4', 8.558853305170972), ('samsung galaxy s7 edge', 8.380330572017012), ('acer liquid z630', 8.365670649381546), ('huawei y6', 8.276928538185965)] \n",
      "\n",
      "???????????????? ?????????????? ->  [('nokia 301', 9.620720648043784), ('apple iphone 4s', 9.556463925062431), ('huawei ascend p1', 9.382285155723256), ('samsung c3322', 9.265229271759084), ('nokia lumia 820', 8.181099888070207)] \n",
      "\n",
      "vesponethebest ->  [('nokia 1100', 9.403318811601785), ('samsung sgh f480', 8.397662146040867), ('nokia e60', 8.302588486077836), ('samsung e1050', 8.185446925923822), ('nokia c1 02', 8.133834220263259)] \n",
      "\n",
      "JC ->  [('sony ericsson xperia pro', 9.58960608681204), ('doogee valencia 2 y100 pro', 8.283895687510546), ('huawei p8 lite', 8.051396148999096), ('samsung galaxy grand prime', 7.627752579974797), ('cubot x6', 7.359357720014209)] \n",
      "\n",
      "andy ->  [('nokia 2220 slide', 9.222990739076954), ('samsung galaxy j5 4g lte 5 2 inches', 7.500638305718298), ('nokia lumia 630', 7.407302747053063), ('nokia lumia 920', 7.350417024352364), ('apple iphone 5s', 7.325062827147039)] \n",
      "\n",
      "Mo ->  [('samsung galaxy j5 4g lte 5 2 inches', 8.877921059693644), ('apple iphone 6s', 8.72277460899604), ('lg g2 594708', 8.681098316379408), ('cubot gt95', 8.320503652306472), ('samsung galaxy note 2', 8.311332667169388)] \n",
      "\n",
      "Manuel ->  [('alcatel onetouch 20 04', 9.370693079937945), ('bq aquaris e4 5', 9.103543532431944), ('nokia xl', 9.080053108027144), ('huawei p8', 8.881700812203517), ('samsung galaxy j5', 8.827406399005607)] \n",
      "\n",
      "Pat ->  [('motorola v360', 9.618914865462166), ('samsung galaxy s7 edge', 9.618227273138713), ('microsoft lumia 640 dual sim', 9.51803656040057), ('motorola moto g 753361', 9.396040247001455), ('samsung gt b2100', 9.008191332016695)] \n",
      "\n",
      "Joel ->  [('lg kf600', 9.046404089643158), ('lg kf600', 9.046404089643158), ('samsung c3520', 8.323703110524239), ('htc m8', 7.358533551531898), ('oneplus 3', 7.05527479810506)] \n",
      "\n",
      "Nick ->  [('philips x513', 9.842243312931208), ('asus zenfone 3', 9.135313416235025), ('huawei honor 4x', 9.086504127524801), ('lg g4', 8.750422753181155), ('apple iphone 5c', 8.733252171063135)] \n",
      "\n",
      "Charlie ->  [('motorola xt1225', 10), ('sony xperia xa', 9.749773523214891), ('apple iphone 7', 9.268503327458253), ('apple iphone 6 plus', 8.578555726094885), ('sony xperia z3', 8.512907282946628)] \n",
      "\n",
      "bedduamiz ->  [('samsung jet sgh s8003', 9.537890675328722), ('nokia 7390', 9.488694772738036), ('blackberry 7290', 9.435032368992129), ('lg gc900', 9.357720557000436), ('sony ericsson w950i', 9.351441632305852)] \n",
      "\n",
      "Stefan ->  [('huawei p8', 9.52501806881181), ('huawei p8', 9.52501806881181), ('huawei ascend p1', 9.317256966785777), ('samsung wave m', 9.31339167791437), ('sony xperia xz', 9.178140777213796)] \n",
      "\n",
      "ÐÐ¾Ð»ÑÐ·Ð¾Ð²Ð°ÑÐµÐ»Ñ ÑÐºÑÑÐ» ÑÐ²Ð¾Ð¸ Ð´Ð°Ð½Ð½ÑÐµ ->  [('lenovo ideaphone a316', 9.956095478094273), ('xiaomi mi 4c', 9.135485046754944), ('htc one m9', 8.828870608774782), ('huawei p9 lite', 8.660865380454023), ('samsung galaxy j5', 8.535994667802395)] \n",
      "\n",
      "Rafael ->  [('nokia lumia 625', 9.976553959346365), ('lg optimus g e977', 9.769834517859618), ('samsung c3520', 9.598070329654515), ('htc one m9 plus', 9.574879646060923), ('samsung galaxy s ii', 9.449898440473007)] \n",
      "\n",
      "Raffaele ->  [('huawei honor 4x', 10), ('huawei honor 6', 10), ('nokia lumia 720', 10), ('nokia lumia 625', 9.657818609054047), ('samsung s5610', 9.591061758748195)] \n",
      "\n",
      "M ->  [('samsung c3590', 8.69824668613322), ('lg l40g', 8.568458112897284), ('samsung galaxy a3 2016', 8.339777219314477), ('samsung sgh t401g', 8.29925100610269), ('samsung galaxy s6', 8.29242800193153)] \n",
      "\n",
      "Qantas ->  [('sony ericsson k810i', 9.300766844161126), ('sony ericsson w660i', 9.267350920337195), ('htc one xplus', 9.024283548108636), ('samsung galaxy note 2', 9.013572250775274), ('samsung focus flash', 8.92240120169056)] \n",
      "\n",
      "salame ->  [('blackberry 8100 269227', 9.653734687503906), ('blackberry 7290', 9.60424439109159), ('nokia 3110 classic', 9.513150060219491), ('blackberry 8820', 9.454974940559273), ('nokia 2310', 9.361995656894914)] \n",
      "\n",
      "Gabriel ->  [('samsung galaxy j7', 9.783619829872347), ('nokia c6', 9.362225284510105), ('samsung galaxy nexus', 9.33981090857117), ('motorola moto z play', 9.315475068308956), ('samsung m7600 beatdj', 9.21380977052443)] \n",
      "\n",
      "dilemma21 ->  [('samsung sgh b130', 9.504775516680272), ('samsung i450', 9.481750986447212), ('samsung p520', 9.436908197125755), ('sony ericsson k810i', 9.384617302141871), ('nokia 6288', 9.378113882966975)] \n",
      "\n",
      "Nicolas ->  [('samsung galaxy pro b7510', 9.826948519359236), ('doro phone easy 615', 9.745907636346132), ('lg spirit 4g', 9.273002041578966), ('sony xperia z5', 9.16243483801382), ('samsung galaxy s6', 9.110954607874916)] \n",
      "\n",
      "Joan ->  [('samsung galaxy q', 9.923850115253027), ('lg h410', 9.651093985211167), ('samsung galaxy a5 2016', 9.493701918093244), ('lg k4', 9.416313086188786), ('google nexus 6p', 8.990859913913406)] \n",
      "\n",
      "????????????????? ->  [('samsung c3322', 9.293717084055295), ('htc desire c golf wildfire c', 9.261625973482369), ('alcatel ot 918d', 9.068401704431), ('samsung gt s5282', 8.969376606906245), ('samsung c3782', 8.785739939453709)] \n",
      "\n",
      "Jeff ->  [('pantech caper', 9.661799973752023), ('samsung galaxy s7 789999', 9.58417584529606), ('motorola moto x 1 moto x1 moto x 2nd gen', 9.460934837667688), ('samsung galaxy note 5 sm n920f', 9.25313405742132), ('sony ericsson w910i', 8.63278368958273)] \n",
      "\n",
      "Jordan ->  [('sony ericsson w200i', 9.348426466700554), ('lg shine cu720', 9.070951595332893), ('sony xperia x compact', 8.831346341780398), ('samsung galaxy a5', 8.741144773420087), ('htc one m7', 8.682658759596952)] \n",
      "\n",
      "Ð¢Ð°ÑÑÑÐ½Ð° ->  [('apple iphone se', 9.636155927617047), ('samsung galaxy pocket', 9.45146642659374), ('samsung sgh c140', 9.44965532768011), ('samsung galaxy s6', 9.361737549766458), ('samsung galaxy ace 3', 9.333877145909865)] \n",
      "\n",
      "Gianluca ->  [('huawei ascend p1', 9.718160670859078), ('huawei p9 lite', 9.535002539807799), ('huawei ascend mate', 9.459268136155417), ('nokia lumia 735', 9.41404510528142), ('nokia lumia 735', 9.41404510528142)] \n",
      "\n",
      "Deepak ->  [('samsung galaxy s6', 8.987362271031534), ('lenovo vibe x3', 8.656763452074774), ('samsung galaxy a5 2016', 8.616113084304315), ('asus zenfone 6', 8.05209296156401), ('nokia x3', 7.9550769956088985)] \n",
      "\n",
      "Alessandra ->  [('apple iphone 6s', 9.544522453112288), ('samsung galaxy note 5 sm n920f', 9.232287595421859), ('motorola moto g', 9.167114598745417), ('samsung galaxy core prime', 8.844067973988555), ('meizu m3s', 8.784697285248056)] \n",
      "\n",
      "Manu ->  [('nokia 7360', 9.360125382985697), ('huawei p9 lite', 8.99654170690487), ('nokia 5130 xpressmusic', 8.46536363486527), ('nokia n9', 8.427421487037469), ('huawei honor 7', 8.05348375309625)] \n",
      "\n",
      "Jay ->  [('nokia 2710', 10), ('htc m8', 9.386797038528352), ('doro phoneeasy 605', 9.069002920477192), ('lg l90 d410', 9.020243095162748), ('samsung galaxy s ii', 8.980590444161617)] \n",
      "\n",
      "B ->  [('lg dare vx9700', 10), ('samsung galaxy s6', 9.247193213786145), ('acer liquid e2', 9.09479415548176), ('zte z431', 9.054412655559483), ('sony xperia z ultra', 8.567152537431124)] \n",
      "\n",
      "ÐÐ¸ÐºÐ¾Ð»Ð°Ð¹ ->  [('samsung galaxy spica i5700', 9.627552019755633), ('sony xperia z 504642', 9.62485585660537), ('samsung galaxy grand duos i9080 i9082', 9.303245789439552), ('samsung galaxy note 5 sm n920f', 9.260004776015004), ('apple iphone 6s plus', 9.245554718774523)] \n",
      "\n",
      "Victoria ->  [('lg google nexus 5', 9.726739989802464), ('apple iphone 5', 9.517687945390382), ('lg eclipse 4g lte', 8.647420413320022), ('lg nexus 4', 8.082725876317792), ('samsung s5230', 7.915603752140337)] \n",
      "\n",
      "Ganesh ->  [('blackberry pearl 8100', 9.080326071053168), ('xolo play 8x 1100', 8.838327482604315), ('nokia lumia 520', 8.236324668800384), ('samsung galaxy note iii', 8.145126816527906), ('sony xperia m', 7.493981742306501)] \n",
      "\n",
      "Misafir ->  [('nokia lumia 625', 9.942261832640137), ('nokia 5800 navigation edition', 9.90453602858261), ('nokia lumia 930', 9.85009130241001), ('samsung galaxy core', 9.822082026606388), ('samsung s5610', 9.750731154887834)] \n",
      "\n",
      "Will ->  [('lg motion 4g ms770', 10), ('apple iphone 5s', 9.269220228205148), ('huawei honor 5x', 9.118912715554123), ('htc desire s', 9.105913680257025), ('samsung galaxy s4 mini gt i9190 gt i9192 dual sim', 8.196160175493318)] \n",
      "\n",
      "Bernd ->  [('nokia n96', 9.085601989425188), ('lg gt400', 8.953042881906981), ('nokia 6303i', 8.78849401094036), ('nokia 3720', 8.321218477992588), ('microsoft lumia 950', 8.102783577167969)] \n",
      "\n",
      "Brandon ->  [('samsung galaxy mega 6 3 i9200', 10), ('zopo zp980', 10), ('lg optimus g pro', 9.56595246125682), ('lg g2 mini', 9.216970741477605), ('samsung galaxy j7', 8.222536336356896)] \n",
      "\n",
      "Tommy ->  [('samsung galaxy a3 2016', 9.15366300814253), ('nokia lumia 925', 8.949262428656242), ('asus zenfone 2 ze551ml', 8.583104201095823), ('sony xperia z5 compact', 8.450122252628004), ('sony xperia z5', 8.415423441348496)] \n",
      "\n",
      "Albert ->  [('motorola moto g', 9.597231010820458), ('motorola moto x', 9.264650607949665), ('htc incredible s', 9.113777557212325), ('lg g3 d855 657484', 9.099920623022593), ('htc hd mini', 9.043962885469691)] \n",
      "\n",
      "carlos ->  [('samsung e1050', 9.618300065203151), ('sony xperia z1', 9.15535480344925), ('motorola moto g', 8.688503293006084), ('motorola xt1225', 8.492952480478355), ('samsung galaxy a5 2016', 8.288091922384798)] \n",
      "\n",
      "black ->  [('nokia 7360', 9.466837448166052), ('nokia n81', 9.409194359571234), ('sony ericsson w950i', 9.319730618621328), ('nokia n72', 9.26372584999012), ('samsung u800 soul', 9.201889235438172)] \n",
      "\n",
      "Maurizio ->  [('huawei ascend p7', 9.356040193006889), ('nokia lumia 520', 9.266048597216438), ('samsung galaxy note 2', 9.161899556188866), ('huawei y6', 9.115336205016227), ('acer liquid e2', 8.811392925275936)] \n",
      "\n",
      "miatamania ->  [('nokia e51', 9.454009886947292), ('nokia 3110 classic', 9.435812586636574), ('samsung sgh e370', 9.379984814423164), ('samsung p520', 9.339325398223483), ('blackberry curve 8300', 9.31672287691924)] \n",
      "\n",
      "Charles ->  [('samsung galaxy s ii', 9.718612407866981), ('samsung galaxy mega 6 3 i9200', 9.691782666952097), ('nokia e71', 8.962807652194144), ('lg k4', 8.954579137299847), ('nokia lumia 635', 8.920596242212953)] \n",
      "\n",
      "Marc ->  [('benq siemens s68', 9.5532105603255), ('nokia lumia 930', 8.977665521858585), ('motorola moto g', 8.84450136368841), ('motorola moto g', 8.84450136368841), ('samsung galaxy a5', 8.735814573807287)] \n",
      "\n",
      "JÃ¼rgen ->  [('nokia 2710', 10), ('samsung e1310', 9.793189720581365), ('samsung galaxy ace 3', 9.566505461312929), ('lg gs101', 9.320624969238416), ('samsung galaxy s iii', 9.17108143910135)] \n",
      "\n",
      "Amanda ->  [('pantech caper', 10), ('samsung galaxy j5 4g lte 5 2 inches', 8.96143511333932), ('samsung sgh x426 sgh x427', 8.883437606199859), ('apple iphone 7', 8.805151221471279), ('lg v10', 8.760030753333334)] \n",
      "\n",
      "sandra ->  [('apple iphone 6', 9.085407885889492), ('huawei honor 6x', 8.937931377110756), ('samsung galaxy a3 819970', 8.73488651478926), ('samsung ativ s', 8.602409859928983), ('samsung galaxy s7 789999', 8.540862789245148)] \n",
      "\n",
      "ÐÐ¸ÐºÑÐ¾Ñ ->  [('lg optimus one p500', 9.576205680763186), ('sony xperia z 504642', 9.435819782831004), ('samsung galaxy note 2', 9.327603646729322), ('microsoft lumia 640 dual sim', 9.19620886846739), ('lg x power', 9.107489531938805)] \n",
      "\n",
      "Ruben ->  [('bq aquaris e4 5', 9.438143555962704), ('nokia 2630', 9.414444394049431), ('huawei g630', 9.077708904753973), ('alcatel one touch idol ultra', 8.732502241509506), ('lg g2 mini', 8.253180571695944)] \n",
      "\n",
      "Client Amazon ->  [('huawei honor 8', 9.497013936846871), ('samsung galaxy s6 edge sm g925f', 8.878310777430723), ('huawei ascend p7', 8.107943047132979), ('asus zenfone max zc550kl', 7.9101367725477285), ('samsung galaxy j5', 7.903911783404705)] \n",
      "\n",
      "luigi ->  [('asus zenfone 2', 9.503521456102423), ('doogee x5', 9.494297702321605), ('huawei ascend g620s', 9.213078441327728), ('lg optimus g', 9.113192012623319), ('microsoft lumia 640 xl', 8.452648127761023)] \n",
      "\n",
      "ozer ->  [('samsung sgh b130', 9.520570371054681), ('nokia e61', 9.442082939513348), ('nokia n72', 9.408199936139685), ('nokia n81', 9.386651423906665), ('nokia 6267', 9.352239868987413)] \n",
      "\n",
      "ÐÑÐ¸Ð½Ð° ->  [('samsung galaxy premier', 10), ('samsung galaxy note 2', 9.85020333407783), ('nokia 5230', 9.55452790357656), ('sony ericsson xperia arc', 9.489273147090143), ('sony xperia z5', 9.43765205215542)] \n",
      "\n",
      "Daniela ->  [('huawei ascend honor 3c', 9.761471118337843), ('samsung galaxy s3 mini', 9.41409944955898), ('lg g2 594708', 9.381764560914805), ('zte axon 7', 9.17109873355503), ('google nexus 5x h791', 9.11190829319449)] \n",
      "\n",
      "Kevin ->  [('huawei ascend honor 3c', 9.749270514377427), ('sony ericsson xperia arc', 9.115745448543457), ('sony ericsson w710i', 9.0), ('apple iphone 5s', 8.97532616809278), ('sony ericsson w810i', 8.79376438098371)] \n",
      "\n",
      "Mattia ->  [('samsung galaxy j7 2016', 9.61850166153861), ('samsung galaxy a5 2017', 9.353677084359456), ('samsung galaxy grand neo plus gt i9060i', 9.08942473797716), ('huawei honor 7', 8.992702076223624), ('wiko fever', 8.726261609955195)] \n",
      "\n",
      "ÐÐ°ÑÐ°Ð»ÑÑ ->  [('samsung wave m', 9.702975270731585), ('samsung galaxy j7 2016', 9.574049530043032), ('apple iphone se', 9.332604369255234), ('lg optimus l3 ii e430 e425', 9.20885440611336), ('samsung galaxy grand duos i9080 i9082', 8.957884297862122)] \n",
      "\n",
      "Jake ->  [('apple iphone 4s', 9.524108676482024), ('huawei honor 6x', 9.450485957415895), ('samsung sgh f480', 9.351593877360145), ('sony ericson w580i', 9.158537208532408), ('apple iphone 7', 8.701163126849927)] \n",
      "\n",
      "Jerry ->  [('apple iphone se', 9.122399339396665), ('samsung sch u740', 8.470703764600296), ('lg g3 d855 657484', 8.210859459591441), ('blackberry passport', 8.109549687418278), ('lg optimus l9 p760', 7.860116296303461)] \n",
      "\n",
      "Amazon Kundenrezensionen ->  [('benq siemens s68', 10), ('sony ericsson xperia arc', 9.395442223787724), ('samsung omnia 7', 9.283158772061746), ('nokia lumia 630', 8.639969152272192), ('blackberry q10', 8.408704009457711)] \n",
      "\n",
      "Christine ->  [('nokia 2330 classic', 9.726797825309092), ('apple iphone 6', 9.654809366426147), ('nokia e63', 9.648041137412756), ('huawei p8 lite', 9.455500139412644), ('samsung focus flash', 9.418917807608493)] \n",
      "\n",
      "Roger ->  [('lg g4', 9.128987252575564), ('samsung galaxy note 4', 8.835390560212234), ('apple iphone 6s', 8.639900274874366), ('samsung focus flash', 8.570858718065296), ('samsung galaxy s8 plus', 8.442611711924183)] \n",
      "\n",
      "Karen ->  [('nokia 6230i', 8.471260018498585), ('samsung galaxy s6', 7.855618918906568), ('samsung transform ultra', 7.812268386348138), ('samsung galaxy j5 4g lte 5 2 inches', 7.639822507914358), ('blu life play', 7.5827686596006885)] \n",
      "\n",
      "Adrian ->  [('motorola moto x', 9.652705012821125), ('samsung galaxy a3 819970', 9.446142589032064), ('htc 7 mozart', 9.417676146420112), ('sony ericsson hazel', 9.022938464430416), ('motorola moto g', 8.844929496262079)] \n",
      "\n",
      "Jeremy ->  [('zte concord v768', 9.642124624332945), ('sony xperia z5', 9.398249920455768), ('samsung galaxy s4 zoom', 9.220861126692506), ('samsung galaxy note 4', 8.994489342348963), ('apple iphone 4s', 8.79511118432174)] \n",
      "\n",
      "Marcel ->  [('samsung galaxy note 2', 10), ('sony xperia z5', 9.147427746370006), ('huawei p8 lite', 9.002270544124038), ('sony xperia z1 compact d5503', 8.862655288236482), ('nokia lumia 930', 8.67652537873982)] \n",
      "\n",
      "rafael ->  [('samsung galaxy mini 2 s6500', 10), ('motorola a1000', 9.718371077517435), ('samsung galaxy s3 mini', 9.107181327315285), ('blu d670u', 8.820406032380852), ('samsung galaxy s6 edge sm g925f', 8.766599372648903)] \n",
      "\n",
      "jesus ->  [('lg g2 594708', 9.69176664611586), ('htc m8', 9.19597746153821), ('samsung corby s3650', 8.929985102573513), ('cubot one', 8.450555298460154), ('xiaomi mi 3', 8.256772727961305)] \n",
      "\n",
      "Un anonyme ->  [('samsung gt e1270', 9.70394436609581), ('samsung sgh m110', 9.638313356658276), ('nokia 6030', 8.920481120084393), ('samsung galaxy note iii', 8.504406454531335), ('htc one a9 16gb', 8.439480614074384)] \n",
      "\n",
      "anonymous ->  [('sony ericsson xperia pro', 9.983647602780321), ('lg g2 594708', 9.046791383480551), ('nokia 6303i', 8.39293044263863), ('samsung gt i8552', 7.969457708306537), ('apple iphone 6', 7.860347143867369)] \n",
      "\n",
      "Alvaro ->  [('samsung ativ s', 9.052132486726327), ('huawei honor 4x', 8.637240305253872), ('bq aquaris e4 5', 8.595602794202899), ('alcatel onetouch 20 04', 8.57237379895523), ('google nexus 5x h791', 8.520305293627647)] \n",
      "\n",
      "ÐÐ¸ÑÐ¸Ð»Ð» ->  [('huawei ascend g600', 9.856279403402963), ('lg p713 optimus l7 ii', 9.789556068408643), ('apple iphone 6s', 9.720964456224475), ('samsung galaxy s4 mini gt i9190 gt i9192 dual sim', 9.675820517657238), ('lg l90 d410', 9.637116992901444)] \n",
      "\n",
      "ÐÐ¸ÐºÑÐ¾ÑÐ¸Ñ ->  [('sony xperia c', 9.149249921814794), ('samsung galaxy s6', 8.623827397956683), ('sony xperia l', 8.506928981782604), ('samsung galaxy s5', 8.392560975422217), ('nokia 107', 8.39007181391358)] \n",
      "\n",
      "Julio ->  [('apple iphone 5s', 9.594970718260567), ('google nexus 6p', 8.924594826028114), ('samsung galaxy s4 mini gt i9190 gt i9192 dual sim', 8.467006532549062), ('lg l fino', 8.448187839516068), ('lg g2 594708', 8.446495467193047)] \n",
      "\n",
      "ÐÐ°ÑÑÑ ->  [('sony xperia z1', 9.374746318968727), ('samsung galaxy e5', 9.315784488245901), ('zte blade v7 lite', 9.283793249342274), ('sony xperia z5', 9.198128933568139), ('sony xperia c', 9.117042370494003)] \n",
      "\n",
      "kardelen ->  [('motorola droid 425280', 9.6375293461944), ('nokia 7360', 9.609208168779741), ('samsung sgh m150', 9.529165212495968), ('nokia e61', 9.503796922783472), ('samsung p520', 9.488175881650305)] \n",
      "\n",
      "M. ->  [('samsung galaxy s7 789999', 9.777978514260214), ('nokia lumia 930', 9.716312837361931), ('blackview bv6000', 9.557385975190344), ('samsung galaxy a5 2016', 9.500850784869428), ('nokia lumia 920', 9.230736653974919)] \n",
      "\n",
      "Dennis ->  [('huawei ascend g7', 9.430997107102481), ('htc titan', 9.351549575660098), ('motorola moto x', 9.289428760131162), ('huawei nova', 9.215867248680556), ('samsung gt b2100', 9.159018917007964)] \n",
      "\n",
      "Ali ->  [('nokia 3310', 9.776994914929663), ('samsung galaxy s7 edge', 9.01213482636127), ('apple iphone 6s', 8.831886237734214), ('nokia 6303', 8.791061845308885), ('samsung i8262 galaxy core duos', 8.600926572843472)] \n",
      "\n",
      "yusuf60 ->  [('samsung wave ii s8530', 9.333822834402802), ('samsung e2121', 8.997575641080386), ('samsung galaxy fit', 8.99066710332728), ('nokia c2 01', 8.95771906301561), ('nokia 8800', 8.878199989735897)] \n",
      "\n",
      "Marcello ->  [('lg l90 d410', 9.458741186372434), ('motorola moto x 1 moto x1 moto x 2nd gen', 9.392478418296088), ('asus zenfone 2 ze551ml', 9.125245838458358), ('nokia 5000', 8.76954859477043), ('samsung galaxy s iii neo i9300i', 8.634112182668401)] \n",
      "\n",
      "JB ->  [('sony xperia x compact', 9.694734665102295), ('htc one m9', 7.756834909880663), ('microsoft lumia 532', 7.641073379546564), ('apple iphone 6', 7.498393392300367), ('lg optimus net', 7.463619071651388)] \n",
      "\n",
      "simone ->  [('motorola moto x 1 moto x1 moto x 2nd gen', 9.358857837499336), ('samsung galaxy mini 2 s6500', 9.326358906680879), ('sony xperia t2 ultra', 9.179893129245286), ('ttfone venus 2', 8.972953754575496), ('samsung galaxy s6', 8.666949125828555)] \n",
      "\n",
      "Marion ->  [('apple iphone 7', 9.866795916586124), ('nokia lumia 630', 9.72411965193138), ('sony ericsson k750i', 9.025310885851251), ('samsung galaxy s ii', 9.014642217672913), ('nokia c2 01', 8.916882804617254)] \n",
      "\n",
      "Justin ->  [('lg rumor', 9.704308705728456), ('apple iphone 5s', 9.657697944929431), ('asus ze500kl', 8.379829734381923), ('samsung galaxy grand prime ve sm g531f', 8.236012049055278), ('nokia c6', 8.20093746175364)] \n",
      "\n",
      "MarÃ­a ->  [('htc desire 310', 9.202012627843093), ('cubot note s', 7.866013562099711), ('vodafone smart prime 6', 7.603864859627156), ('doogee x5', 7.586551528944828), ('motorola moto e', 7.548982760245479)] \n",
      "\n",
      "claudia ->  [('samsung gt i8552', 10), ('samsung galaxy s6 edge sm g925f', 9.568779186419937), ('samsung galaxy grand neo plus gt i9060i', 9.440269566438994), ('lg l70', 9.143328150546143), ('asus zenfone 2', 9.085514821269818)] \n",
      "\n",
      "patricia ->  [('samsung galaxy grand neo plus gt i9060i', 9.447965975151797), ('samsung galaxy s7 789999', 9.047496595687509), ('nokia lumia 810', 7.946315266297544), ('nokia x2 01 357765', 7.694840164349843), ('huawei p8 lite', 7.52198775419046)] \n",
      "\n",
      "AnÃ´nimo ->  [('lg optimus g', 9.820071173259711), ('samsung galaxy fame s6810', 9.412640414546637), ('apple iphone se', 9.308065531938958), ('lg optimus l7 ii dual', 8.94961843367266), ('nokia lumia 710', 8.756725017310291)] \n",
      "\n",
      "sumeyyehavvaay ->  [('samsung s3850', 10), ('black berry 8700g', 9.786365946803606), ('samsung sgh m150', 9.689298306215093), ('nokia 6288', 9.607678071867191), ('nokia e61', 9.596604476459012)] \n",
      "\n",
      "Pierre ->  [('blackberry z30', 10), ('samsung wave s8500', 9.393146170928182), ('samsung galaxy spica i5700', 9.275818139670317), ('samsung galaxy a5 2016', 9.268945402960394), ('samsung galaxy a5 2016', 9.268945402960394)] \n",
      "\n",
      "??????????? ->  [('acer cloudmobile', 9.926144019837285), ('samsung c3782', 9.51203650473047), ('samsung c3782', 9.51203650473047), ('lg optimus l5', 9.279606183831731), ('lg optimus l5', 9.279606183831731)] \n",
      "\n",
      "manuel ->  [('lg g2 594708', 9.089516888930678), ('huawei ascend p7', 8.649381604766196), ('lg k10', 7.961972978068954), ('huawei p8 lite', 7.828683748798962), ('samsung galaxy core prime', 7.761900218177702)] \n",
      "\n",
      "Harry ->  [('lg lg420g', 9.843298751147081), ('huawei honor 6x', 9.761623980875196), ('nokia n95', 9.458964718597786), ('samsung galaxy s ii', 9.307131114729325), ('lenovo vibe k4 note', 8.653018730552304)] \n",
      "\n",
      "ÐÐ»Ð¸Ð½Ð° ->  [('samsung galaxy a5 2016', 9.842531944499223), ('sony xperia l', 9.663784278438367), ('sony xperia c', 9.294879975291071), ('lg l70', 9.145889260709401), ('lg kp500', 9.140110223155894)] \n",
      "\n",
      "Ken ->  [('motorola moto x', 9.817506670138734), ('apple iphone 4', 9.636003390383227), ('nokia 6310i', 8.962093352941658), ('blackberry q10', 7.6360234418726325), ('nokia 220', 7.481595686432829)] \n",
      "\n",
      "mark ->  [('ttfone pluto', 10), ('blu win jr', 9.405295780575557), ('samsung f700', 9.384615384615385), ('samsung galaxy a5 2016', 9.165570135657067), ('samsung galaxy note 5 sm n920f', 9.132204172574221)] \n",
      "\n",
      "Andre ->  [('huawei honor 4x', 9.354681120964745), ('motorola moto g', 9.251518000198095), ('motorola moto z play', 9.242092340142545), ('asus ze550kl', 8.786349545654977), ('microsoft lumia 640 dual sim', 8.624684583888754)] \n",
      "\n",
      "rmm ->  [('samsung jet sgh s8003', 9.545600029343007), ('samsung sgh b130', 9.506418320856039), ('samsung sph m620zkaspr', 9.503900712664619), ('samsung g810', 9.464005298995469), ('samsung f400', 9.397843158296867)] \n",
      "\n",
      "Jan ->  [('lg optimus one p500', 9.692356347263594), ('huawei p9 797082', 9.135201271015305), ('htc legend', 9.062685619764427), ('apple iphone 6s', 9.012912345536773), ('huawei p8 lite', 8.84160022594117)] \n",
      "\n",
      "Sean ->  [('lg eclipse 4g lte', 9.623036682739109), ('samsung galaxy s5', 8.903102264621133), ('cubot x6', 8.52011688143367), ('alcatel idol 3 5 5 6045y', 8.26727799181709), ('microsoft lumia 640 xl', 8.058014273746943)] \n",
      "\n",
      "Anne ->  [('htc one m8s', 10), ('apple iphone 4s', 9.012506955004016), ('sony xperia m', 8.59298782604989), ('huawei p8', 8.414341977055587), ('cubot s550', 8.327233940666327)] \n",
      "\n",
      "Rene ->  [('samsung wave ii s8530', 9.965508549165879), ('samsung galaxy s duos s7562', 9.281177368102957), ('huawei p8', 8.994158239561624), ('samsung galaxy s iii neo i9300i', 8.70495411404248), ('samsung ativ s', 8.687656814927523)] \n",
      "\n",
      "ÐÐ²Ð°Ð½ ->  [('samsung galaxy a3 819970', 9.893740820054154), ('nokia 101', 9.26752068323862), ('sony xperia sp', 9.192239877174456), ('sony xperia sp', 9.192239877174456), ('sony xperia sp', 9.192239877174456)] \n",
      "\n",
      "chris ->  [('samsung exhilarate sgh i577', 10), ('samsung galaxy j5', 9.59311572703264), ('samsung galaxy s7 789999', 9.00767558316811), ('samsung galaxy s7 789999', 9.00767558316811), ('samsung b3310', 8.965646099856864)] \n",
      "\n",
      "mauro ->  [('motorola moto g3', 9.527917518358802), ('huawei p8', 9.311934417956556), ('huawei ascend p7', 8.810595404037425), ('asus zenfone 3 max', 8.680148130359278), ('samsung s7580 galaxy trend plus', 8.43229237755082)] \n",
      "\n",
      "Walter ->  [('sony ericsson t715', 10), ('samsung gt b2710', 9.633425827373028), ('sony xperia v', 9.002319921818863), ('nokia 2710', 8.999514668708938), ('lg google nexus 5', 8.791749134408127)] \n",
      "\n",
      "patrick ->  [('doogee x5 max pro', 9.316709520067281), ('nokia lumia 520', 8.979393883337874), ('nokia lumia 520', 8.979393883337874), ('samsung gt b2100', 8.912196236812584), ('samsung sgh u600', 8.796661271732653)] \n",
      "\n",
      "Lisa ->  [('samsung galaxy a5', 9.728240486125), ('sony ericsson c903', 9.59320639758335), ('alcatel onetouch pop 3 5015d', 9.52883773434924), ('htc evo 4g', 9.200356657065765), ('apple iphone 7', 8.965546340731597)] \n",
      "\n",
      "Dirk ->  [('samsung galaxy j5', 9.908006036428795), ('huawei p9 lite', 9.69528603710134), ('huawei p9 lite', 9.69528603710134), ('huawei ascend p7', 9.326208635342935), ('huawei ascend g615', 9.123522952084139)] \n",
      "\n",
      "Juan Carlos ->  [('huawei ascend p7', 10), ('huawei p9 lite', 9.225265794381144), ('samsung galaxy note', 9.174075595227382), ('apple iphone 6 plus', 9.168047621741428), ('huawei p8 lite', 9.02231410401809)] \n",
      "\n",
      "Leonardo ->  [('samsung galaxy mega 6 3 i9200', 10), ('nokia n76', 10), ('samsung galaxy note 5 sm n920f', 9.679841385367462), ('asus zenfone 2 ze551ml', 9.353273378183221), ('apple iphone 6', 9.250378173628627)] \n",
      "\n",
      "K ->  [('samsung i9500 galaxy s iv', 9.524870237479409), ('motorola moto g', 9.4871667562495), ('huawei p8', 9.310778609733127), ('htc wildfire s', 9.254663962973753), ('lg dare vx9700', 9.072941363316726)] \n",
      "\n",
      "Lorenzo ->  [('huawei ascend g7', 9.746872804097023), ('samsung galaxy j5', 9.455210361254386), ('microsoft lumia 950', 9.445059534428308), ('motorola moto g 753361', 9.405817999785848), ('apple iphone 7', 9.205549261378822)] \n",
      "\n",
      "Rob ->  [('apple iphone 6s', 9.204376286732481), ('apple iphone 6s', 9.204376286732481), ('samsung galaxy s5', 8.993945370564283), ('blackberry passport', 8.938070928775762), ('sony ericsson g900', 8.889883946516461)] \n",
      "\n",
      "Julie ->  [('lg p713 optimus l7 ii', 9.041440333174712), ('huawei p9 lite', 9.035974173097966), ('apple iphone 6s plus', 8.741049868693514), ('lg octane', 8.689485907253246), ('htc one m9', 8.657275213065432)] \n",
      "\n",
      "mustafa ->  [('samsung wave 723 gt s7230e', 10), ('nokia 808', 9.646210570944532), ('samsung s5610', 9.58951416022681), ('lg optimus g pro', 9.377225646722165), ('sony xperia z 504642', 8.761163875979577)] \n",
      "\n",
      "Stephen ->  [('lg dare vx9700', 9.54583213231181), ('huawei p9 797082', 8.56376184429015), ('htc desire 820', 7.877241120698969), ('motorola moto g', 7.609665046023483), ('htc one m7', 7.462181792450317)] \n",
      "\n",
      "Fabrizio ->  [('asus ze500kl', 9.481703829529165), ('motorola moto e', 9.36515727259566), ('huawei p9 lite', 9.290866953964109), ('apple iphone 6s', 9.129823778869863), ('lg optimus l3 ii e430 e425', 8.961145382177133)] \n",
      "\n",
      "Gustavo ->  [('sony xperia m', 9.14093593702947), ('htc ozone xv6175', 8.922136090693748), ('motorola moto g', 8.703442598443797), ('sony xperia z2', 8.618706175626267), ('samsung galaxy s ii', 8.453253260649559)] \n",
      "\n",
      "Guido ->  [('alcatel onetouch 20 04', 10), ('blackberry z30', 9.478604823485611), ('nokia 800', 9.33566017909783), ('blackberry venice', 9.210647152849065), ('xiaomi redmi note 2', 9.199435342101586)] \n",
      "\n",
      "ravi ->  [('zte blade s6', 10), ('apple iphone 6s', 10), ('nokia lumia 730', 9.982053803704803), ('motorola em30', 9.836735292968969), ('samsung galaxy j3 duos', 9.727924897060607)] \n",
      "\n",
      "Erkek ->  [('nokia lumia 520', 9.545410479584884), ('samsung galaxy note 3 neo 4g n7505', 9.529871470077401), ('sony xperia z1 compact d5503', 9.49637504849511), ('nokia e7', 9.347437693955209), ('samsung galaxy s3 mini', 9.242101937876281)] \n",
      "\n",
      "Ron ->  [('lg k10', 9.019238928492491), ('microsoft lumia 532', 8.631165880339779), ('motorola atrix 2', 8.45182697180199), ('lg optimus l9 p760', 8.447025950063564), ('nokia 3720', 8.414704061487479)] \n",
      "\n",
      "pikacu ->  [('samsung sph m620zkaspr', 9.537532471209145), ('samsung sgh m150', 9.496000442226707), ('nokia n81', 9.492021047529924), ('samsung sgh b130', 9.485173815973692), ('samsung wave ii s8530', 9.372180321649939)] \n",
      "\n",
      "Nico ->  [('motorola moto x 1 moto x1 moto x 2nd gen', 9.809233877378714), ('huawei ascend p1', 9.051013846807297), ('samsung galaxy ace 3', 8.726425541709352), ('htc one xplus', 8.697059292451303), ('nokia asha 308', 8.644989448696107)] \n",
      "\n",
      "miguel ->  [('sony ericsson xperia arc', 9.909584076063371), ('motorola moto e', 9.756019429911511), ('samsung galaxy s6', 9.348351238164543), ('alcatel onetouch pop c9', 9.34002097217295), ('motorola moto g 753361', 9.327134572844331)] \n",
      "\n",
      "Riccardo ->  [('samsung galaxy note 2', 9.364003522718562), ('huawei honor 7', 9.265690992696252), ('apple iphone 5s', 9.242710168743118), ('asus zenfone 2 ze551ml', 9.16354610505828), ('lg c1100', 9.0)] \n",
      "\n",
      "D ->  [('apple iphone 6s plus', 8.656542839238352), ('sony xperia x f5121', 8.440912260497155), ('nokia 6350', 7.9933895225713965), ('blackberry classic', 7.871793471799276), ('samsung galaxy s6', 7.783590331241578)] \n",
      "\n",
      "Yvonne ->  [('apple iphone 6s plus', 9.765793650168145), ('samsung galaxy alpha', 9.212191067639834), ('nokia 206', 9.135581620192488), ('samsung galaxy j5 4g lte 5 2 inches', 8.906782253879063), ('samsung e1310', 8.828746631581119)] \n",
      "\n",
      "Olivier ->  [('sony ericsson k530i', 9.237592963234622), ('nokia 107', 9.23179839057115), ('alcatel ot c701', 9.161153155049984), ('asus zenfone max zc550kl', 9.144608405101803), ('huawei ascend p7', 9.107742830817315)] \n",
      "\n",
      "Jose Luis ->  [('lenovo moto g4 play', 8.9575641350612), ('lg g2 594708', 8.923076020655365), ('huawei ascend p6', 8.81058410071431), ('lg optimus l3 ii e430 e425', 8.596152105994292), ('huawei ascend g7', 8.586498481845508)] \n",
      "\n",
      "JP ->  [('binatone speakeasy 210', 8.764418561744518), ('samsung rugby ii', 8.500279729554075), ('google nexus 5x h791', 8.141525358004014), ('huawei honor 8', 7.932893215565814), ('nokia 6350', 7.896094803525188)] \n",
      "\n",
      "Jim ->  [('samsung galaxy s5', 9.589234430149734), ('samsung i9500 galaxy s iv', 9.348469270345735), ('motorola atrix 2', 9.1244809235817), ('motorola xt1225', 9.10939856364646), ('samsung galaxy s6 edge sm g925f', 8.801844906418696)] \n",
      "\n",
      "eduardo ->  [('lg p725 optimus 3d max', 10), ('samsung galaxy s ii', 9.976600462787594), ('nokia 500', 9.888091890298004), ('nokia c2 03', 9.347539216323502), ('samsung galaxy s i9000', 8.941374843528255)] \n",
      "\n",
      "victor ->  [('huawei ascend y330', 9.882535596552037), ('nokia n70', 9.82924510417539), ('samsung galaxy s6', 9.173118847129981), ('samsung monte s5620', 9.087273206167662), ('lg optimus l7', 8.960005944310415)] \n",
      "\n",
      "Pietro ->  [('motorola moto g', 9.618685215822111), ('motorola moto x', 9.591387286591758), ('acer liquid e2', 9.415566186754887), ('lg g2 594708', 9.236354053832926), ('asus zenfone go zc500tg', 9.135512177498772)] \n",
      "\n",
      "Cesar ->  [('sony xperia sp', 9.307420359725693), ('lg g flex 2', 9.250690179629132), ('lg k4', 8.944545195057843), ('blu win jr', 8.584062558518294), ('samsung galaxy s6 edge sm g925f', 8.419559391749104)] \n",
      "\n",
      "Abhishek ->  [('oneplus x', 9.738263039908448), ('nokia lumia 625', 9.384989512747667), ('nokia 105', 9.352285995756969), ('blackberry z10', 9.05334926434178), ('huawei mate 9', 9.035263022950875)] \n",
      "\n",
      "Kim ->  [('apple iphone 7', 9.711888100987874), ('samsung galaxy s7 789999', 9.568479483354833), ('sony xperia z 504642', 9.33219313370907), ('huawei ascend mate 2', 9.13858161303571), ('samsung galaxy s5 neo sm g903f', 9.09993316287926)] \n",
      "\n",
      "Capyto ->  [('nokia 7360', 9.533975918840605), ('nokia 7390', 9.476324683552342), ('siemens cx75', 9.445009035741238), ('samsung u800 soul', 9.244102808085252), ('nokia n70', 9.218628281257736)] \n",
      "\n",
      "Kunde ->  [('samsung galaxy ace s5830', 9.105518926628179), ('samsung galaxy j5 4g lte 5 2 inches', 9.026031036840275), ('nokia c3', 8.281743588040019), ('htc desire 626', 8.262287512361835), ('nokia 108', 8.116724412737689)] \n",
      "\n",
      "Omar ->  [('nokia 7250', 9.933470225872691), ('samsung galaxy core', 9.270911894156878), ('lg k10', 8.868251704305608), ('xiaomi mi 3', 8.864254284389121), ('google nexus 6p', 8.839711815560527)] \n",
      "\n",
      "Jaime ->  [('xiaomi redmi note', 9.689846118503521), ('lg g2 mini', 9.584245817793608), ('apple iphone 5s', 9.317762053491048), ('lg g3 d855 657484', 9.254314322491743), ('nokia lumia 630', 9.19382895855733)] \n",
      "\n",
      "Denise ->  [('htc desire 530188', 9.671124902138851), ('samsung galaxy a5 2017', 9.019774282052092), ('sony xperia z5', 9.011921042329979), ('sony ericsson c905', 8.627531461483688), ('nokia 2720 fold', 8.520170258958226)] \n",
      "\n",
      "Christoph ->  [('samsung galaxy s7 789999', 9.530891550931257), ('sony xperia z3 compact', 9.416035732050066), ('samsung galaxy a3', 9.217826967720754), ('samsung galaxy s3 mini', 8.868786614672365), ('samsung galaxy a5 2016', 8.815799770520528)] \n",
      "\n",
      "ÐÐ°ÑÐ¸Ð½Ð° ->  [('samsung s5611', 9.608318506687212), ('samsung galaxy note 2', 9.066258787935412), ('samsung c3200', 9.002827409234136), ('huawei u8150', 8.956468074991802), ('lenovo a2010', 8.900976346649639)] \n",
      "\n",
      "Jane ->  [('apple iphone 5', 9.286504057441636), ('nokia lumia 520', 9.115532299405501), ('samsung galaxy a3 819970', 8.089841826514613), ('samsung galaxy s6', 7.68474433032423), ('motorola moto g3', 7.4318186052160415)] \n",
      "\n",
      "JesÃºs ->  [('samsung galaxy s3 mini', 8.694341554938436), ('samsung galaxy core prime', 8.630363477697191), ('asus zenfone 3', 8.095464150749319), ('cubot x15', 8.006269905553486), ('samsung galaxy j5', 7.940446660791827)] \n",
      "\n",
      "Valerio ->  [('samsung galaxy s3 mini', 9.31189815178421), ('acer liquid e2', 8.922927011398874), ('samsung galaxy grand neo plus gt i9060i', 8.881852801340107), ('lg optimus l9 p760', 8.796913364815373), ('asus zenfone go zc500tg', 8.785316688600133)] \n",
      "\n",
      "pedro ->  [('sony ericsson w850i', 10), ('apple iphone 7', 8.981318666135385), ('apple iphone 4s', 8.952564463820384), ('lg k4', 8.835592948509907), ('samsung galaxy note 2', 8.815208157297887)] \n",
      "\n",
      "ÐÐ²Ð³ÐµÐ½Ð¸Ñ ->  [('sony xperia z1 compact d5503', 8.694367945076696), ('samsung galaxy s4 mini gt i9190 gt i9192 dual sim', 7.908790228625393), ('apple iphone 5s', 6.941824416189429), ('lenovo a916', 6.670989902100111)] \n",
      "\n",
      "Joshua ->  [('apple iphone 5', 9.615660257575886), ('apple iphone 6s', 9.470759473248727), ('nokia n71', 9.268548163354856), ('zte axon 7', 8.82727299561897), ('sony ericsson xperia arc', 8.800317661618537)] \n",
      "\n",
      "ivan ->  [('samsung galaxy j5', 9.699087505772784), ('huawei p8 lite', 9.599575962021527), ('blackberry passport', 9.56954107508797), ('huawei p8', 9.49200425498956), ('lg g4', 8.895776796975127)] \n",
      "\n",
      "paul ->  [('oneplus two', 9.516649549554543), ('samsung galaxy s5', 8.93612974453709), ('samsung galaxy a5 2016', 8.91606322526779), ('sony ericsson xperia x10 mini pro', 8.782133548124529), ('samsung sgh i900 omnia', 8.710034049801646)] \n",
      "\n",
      "osmntyr ->  [('nokia x2', 9.732045104572133), ('samsung s5610', 9.570681152977782), ('nokia 5130 xpressmusic', 9.554671915483645), ('samsung galaxy s ii', 9.44863660747442), ('nokia n93', 9.308335737747914)] \n",
      "\n",
      "Greg ->  [('apple iphone se', 10), ('samsung ativ s', 9.869039219055395), ('microsoft lumia 640 dual sim', 9.700390880815405), ('motorola moto z play', 9.636973200798776), ('wiko fever', 9.433432538852383)] \n",
      "\n",
      "Angie ->  [('samsung galaxy j7', 10), ('nokia 6230', 10), ('apple iphone 6 plus', 9.722421184728612), ('nokia 130', 9.162755238283273), ('sony xperia xz', 9.097778787456203)] \n",
      "\n",
      "JÃ¶rg ->  [('lg gt350', 9.555555555555555), ('samsung i8910 hd', 8.803872885313753), ('huawei ascend g700', 8.569286146442872), ('apple iphone 5s', 8.011199209177075), ('lenovo moto g4 plus', 7.79677849657806)] \n",
      "\n",
      "Nathan ->  [('zte axon pro', 8.505420949189032), ('sony xperia u st25i', 8.23840766954381), ('samsung galaxy core prime', 7.9522405911653085), ('samsung wave s8500', 7.91123489614327), ('samsung wave 575', 7.666666666666667)] \n",
      "\n",
      "sezenm ->  [('nokia x2', 9.626521948284635), ('nokia 2220', 9.521101656803035), ('siemens cx75', 9.439637227955753), ('nokia n70', 9.438430357554683), ('nokia n72', 9.398878868357878)] \n",
      "\n",
      "angelo ->  [('doogee x5 max pro', 9.839131993228285), ('nokia n81', 9.677862130626579), ('lg g2 594708', 9.416619014694453), ('thl 4000', 9.258478029730686), ('samsung galaxy note 3 neo 4g n7505', 9.25081681988298)] \n",
      "\n",
      "Guillermo ->  [('samsung galaxy j7', 9.326071100180984), ('lg e450 optimus l5 ii', 8.911604674053963), ('samsung s7580 galaxy trend plus', 8.712594761983237), ('sony xperia z1 compact d5503', 8.673056132865668), ('huawei ascend y550', 8.504289713722148)] \n",
      "\n",
      "Erik ->  [('sony xperia z5', 9.613183418429392), ('sony xperia z5', 9.613183418429392), ('samsung galaxy note 2', 9.42524654688962), ('nokia e72', 8.947592844318), ('samsung galaxy s7 789999', 8.214218942835283)] \n",
      "\n",
      "Enrique ->  [('bq aquaris e5', 9.726535359976664), ('lg p880 optimus 4x hd', 9.36144616012929), ('motorola moto g', 9.249007625941964), ('samsung galaxy s plus', 8.847670196891075), ('bq aquaris e4 5', 8.719403291851103)] \n",
      "\n",
      "Ð®Ð»Ð¸Ñ ->  [('samsung galaxy mega 6 3 i9200', 10), ('xiaomi redmi note 4', 10), ('nokia 5250', 9.66840589156878), ('apple iphone 5s', 9.301849289859941), ('samsung galaxy note 2', 9.249077423155857)] \n",
      "\n",
      "Klaus ->  [('nokia lumia 720', 9.279014894555356), ('microsoft lumia 532', 9.123242477371006), ('apple iphone 6s', 9.09972896473046), ('wiko getaway', 8.991983016129534), ('samsung galaxy s6', 8.698485678632903)] \n",
      "\n",
      "Igor ->  [('huawei ascend d1', 10), ('samsung sgh b300', 10), ('lg viewty smile gt400', 9.627940517538693), ('htc one m9', 9.163102687279995), ('motorola moto g', 8.593854205563265)] \n",
      "\n",
      "umoo ->  [('sony ericsson w950i', 9.388293514727948), ('sony ericsson k810i', 9.34926922275005), ('nokia n81', 9.347178819649804), ('nokia 6288', 9.317780138543457), ('blackberry 8820', 9.252775796945658)] \n",
      "\n",
      "JD ->  [('samsung galaxy s7 789999', 8.846967805829074), ('sony ericsson xperia x8', 8.846276899797392), ('motorola moto x play', 8.793559296746832), ('blackberry classic', 8.681300595491445), ('nokia 5800 xpressmusic tube', 8.590540363446028)] \n",
      "\n",
      "Paola ->  [('asus zenfone 2', 9.703439644435083), ('huawei p9 lite', 9.536184990064346), ('samsung galaxy s7 789999', 9.511478613825345), ('asus ze550kl', 9.09593044706568), ('samsung galaxy young', 9.029327804775455)] \n",
      "\n",
      "Renato ->  [('huawei ascend p7', 9.650550918943214), ('huawei mate s', 9.073408476589838), ('samsung galaxy s ii plus', 9.009113607536227), ('samsung gt i8552', 8.92726095559978), ('samsung exhibit ii 4g', 8.828346905661673)] \n",
      "\n",
      "Marcos ->  [('huawei p9 plus', 9.763674908957752), ('huawei honor 6', 9.45467061048417), ('motorola razr d1', 9.4105675700155), ('lg optimus g', 9.287556435099312), ('lg x power', 9.233131706384867)] \n",
      "\n",
      "Raj ->  [('xiaomi mi max', 8.111293470346407), ('nokia 3230', 7.9674503843799815), ('lenovo vibe x3', 7.32303658058397), ('oneplus 3t', 7.1663311731810495), ('oneplus 3t', 7.1663311731810495)] \n",
      "\n",
      "Elizabeth ->  [('motorola moto e', 9.363067306494479), ('motorola photon 4g', 8.233319893821571), ('lg g3 d855 657484', 8.113174076502526), ('nokia lumia 1320', 8.034988033253228), ('samsung sgh t528g', 7.513041398404779)] \n",
      "\n",
      "Dani ->  [('tp link archer t6e', 10), ('samsung galaxy note 2', 9.614656236395918), ('huawei honor 6', 9.42373930618554), ('samsung galaxy s7 edge', 9.26130866339426), ('samsung galaxy s4 mini gt i9190 gt i9192 dual sim', 9.191354455250025)] \n",
      "\n",
      "Giacomo ->  [('lg google nexus 5', 9.710135505267289), ('lg optimus l3 ii e430 e425', 9.510607272714621), ('nokia lumia 625', 9.261685738229932), ('blackberry classic', 9.115341405137618), ('samsung galaxy a5 2016', 9.09861003840617)] \n",
      "\n",
      "Pasquale ->  [('alcatel onetouch pop c3 4033d', 9.692601623961323), ('lg g2 594708', 9.559641262889047), ('nokia lumia 820', 9.147691957210858), ('doogee voyager2 dg310', 8.998253189662558), ('huawei p8 lite 2017', 8.949287466988196)] \n",
      "\n",
      "?????????????? ?????????????? ->  [('nokia 808', 8.419395073777098), ('yota yotaphone', 8.211266455748563), ('nokia 112', 7.885970324407889), ('nokia lumia 820', 7.794867065185829), ('asus padfone 2', 7.1635459931309935)] \n",
      "\n",
      "Gast ->  [('hp ipaq rw6815', 5.98191714678242), ('huawei ascend p6', 4.367889608495158), ('palm treo 750v', 4.326473624461407), ('htc hd2', 4.155009781417466), ('blackberry storm 9500', 3.9403244779595354)] \n",
      "\n",
      "G ->  [('htc sensation xe', 9.228586545208335), ('htc desire s', 8.391513744687849), ('huawei honor 7', 8.249756011166188), ('huawei p9 plus', 7.754682718344494), ('nokia lumia 520', 7.618179416999523)] \n",
      "\n",
      "Elisa ->  [('lg optimus l9 ii', 9.31955130132584), ('samsung galaxy young', 9.152351208025644), ('cubot x16', 9.019988707700834), ('motorola moto x', 8.935569305873935), ('nokia 105', 8.535693076248977)] \n",
      "\n",
      "tony ->  [('samsung galaxy grand neo plus gt i9060i', 9.19271019726417), ('alcatel onetouch pop 3 5015d', 9.14848575709775), ('lg g2 594708', 9.066753303816716), ('motorola moto g', 8.948304128496243), ('motorola moto g 753361', 8.670299783458036)] \n",
      "\n",
      "Luke ->  [('nokia n95', 9.887547573668412), ('samsung galaxy a5 2016', 9.78950456210104), ('huawei honor 6', 9.699586475324265), ('huawei honor 8', 9.46812341267158), ('google nexus 6p', 9.196825785153143)] \n",
      "\n",
      "manositos ->  [('nokia lumia 520', 8.981304772727281), ('google nexus 6', 8.090433075487672), ('samsung galaxy s6 edge sm g925f', 8.064001521024379), ('acer liquid z630', 7.936424272406963), ('nokia asha 302', 7.720272992436464)] \n",
      "\n",
      "ÐÐ¸ÐºÐ¸ÑÐ° ->  [('nokia 3110 classic', 9.903671304845604), ('nokia n95', 9.7482253677371), ('samsung galaxy s4 mini gt i9190 gt i9192 dual sim', 9.59363151420954), ('nokia 101', 9.587590774866268), ('htc m8', 9.489768059905693)] \n",
      "\n",
      "oscar ->  [('samsung sgh l760', 10), ('motorola moto e', 9.490599993591477), ('google nexus 6p', 9.350743957703234), ('asus zenfone selfie zd551kl', 9.305841108790302), ('huawei ascend y550', 9.14136982870861)] \n",
      "\n",
      "Jimmy ->  [('apple iphone 6s', 9.100193860165605), ('microsoft lumia 540', 9.056745909739314), ('lg shine cu720', 8.841259571564153), ('blackberry priv', 8.799631762706253), ('alcatel idol mini 6012', 8.48546810926293)] \n",
      "\n",
      "giovanni ->  [('asus ze550kl', 8.957209727756185), ('nokia 7230', 8.767631674718288), ('asus zenfone 2', 8.729023712440434), ('cubot p9', 8.643578931231504), ('samsung galaxy note 4', 8.320349142119184)] \n",
      "\n",
      "Julien ->  [('samsung galaxy note iii', 9.766107919980934), ('motorola moto x', 9.59659637783059), ('samsung galaxy grand duos i9080 i9082', 9.349669216230343), ('htc desire 310', 9.184702055064301), ('sony ericsson xperia mini pro 549030', 9.024134904841315)] \n",
      "\n",
      "Giulia ->  [('huawei ascend g525', 9.723154394740794), ('microsoft lumia 640 dual sim', 9.721024972079752), ('huawei p8 lite', 9.247920344027346), ('samsung galaxy s3 mini', 9.176360752809664), ('siemens cx75', 9.0)] \n",
      "\n",
      "Jordi ->  [('sony xperia l', 9.725692305031837), ('huawei p8', 9.360664630823683), ('nokia lumia 830', 9.200196642393403), ('apple iphone 5s', 9.160705696479512), ('nokia lumia 735', 8.921638805115766)] \n",
      "\n",
      "Carol ->  [('nokia asha 501', 9.161654521465477), ('blackberry curve 3g 9300', 8.967784528050945), ('samsung galaxy s6 edge sm g925f', 8.816076932389269), ('nokia asha 311', 8.728001866750287), ('lg glimmer', 8.606176968127134)] \n",
      "\n",
      "giorgio ->  [('samsung e1190', 9.583583898587904), ('huawei ascend g7', 9.236128893095838), ('microsoft lumia 640 dual sim', 9.188923184823341), ('huawei honor 7', 9.148601485504857), ('lg k10', 9.05620636647738)] \n",
      "\n",
      "bumudur ->  [('htc touch dual', 9.665183229616433), ('nokia 6288', 9.516972196423371), ('nokia e61', 9.49086910422341), ('nokia n81', 9.449703885794195), ('nokia n70', 9.313509911359136)] \n",
      "\n",
      "Julian ->  [('samsung galaxy note 3 neo 4g n7505', 9.193675185760743), ('samsung galaxy s6', 8.94458928119816), ('htc sensation xe', 8.810229699251359), ('nokia c7 277394', 8.35334471247692), ('cubot x9', 8.205938204822257)] \n",
      "\n",
      "Anita ->  [('motorola moto x 2', 9.068813078300197), ('lg g flex d958', 8.859169857626778), ('samsung galaxy s5', 8.69829206980664), ('apple iphone 4s', 8.40995588449333), ('oneplus x', 8.31649669809878)] \n",
      "\n",
      "Marcelo ->  [('lg g2 594708', 9.754229856509744), ('lg google nexus 5', 9.151243952762085), ('apple iphone 6s', 9.134155961835802), ('lg l70', 8.854171339763631), ('sony xperia e4', 8.631284552093513)] \n",
      "\n",
      "Ian ->  [('lg rhythm', 10), ('apple iphone 6s plus', 9.914550783978374), ('palm pixi plus', 9.48954881332942), ('motorola moto g', 9.264481149169711), ('huawei p9 lite', 9.162564584410273)] \n",
      "\n",
      "Mar ->  [('lg optimus hub e510', 9.248384000392889), ('huawei g610', 9.218439518142494), ('motorola gleam', 8.774437594154923), ('samsung galaxy note 4', 8.665145743872815), ('samsung gt i8160', 8.568985141534151)] \n",
      "\n",
      "bob ->  [('nokia 5300 xpressmusic', 9.439693513510406), ('huawei honor 6', 9.386099860827551), ('apple iphone 4s', 9.321415474617867), ('huawei p8 lite', 9.20438467946758), ('sony ericsson xperia play', 9.199547881404216)] \n",
      "\n",
      "Bryan ->  [('nokia 6021', 10), ('motorola moto e', 8.588403459866916), ('lg g2 594708', 8.41703006481646), ('htc one m9 plus', 8.190885178411367), ('samsung galaxy a5 2016', 8.037086027632355)] \n",
      "\n",
      "gumusoje ->  [('sony ericsson hazel', 10), ('samsung c5130', 9.60271269977526), ('samsung f400', 9.526574942950504), ('samsung wave ii s8530', 9.52105600308432), ('black berry 8700g', 9.504961849501036)] \n",
      "\n",
      "Flo ->  [('nokia lumia 630', 8.285707474610403), ('lg google nexus 5', 7.9557802161012106), ('nokia lumia 625', 7.810642320084908), ('blackberry curve 3g 9300', 7.4936327074843305), ('samsung galaxy s iii', 7.411636687849955)] \n",
      "\n",
      "ÐÐ°Ð»ÐµÑÐ¸Ð¹ ->  [('apple iphone 6s', 9.792899860909328), ('asus zenfone 3 max', 9.435938379842101), ('samsung galaxy a7', 9.206103410206326), ('samsung i9500 galaxy s iv', 9.147332295094015), ('apple iphone se', 9.106808830970412)] \n",
      "\n",
      "salvatore ->  [('huawei p9 lite', 9.486773779419622), ('samsung galaxy core', 9.3942520005295), ('samsung galaxy core', 9.3942520005295), ('alcatel onetouch pop 3 5015d', 9.253637675586805), ('lg h410', 9.116914279603519)] \n",
      "\n",
      "Paulo ->  [('samsung galaxy s7 789999', 9.810613168523028), ('alcatel onetouch pixi 4', 9.138599280837616), ('samsung galaxy j7', 9.069225280197674), ('motorola moto e', 9.029365208097486), ('samsung galaxy s6 edge sm g925f', 8.856518928585377)] \n",
      "\n",
      "hawwa ->  [('samsung f400', 9.518218004385478), ('samsung sgh b300', 9.495102190687632), ('siemens cx75', 9.481805869015721), ('samsung e1075', 9.478518324093837), ('samsung i780', 9.389971130107368)] \n",
      "\n",
      "ÐÐ»Ð°Ð´ ->  [('htc desire hd', 8.685175056800263), ('htc one v', 8.559174779324662), ('sony xperia z1', 8.23680421929597), ('samsung galaxy j1 2016 4 5 sm j120', 8.09336723903876), ('samsung galaxy mega 5 8', 8.06337631680316)] \n",
      "\n",
      "martin ->  [('apple iphone 6s', 9.511993357523284), ('cubot x6', 9.475467484227085), ('apple iphone 4', 9.456365168420804), ('nokia n900', 9.279218261981017), ('huawei p8', 8.936822086053288)] \n",
      "\n",
      "Ed ->  [('lg dare vx9700', 9.715606697590879), ('apple iphone 5', 9.523854889604888), ('lg gd510', 9.172276371460146), ('lenovo 306g', 9.136550309709115), ('huawei mate 9', 8.97871892639709)] \n",
      "\n",
      "Alain ->  [('huawei honor 8', 9.839623043886816), ('nokia lumia 830', 9.312385453308059), ('samsung galaxy note 4', 8.943098393893603), ('wiko rainbow', 8.69507572008148), ('apple iphone 6s', 8.458152131375638)] \n",
      "\n",
      "Ð¡Ð°ÑÐ° ->  [('nokia 5250', 10), ('nokia x2 00 358331', 9.537715815431405), ('lenovo a2010', 9.102923672906638), ('apple iphone 6s', 9.065976789516839), ('apple iphone 6', 8.589784368174689)] \n",
      "\n",
      "federico ->  [('samsung galaxy s5', 9.624706035675791), ('samsung galaxy a5 2016', 9.472982870957933), ('samsung galaxy note 3 neo 4g n7505', 9.45392900779654), ('htc one x', 9.336722651766866), ('nokia lumia 925', 9.336622100370823)] \n",
      "\n",
      "gabberino93 ->  [('asus zenfone 6', 10), ('samsung galaxy s6', 10), ('samsung galaxy s3 mini', 10), ('lg e900 optimus 7', 10), ('htc one sv', 10)] \n",
      "\n",
      "Ralf ->  [('huawei ascend g700', 9.596151955561783), ('mobistel cynus t2', 9.525523706565831), ('sony xperia x compact', 9.154238625172484), ('huawei g610', 8.785863666463868), ('samsung monte s5620', 8.737552380441622)] \n",
      "\n",
      "Susan ->  [('google nexus 6p', 10), ('motorola moto e', 9.142534169706998), ('motorola moto g3', 9.07173266537301), ('apple iphone 5s', 9.043981492649987), ('blackberry curve 8310', 8.407767024801926)] \n",
      "\n",
      "Dee ->  [('cubot bobby', 9.630228519315112), ('motorola moto e', 8.401219325010771), ('motorola xt1225', 8.32741349288963), ('lg l40g', 7.902857855473096), ('samsung galaxy s3 mini', 7.428583503800947)] \n",
      "\n",
      "Samantha ->  [('asus zenfone selfie zd551kl', 8.909455067025942), ('samsung gt e1270', 8.389322470968926), ('lg g2 594708', 7.931364099790751), ('nokia 100', 7.565056689533879), ('microsoft lumia 435', 7.40270569957417)] \n",
      "\n",
      "????????????? ->  [('samsung c3782', 9.753816975979845), ('samsung gt e1200', 9.201929273029672), ('samsung c3322', 9.119982951448218), ('samsung s7262 duos galaxy ace', 8.83115280073207), ('nokia 515', 8.716241928998333)] \n",
      "\n",
      "Rachel ->  [('blu a310a', 9.855703128059037), ('apple iphone 7', 9.590217187496568), ('samsung galaxy s3 mini', 9.441520316026429), ('motorola moto g4', 8.908983065200246), ('sony ericsson xperia x10', 8.321229728407761)] \n",
      "\n",
      "Ale ->  [('samsung e1190', 9.386966374367601), ('blackberry priv', 9.290939585671236), ('nokia 800', 9.257766011654901), ('samsung galaxy s ii plus', 9.062926560283355), ('samsung galaxy s3 mini', 8.833515581676068)] \n",
      "\n",
      "jessica ->  [('samsung galaxy y s5360', 9.329639254976529), ('alcatel onetouch pixi 4', 8.953038959301622), ('sony xperia xa ultra', 8.12199236592002), ('htc desire 626', 6.926285581964926), ('huawei honor 7', 6.837471972808457)] \n",
      "\n",
      "xawi ->  [('samsung sgh e840', 9.646763336341873), ('nokia 7390', 9.558395121395975), ('samsung e2120', 9.527061948949758), ('samsung g810', 9.526196594534177), ('nokia 6288', 9.475864599395042)] \n",
      "\n"
     ]
    }
   ],
   "source": [
    "#recommend top 5 products for test users\n",
    "top_5 = get_top_n(knn_i_pred,5)\n",
    "print('Top 5 recommendations for all test users are: \\n')\n",
    "for key,value in top_5.items(): print(key,'-> ',value,'\\n')"
   ]
  },
  {
   "cell_type": "code",
   "execution_count": 185,
   "id": "2b61f481",
   "metadata": {},
   "outputs": [
    {
     "name": "stdout",
     "output_type": "stream",
     "text": [
      "Top 5 recommendations for 3 users are: \n",
      "\n",
      "Amazon Customer ->  [('siemens s45', 10), ('binatone speakeasy 210', 10), ('lg a290', 10), ('zte zmax 2', 10), ('zte zmax 2', 10)] \n",
      "\n",
      "Cliente Amazon ->  [('cubot s108', 9.927254782857753), ('htc one m8s', 9.73787555160847), ('nokia 6600', 9.613282368746226), ('alcatel one touch pop c1', 9.20833654195251), ('alcatel one touch pop c1', 9.20833654195251)] \n",
      "\n",
      "Client d'Amazon ->  [('meizu pro 6', 9.36574679479372), ('elephone s7', 9.06104867801285), ('lenovo k6 dual', 8.75177591965478), ('sony xperia x compact', 8.645549611775705), ('acer liquid jade z', 8.492640906110452)] \n",
      "\n"
     ]
    }
   ],
   "source": [
    "print('Top 5 recommendations for 3 users are: \\n')\n",
    "for key,value in {k: v for k, v in top_5.items() if k in ['Amazon Customer','Cliente Amazon',\"Client d'Amazon\"]}.items(): print(key,'-> ',value,'\\n')\n",
    "    "
   ]
  },
  {
   "cell_type": "markdown",
   "id": "60209c09",
   "metadata": {},
   "source": [
    "#### Q9 - Try other techniques (Example: cross validation) to get better results."
   ]
  },
  {
   "cell_type": "code",
   "execution_count": 186,
   "id": "55fe9f2b",
   "metadata": {},
   "outputs": [
    {
     "name": "stdout",
     "output_type": "stream",
     "text": [
      "\n",
      " Mean svd cv score: 2.95 \n",
      "\n"
     ]
    },
    {
     "data": {
      "text/plain": [
       "{'test_rmse': array([2.94483386, 2.94499165, 2.94330636, 2.9300462 , 2.97567742]),\n",
       " 'fit_time': (1.5308892726898193,\n",
       "  1.540712594985962,\n",
       "  1.4646525382995605,\n",
       "  1.4569015502929688,\n",
       "  1.471820592880249),\n",
       " 'test_time': (0.2795546054840088,\n",
       "  0.23705673217773438,\n",
       "  0.22057175636291504,\n",
       "  0.22004914283752441,\n",
       "  0.2233891487121582)}"
      ]
     },
     "execution_count": 186,
     "metadata": {},
     "output_type": "execute_result"
    }
   ],
   "source": [
    "svd_cv = cross_validate(svd,revs50_, measures=['RMSE'], cv=5, verbose=False)\n",
    "print('\\n Mean svd cv score:', round(svd_cv['test_rmse'].mean(),2),'\\n')\n",
    "svd_cv"
   ]
  },
  {
   "cell_type": "code",
   "execution_count": 187,
   "id": "fb0d3b27",
   "metadata": {},
   "outputs": [
    {
     "name": "stdout",
     "output_type": "stream",
     "text": [
      "Estimating biases using als...\n",
      "Computing the pearson_baseline similarity matrix...\n",
      "Done computing similarity matrix.\n",
      "Estimating biases using als...\n",
      "Computing the pearson_baseline similarity matrix...\n",
      "Done computing similarity matrix.\n",
      "Estimating biases using als...\n",
      "Computing the pearson_baseline similarity matrix...\n",
      "Done computing similarity matrix.\n",
      "Estimating biases using als...\n",
      "Computing the pearson_baseline similarity matrix...\n",
      "Done computing similarity matrix.\n",
      "Estimating biases using als...\n",
      "Computing the pearson_baseline similarity matrix...\n",
      "Done computing similarity matrix.\n",
      "\n",
      " Mean knn_item_cv score: 2.87 \n",
      "\n"
     ]
    },
    {
     "data": {
      "text/plain": [
       "{'test_rmse': array([2.88626137, 2.85987119, 2.89376335, 2.86064737, 2.8649574 ]),\n",
       " 'fit_time': (5.560530662536621,\n",
       "  6.2097578048706055,\n",
       "  6.467971324920654,\n",
       "  5.990599155426025,\n",
       "  6.092859745025635),\n",
       " 'test_time': (9.791648626327515,\n",
       "  13.926448583602905,\n",
       "  9.650166988372803,\n",
       "  9.27071762084961,\n",
       "  9.31303095817566)}"
      ]
     },
     "execution_count": 187,
     "metadata": {},
     "output_type": "execute_result"
    }
   ],
   "source": [
    "knn_item_cv = cross_validate(knn_i,revs50_, measures=['RMSE'], cv=5, verbose=False)\n",
    "print('\\n Mean knn_item_cv score:', round(knn_item_cv['test_rmse'].mean(),2),'\\n')\n",
    "knn_item_cv"
   ]
  },
  {
   "cell_type": "code",
   "execution_count": 188,
   "id": "24f7389c",
   "metadata": {},
   "outputs": [
    {
     "name": "stdout",
     "output_type": "stream",
     "text": [
      "Estimating biases using als...\n",
      "Computing the pearson_baseline similarity matrix...\n",
      "Done computing similarity matrix.\n",
      "Estimating biases using als...\n",
      "Computing the pearson_baseline similarity matrix...\n",
      "Done computing similarity matrix.\n",
      "Estimating biases using als...\n",
      "Computing the pearson_baseline similarity matrix...\n",
      "Done computing similarity matrix.\n",
      "Estimating biases using als...\n",
      "Computing the pearson_baseline similarity matrix...\n",
      "Done computing similarity matrix.\n",
      "Estimating biases using als...\n",
      "Computing the pearson_baseline similarity matrix...\n",
      "Done computing similarity matrix.\n",
      "\n",
      " Mean knn_user_cv score: 2.87 \n",
      "\n"
     ]
    },
    {
     "data": {
      "text/plain": [
       "{'test_rmse': array([2.88831676, 2.84237124, 2.86459649, 2.86010235, 2.88865559]),\n",
       " 'fit_time': (5.99578595161438,\n",
       "  6.0402305126190186,\n",
       "  7.092443466186523,\n",
       "  5.973947763442993,\n",
       "  5.912307262420654),\n",
       " 'test_time': (9.342657804489136,\n",
       "  9.110684871673584,\n",
       "  9.261911392211914,\n",
       "  9.301969766616821,\n",
       "  9.55881142616272)}"
      ]
     },
     "execution_count": 188,
     "metadata": {},
     "output_type": "execute_result"
    }
   ],
   "source": [
    "knn_user_cv = cross_validate(knn_i,revs50_, measures=['RMSE'], cv=5, verbose=False)\n",
    "print('\\n Mean knn_user_cv score:', round(knn_user_cv['test_rmse'].mean(),2),'\\n')\n",
    "knn_user_cv"
   ]
  },
  {
   "cell_type": "code",
   "execution_count": 190,
   "id": "220faf82",
   "metadata": {},
   "outputs": [
    {
     "data": {
      "text/plain": [
       "<AxesSubplot:>"
      ]
     },
     "execution_count": 190,
     "metadata": {},
     "output_type": "execute_result"
    },
    {
     "data": {
      "image/png": "[encoded data removed]",
      "text/plain": [
       "<Figure size 432x288 with 1 Axes>"
      ]
     },
     "metadata": {
      "needs_background": "light"
     },
     "output_type": "display_data"
    }
   ],
   "source": [
    "sns.barplot(y=['svd_cv_rmse','knn_item_cv_rmse', 'knn_user_cv_rmse'],\n",
    "            x=[svd_cv['test_rmse'].mean(),knn_item_cv['test_rmse'].mean(), knn_user_cv['test_rmse'].mean()])"
   ]
  },
  {
   "cell_type": "markdown",
   "id": "0c5a61fc",
   "metadata": {},
   "source": [
    "- **For cross validation knn item is giving better performane.**"
   ]
  },
  {
   "cell_type": "markdown",
   "id": "9572a89a",
   "metadata": {},
   "source": [
    "#### Q10 - In what business scenario you should use popularity based Recommendation Systems ?"
   ]
  },
  {
   "cell_type": "markdown",
   "id": "ba7b4eca",
   "metadata": {},
   "source": [
    "- Popularity-Based Recommendation System. It is a type of recommendation system which works on the principle of popularity and or anything which is in trend.\n",
    "- It is required to show most popular items in different categories along with personalized results like : \n",
    " * Most popular trend in ethenic wear / western wear\n",
    " * Most popular trending songs / videos in YouTube.\n",
    " * Most trending series / movies in OTT channels.\n",
    "- The Popularity based recommender provide a general chart of recommended movies to all the users. They are not sensitive to the interests and tastes of a particular user."
   ]
  },
  {
   "cell_type": "markdown",
   "id": "a9e30329",
   "metadata": {},
   "source": [
    "#### Q11 - In what business scenario you should use CF based Recommendation Systems ?"
   ]
  },
  {
   "cell_type": "markdown",
   "id": "98c10815",
   "metadata": {},
   "source": [
    "- We can use this technique to build recommenders that give suggestions to a user on the basis of the likes and dislikes of similar users.\n",
    "- Amazon is known for its use of collaborative filtering, matching products to users based on past purchases. For example, the system can identify all of the products a customer and users with similar behaviors have purchased and/or positively rated.\n",
    "- Collaborative Filtering is the most famous application suggestion engine and is based on calculated guesses; the people who liked the product will enjoy the same product in the future.\n",
    "- Personalized movie recommendation of movie sites like Netflix, Amazon Prime, Youtube etc."
   ]
  },
  {
   "cell_type": "markdown",
   "id": "a3d67529",
   "metadata": {},
   "source": [
    "#### Q12 - What other possible methods can you think of which can further improve the recommendation for different users ?"
   ]
  },
  {
   "cell_type": "markdown",
   "id": "1eb6ffae",
   "metadata": {},
   "source": [
    "- Other from Popularity and Collaborative Filtering, hybrid recommendation methods like Content , Collaborative method.\n",
    "- Business objectives: Which products are most profitable.\n",
    "- Knowledge based recommendation system can also be used."
   ]
  },
  {
   "cell_type": "code",
   "execution_count": null,
   "id": "98e89bda",
   "metadata": {},
   "outputs": [],
   "source": []
  }
 ],
 "metadata": {
  "kernelspec": {
   "display_name": "Python 3 (ipykernel)",
   "language": "python",
   "name": "python3"
  },
  "language_info": {
   "codemirror_mode": {
    "name": "ipython",
    "version": 3
   },
   "file_extension": ".py",
   "mimetype": "text/x-python",
   "name": "python",
   "nbconvert_exporter": "python",
   "pygments_lexer": "ipython3",
   "version": "3.9.12"
  }
 },
 "nbformat": 4,
 "nbformat_minor": 5
}
